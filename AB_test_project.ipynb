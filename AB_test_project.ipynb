{
 "cells": [
  {
   "cell_type": "markdown",
   "id": "d4a460b0",
   "metadata": {},
   "source": [
    "# Importing libraries"
   ]
  },
  {
   "cell_type": "markdown",
   "id": "f7b69ae4",
   "metadata": {},
   "source": [
    "Importing all the necessary libraries"
   ]
  },
  {
   "cell_type": "code",
   "execution_count": 1,
   "id": "f8ee67c7",
   "metadata": {
    "scrolled": true
   },
   "outputs": [],
   "source": [
    "import pandas as pd\n",
    "from sqlalchemy import create_engine\n",
    "from datetime import datetime\n",
    "from scipy import stats\n",
    "import math as mth"
   ]
  },
  {
   "cell_type": "code",
   "execution_count": 2,
   "id": "9d4d3d82",
   "metadata": {
    "scrolled": true
   },
   "outputs": [],
   "source": [
    "import numpy as np\n",
    "import matplotlib.pyplot as plt\n",
    "import seaborn as sns\n",
    "import plotly.graph_objects as go\n",
    "import plotly.express as px"
   ]
  },
  {
   "cell_type": "markdown",
   "id": "1c38e4ca",
   "metadata": {},
   "source": [
    "# Downloading Data"
   ]
  },
  {
   "cell_type": "code",
   "execution_count": 3,
   "id": "3a0077cb",
   "metadata": {
    "scrolled": true
   },
   "outputs": [],
   "source": [
    "ab_project_marketing_events = pd.read_csv('ab_project_marketing_events.csv', sep=',')\n",
    "final_ab_new_users = pd.read_csv('final_ab_new_users_upd.csv', sep=',')\n",
    "final_ab_events = pd.read_csv('final_ab_events_us.csv', sep=',')\n",
    "final_ab_participants = pd.read_csv('final_ab_participants_upd.csv', sep=',')"
   ]
  },
  {
   "cell_type": "markdown",
   "id": "849175df",
   "metadata": {},
   "source": [
    "# Describing the goals of the research "
   ]
  },
  {
   "cell_type": "markdown",
   "id": "9c746b0c",
   "metadata": {},
   "source": [
    "We've received an analytical task from an international online store. Your predecessor failed to complete it: they launched an A/B test and then quit (to start a watermelon farm in Brazil). They left only the technical specifications and the test results.\n",
    "\n",
    "**Purpose of the test:** testing changes related to the introduction of an improved recommendation system\n",
    "\n",
    "**Expected result:** within 14 days of signing up, users will show better conversion into product page views (the product_page event), instances of adding items to the shopping cart (product_cart), and purchases (purchase). At each stage of the funnel product_page → product_cart → purchase, there will be at least a 10% increase.\n",
    "\n",
    "\n",
    "**Technical description**\n",
    "* Test name: recommender_system_test\n",
    "* Groups: А (control), B (new payment funnel)\n",
    "* Launch date: 2020-12-07\n",
    "* Date when they stopped taking up new users: 2020-12-21\n",
    "* End date: 2021-01-01\n",
    "* Audience: 15% of the new users from the EU region\n",
    "* Purpose of the test: testing changes related to the introduction of an improved recommendation system\n",
    "* Expected number of test participants: 6000\n",
    "\n",
    "**Please note that based on the project description, Group А is a control group, and Group B is a new payment funnel.**"
   ]
  },
  {
   "cell_type": "markdown",
   "id": "4ad5018c",
   "metadata": {},
   "source": [
    "# Overview "
   ]
  },
  {
   "cell_type": "markdown",
   "id": "fab79ce1",
   "metadata": {},
   "source": [
    "**the calendar of marketing events for 2020**"
   ]
  },
  {
   "cell_type": "code",
   "execution_count": 4,
   "id": "99b08be0",
   "metadata": {
    "scrolled": true
   },
   "outputs": [
    {
     "name": "stdout",
     "output_type": "stream",
     "text": [
      "Rows in table -> 14\n"
     ]
    },
    {
     "data": {
      "text/html": [
       "<div>\n",
       "<style scoped>\n",
       "    .dataframe tbody tr th:only-of-type {\n",
       "        vertical-align: middle;\n",
       "    }\n",
       "\n",
       "    .dataframe tbody tr th {\n",
       "        vertical-align: top;\n",
       "    }\n",
       "\n",
       "    .dataframe thead th {\n",
       "        text-align: right;\n",
       "    }\n",
       "</style>\n",
       "<table border=\"1\" class=\"dataframe\">\n",
       "  <thead>\n",
       "    <tr style=\"text-align: right;\">\n",
       "      <th></th>\n",
       "      <th>name</th>\n",
       "      <th>regions</th>\n",
       "      <th>start_dt</th>\n",
       "      <th>finish_dt</th>\n",
       "    </tr>\n",
       "  </thead>\n",
       "  <tbody>\n",
       "    <tr>\n",
       "      <th>0</th>\n",
       "      <td>Christmas&amp;New Year Promo</td>\n",
       "      <td>EU, N.America</td>\n",
       "      <td>2020-12-25</td>\n",
       "      <td>2021-01-03</td>\n",
       "    </tr>\n",
       "    <tr>\n",
       "      <th>1</th>\n",
       "      <td>St. Valentine's Day Giveaway</td>\n",
       "      <td>EU, CIS, APAC, N.America</td>\n",
       "      <td>2020-02-14</td>\n",
       "      <td>2020-02-16</td>\n",
       "    </tr>\n",
       "    <tr>\n",
       "      <th>2</th>\n",
       "      <td>St. Patric's Day Promo</td>\n",
       "      <td>EU, N.America</td>\n",
       "      <td>2020-03-17</td>\n",
       "      <td>2020-03-19</td>\n",
       "    </tr>\n",
       "    <tr>\n",
       "      <th>3</th>\n",
       "      <td>Easter Promo</td>\n",
       "      <td>EU, CIS, APAC, N.America</td>\n",
       "      <td>2020-04-12</td>\n",
       "      <td>2020-04-19</td>\n",
       "    </tr>\n",
       "    <tr>\n",
       "      <th>4</th>\n",
       "      <td>4th of July Promo</td>\n",
       "      <td>N.America</td>\n",
       "      <td>2020-07-04</td>\n",
       "      <td>2020-07-11</td>\n",
       "    </tr>\n",
       "  </tbody>\n",
       "</table>\n",
       "</div>"
      ],
      "text/plain": [
       "                           name                   regions    start_dt  \\\n",
       "0      Christmas&New Year Promo             EU, N.America  2020-12-25   \n",
       "1  St. Valentine's Day Giveaway  EU, CIS, APAC, N.America  2020-02-14   \n",
       "2        St. Patric's Day Promo             EU, N.America  2020-03-17   \n",
       "3                  Easter Promo  EU, CIS, APAC, N.America  2020-04-12   \n",
       "4             4th of July Promo                 N.America  2020-07-04   \n",
       "\n",
       "    finish_dt  \n",
       "0  2021-01-03  \n",
       "1  2020-02-16  \n",
       "2  2020-03-19  \n",
       "3  2020-04-19  \n",
       "4  2020-07-11  "
      ]
     },
     "execution_count": 4,
     "metadata": {},
     "output_type": "execute_result"
    }
   ],
   "source": [
    "print(\"Rows in table -> {}\".format(len(ab_project_marketing_events)))\n",
    "ab_project_marketing_events.head()"
   ]
  },
  {
   "cell_type": "markdown",
   "id": "774eac2f",
   "metadata": {},
   "source": [
    "**all users who signed up in the online store from December 7 to 21, 2020**"
   ]
  },
  {
   "cell_type": "code",
   "execution_count": 5,
   "id": "d06ef990",
   "metadata": {
    "scrolled": true
   },
   "outputs": [
    {
     "name": "stdout",
     "output_type": "stream",
     "text": [
      "Rows in table -> 58703\n"
     ]
    },
    {
     "data": {
      "text/html": [
       "<div>\n",
       "<style scoped>\n",
       "    .dataframe tbody tr th:only-of-type {\n",
       "        vertical-align: middle;\n",
       "    }\n",
       "\n",
       "    .dataframe tbody tr th {\n",
       "        vertical-align: top;\n",
       "    }\n",
       "\n",
       "    .dataframe thead th {\n",
       "        text-align: right;\n",
       "    }\n",
       "</style>\n",
       "<table border=\"1\" class=\"dataframe\">\n",
       "  <thead>\n",
       "    <tr style=\"text-align: right;\">\n",
       "      <th></th>\n",
       "      <th>user_id</th>\n",
       "      <th>first_date</th>\n",
       "      <th>region</th>\n",
       "      <th>device</th>\n",
       "    </tr>\n",
       "  </thead>\n",
       "  <tbody>\n",
       "    <tr>\n",
       "      <th>0</th>\n",
       "      <td>D72A72121175D8BE</td>\n",
       "      <td>2020-12-07</td>\n",
       "      <td>EU</td>\n",
       "      <td>PC</td>\n",
       "    </tr>\n",
       "    <tr>\n",
       "      <th>1</th>\n",
       "      <td>F1C668619DFE6E65</td>\n",
       "      <td>2020-12-07</td>\n",
       "      <td>N.America</td>\n",
       "      <td>Android</td>\n",
       "    </tr>\n",
       "    <tr>\n",
       "      <th>2</th>\n",
       "      <td>2E1BF1D4C37EA01F</td>\n",
       "      <td>2020-12-07</td>\n",
       "      <td>EU</td>\n",
       "      <td>PC</td>\n",
       "    </tr>\n",
       "    <tr>\n",
       "      <th>3</th>\n",
       "      <td>50734A22C0C63768</td>\n",
       "      <td>2020-12-07</td>\n",
       "      <td>EU</td>\n",
       "      <td>iPhone</td>\n",
       "    </tr>\n",
       "    <tr>\n",
       "      <th>4</th>\n",
       "      <td>E1BDDCE0DAFA2679</td>\n",
       "      <td>2020-12-07</td>\n",
       "      <td>N.America</td>\n",
       "      <td>iPhone</td>\n",
       "    </tr>\n",
       "  </tbody>\n",
       "</table>\n",
       "</div>"
      ],
      "text/plain": [
       "            user_id  first_date     region   device\n",
       "0  D72A72121175D8BE  2020-12-07         EU       PC\n",
       "1  F1C668619DFE6E65  2020-12-07  N.America  Android\n",
       "2  2E1BF1D4C37EA01F  2020-12-07         EU       PC\n",
       "3  50734A22C0C63768  2020-12-07         EU   iPhone\n",
       "4  E1BDDCE0DAFA2679  2020-12-07  N.America   iPhone"
      ]
     },
     "execution_count": 5,
     "metadata": {},
     "output_type": "execute_result"
    }
   ],
   "source": [
    "print(\"Rows in table -> {}\".format(len(final_ab_new_users)))\n",
    "final_ab_new_users.head()"
   ]
  },
  {
   "cell_type": "markdown",
   "id": "dc4c0d66",
   "metadata": {},
   "source": [
    "**all events of the new users within the period from December 7, 2020 to January 1, 2021**"
   ]
  },
  {
   "cell_type": "code",
   "execution_count": 6,
   "id": "926b4e7b",
   "metadata": {
    "scrolled": true
   },
   "outputs": [
    {
     "name": "stdout",
     "output_type": "stream",
     "text": [
      "Rows in table -> 423761\n"
     ]
    },
    {
     "data": {
      "text/html": [
       "<div>\n",
       "<style scoped>\n",
       "    .dataframe tbody tr th:only-of-type {\n",
       "        vertical-align: middle;\n",
       "    }\n",
       "\n",
       "    .dataframe tbody tr th {\n",
       "        vertical-align: top;\n",
       "    }\n",
       "\n",
       "    .dataframe thead th {\n",
       "        text-align: right;\n",
       "    }\n",
       "</style>\n",
       "<table border=\"1\" class=\"dataframe\">\n",
       "  <thead>\n",
       "    <tr style=\"text-align: right;\">\n",
       "      <th></th>\n",
       "      <th>user_id</th>\n",
       "      <th>event_dt</th>\n",
       "      <th>event_name</th>\n",
       "      <th>details</th>\n",
       "    </tr>\n",
       "  </thead>\n",
       "  <tbody>\n",
       "    <tr>\n",
       "      <th>0</th>\n",
       "      <td>E1BDDCE0DAFA2679</td>\n",
       "      <td>2020-12-07 20:22:03</td>\n",
       "      <td>purchase</td>\n",
       "      <td>99.99</td>\n",
       "    </tr>\n",
       "    <tr>\n",
       "      <th>1</th>\n",
       "      <td>7B6452F081F49504</td>\n",
       "      <td>2020-12-07 09:22:53</td>\n",
       "      <td>purchase</td>\n",
       "      <td>9.99</td>\n",
       "    </tr>\n",
       "    <tr>\n",
       "      <th>2</th>\n",
       "      <td>9CD9F34546DF254C</td>\n",
       "      <td>2020-12-07 12:59:29</td>\n",
       "      <td>purchase</td>\n",
       "      <td>4.99</td>\n",
       "    </tr>\n",
       "    <tr>\n",
       "      <th>3</th>\n",
       "      <td>96F27A054B191457</td>\n",
       "      <td>2020-12-07 04:02:40</td>\n",
       "      <td>purchase</td>\n",
       "      <td>4.99</td>\n",
       "    </tr>\n",
       "    <tr>\n",
       "      <th>4</th>\n",
       "      <td>1FD7660FDF94CA1F</td>\n",
       "      <td>2020-12-07 10:15:09</td>\n",
       "      <td>purchase</td>\n",
       "      <td>4.99</td>\n",
       "    </tr>\n",
       "  </tbody>\n",
       "</table>\n",
       "</div>"
      ],
      "text/plain": [
       "            user_id             event_dt event_name  details\n",
       "0  E1BDDCE0DAFA2679  2020-12-07 20:22:03   purchase    99.99\n",
       "1  7B6452F081F49504  2020-12-07 09:22:53   purchase     9.99\n",
       "2  9CD9F34546DF254C  2020-12-07 12:59:29   purchase     4.99\n",
       "3  96F27A054B191457  2020-12-07 04:02:40   purchase     4.99\n",
       "4  1FD7660FDF94CA1F  2020-12-07 10:15:09   purchase     4.99"
      ]
     },
     "execution_count": 6,
     "metadata": {},
     "output_type": "execute_result"
    }
   ],
   "source": [
    "print(\"Rows in table -> {}\".format(len(final_ab_events)))\n",
    "final_ab_events.head()"
   ]
  },
  {
   "cell_type": "markdown",
   "id": "1bdfb463",
   "metadata": {},
   "source": [
    "**table containing test participants**"
   ]
  },
  {
   "cell_type": "code",
   "execution_count": 7,
   "id": "804b98fe",
   "metadata": {
    "scrolled": true
   },
   "outputs": [
    {
     "name": "stdout",
     "output_type": "stream",
     "text": [
      "Rows in table -> 14525\n"
     ]
    },
    {
     "data": {
      "text/html": [
       "<div>\n",
       "<style scoped>\n",
       "    .dataframe tbody tr th:only-of-type {\n",
       "        vertical-align: middle;\n",
       "    }\n",
       "\n",
       "    .dataframe tbody tr th {\n",
       "        vertical-align: top;\n",
       "    }\n",
       "\n",
       "    .dataframe thead th {\n",
       "        text-align: right;\n",
       "    }\n",
       "</style>\n",
       "<table border=\"1\" class=\"dataframe\">\n",
       "  <thead>\n",
       "    <tr style=\"text-align: right;\">\n",
       "      <th></th>\n",
       "      <th>user_id</th>\n",
       "      <th>group</th>\n",
       "      <th>ab_test</th>\n",
       "    </tr>\n",
       "  </thead>\n",
       "  <tbody>\n",
       "    <tr>\n",
       "      <th>0</th>\n",
       "      <td>D1ABA3E2887B6A73</td>\n",
       "      <td>A</td>\n",
       "      <td>recommender_system_test</td>\n",
       "    </tr>\n",
       "    <tr>\n",
       "      <th>1</th>\n",
       "      <td>A7A3664BD6242119</td>\n",
       "      <td>A</td>\n",
       "      <td>recommender_system_test</td>\n",
       "    </tr>\n",
       "    <tr>\n",
       "      <th>2</th>\n",
       "      <td>DABC14FDDFADD29E</td>\n",
       "      <td>A</td>\n",
       "      <td>recommender_system_test</td>\n",
       "    </tr>\n",
       "    <tr>\n",
       "      <th>3</th>\n",
       "      <td>04988C5DF189632E</td>\n",
       "      <td>A</td>\n",
       "      <td>recommender_system_test</td>\n",
       "    </tr>\n",
       "    <tr>\n",
       "      <th>4</th>\n",
       "      <td>4FF2998A348C484F</td>\n",
       "      <td>A</td>\n",
       "      <td>recommender_system_test</td>\n",
       "    </tr>\n",
       "    <tr>\n",
       "      <th>...</th>\n",
       "      <td>...</td>\n",
       "      <td>...</td>\n",
       "      <td>...</td>\n",
       "    </tr>\n",
       "    <tr>\n",
       "      <th>14520</th>\n",
       "      <td>1D302F8688B91781</td>\n",
       "      <td>B</td>\n",
       "      <td>interface_eu_test</td>\n",
       "    </tr>\n",
       "    <tr>\n",
       "      <th>14521</th>\n",
       "      <td>3DE51B726983B657</td>\n",
       "      <td>A</td>\n",
       "      <td>interface_eu_test</td>\n",
       "    </tr>\n",
       "    <tr>\n",
       "      <th>14522</th>\n",
       "      <td>F501F79D332BE86C</td>\n",
       "      <td>A</td>\n",
       "      <td>interface_eu_test</td>\n",
       "    </tr>\n",
       "    <tr>\n",
       "      <th>14523</th>\n",
       "      <td>63FBE257B05F2245</td>\n",
       "      <td>A</td>\n",
       "      <td>interface_eu_test</td>\n",
       "    </tr>\n",
       "    <tr>\n",
       "      <th>14524</th>\n",
       "      <td>79F9ABFB029CF724</td>\n",
       "      <td>B</td>\n",
       "      <td>interface_eu_test</td>\n",
       "    </tr>\n",
       "  </tbody>\n",
       "</table>\n",
       "<p>14525 rows × 3 columns</p>\n",
       "</div>"
      ],
      "text/plain": [
       "                user_id group                  ab_test\n",
       "0      D1ABA3E2887B6A73     A  recommender_system_test\n",
       "1      A7A3664BD6242119     A  recommender_system_test\n",
       "2      DABC14FDDFADD29E     A  recommender_system_test\n",
       "3      04988C5DF189632E     A  recommender_system_test\n",
       "4      4FF2998A348C484F     A  recommender_system_test\n",
       "...                 ...   ...                      ...\n",
       "14520  1D302F8688B91781     B        interface_eu_test\n",
       "14521  3DE51B726983B657     A        interface_eu_test\n",
       "14522  F501F79D332BE86C     A        interface_eu_test\n",
       "14523  63FBE257B05F2245     A        interface_eu_test\n",
       "14524  79F9ABFB029CF724     B        interface_eu_test\n",
       "\n",
       "[14525 rows x 3 columns]"
      ]
     },
     "execution_count": 7,
     "metadata": {},
     "output_type": "execute_result"
    }
   ],
   "source": [
    "print(\"Rows in table -> {}\".format(len(final_ab_participants)))\n",
    "final_ab_participants"
   ]
  },
  {
   "cell_type": "markdown",
   "id": "6e7d6afd",
   "metadata": {},
   "source": [
    "**Perfect! We have a general idea of what it's going on and we also know what our goals are!  In the next step we will merge the tables in order to have all the information we need in one unique table. Once our data is in order, we will proceed to carry out the data pre-processing.**\n",
    "<br>\n",
    "**Let's get started!**"
   ]
  },
  {
   "cell_type": "markdown",
   "id": "8bb33fc2",
   "metadata": {},
   "source": [
    "# Making a new table with the necessary information."
   ]
  },
  {
   "cell_type": "code",
   "execution_count": 8,
   "id": "ef58d13c",
   "metadata": {
    "scrolled": true
   },
   "outputs": [],
   "source": [
    "#mergin tables final_ab_new_users and final_ab_events\n",
    "data = final_ab_new_users.merge(final_ab_events, how='inner', on='user_id')"
   ]
  },
  {
   "cell_type": "code",
   "execution_count": 9,
   "id": "c8375d3c",
   "metadata": {
    "scrolled": true
   },
   "outputs": [],
   "source": [
    "#mergin tables data and final_ab_participants\n",
    "data = data.merge(final_ab_participants, how='inner', on='user_id')"
   ]
  },
  {
   "cell_type": "code",
   "execution_count": 10,
   "id": "192749aa",
   "metadata": {
    "scrolled": true
   },
   "outputs": [
    {
     "name": "stdout",
     "output_type": "stream",
     "text": [
      "Rows in table data -> 102838\n"
     ]
    },
    {
     "data": {
      "text/html": [
       "<div>\n",
       "<style scoped>\n",
       "    .dataframe tbody tr th:only-of-type {\n",
       "        vertical-align: middle;\n",
       "    }\n",
       "\n",
       "    .dataframe tbody tr th {\n",
       "        vertical-align: top;\n",
       "    }\n",
       "\n",
       "    .dataframe thead th {\n",
       "        text-align: right;\n",
       "    }\n",
       "</style>\n",
       "<table border=\"1\" class=\"dataframe\">\n",
       "  <thead>\n",
       "    <tr style=\"text-align: right;\">\n",
       "      <th></th>\n",
       "      <th>user_id</th>\n",
       "      <th>first_date</th>\n",
       "      <th>region</th>\n",
       "      <th>device</th>\n",
       "      <th>event_dt</th>\n",
       "      <th>event_name</th>\n",
       "      <th>details</th>\n",
       "      <th>group</th>\n",
       "      <th>ab_test</th>\n",
       "    </tr>\n",
       "  </thead>\n",
       "  <tbody>\n",
       "    <tr>\n",
       "      <th>0</th>\n",
       "      <td>D72A72121175D8BE</td>\n",
       "      <td>2020-12-07</td>\n",
       "      <td>EU</td>\n",
       "      <td>PC</td>\n",
       "      <td>2020-12-07 21:52:10</td>\n",
       "      <td>product_page</td>\n",
       "      <td>NaN</td>\n",
       "      <td>A</td>\n",
       "      <td>recommender_system_test</td>\n",
       "    </tr>\n",
       "    <tr>\n",
       "      <th>1</th>\n",
       "      <td>D72A72121175D8BE</td>\n",
       "      <td>2020-12-07</td>\n",
       "      <td>EU</td>\n",
       "      <td>PC</td>\n",
       "      <td>2020-12-07 21:52:07</td>\n",
       "      <td>login</td>\n",
       "      <td>NaN</td>\n",
       "      <td>A</td>\n",
       "      <td>recommender_system_test</td>\n",
       "    </tr>\n",
       "  </tbody>\n",
       "</table>\n",
       "</div>"
      ],
      "text/plain": [
       "            user_id  first_date region device             event_dt  \\\n",
       "0  D72A72121175D8BE  2020-12-07     EU     PC  2020-12-07 21:52:10   \n",
       "1  D72A72121175D8BE  2020-12-07     EU     PC  2020-12-07 21:52:07   \n",
       "\n",
       "     event_name  details group                  ab_test  \n",
       "0  product_page      NaN     A  recommender_system_test  \n",
       "1         login      NaN     A  recommender_system_test  "
      ]
     },
     "execution_count": 10,
     "metadata": {},
     "output_type": "execute_result"
    }
   ],
   "source": [
    "# Taking a quick look at our table data\n",
    "print(\"Rows in table {} -> {}\".format(\"data\",len(data)))\n",
    "data.head(2)"
   ]
  },
  {
   "cell_type": "code",
   "execution_count": 11,
   "id": "ef9f7bd9",
   "metadata": {
    "scrolled": true
   },
   "outputs": [
    {
     "data": {
      "text/html": [
       "<div>\n",
       "<style scoped>\n",
       "    .dataframe tbody tr th:only-of-type {\n",
       "        vertical-align: middle;\n",
       "    }\n",
       "\n",
       "    .dataframe tbody tr th {\n",
       "        vertical-align: top;\n",
       "    }\n",
       "\n",
       "    .dataframe thead th {\n",
       "        text-align: right;\n",
       "    }\n",
       "</style>\n",
       "<table border=\"1\" class=\"dataframe\">\n",
       "  <thead>\n",
       "    <tr style=\"text-align: right;\">\n",
       "      <th></th>\n",
       "      <th>user_id</th>\n",
       "      <th>first_date</th>\n",
       "      <th>region</th>\n",
       "      <th>device</th>\n",
       "      <th>event_dt</th>\n",
       "      <th>event_name</th>\n",
       "      <th>details</th>\n",
       "      <th>group</th>\n",
       "      <th>ab_test</th>\n",
       "    </tr>\n",
       "  </thead>\n",
       "  <tbody>\n",
       "    <tr>\n",
       "      <th>102836</th>\n",
       "      <td>1C7D23927835213F</td>\n",
       "      <td>2020-12-20</td>\n",
       "      <td>EU</td>\n",
       "      <td>iPhone</td>\n",
       "      <td>2020-12-23 15:47:23</td>\n",
       "      <td>login</td>\n",
       "      <td>NaN</td>\n",
       "      <td>B</td>\n",
       "      <td>interface_eu_test</td>\n",
       "    </tr>\n",
       "    <tr>\n",
       "      <th>102837</th>\n",
       "      <td>1C7D23927835213F</td>\n",
       "      <td>2020-12-20</td>\n",
       "      <td>EU</td>\n",
       "      <td>iPhone</td>\n",
       "      <td>2020-12-27 03:51:35</td>\n",
       "      <td>login</td>\n",
       "      <td>NaN</td>\n",
       "      <td>B</td>\n",
       "      <td>interface_eu_test</td>\n",
       "    </tr>\n",
       "  </tbody>\n",
       "</table>\n",
       "</div>"
      ],
      "text/plain": [
       "                 user_id  first_date region  device             event_dt  \\\n",
       "102836  1C7D23927835213F  2020-12-20     EU  iPhone  2020-12-23 15:47:23   \n",
       "102837  1C7D23927835213F  2020-12-20     EU  iPhone  2020-12-27 03:51:35   \n",
       "\n",
       "       event_name  details group            ab_test  \n",
       "102836      login      NaN     B  interface_eu_test  \n",
       "102837      login      NaN     B  interface_eu_test  "
      ]
     },
     "execution_count": 11,
     "metadata": {},
     "output_type": "execute_result"
    }
   ],
   "source": [
    "#using tail() method on data table\n",
    "data.tail(2)"
   ]
  },
  {
   "cell_type": "markdown",
   "id": "112f5dee",
   "metadata": {},
   "source": [
    "**Taking a closer look at the first_date column**"
   ]
  },
  {
   "cell_type": "code",
   "execution_count": 12,
   "id": "01f33a3b",
   "metadata": {
    "scrolled": true
   },
   "outputs": [
    {
     "data": {
      "text/plain": [
       "'2020-12-23'"
      ]
     },
     "execution_count": 12,
     "metadata": {},
     "output_type": "execute_result"
    }
   ],
   "source": [
    "#max date in first_date column\n",
    "data['first_date'].max()"
   ]
  },
  {
   "cell_type": "markdown",
   "id": "ef9c20b1",
   "metadata": {},
   "source": [
    "The date they stopped accepting new users is 2020-12-21. But here we see that we take new users until 2020-12-23.\n",
    "We need to see how many users like these we take in these two days. Also, let's take a closer look at them, to see if there's anything fishy."
   ]
  },
  {
   "cell_type": "code",
   "execution_count": 13,
   "id": "bb2580a1",
   "metadata": {
    "scrolled": true
   },
   "outputs": [],
   "source": [
    "# filtering the data in order to see the users with the dates we want to check\n",
    "after_new_users = data[data['first_date']>'2020-12-21']"
   ]
  },
  {
   "cell_type": "code",
   "execution_count": 14,
   "id": "2445ef60",
   "metadata": {
    "scrolled": true
   },
   "outputs": [
    {
     "name": "stdout",
     "output_type": "stream",
     "text": [
      "Rows in table data -> 5506\n"
     ]
    },
    {
     "data": {
      "text/html": [
       "<div>\n",
       "<style scoped>\n",
       "    .dataframe tbody tr th:only-of-type {\n",
       "        vertical-align: middle;\n",
       "    }\n",
       "\n",
       "    .dataframe tbody tr th {\n",
       "        vertical-align: top;\n",
       "    }\n",
       "\n",
       "    .dataframe thead th {\n",
       "        text-align: right;\n",
       "    }\n",
       "</style>\n",
       "<table border=\"1\" class=\"dataframe\">\n",
       "  <thead>\n",
       "    <tr style=\"text-align: right;\">\n",
       "      <th></th>\n",
       "      <th>user_id</th>\n",
       "      <th>first_date</th>\n",
       "      <th>region</th>\n",
       "      <th>device</th>\n",
       "      <th>event_dt</th>\n",
       "      <th>event_name</th>\n",
       "      <th>details</th>\n",
       "      <th>group</th>\n",
       "      <th>ab_test</th>\n",
       "    </tr>\n",
       "  </thead>\n",
       "  <tbody>\n",
       "    <tr>\n",
       "      <th>42776</th>\n",
       "      <td>F707288B9D03E181</td>\n",
       "      <td>2020-12-22</td>\n",
       "      <td>EU</td>\n",
       "      <td>Android</td>\n",
       "      <td>2020-12-22 09:12:39</td>\n",
       "      <td>product_page</td>\n",
       "      <td>NaN</td>\n",
       "      <td>A</td>\n",
       "      <td>interface_eu_test</td>\n",
       "    </tr>\n",
       "    <tr>\n",
       "      <th>42777</th>\n",
       "      <td>F707288B9D03E181</td>\n",
       "      <td>2020-12-22</td>\n",
       "      <td>EU</td>\n",
       "      <td>Android</td>\n",
       "      <td>2020-12-27 17:11:53</td>\n",
       "      <td>product_page</td>\n",
       "      <td>NaN</td>\n",
       "      <td>A</td>\n",
       "      <td>interface_eu_test</td>\n",
       "    </tr>\n",
       "    <tr>\n",
       "      <th>42778</th>\n",
       "      <td>F707288B9D03E181</td>\n",
       "      <td>2020-12-22</td>\n",
       "      <td>EU</td>\n",
       "      <td>Android</td>\n",
       "      <td>2020-12-22 09:12:39</td>\n",
       "      <td>login</td>\n",
       "      <td>NaN</td>\n",
       "      <td>A</td>\n",
       "      <td>interface_eu_test</td>\n",
       "    </tr>\n",
       "    <tr>\n",
       "      <th>42779</th>\n",
       "      <td>F707288B9D03E181</td>\n",
       "      <td>2020-12-22</td>\n",
       "      <td>EU</td>\n",
       "      <td>Android</td>\n",
       "      <td>2020-12-27 17:11:50</td>\n",
       "      <td>login</td>\n",
       "      <td>NaN</td>\n",
       "      <td>A</td>\n",
       "      <td>interface_eu_test</td>\n",
       "    </tr>\n",
       "    <tr>\n",
       "      <th>42780</th>\n",
       "      <td>14E0233F5016718D</td>\n",
       "      <td>2020-12-22</td>\n",
       "      <td>EU</td>\n",
       "      <td>Android</td>\n",
       "      <td>2020-12-22 13:28:57</td>\n",
       "      <td>product_page</td>\n",
       "      <td>NaN</td>\n",
       "      <td>B</td>\n",
       "      <td>interface_eu_test</td>\n",
       "    </tr>\n",
       "  </tbody>\n",
       "</table>\n",
       "</div>"
      ],
      "text/plain": [
       "                user_id  first_date region   device             event_dt  \\\n",
       "42776  F707288B9D03E181  2020-12-22     EU  Android  2020-12-22 09:12:39   \n",
       "42777  F707288B9D03E181  2020-12-22     EU  Android  2020-12-27 17:11:53   \n",
       "42778  F707288B9D03E181  2020-12-22     EU  Android  2020-12-22 09:12:39   \n",
       "42779  F707288B9D03E181  2020-12-22     EU  Android  2020-12-27 17:11:50   \n",
       "42780  14E0233F5016718D  2020-12-22     EU  Android  2020-12-22 13:28:57   \n",
       "\n",
       "         event_name  details group            ab_test  \n",
       "42776  product_page      NaN     A  interface_eu_test  \n",
       "42777  product_page      NaN     A  interface_eu_test  \n",
       "42778         login      NaN     A  interface_eu_test  \n",
       "42779         login      NaN     A  interface_eu_test  \n",
       "42780  product_page      NaN     B  interface_eu_test  "
      ]
     },
     "execution_count": 14,
     "metadata": {},
     "output_type": "execute_result"
    }
   ],
   "source": [
    "# Taking a quick look at our table data\n",
    "print(\"Rows in table {} -> {}\".format(\"data\",len(after_new_users)))\n",
    "after_new_users.head()"
   ]
  },
  {
   "cell_type": "markdown",
   "id": "c97359e9",
   "metadata": {},
   "source": [
    "6117 rows! But before we get stressed let's take a closer look and these rows.<br>\n",
    "Looks like these events are about users that are part of the interface_eu_test. Remember that our ab test is called recommender_system_test. <br>\n",
    "Let's see the value counts for the ab_test column."
   ]
  },
  {
   "cell_type": "code",
   "execution_count": 15,
   "id": "783ad720",
   "metadata": {
    "scrolled": true
   },
   "outputs": [
    {
     "data": {
      "text/html": [
       "<div>\n",
       "<style scoped>\n",
       "    .dataframe tbody tr th:only-of-type {\n",
       "        vertical-align: middle;\n",
       "    }\n",
       "\n",
       "    .dataframe tbody tr th {\n",
       "        vertical-align: top;\n",
       "    }\n",
       "\n",
       "    .dataframe thead th {\n",
       "        text-align: right;\n",
       "    }\n",
       "</style>\n",
       "<table border=\"1\" class=\"dataframe\">\n",
       "  <thead>\n",
       "    <tr style=\"text-align: right;\">\n",
       "      <th></th>\n",
       "      <th>user_id</th>\n",
       "      <th>first_date</th>\n",
       "      <th>region</th>\n",
       "      <th>device</th>\n",
       "      <th>event_dt</th>\n",
       "      <th>event_name</th>\n",
       "      <th>details</th>\n",
       "      <th>group</th>\n",
       "    </tr>\n",
       "    <tr>\n",
       "      <th>ab_test</th>\n",
       "      <th></th>\n",
       "      <th></th>\n",
       "      <th></th>\n",
       "      <th></th>\n",
       "      <th></th>\n",
       "      <th></th>\n",
       "      <th></th>\n",
       "      <th></th>\n",
       "    </tr>\n",
       "  </thead>\n",
       "  <tbody>\n",
       "    <tr>\n",
       "      <th>interface_eu_test</th>\n",
       "      <td>5506</td>\n",
       "      <td>5506</td>\n",
       "      <td>5506</td>\n",
       "      <td>5506</td>\n",
       "      <td>5506</td>\n",
       "      <td>5506</td>\n",
       "      <td>785</td>\n",
       "      <td>5506</td>\n",
       "    </tr>\n",
       "  </tbody>\n",
       "</table>\n",
       "</div>"
      ],
      "text/plain": [
       "                   user_id  first_date  region  device  event_dt  event_name  \\\n",
       "ab_test                                                                        \n",
       "interface_eu_test     5506        5506    5506    5506      5506        5506   \n",
       "\n",
       "                   details  group  \n",
       "ab_test                            \n",
       "interface_eu_test      785   5506  "
      ]
     },
     "execution_count": 15,
     "metadata": {},
     "output_type": "execute_result"
    }
   ],
   "source": [
    "after_new_users.groupby('ab_test').count()"
   ]
  },
  {
   "cell_type": "markdown",
   "id": "3274b12b",
   "metadata": {},
   "source": [
    "Cool! There is nothing to worry about. We will drop these rows while droping all rows about users that are not part of the a/b test recommender_system_test. <br>\n",
    "Let's continue!"
   ]
  },
  {
   "cell_type": "code",
   "execution_count": 16,
   "id": "6e37f57d",
   "metadata": {
    "scrolled": true
   },
   "outputs": [
    {
     "data": {
      "text/plain": [
       "'2020-12-07'"
      ]
     },
     "execution_count": 16,
     "metadata": {},
     "output_type": "execute_result"
    }
   ],
   "source": [
    "#min date in first_date column\n",
    "data['first_date'].min()"
   ]
  },
  {
   "cell_type": "markdown",
   "id": "eae870a2",
   "metadata": {},
   "source": [
    "The Launch date is 2020-12-07! So everything it's in order."
   ]
  },
  {
   "cell_type": "markdown",
   "id": "a879a298",
   "metadata": {},
   "source": [
    "**Taking a closer look at the event_dt column**"
   ]
  },
  {
   "cell_type": "code",
   "execution_count": 17,
   "id": "d21aa285",
   "metadata": {
    "scrolled": true
   },
   "outputs": [
    {
     "data": {
      "text/plain": [
       "'2020-12-30 18:28:55'"
      ]
     },
     "execution_count": 17,
     "metadata": {},
     "output_type": "execute_result"
    }
   ],
   "source": [
    "#max date in event_dt column\n",
    "data['event_dt'].max()"
   ]
  },
  {
   "cell_type": "markdown",
   "id": "afb9ff08",
   "metadata": {},
   "source": [
    "The End date (when they finished the experiment) is 2021-01-01, but the max date is 2020-12-30!  These means that data for two days is missing! We should ask some questions to the team that was in charged of these data."
   ]
  },
  {
   "cell_type": "code",
   "execution_count": 18,
   "id": "563ca001",
   "metadata": {
    "scrolled": true
   },
   "outputs": [
    {
     "data": {
      "text/plain": [
       "'2020-12-07 00:02:48'"
      ]
     },
     "execution_count": 18,
     "metadata": {},
     "output_type": "execute_result"
    }
   ],
   "source": [
    "#min date in event_dt column\n",
    "data['event_dt'].min()"
   ]
  },
  {
   "cell_type": "markdown",
   "id": "7168677d",
   "metadata": {},
   "source": [
    "The Launch date is 2020-12-07! So everything it's in order."
   ]
  },
  {
   "cell_type": "markdown",
   "id": "27aefa5f",
   "metadata": {},
   "source": [
    "**Let's check how much days the experiment was running.**"
   ]
  },
  {
   "cell_type": "code",
   "execution_count": 19,
   "id": "3873c8e9",
   "metadata": {
    "scrolled": true
   },
   "outputs": [
    {
     "data": {
      "text/plain": [
       "25"
      ]
     },
     "execution_count": 19,
     "metadata": {},
     "output_type": "execute_result"
    }
   ],
   "source": [
    "#Checking how much days the experiment was supposed to run\n",
    "d1 = datetime.strptime('2020-12-07', \"%Y-%m-%d\")\n",
    "d2 = datetime.strptime('2021-01-01', \"%Y-%m-%d\")\n",
    "abs((d2 - d1).days)"
   ]
  },
  {
   "cell_type": "code",
   "execution_count": 20,
   "id": "114bac0b",
   "metadata": {
    "scrolled": true
   },
   "outputs": [
    {
     "data": {
      "text/plain": [
       "Timedelta('23 days 18:26:07')"
      ]
     },
     "execution_count": 20,
     "metadata": {},
     "output_type": "execute_result"
    }
   ],
   "source": [
    "#Checking how much days the experiment runned \n",
    "max =  pd.to_datetime(data['event_dt'].max())\n",
    "min =  pd.to_datetime(data['event_dt'].min())\n",
    "real_experiment_duration = max - min\n",
    "real_experiment_duration"
   ]
  },
  {
   "cell_type": "markdown",
   "id": "43c6b8c1",
   "metadata": {},
   "source": [
    "So we can say that we have data for 23 and a half days (plus minus) ! <br>\n",
    "But we expected to have about 25 days of data!"
   ]
  },
  {
   "cell_type": "markdown",
   "id": "8bd68f68",
   "metadata": {},
   "source": [
    "**Now we will filter our table!** <br>\n",
    "**1. Leaving only the rows with the test name 'recommender_system_test'**"
   ]
  },
  {
   "cell_type": "code",
   "execution_count": 21,
   "id": "70fe759f",
   "metadata": {
    "scrolled": true
   },
   "outputs": [
    {
     "data": {
      "text/plain": [
       "78929"
      ]
     },
     "execution_count": 21,
     "metadata": {},
     "output_type": "execute_result"
    }
   ],
   "source": [
    "# counting how much rows are we deleting\n",
    "rows_we_drop_ab_test = len(data.query('ab_test != \"recommender_system_test\"'))\n",
    "rows_we_drop_ab_test"
   ]
  },
  {
   "cell_type": "code",
   "execution_count": 22,
   "id": "c035c768",
   "metadata": {
    "scrolled": true
   },
   "outputs": [
    {
     "name": "stdout",
     "output_type": "stream",
     "text": [
      "Around 76.75081195666971 % of the data will be dropped\n"
     ]
    }
   ],
   "source": [
    "print('Around',rows_we_drop_ab_test*100/len(data), '% of the data will be dropped')"
   ]
  },
  {
   "cell_type": "code",
   "execution_count": 23,
   "id": "0a361c6d",
   "metadata": {
    "scrolled": true
   },
   "outputs": [
    {
     "name": "stdout",
     "output_type": "stream",
     "text": [
      "Rows in table -> 23909\n"
     ]
    },
    {
     "data": {
      "text/html": [
       "<div>\n",
       "<style scoped>\n",
       "    .dataframe tbody tr th:only-of-type {\n",
       "        vertical-align: middle;\n",
       "    }\n",
       "\n",
       "    .dataframe tbody tr th {\n",
       "        vertical-align: top;\n",
       "    }\n",
       "\n",
       "    .dataframe thead th {\n",
       "        text-align: right;\n",
       "    }\n",
       "</style>\n",
       "<table border=\"1\" class=\"dataframe\">\n",
       "  <thead>\n",
       "    <tr style=\"text-align: right;\">\n",
       "      <th></th>\n",
       "      <th>user_id</th>\n",
       "      <th>first_date</th>\n",
       "      <th>region</th>\n",
       "      <th>device</th>\n",
       "      <th>event_dt</th>\n",
       "      <th>event_name</th>\n",
       "      <th>details</th>\n",
       "      <th>group</th>\n",
       "      <th>ab_test</th>\n",
       "    </tr>\n",
       "  </thead>\n",
       "  <tbody>\n",
       "    <tr>\n",
       "      <th>99595</th>\n",
       "      <td>001064FEAAB631A1</td>\n",
       "      <td>2020-12-20</td>\n",
       "      <td>EU</td>\n",
       "      <td>Android</td>\n",
       "      <td>2020-12-21 03:19:15</td>\n",
       "      <td>login</td>\n",
       "      <td>NaN</td>\n",
       "      <td>B</td>\n",
       "      <td>recommender_system_test</td>\n",
       "    </tr>\n",
       "    <tr>\n",
       "      <th>99597</th>\n",
       "      <td>001064FEAAB631A1</td>\n",
       "      <td>2020-12-20</td>\n",
       "      <td>EU</td>\n",
       "      <td>Android</td>\n",
       "      <td>2020-12-26 15:55:17</td>\n",
       "      <td>login</td>\n",
       "      <td>NaN</td>\n",
       "      <td>B</td>\n",
       "      <td>recommender_system_test</td>\n",
       "    </tr>\n",
       "  </tbody>\n",
       "</table>\n",
       "</div>"
      ],
      "text/plain": [
       "                user_id  first_date region   device             event_dt  \\\n",
       "99595  001064FEAAB631A1  2020-12-20     EU  Android  2020-12-21 03:19:15   \n",
       "99597  001064FEAAB631A1  2020-12-20     EU  Android  2020-12-26 15:55:17   \n",
       "\n",
       "      event_name  details group                  ab_test  \n",
       "99595      login      NaN     B  recommender_system_test  \n",
       "99597      login      NaN     B  recommender_system_test  "
      ]
     },
     "execution_count": 23,
     "metadata": {},
     "output_type": "execute_result"
    }
   ],
   "source": [
    "# filtering the table\n",
    "data = data[data['ab_test'] == 'recommender_system_test'].sort_values('user_id')\n",
    "print(\"Rows in table -> {}\".format(len(data)))\n",
    "data.head(2)"
   ]
  },
  {
   "cell_type": "markdown",
   "id": "a0d5af69",
   "metadata": {},
   "source": [
    "**2. Deleting rows for non-EU region audience**"
   ]
  },
  {
   "cell_type": "code",
   "execution_count": 24,
   "id": "03e5a4d1",
   "metadata": {
    "scrolled": true
   },
   "outputs": [
    {
     "data": {
      "text/plain": [
       "1235"
      ]
     },
     "execution_count": 24,
     "metadata": {},
     "output_type": "execute_result"
    }
   ],
   "source": [
    "# counting how much rows are we deleting\n",
    "rows_we_drop_region = len(data.query('region != \"EU\"'))\n",
    "rows_we_drop_region"
   ]
  },
  {
   "cell_type": "code",
   "execution_count": 25,
   "id": "6939a5af",
   "metadata": {
    "scrolled": true
   },
   "outputs": [
    {
     "name": "stdout",
     "output_type": "stream",
     "text": [
      "Around 5.165418879919695 % of the data will be dropped\n"
     ]
    }
   ],
   "source": [
    "print('Around',rows_we_drop_region*100/len(data), '% of the data will be dropped')"
   ]
  },
  {
   "cell_type": "code",
   "execution_count": 26,
   "id": "3ba993ae",
   "metadata": {
    "scrolled": true
   },
   "outputs": [
    {
     "name": "stdout",
     "output_type": "stream",
     "text": [
      "Rows in table -> 22674\n"
     ]
    },
    {
     "data": {
      "text/html": [
       "<div>\n",
       "<style scoped>\n",
       "    .dataframe tbody tr th:only-of-type {\n",
       "        vertical-align: middle;\n",
       "    }\n",
       "\n",
       "    .dataframe tbody tr th {\n",
       "        vertical-align: top;\n",
       "    }\n",
       "\n",
       "    .dataframe thead th {\n",
       "        text-align: right;\n",
       "    }\n",
       "</style>\n",
       "<table border=\"1\" class=\"dataframe\">\n",
       "  <thead>\n",
       "    <tr style=\"text-align: right;\">\n",
       "      <th></th>\n",
       "      <th>user_id</th>\n",
       "      <th>first_date</th>\n",
       "      <th>region</th>\n",
       "      <th>device</th>\n",
       "      <th>event_dt</th>\n",
       "      <th>event_name</th>\n",
       "      <th>details</th>\n",
       "      <th>group</th>\n",
       "      <th>ab_test</th>\n",
       "    </tr>\n",
       "  </thead>\n",
       "  <tbody>\n",
       "    <tr>\n",
       "      <th>99595</th>\n",
       "      <td>001064FEAAB631A1</td>\n",
       "      <td>2020-12-20</td>\n",
       "      <td>EU</td>\n",
       "      <td>Android</td>\n",
       "      <td>2020-12-21 03:19:15</td>\n",
       "      <td>login</td>\n",
       "      <td>NaN</td>\n",
       "      <td>B</td>\n",
       "      <td>recommender_system_test</td>\n",
       "    </tr>\n",
       "    <tr>\n",
       "      <th>99597</th>\n",
       "      <td>001064FEAAB631A1</td>\n",
       "      <td>2020-12-20</td>\n",
       "      <td>EU</td>\n",
       "      <td>Android</td>\n",
       "      <td>2020-12-26 15:55:17</td>\n",
       "      <td>login</td>\n",
       "      <td>NaN</td>\n",
       "      <td>B</td>\n",
       "      <td>recommender_system_test</td>\n",
       "    </tr>\n",
       "  </tbody>\n",
       "</table>\n",
       "</div>"
      ],
      "text/plain": [
       "                user_id  first_date region   device             event_dt  \\\n",
       "99595  001064FEAAB631A1  2020-12-20     EU  Android  2020-12-21 03:19:15   \n",
       "99597  001064FEAAB631A1  2020-12-20     EU  Android  2020-12-26 15:55:17   \n",
       "\n",
       "      event_name  details group                  ab_test  \n",
       "99595      login      NaN     B  recommender_system_test  \n",
       "99597      login      NaN     B  recommender_system_test  "
      ]
     },
     "execution_count": 26,
     "metadata": {},
     "output_type": "execute_result"
    }
   ],
   "source": [
    "# filtering the table\n",
    "data = data.query('region == \"EU\"').sort_values('user_id')\n",
    "print(\"Rows in table -> {}\".format(len(data)))\n",
    "data.head(2)"
   ]
  },
  {
   "cell_type": "code",
   "execution_count": 27,
   "id": "4fb2f142",
   "metadata": {
    "scrolled": true
   },
   "outputs": [
    {
     "data": {
      "text/html": [
       "<div>\n",
       "<style scoped>\n",
       "    .dataframe tbody tr th:only-of-type {\n",
       "        vertical-align: middle;\n",
       "    }\n",
       "\n",
       "    .dataframe tbody tr th {\n",
       "        vertical-align: top;\n",
       "    }\n",
       "\n",
       "    .dataframe thead th {\n",
       "        text-align: right;\n",
       "    }\n",
       "</style>\n",
       "<table border=\"1\" class=\"dataframe\">\n",
       "  <thead>\n",
       "    <tr style=\"text-align: right;\">\n",
       "      <th></th>\n",
       "      <th>user_id</th>\n",
       "      <th>first_date</th>\n",
       "      <th>region</th>\n",
       "      <th>device</th>\n",
       "      <th>event_dt</th>\n",
       "      <th>event_name</th>\n",
       "      <th>details</th>\n",
       "      <th>group</th>\n",
       "      <th>ab_test</th>\n",
       "    </tr>\n",
       "  </thead>\n",
       "  <tbody>\n",
       "    <tr>\n",
       "      <th>52270</th>\n",
       "      <td>FFF28D02B1EACBE1</td>\n",
       "      <td>2020-12-16</td>\n",
       "      <td>EU</td>\n",
       "      <td>PC</td>\n",
       "      <td>2020-12-16 08:24:57</td>\n",
       "      <td>product_cart</td>\n",
       "      <td>NaN</td>\n",
       "      <td>B</td>\n",
       "      <td>recommender_system_test</td>\n",
       "    </tr>\n",
       "    <tr>\n",
       "      <th>52286</th>\n",
       "      <td>FFF28D02B1EACBE1</td>\n",
       "      <td>2020-12-16</td>\n",
       "      <td>EU</td>\n",
       "      <td>PC</td>\n",
       "      <td>2020-12-24 00:51:04</td>\n",
       "      <td>login</td>\n",
       "      <td>NaN</td>\n",
       "      <td>B</td>\n",
       "      <td>recommender_system_test</td>\n",
       "    </tr>\n",
       "  </tbody>\n",
       "</table>\n",
       "</div>"
      ],
      "text/plain": [
       "                user_id  first_date region device             event_dt  \\\n",
       "52270  FFF28D02B1EACBE1  2020-12-16     EU     PC  2020-12-16 08:24:57   \n",
       "52286  FFF28D02B1EACBE1  2020-12-16     EU     PC  2020-12-24 00:51:04   \n",
       "\n",
       "         event_name  details group                  ab_test  \n",
       "52270  product_cart      NaN     B  recommender_system_test  \n",
       "52286         login      NaN     B  recommender_system_test  "
      ]
     },
     "execution_count": 27,
     "metadata": {},
     "output_type": "execute_result"
    }
   ],
   "source": [
    "data.tail(2)"
   ]
  },
  {
   "cell_type": "code",
   "execution_count": 28,
   "id": "a0647c19",
   "metadata": {
    "scrolled": true
   },
   "outputs": [
    {
     "data": {
      "text/plain": [
       "3481"
      ]
     },
     "execution_count": 28,
     "metadata": {},
     "output_type": "execute_result"
    }
   ],
   "source": [
    "#cheking the number of unique ids in the data table\n",
    "data['user_id'].value_counts().count()"
   ]
  },
  {
   "cell_type": "markdown",
   "id": "ad8fc9dd",
   "metadata": {},
   "source": [
    "**Remember the expected number of test participants - 6000. But we have 3481 participants in our data table. What's going on?!**"
   ]
  },
  {
   "cell_type": "markdown",
   "id": "ff4c9c65",
   "metadata": {},
   "source": [
    "# Calculating Sample Size"
   ]
  },
  {
   "cell_type": "markdown",
   "id": "611ed00e",
   "metadata": {},
   "source": [
    "We saw previously that we have only  3481 participants in our data table.  <br>\n",
    "In theory, to determine a winner between group A and group B, we need to wait until we have enough results to see if there is a statistically significant difference between the two. For these, we need enough data. Let's calculate the sample size for these a/b test, in order to understand if our sample sizes are big enough."
   ]
  },
  {
   "cell_type": "code",
   "execution_count": 29,
   "id": "a9de4c47",
   "metadata": {
    "scrolled": true
   },
   "outputs": [
    {
     "name": "stdout",
     "output_type": "stream",
     "text": [
      "sample size: 3761 participants in each group\n"
     ]
    }
   ],
   "source": [
    "import statsmodels.stats.api as sms\n",
    "effect_size = sms.proportion_effectsize(0.30, 0.33)\n",
    "\n",
    "def min_group_size(effect_size, power=0.8, alpha=0.05):\n",
    "    required_n = sms.NormalIndPower().solve_power(\n",
    "        effect_size, \n",
    "        power=power,\n",
    "        alpha=alpha\n",
    "        ) \n",
    "    print('sample size:', int(required_n), 'participants in each group')\n",
    "    \n",
    "min_group_size(effect_size)"
   ]
  },
  {
   "cell_type": "markdown",
   "id": "dab6b665",
   "metadata": {},
   "source": [
    "So we need 3761 participants in each group to provide the test correctly with statistical power = 0.8. Also, we could summarize that the number of participants in our test is not enough to interpret the results correctly with high power. But we'll try anyway!"
   ]
  },
  {
   "cell_type": "markdown",
   "id": "8a1a3327",
   "metadata": {},
   "source": [
    "# Exploring the data"
   ]
  },
  {
   "cell_type": "markdown",
   "id": "c45953bd",
   "metadata": {},
   "source": [
    "## Does it need converting types?"
   ]
  },
  {
   "cell_type": "code",
   "execution_count": 30,
   "id": "01677855",
   "metadata": {
    "scrolled": false
   },
   "outputs": [
    {
     "name": "stdout",
     "output_type": "stream",
     "text": [
      "<class 'pandas.core.frame.DataFrame'>\n",
      "Int64Index: 22674 entries, 99595 to 52286\n",
      "Data columns (total 9 columns):\n",
      " #   Column      Non-Null Count  Dtype  \n",
      "---  ------      --------------  -----  \n",
      " 0   user_id     22674 non-null  object \n",
      " 1   first_date  22674 non-null  object \n",
      " 2   region      22674 non-null  object \n",
      " 3   device      22674 non-null  object \n",
      " 4   event_dt    22674 non-null  object \n",
      " 5   event_name  22674 non-null  object \n",
      " 6   details     3079 non-null   float64\n",
      " 7   group       22674 non-null  object \n",
      " 8   ab_test     22674 non-null  object \n",
      "dtypes: float64(1), object(8)\n",
      "memory usage: 1.7+ MB\n"
     ]
    }
   ],
   "source": [
    "data.info()"
   ]
  },
  {
   "cell_type": "markdown",
   "id": "7fafdd98",
   "metadata": {},
   "source": [
    "### Convert the data to the necessary types\n",
    "The type of the dates values are object. Will use to_datetime() method to change the types."
   ]
  },
  {
   "cell_type": "code",
   "execution_count": 31,
   "id": "2e832855",
   "metadata": {
    "scrolled": true
   },
   "outputs": [
    {
     "name": "stdout",
     "output_type": "stream",
     "text": [
      "<class 'pandas.core.frame.DataFrame'>\n",
      "Int64Index: 22674 entries, 99595 to 52286\n",
      "Data columns (total 9 columns):\n",
      " #   Column      Non-Null Count  Dtype         \n",
      "---  ------      --------------  -----         \n",
      " 0   user_id     22674 non-null  object        \n",
      " 1   first_date  22674 non-null  object        \n",
      " 2   region      22674 non-null  object        \n",
      " 3   device      22674 non-null  object        \n",
      " 4   event_dt    22674 non-null  datetime64[ns]\n",
      " 5   event_name  22674 non-null  object        \n",
      " 6   details     3079 non-null   float64       \n",
      " 7   group       22674 non-null  object        \n",
      " 8   ab_test     22674 non-null  object        \n",
      "dtypes: datetime64[ns](1), float64(1), object(7)\n",
      "memory usage: 1.7+ MB\n"
     ]
    }
   ],
   "source": [
    "data['event_dt'] = pd.to_datetime(data['event_dt'])\n",
    "data.info()"
   ]
  },
  {
   "cell_type": "markdown",
   "id": "213876ac",
   "metadata": {},
   "source": [
    "## Are there any missing or duplicate values? If so, what's their nature?"
   ]
  },
  {
   "cell_type": "markdown",
   "id": "c95e5b10",
   "metadata": {},
   "source": [
    "### Looking for duplicates"
   ]
  },
  {
   "cell_type": "code",
   "execution_count": 32,
   "id": "cd3e0730",
   "metadata": {
    "scrolled": true
   },
   "outputs": [
    {
     "data": {
      "text/plain": [
       "22674"
      ]
     },
     "execution_count": 32,
     "metadata": {},
     "output_type": "execute_result"
    }
   ],
   "source": [
    "len(data)"
   ]
  },
  {
   "cell_type": "code",
   "execution_count": 33,
   "id": "ffad9df7",
   "metadata": {
    "scrolled": true
   },
   "outputs": [
    {
     "data": {
      "text/plain": [
       "False    22674\n",
       "dtype: int64"
      ]
     },
     "execution_count": 33,
     "metadata": {},
     "output_type": "execute_result"
    }
   ],
   "source": [
    "data.duplicated().value_counts()"
   ]
  },
  {
   "cell_type": "markdown",
   "id": "fe4a40c9",
   "metadata": {},
   "source": [
    "**There are no duplicates!**"
   ]
  },
  {
   "cell_type": "markdown",
   "id": "97c914a1",
   "metadata": {},
   "source": [
    "### Looking for missing values"
   ]
  },
  {
   "cell_type": "code",
   "execution_count": 34,
   "id": "3a7abf7c",
   "metadata": {
    "scrolled": true
   },
   "outputs": [
    {
     "name": "stdout",
     "output_type": "stream",
     "text": [
      "<class 'pandas.core.frame.DataFrame'>\n",
      "Int64Index: 22674 entries, 99595 to 52286\n",
      "Data columns (total 9 columns):\n",
      " #   Column      Non-Null Count  Dtype         \n",
      "---  ------      --------------  -----         \n",
      " 0   user_id     22674 non-null  object        \n",
      " 1   first_date  22674 non-null  object        \n",
      " 2   region      22674 non-null  object        \n",
      " 3   device      22674 non-null  object        \n",
      " 4   event_dt    22674 non-null  datetime64[ns]\n",
      " 5   event_name  22674 non-null  object        \n",
      " 6   details     3079 non-null   float64       \n",
      " 7   group       22674 non-null  object        \n",
      " 8   ab_test     22674 non-null  object        \n",
      "dtypes: datetime64[ns](1), float64(1), object(7)\n",
      "memory usage: 1.7+ MB\n"
     ]
    }
   ],
   "source": [
    "data.info()"
   ]
  },
  {
   "cell_type": "code",
   "execution_count": 35,
   "id": "bea0114c",
   "metadata": {
    "scrolled": true
   },
   "outputs": [
    {
     "data": {
      "text/plain": [
       "4.99      2302\n",
       "9.99       454\n",
       "99.99      269\n",
       "499.99      54\n",
       "Name: details, dtype: int64"
      ]
     },
     "execution_count": 35,
     "metadata": {},
     "output_type": "execute_result"
    }
   ],
   "source": [
    "data['details'].value_counts()"
   ]
  },
  {
   "cell_type": "markdown",
   "id": "7e203985",
   "metadata": {},
   "source": [
    "Perfect, missing values in the details column. This is fine for us, there are no details like 'how much money has the customer already spent' if the event is about a login. We are good! "
   ]
  },
  {
   "cell_type": "markdown",
   "id": "e8330820",
   "metadata": {},
   "source": [
    "# Carring out exploratory data analysis"
   ]
  },
  {
   "cell_type": "markdown",
   "id": "5f26723d",
   "metadata": {},
   "source": [
    "## Studing the conversion at different funnel stages"
   ]
  },
  {
   "cell_type": "markdown",
   "id": "a1da716a",
   "metadata": {},
   "source": [
    "**Using the event funnel to find the share of users that proceed from each stage to the next**\n",
    "\n",
    "For instance, for the sequence of events A → B → C, we calculate the ratio of users at stage B to the \n",
    "number of users at stage A and the ratio of users at stage C to the number at stage B."
   ]
  },
  {
   "cell_type": "markdown",
   "id": "6edef9ff",
   "metadata": {},
   "source": [
    "**First, let's make tables for the events and the number of unique user_ids that participated in each event, for each group test.**"
   ]
  },
  {
   "cell_type": "code",
   "execution_count": 36,
   "id": "ad0cb02b",
   "metadata": {
    "scrolled": true
   },
   "outputs": [
    {
     "data": {
      "text/html": [
       "<div>\n",
       "<style scoped>\n",
       "    .dataframe tbody tr th:only-of-type {\n",
       "        vertical-align: middle;\n",
       "    }\n",
       "\n",
       "    .dataframe tbody tr th {\n",
       "        vertical-align: top;\n",
       "    }\n",
       "\n",
       "    .dataframe thead th {\n",
       "        text-align: right;\n",
       "    }\n",
       "</style>\n",
       "<table border=\"1\" class=\"dataframe\">\n",
       "  <thead>\n",
       "    <tr style=\"text-align: right;\">\n",
       "      <th></th>\n",
       "      <th>event_name</th>\n",
       "      <th>group</th>\n",
       "      <th>user_id</th>\n",
       "    </tr>\n",
       "  </thead>\n",
       "  <tbody>\n",
       "    <tr>\n",
       "      <th>0</th>\n",
       "      <td>login</td>\n",
       "      <td>B</td>\n",
       "      <td>876</td>\n",
       "    </tr>\n",
       "    <tr>\n",
       "      <th>2</th>\n",
       "      <td>product_page</td>\n",
       "      <td>B</td>\n",
       "      <td>493</td>\n",
       "    </tr>\n",
       "    <tr>\n",
       "      <th>3</th>\n",
       "      <td>purchase</td>\n",
       "      <td>B</td>\n",
       "      <td>249</td>\n",
       "    </tr>\n",
       "    <tr>\n",
       "      <th>1</th>\n",
       "      <td>product_cart</td>\n",
       "      <td>B</td>\n",
       "      <td>244</td>\n",
       "    </tr>\n",
       "  </tbody>\n",
       "</table>\n",
       "</div>"
      ],
      "text/plain": [
       "     event_name group  user_id\n",
       "0         login     B      876\n",
       "2  product_page     B      493\n",
       "3      purchase     B      249\n",
       "1  product_cart     B      244"
      ]
     },
     "metadata": {},
     "output_type": "display_data"
    },
    {
     "data": {
      "text/html": [
       "<div>\n",
       "<style scoped>\n",
       "    .dataframe tbody tr th:only-of-type {\n",
       "        vertical-align: middle;\n",
       "    }\n",
       "\n",
       "    .dataframe tbody tr th {\n",
       "        vertical-align: top;\n",
       "    }\n",
       "\n",
       "    .dataframe thead th {\n",
       "        text-align: right;\n",
       "    }\n",
       "</style>\n",
       "<table border=\"1\" class=\"dataframe\">\n",
       "  <thead>\n",
       "    <tr style=\"text-align: right;\">\n",
       "      <th></th>\n",
       "      <th>event_name</th>\n",
       "      <th>group</th>\n",
       "      <th>user_id</th>\n",
       "    </tr>\n",
       "  </thead>\n",
       "  <tbody>\n",
       "    <tr>\n",
       "      <th>0</th>\n",
       "      <td>login</td>\n",
       "      <td>A</td>\n",
       "      <td>2604</td>\n",
       "    </tr>\n",
       "    <tr>\n",
       "      <th>2</th>\n",
       "      <td>product_page</td>\n",
       "      <td>A</td>\n",
       "      <td>1685</td>\n",
       "    </tr>\n",
       "    <tr>\n",
       "      <th>3</th>\n",
       "      <td>purchase</td>\n",
       "      <td>A</td>\n",
       "      <td>833</td>\n",
       "    </tr>\n",
       "    <tr>\n",
       "      <th>1</th>\n",
       "      <td>product_cart</td>\n",
       "      <td>A</td>\n",
       "      <td>782</td>\n",
       "    </tr>\n",
       "  </tbody>\n",
       "</table>\n",
       "</div>"
      ],
      "text/plain": [
       "     event_name group  user_id\n",
       "0         login     A     2604\n",
       "2  product_page     A     1685\n",
       "3      purchase     A      833\n",
       "1  product_cart     A      782"
      ]
     },
     "metadata": {},
     "output_type": "display_data"
    }
   ],
   "source": [
    "funnel_by_groups=[]\n",
    "for i in data.group.unique():\n",
    "    group=data[data.group==i].groupby(['event_name','group'])['user_id'].nunique().reset_index().sort_values(by='user_id',ascending=False)\n",
    "    display(group)\n",
    "    funnel_by_groups.append(group)    "
   ]
  },
  {
   "cell_type": "markdown",
   "id": "146690d1",
   "metadata": {},
   "source": [
    "**There is problem! the unique user_id distribution in the events is not similar for all the group tests! <br>\n",
    "Let's plot the funnel any way.**"
   ]
  },
  {
   "cell_type": "code",
   "execution_count": 37,
   "id": "c43f1304",
   "metadata": {
    "scrolled": false
   },
   "outputs": [
    {
     "data": {
      "image/png": "[encoded data removed]"
     },
     "metadata": {},
     "output_type": "display_data"
    }
   ],
   "source": [
    "fig = go.Figure()  \n",
    "for i in data.group.unique():\n",
    "    group=data[data.group==i].groupby(['event_name','group'])['user_id'].nunique().reset_index().sort_values(by='user_id',ascending=False)\n",
    "    fig.add_trace(go.Funnel( \n",
    "    name = str(group['group'].iloc[0]),\n",
    "    y = group['event_name'],\n",
    "    x = group['user_id'],\n",
    "    textinfo = \"value+percent initial\"))\n",
    "fig.update_layout(\n",
    "    title=\"Funnel - conversion at different stages of the funnel\")\n",
    "fig.show(\"png\")  "
   ]
  },
  {
   "cell_type": "markdown",
   "id": "6d6cec09",
   "metadata": {},
   "source": [
    "**What do we have?** <br>\n",
    "**Remember, the expected result is: Users will show a better conversion at each stage of the product_page → product_card → purchase funnel, there will be at least a 10% increase.**\n",
    "\n",
    "**We can see that there is a clear decrease in the percentage of users that reached each stage, while the percentages of users in group B (the users with the new payment funnel) are lower. Bad news!** <br>\n",
    "**Another interesting thing is that the purchase event is before the product_car in the funnel we made, while the expected one is: login → product_page → product_card → purchase**"
   ]
  },
  {
   "cell_type": "markdown",
   "id": "9ca7a17a",
   "metadata": {},
   "source": [
    "## Numbers of unique users that participated in 1,2,3 and 4 events"
   ]
  },
  {
   "cell_type": "markdown",
   "id": "66380b0a",
   "metadata": {},
   "source": [
    "Here we see the number of unique events that each user participated in. <br>"
   ]
  },
  {
   "cell_type": "code",
   "execution_count": 38,
   "id": "3d71656a",
   "metadata": {
    "scrolled": true
   },
   "outputs": [
    {
     "data": {
      "text/html": [
       "<div>\n",
       "<style scoped>\n",
       "    .dataframe tbody tr th:only-of-type {\n",
       "        vertical-align: middle;\n",
       "    }\n",
       "\n",
       "    .dataframe tbody tr th {\n",
       "        vertical-align: top;\n",
       "    }\n",
       "\n",
       "    .dataframe thead th {\n",
       "        text-align: right;\n",
       "    }\n",
       "</style>\n",
       "<table border=\"1\" class=\"dataframe\">\n",
       "  <thead>\n",
       "    <tr style=\"text-align: right;\">\n",
       "      <th></th>\n",
       "      <th>user_id</th>\n",
       "      <th>event_name</th>\n",
       "    </tr>\n",
       "  </thead>\n",
       "  <tbody>\n",
       "    <tr>\n",
       "      <th>0</th>\n",
       "      <td>001064FEAAB631A1</td>\n",
       "      <td>2</td>\n",
       "    </tr>\n",
       "    <tr>\n",
       "      <th>1</th>\n",
       "      <td>0010A1C096941592</td>\n",
       "      <td>3</td>\n",
       "    </tr>\n",
       "    <tr>\n",
       "      <th>2</th>\n",
       "      <td>00341D8401F0F665</td>\n",
       "      <td>1</td>\n",
       "    </tr>\n",
       "    <tr>\n",
       "      <th>3</th>\n",
       "      <td>003DF44D7589BBD4</td>\n",
       "      <td>3</td>\n",
       "    </tr>\n",
       "    <tr>\n",
       "      <th>4</th>\n",
       "      <td>00505E15A9D81546</td>\n",
       "      <td>1</td>\n",
       "    </tr>\n",
       "  </tbody>\n",
       "</table>\n",
       "</div>"
      ],
      "text/plain": [
       "            user_id  event_name\n",
       "0  001064FEAAB631A1           2\n",
       "1  0010A1C096941592           3\n",
       "2  00341D8401F0F665           1\n",
       "3  003DF44D7589BBD4           3\n",
       "4  00505E15A9D81546           1"
      ]
     },
     "execution_count": 38,
     "metadata": {},
     "output_type": "execute_result"
    }
   ],
   "source": [
    "users_participation_events = data.groupby(['user_id'])['event_name'].nunique().reset_index()\n",
    "users_participation_events.head()"
   ]
  },
  {
   "cell_type": "markdown",
   "id": "5ee15c85",
   "metadata": {},
   "source": [
    "Let's see how many users participated in the 4 events, in only 3 types of events and so on."
   ]
  },
  {
   "cell_type": "code",
   "execution_count": 39,
   "id": "e4153ab1",
   "metadata": {
    "scrolled": true
   },
   "outputs": [
    {
     "data": {
      "text/html": [
       "<div>\n",
       "<style scoped>\n",
       "    .dataframe tbody tr th:only-of-type {\n",
       "        vertical-align: middle;\n",
       "    }\n",
       "\n",
       "    .dataframe tbody tr th {\n",
       "        vertical-align: top;\n",
       "    }\n",
       "\n",
       "    .dataframe thead th {\n",
       "        text-align: right;\n",
       "    }\n",
       "</style>\n",
       "<table border=\"1\" class=\"dataframe\">\n",
       "  <thead>\n",
       "    <tr style=\"text-align: right;\">\n",
       "      <th></th>\n",
       "      <th>number_of_events</th>\n",
       "      <th>number_of_users</th>\n",
       "    </tr>\n",
       "  </thead>\n",
       "  <tbody>\n",
       "    <tr>\n",
       "      <th>0</th>\n",
       "      <td>4</td>\n",
       "      <td>216</td>\n",
       "    </tr>\n",
       "    <tr>\n",
       "      <th>1</th>\n",
       "      <td>1</td>\n",
       "      <td>696</td>\n",
       "    </tr>\n",
       "    <tr>\n",
       "      <th>2</th>\n",
       "      <td>3</td>\n",
       "      <td>1068</td>\n",
       "    </tr>\n",
       "    <tr>\n",
       "      <th>3</th>\n",
       "      <td>2</td>\n",
       "      <td>1501</td>\n",
       "    </tr>\n",
       "  </tbody>\n",
       "</table>\n",
       "</div>"
      ],
      "text/plain": [
       "   number_of_events  number_of_users\n",
       "0                 4              216\n",
       "1                 1              696\n",
       "2                 3             1068\n",
       "3                 2             1501"
      ]
     },
     "execution_count": 39,
     "metadata": {},
     "output_type": "execute_result"
    }
   ],
   "source": [
    "users_participation_events_f = users_participation_events.pivot_table(values='user_id', index='event_name', aggfunc='count').sort_values(by='user_id').reset_index()\n",
    "users_participation_events_f.columns = ['number_of_events','number_of_users']\n",
    "users_participation_events_f "
   ]
  },
  {
   "cell_type": "code",
   "execution_count": 40,
   "id": "137286f3",
   "metadata": {
    "scrolled": true
   },
   "outputs": [
    {
     "data": {
      "image/png": "[encoded data removed]"
     },
     "metadata": {},
     "output_type": "display_data"
    }
   ],
   "source": [
    "fig = px.bar(users_participation_events_f, y='number_of_users' , x='number_of_events',\n",
    "             height=370, width=800, title='Numbers of unique users that participated in 1,2,3 and 4 events ',\n",
    "              labels={\n",
    "                     \"number_of_users\": \"number of users\",\n",
    "                     'number_of_events' : \"number of events\",\n",
    "                 })\n",
    "fig.show(\"png\")"
   ]
  },
  {
   "cell_type": "markdown",
   "id": "f260a3fa",
   "metadata": {},
   "source": [
    "**Most of users participate in 2 events. This explains everything!** <br>\n",
    "**No all the users are going through the path : login → product_page → product_card → purchase.** <br>"
   ]
  },
  {
   "cell_type": "markdown",
   "id": "11337a92",
   "metadata": {},
   "source": [
    "## Looking for users with the expected path "
   ]
  },
  {
   "cell_type": "markdown",
   "id": "e869d3f3",
   "metadata": {},
   "source": [
    "We are looking for users with the path :  login → product_page → product_card → purchase"
   ]
  },
  {
   "cell_type": "code",
   "execution_count": 41,
   "id": "afca6b72",
   "metadata": {
    "scrolled": true
   },
   "outputs": [
    {
     "data": {
      "text/html": [
       "<div>\n",
       "<style scoped>\n",
       "    .dataframe tbody tr th:only-of-type {\n",
       "        vertical-align: middle;\n",
       "    }\n",
       "\n",
       "    .dataframe tbody tr th {\n",
       "        vertical-align: top;\n",
       "    }\n",
       "\n",
       "    .dataframe thead th {\n",
       "        text-align: right;\n",
       "    }\n",
       "</style>\n",
       "<table border=\"1\" class=\"dataframe\">\n",
       "  <thead>\n",
       "    <tr style=\"text-align: right;\">\n",
       "      <th></th>\n",
       "      <th>user_id</th>\n",
       "      <th>first_date</th>\n",
       "      <th>region</th>\n",
       "      <th>device</th>\n",
       "      <th>event_dt</th>\n",
       "      <th>event_name</th>\n",
       "      <th>details</th>\n",
       "      <th>group</th>\n",
       "      <th>ab_test</th>\n",
       "    </tr>\n",
       "  </thead>\n",
       "  <tbody>\n",
       "    <tr>\n",
       "      <th>99595</th>\n",
       "      <td>001064FEAAB631A1</td>\n",
       "      <td>2020-12-20</td>\n",
       "      <td>EU</td>\n",
       "      <td>Android</td>\n",
       "      <td>2020-12-21 03:19:15</td>\n",
       "      <td>login</td>\n",
       "      <td>NaN</td>\n",
       "      <td>B</td>\n",
       "      <td>recommender_system_test</td>\n",
       "    </tr>\n",
       "    <tr>\n",
       "      <th>99597</th>\n",
       "      <td>001064FEAAB631A1</td>\n",
       "      <td>2020-12-20</td>\n",
       "      <td>EU</td>\n",
       "      <td>Android</td>\n",
       "      <td>2020-12-26 15:55:17</td>\n",
       "      <td>login</td>\n",
       "      <td>NaN</td>\n",
       "      <td>B</td>\n",
       "      <td>recommender_system_test</td>\n",
       "    </tr>\n",
       "  </tbody>\n",
       "</table>\n",
       "</div>"
      ],
      "text/plain": [
       "                user_id  first_date region   device            event_dt  \\\n",
       "99595  001064FEAAB631A1  2020-12-20     EU  Android 2020-12-21 03:19:15   \n",
       "99597  001064FEAAB631A1  2020-12-20     EU  Android 2020-12-26 15:55:17   \n",
       "\n",
       "      event_name  details group                  ab_test  \n",
       "99595      login      NaN     B  recommender_system_test  \n",
       "99597      login      NaN     B  recommender_system_test  "
      ]
     },
     "execution_count": 41,
     "metadata": {},
     "output_type": "execute_result"
    }
   ],
   "source": [
    "data.head(2)"
   ]
  },
  {
   "cell_type": "code",
   "execution_count": 42,
   "id": "14aafb04",
   "metadata": {
    "scrolled": true
   },
   "outputs": [
    {
     "data": {
      "text/html": [
       "<div>\n",
       "<style scoped>\n",
       "    .dataframe tbody tr th:only-of-type {\n",
       "        vertical-align: middle;\n",
       "    }\n",
       "\n",
       "    .dataframe tbody tr th {\n",
       "        vertical-align: top;\n",
       "    }\n",
       "\n",
       "    .dataframe thead th {\n",
       "        text-align: right;\n",
       "    }\n",
       "</style>\n",
       "<table border=\"1\" class=\"dataframe\">\n",
       "  <thead>\n",
       "    <tr style=\"text-align: right;\">\n",
       "      <th>event_name</th>\n",
       "      <th>login</th>\n",
       "      <th>product_cart</th>\n",
       "      <th>product_page</th>\n",
       "      <th>purchase</th>\n",
       "    </tr>\n",
       "    <tr>\n",
       "      <th>user_id</th>\n",
       "      <th></th>\n",
       "      <th></th>\n",
       "      <th></th>\n",
       "      <th></th>\n",
       "    </tr>\n",
       "  </thead>\n",
       "  <tbody>\n",
       "    <tr>\n",
       "      <th>001064FEAAB631A1</th>\n",
       "      <td>2020-12-20 14:43:27</td>\n",
       "      <td>NaT</td>\n",
       "      <td>2020-12-20 14:43:28</td>\n",
       "      <td>NaT</td>\n",
       "    </tr>\n",
       "    <tr>\n",
       "      <th>0010A1C096941592</th>\n",
       "      <td>2020-12-17 21:07:27</td>\n",
       "      <td>NaT</td>\n",
       "      <td>2020-12-17 21:07:27</td>\n",
       "      <td>2020-12-17 21:07:27</td>\n",
       "    </tr>\n",
       "  </tbody>\n",
       "</table>\n",
       "</div>"
      ],
      "text/plain": [
       "event_name                     login product_cart        product_page  \\\n",
       "user_id                                                                 \n",
       "001064FEAAB631A1 2020-12-20 14:43:27          NaT 2020-12-20 14:43:28   \n",
       "0010A1C096941592 2020-12-17 21:07:27          NaT 2020-12-17 21:07:27   \n",
       "\n",
       "event_name                  purchase  \n",
       "user_id                               \n",
       "001064FEAAB631A1                 NaT  \n",
       "0010A1C096941592 2020-12-17 21:07:27  "
      ]
     },
     "execution_count": 42,
     "metadata": {},
     "output_type": "execute_result"
    }
   ],
   "source": [
    "users = data.pivot_table(\n",
    "    index='user_id',  \n",
    "    columns='event_name', \n",
    "    values='event_dt',\n",
    "    aggfunc='min')\n",
    "\n",
    "users.head(2)"
   ]
  },
  {
   "cell_type": "code",
   "execution_count": 43,
   "id": "a2370002",
   "metadata": {
    "scrolled": true
   },
   "outputs": [],
   "source": [
    "step_1 = ~users['login'].isna()\n",
    "step_2 = step_1 & (users['product_page']>users['login'])\n",
    "step_3 = step_2 & (users['product_cart']>users['product_page'])\n",
    "step_4 = step_3 & (users['purchase']>users['product_cart'])"
   ]
  },
  {
   "cell_type": "code",
   "execution_count": 44,
   "id": "0992238b",
   "metadata": {
    "scrolled": true
   },
   "outputs": [],
   "source": [
    "n_login = users[step_1].shape[0]\n",
    "n_product_page = users[step_2].shape[0]\n",
    "n_product_cart = users[step_3].shape[0]\n",
    "n_purchase = users[step_4].shape[0]"
   ]
  },
  {
   "cell_type": "code",
   "execution_count": 45,
   "id": "1f186af4",
   "metadata": {
    "scrolled": true
   },
   "outputs": [
    {
     "name": "stdout",
     "output_type": "stream",
     "text": [
      "Visitors: 3480\n",
      "Product page: 1223\n",
      "Product cart: 72\n",
      "Purchase: 1\n"
     ]
    }
   ],
   "source": [
    "print('Visitors:', n_login)\n",
    "print('Product page:', n_product_page)\n",
    "print('Product cart:',n_product_cart)\n",
    "print('Purchase:', n_purchase)"
   ]
  },
  {
   "cell_type": "markdown",
   "id": "ab4446f3",
   "metadata": {},
   "source": [
    "The number of users at the first stage, of course, coincides, but the following stages differ. This means that not all the users take the expected route."
   ]
  },
  {
   "cell_type": "markdown",
   "id": "d7e8c3dc",
   "metadata": {},
   "source": [
    "## Conversion to seen-Conversion to Purchase"
   ]
  },
  {
   "cell_type": "markdown",
   "id": "4e635464",
   "metadata": {},
   "source": [
    "First, let's find a user that makes all the actions that are part of our conversion funnel. <br>\n",
    "In the stage above we found that there is one user that did go through all the funnels stages."
   ]
  },
  {
   "cell_type": "code",
   "execution_count": 46,
   "id": "46851d28",
   "metadata": {
    "scrolled": true
   },
   "outputs": [
    {
     "data": {
      "text/html": [
       "<div>\n",
       "<style scoped>\n",
       "    .dataframe tbody tr th:only-of-type {\n",
       "        vertical-align: middle;\n",
       "    }\n",
       "\n",
       "    .dataframe tbody tr th {\n",
       "        vertical-align: top;\n",
       "    }\n",
       "\n",
       "    .dataframe thead th {\n",
       "        text-align: right;\n",
       "    }\n",
       "</style>\n",
       "<table border=\"1\" class=\"dataframe\">\n",
       "  <thead>\n",
       "    <tr style=\"text-align: right;\">\n",
       "      <th>event_name</th>\n",
       "      <th>login</th>\n",
       "      <th>product_cart</th>\n",
       "      <th>product_page</th>\n",
       "      <th>purchase</th>\n",
       "    </tr>\n",
       "    <tr>\n",
       "      <th>user_id</th>\n",
       "      <th></th>\n",
       "      <th></th>\n",
       "      <th></th>\n",
       "      <th></th>\n",
       "    </tr>\n",
       "  </thead>\n",
       "  <tbody>\n",
       "    <tr>\n",
       "      <th>816B178B5481C936</th>\n",
       "      <td>2020-12-08 21:06:33</td>\n",
       "      <td>2020-12-08 21:06:35</td>\n",
       "      <td>2020-12-08 21:06:34</td>\n",
       "      <td>2020-12-09 13:59:47</td>\n",
       "    </tr>\n",
       "  </tbody>\n",
       "</table>\n",
       "</div>"
      ],
      "text/plain": [
       "event_name                     login        product_cart        product_page  \\\n",
       "user_id                                                                        \n",
       "816B178B5481C936 2020-12-08 21:06:33 2020-12-08 21:06:35 2020-12-08 21:06:34   \n",
       "\n",
       "event_name                  purchase  \n",
       "user_id                               \n",
       "816B178B5481C936 2020-12-09 13:59:47  "
      ]
     },
     "execution_count": 46,
     "metadata": {},
     "output_type": "execute_result"
    }
   ],
   "source": [
    "users[step_4]"
   ]
  },
  {
   "cell_type": "markdown",
   "id": "0e58b77f",
   "metadata": {},
   "source": [
    "Let's make a function  that follows the path of our users! "
   ]
  },
  {
   "cell_type": "code",
   "execution_count": 47,
   "id": "571f015a",
   "metadata": {
    "scrolled": true
   },
   "outputs": [
    {
     "data": {
      "text/html": [
       "<div>\n",
       "<style scoped>\n",
       "    .dataframe tbody tr th:only-of-type {\n",
       "        vertical-align: middle;\n",
       "    }\n",
       "\n",
       "    .dataframe tbody tr th {\n",
       "        vertical-align: top;\n",
       "    }\n",
       "\n",
       "    .dataframe thead th {\n",
       "        text-align: right;\n",
       "    }\n",
       "</style>\n",
       "<table border=\"1\" class=\"dataframe\">\n",
       "  <thead>\n",
       "    <tr style=\"text-align: right;\">\n",
       "      <th></th>\n",
       "      <th>user_id</th>\n",
       "      <th>first_date</th>\n",
       "      <th>region</th>\n",
       "      <th>device</th>\n",
       "      <th>event_dt</th>\n",
       "      <th>event_name</th>\n",
       "      <th>details</th>\n",
       "      <th>group</th>\n",
       "      <th>ab_test</th>\n",
       "    </tr>\n",
       "  </thead>\n",
       "  <tbody>\n",
       "    <tr>\n",
       "      <th>99595</th>\n",
       "      <td>001064FEAAB631A1</td>\n",
       "      <td>2020-12-20</td>\n",
       "      <td>EU</td>\n",
       "      <td>Android</td>\n",
       "      <td>2020-12-21 03:19:15</td>\n",
       "      <td>login</td>\n",
       "      <td>NaN</td>\n",
       "      <td>B</td>\n",
       "      <td>recommender_system_test</td>\n",
       "    </tr>\n",
       "    <tr>\n",
       "      <th>99597</th>\n",
       "      <td>001064FEAAB631A1</td>\n",
       "      <td>2020-12-20</td>\n",
       "      <td>EU</td>\n",
       "      <td>Android</td>\n",
       "      <td>2020-12-26 15:55:17</td>\n",
       "      <td>login</td>\n",
       "      <td>NaN</td>\n",
       "      <td>B</td>\n",
       "      <td>recommender_system_test</td>\n",
       "    </tr>\n",
       "  </tbody>\n",
       "</table>\n",
       "</div>"
      ],
      "text/plain": [
       "                user_id  first_date region   device            event_dt  \\\n",
       "99595  001064FEAAB631A1  2020-12-20     EU  Android 2020-12-21 03:19:15   \n",
       "99597  001064FEAAB631A1  2020-12-20     EU  Android 2020-12-26 15:55:17   \n",
       "\n",
       "      event_name  details group                  ab_test  \n",
       "99595      login      NaN     B  recommender_system_test  \n",
       "99597      login      NaN     B  recommender_system_test  "
      ]
     },
     "execution_count": 47,
     "metadata": {},
     "output_type": "execute_result"
    }
   ],
   "source": [
    "data.head(2)"
   ]
  },
  {
   "cell_type": "code",
   "execution_count": 48,
   "id": "a0d0faa8",
   "metadata": {
    "scrolled": true
   },
   "outputs": [],
   "source": [
    "def sequence(user):\n",
    "    sorted_user= data[data['user_id']==user].sort_values(by=['user_id','event_dt'])\n",
    "    return sorted_user['event_name'].drop_duplicates().to_list()"
   ]
  },
  {
   "cell_type": "markdown",
   "id": "f69b8ff2",
   "metadata": {},
   "source": [
    "Let's check that the function works correctly!"
   ]
  },
  {
   "cell_type": "code",
   "execution_count": 49,
   "id": "34a7b436",
   "metadata": {
    "scrolled": true
   },
   "outputs": [
    {
     "data": {
      "text/plain": [
       "['login', 'product_page', 'product_cart', 'purchase']"
      ]
     },
     "execution_count": 49,
     "metadata": {},
     "output_type": "execute_result"
    }
   ],
   "source": [
    "sequence('816B178B5481C936')"
   ]
  },
  {
   "cell_type": "markdown",
   "id": "4db623b9",
   "metadata": {},
   "source": [
    "Amazing! Now let's use the function on all our table!"
   ]
  },
  {
   "cell_type": "code",
   "execution_count": 50,
   "id": "b9d89a79",
   "metadata": {
    "scrolled": true
   },
   "outputs": [],
   "source": [
    "sequence_empty=[]\n",
    "for i in data.user_id.unique():\n",
    "    sequence_empty.append([i,sequence(i)])"
   ]
  },
  {
   "cell_type": "markdown",
   "id": "cabb241d",
   "metadata": {},
   "source": [
    "Let's make a data frame with what we got from the function and give names to the columns."
   ]
  },
  {
   "cell_type": "code",
   "execution_count": 51,
   "id": "1dbeb867",
   "metadata": {
    "scrolled": true
   },
   "outputs": [
    {
     "data": {
      "text/html": [
       "<div>\n",
       "<style scoped>\n",
       "    .dataframe tbody tr th:only-of-type {\n",
       "        vertical-align: middle;\n",
       "    }\n",
       "\n",
       "    .dataframe tbody tr th {\n",
       "        vertical-align: top;\n",
       "    }\n",
       "\n",
       "    .dataframe thead th {\n",
       "        text-align: right;\n",
       "    }\n",
       "</style>\n",
       "<table border=\"1\" class=\"dataframe\">\n",
       "  <thead>\n",
       "    <tr style=\"text-align: right;\">\n",
       "      <th></th>\n",
       "      <th>user</th>\n",
       "      <th>path</th>\n",
       "    </tr>\n",
       "  </thead>\n",
       "  <tbody>\n",
       "    <tr>\n",
       "      <th>0</th>\n",
       "      <td>001064FEAAB631A1</td>\n",
       "      <td>[login, product_page]</td>\n",
       "    </tr>\n",
       "    <tr>\n",
       "      <th>1</th>\n",
       "      <td>0010A1C096941592</td>\n",
       "      <td>[purchase, login, product_page]</td>\n",
       "    </tr>\n",
       "    <tr>\n",
       "      <th>2</th>\n",
       "      <td>00341D8401F0F665</td>\n",
       "      <td>[login]</td>\n",
       "    </tr>\n",
       "    <tr>\n",
       "      <th>3</th>\n",
       "      <td>003DF44D7589BBD4</td>\n",
       "      <td>[product_cart, product_page, login]</td>\n",
       "    </tr>\n",
       "    <tr>\n",
       "      <th>4</th>\n",
       "      <td>00505E15A9D81546</td>\n",
       "      <td>[login]</td>\n",
       "    </tr>\n",
       "  </tbody>\n",
       "</table>\n",
       "</div>"
      ],
      "text/plain": [
       "               user                                 path\n",
       "0  001064FEAAB631A1                [login, product_page]\n",
       "1  0010A1C096941592      [purchase, login, product_page]\n",
       "2  00341D8401F0F665                              [login]\n",
       "3  003DF44D7589BBD4  [product_cart, product_page, login]\n",
       "4  00505E15A9D81546                              [login]"
      ]
     },
     "execution_count": 51,
     "metadata": {},
     "output_type": "execute_result"
    }
   ],
   "source": [
    "path_data=pd.DataFrame(sequence_empty,columns=['user','path'])\n",
    "path_data.head()"
   ]
  },
  {
   "cell_type": "markdown",
   "id": "4cc6b34e",
   "metadata": {},
   "source": [
    "The moment of truth has coming!"
   ]
  },
  {
   "cell_type": "code",
   "execution_count": 52,
   "id": "f243824f",
   "metadata": {
    "scrolled": true
   },
   "outputs": [
    {
     "ename": "TypeError",
     "evalue": "unhashable type: 'list'",
     "output_type": "error",
     "traceback": [
      "\u001b[1;31m---------------------------------------------------------------------------\u001b[0m",
      "\u001b[1;31mTypeError\u001b[0m                                 Traceback (most recent call last)",
      "\u001b[1;32mpandas\\_libs\\hashtable_class_helper.pxi\u001b[0m in \u001b[0;36mpandas._libs.hashtable.PyObjectHashTable.map_locations\u001b[1;34m()\u001b[0m\n",
      "\u001b[1;31mTypeError\u001b[0m: unhashable type: 'list'"
     ]
    },
    {
     "name": "stderr",
     "output_type": "stream",
     "text": [
      "Exception ignored in: 'pandas._libs.index.IndexEngine._call_map_locations'\n",
      "Traceback (most recent call last):\n",
      "  File \"pandas\\_libs\\hashtable_class_helper.pxi\", line 5231, in pandas._libs.hashtable.PyObjectHashTable.map_locations\n",
      "TypeError: unhashable type: 'list'\n"
     ]
    },
    {
     "data": {
      "text/plain": [
       "[login, product_page]                            790\n",
       "[login]                                          695\n",
       "[product_page, login]                            224\n",
       "[login, product_cart]                            197\n",
       "[login, purchase, product_page]                  191\n",
       "[purchase, login, product_page]                  176\n",
       "[login, product_page, product_cart]              147\n",
       "[login, product_cart, product_page]              141\n",
       "[purchase, login]                                124\n",
       "[login, purchase]                                103\n",
       "[product_cart, login]                             63\n",
       "[product_page, login, product_cart]               51\n",
       "[product_cart, login, product_page]               51\n",
       "[purchase, login, product_cart]                   43\n",
       "[purchase, login, product_cart, product_page]     42\n",
       "[product_page, purchase, login]                   41\n",
       "[login, product_page, purchase]                   40\n",
       "[login, purchase, product_cart]                   39\n",
       "[product_page, login, purchase]                   37\n",
       "[purchase, product_page, login]                   33\n",
       "[login, purchase, product_cart, product_page]     31\n",
       "[login, purchase, product_page, product_cart]     30\n",
       "[product_cart, product_page, login]               26\n",
       "[purchase, login, product_page, product_cart]     26\n",
       "[purchase, product_cart, login]                   14\n",
       "[product_page, product_cart, login]               14\n",
       "[purchase, product_page, login, product_cart]     13\n",
       "[product_page, login, purchase, product_cart]     13\n",
       "[purchase, product_cart, login, product_page]     10\n",
       "[product_cart, purchase, login, product_page]      9\n",
       "[login, product_cart, purchase]                    9\n",
       "[product_cart, login, purchase]                    8\n",
       "[login, product_page, purchase, product_cart]      8\n",
       "[product_cart, purchase, login]                    7\n",
       "[login, product_page, product_cart, purchase]      6\n",
       "[login, product_cart, purchase, product_page]      6\n",
       "[product_cart, login, purchase, product_page]      4\n",
       "[product_page, purchase, login, product_cart]      4\n",
       "[purchase, product_cart, product_page, login]      4\n",
       "[product_page, product_cart, purchase, login]      3\n",
       "[product_page, product_cart, login, purchase]      2\n",
       "[product_cart, login, product_page, purchase]      2\n",
       "[product_cart, purchase, product_page, login]      2\n",
       "[purchase]                                         1\n",
       "[login, product_cart, product_page, purchase]      1\n",
       "Name: path, dtype: int64"
      ]
     },
     "execution_count": 52,
     "metadata": {},
     "output_type": "execute_result"
    }
   ],
   "source": [
    "path_data['path'].value_counts()"
   ]
  },
  {
   "cell_type": "markdown",
   "id": "62e5c4d2",
   "metadata": {},
   "source": [
    "**789 counts for the the path:<br>\n",
    "[login, product_page]<br>**<br>\n",
    "\n",
    "These are obviously not the results we were expected for.\n",
    "\n",
    "While looking for paths that include the purchase event, we find him in the places 5 and 6:<br>\n",
    "[purchase, login, product_page]                  194 <br>\n",
    "[login, purchase, product_page]                  164 <br>\n",
    "\n",
    "And look at this! Looks like the users first enter to the purchase page and only then proceed to login and only after login to the product page. Well, these has a easy explanation: users may see the link to purchase a product somewhere (in adds), they click at the add to purchase the product and only after they enter to the page the website ask for them to login (maybe subscribe) in order to continue, after the subscrption the website put them in the product page, in order to show them the details of the product before, and then they proceed to buy the product. <br>\n",
    "In case of the second escenario (login, purchase, product_page). Users login first and then proceed to make the purchase, and after that they may continue to look at other products pages."
   ]
  },
  {
   "cell_type": "markdown",
   "id": "56a85c56",
   "metadata": {},
   "source": [
    "Remember the expected result: within 14 days of signing up, users will show better conversion into product page views (the product_page event), instances of adding items to the shopping cart (product_cart), and purchases (purchase). At each stage of the funnel product_page → product_cart → purchase, there will be at least a 10% increase.\n",
    "<br> \n",
    "Well, if we are looking for users that are following the path we are in problems!"
   ]
  },
  {
   "cell_type": "code",
   "execution_count": 53,
   "id": "c013954d",
   "metadata": {
    "scrolled": true
   },
   "outputs": [
    {
     "data": {
      "text/html": [
       "<div>\n",
       "<style scoped>\n",
       "    .dataframe tbody tr th:only-of-type {\n",
       "        vertical-align: middle;\n",
       "    }\n",
       "\n",
       "    .dataframe tbody tr th {\n",
       "        vertical-align: top;\n",
       "    }\n",
       "\n",
       "    .dataframe thead th {\n",
       "        text-align: right;\n",
       "    }\n",
       "</style>\n",
       "<table border=\"1\" class=\"dataframe\">\n",
       "  <thead>\n",
       "    <tr style=\"text-align: right;\">\n",
       "      <th>event_name</th>\n",
       "      <th>login</th>\n",
       "      <th>product_cart</th>\n",
       "      <th>product_page</th>\n",
       "      <th>purchase</th>\n",
       "    </tr>\n",
       "    <tr>\n",
       "      <th>user_id</th>\n",
       "      <th></th>\n",
       "      <th></th>\n",
       "      <th></th>\n",
       "      <th></th>\n",
       "    </tr>\n",
       "  </thead>\n",
       "  <tbody>\n",
       "    <tr>\n",
       "      <th>816B178B5481C936</th>\n",
       "      <td>2020-12-08 21:06:33</td>\n",
       "      <td>2020-12-08 21:06:35</td>\n",
       "      <td>2020-12-08 21:06:34</td>\n",
       "      <td>2020-12-09 13:59:47</td>\n",
       "    </tr>\n",
       "  </tbody>\n",
       "</table>\n",
       "</div>"
      ],
      "text/plain": [
       "event_name                     login        product_cart        product_page  \\\n",
       "user_id                                                                        \n",
       "816B178B5481C936 2020-12-08 21:06:33 2020-12-08 21:06:35 2020-12-08 21:06:34   \n",
       "\n",
       "event_name                  purchase  \n",
       "user_id                               \n",
       "816B178B5481C936 2020-12-09 13:59:47  "
      ]
     },
     "execution_count": 53,
     "metadata": {},
     "output_type": "execute_result"
    }
   ],
   "source": [
    "# Let's see wich users follow the folowing path : product_page → product_cart → purchase\n",
    "users[(users['product_cart']>users['product_page']) & (users['purchase']>users['product_cart'])]"
   ]
  },
  {
   "cell_type": "markdown",
   "id": "9fde1167",
   "metadata": {},
   "source": [
    "Only one!"
   ]
  },
  {
   "cell_type": "markdown",
   "id": "39d9de35",
   "metadata": {},
   "source": [
    "## ploting a simple product funnel"
   ]
  },
  {
   "cell_type": "markdown",
   "id": "55e66982",
   "metadata": {},
   "source": [
    "\n",
    "Well done! We could summarize that we have a simple product funnel, whereas the events do not have strong order. <br>\n",
    "\n",
    "Also! Let's take a closer look at our last funnel:  we have the next order of the events: login - product_page - purchase - product_cart. We have correctly noted, that this order is not a logical one because in this case, the main goal of customers is viewing the product_cart, not the purchase. I guess that we should rearrange the last two events in places on the new funnel graph! <br>\n",
    "\n",
    "In this case, we should study the absolute conversion as you have done on the plot before with the funnel, i.e.: <br>\n",
    "1. login - product page\n",
    "2. login - product cart\n",
    "3. login - purchase"
   ]
  },
  {
   "cell_type": "code",
   "execution_count": 54,
   "id": "b9adf131",
   "metadata": {
    "scrolled": false
   },
   "outputs": [
    {
     "data": {
      "image/png": "[encoded data removed]"
     },
     "metadata": {},
     "output_type": "display_data"
    }
   ],
   "source": [
    "fig = go.Figure()  \n",
    "for i in data.group.unique():\n",
    "    group=data[data.group==i].groupby(['event_name','group'])['user_id'].nunique().reset_index().sort_values(by='user_id',ascending=False)\n",
    "    #changinf the order of the events product_card and purchase\n",
    "    group = group.reindex([0, 2, 1, 3])\n",
    "    fig.add_trace(go.Funnel( \n",
    "    name = str(group['group'].iloc[0]),\n",
    "    y = group['event_name'],\n",
    "    x = group['user_id'],\n",
    "    textinfo = \"value+percent initial\"))\n",
    "fig.update_layout(\n",
    "    title=\"Funnel - conversion at different stages of the funnel\")\n",
    "fig.show(\"png\") "
   ]
  },
  {
   "cell_type": "markdown",
   "id": "2f625aaa",
   "metadata": {},
   "source": [
    "**What do we have?** <br>\n",
    "We could summarise that we have the simple product funnel because some of the events (i.e., product_cart) are not necessary to provide purchase. \n",
    "\n",
    "Let's describe the conversion of users from the login event into the other three events:\n",
    "1. The conversion of users from login to product_page in group A is 65%, which is higher than the one in group B (56%). In this case, the new recommendation system did not increase the conversion, but, on the contrary, decrease it.\n",
    "2. The conversion of users from login to product_cart in group A is 30%, which is higher than the one in group B (28%). In this case, the new recommendation system did not increase the conversion, but, on the contrary, decrease it.\n",
    "3. The conversion of users from login to purchase in group A is 32%, which is higher than the one in group B (28%). In this case, the new recommendation system did not increase the conversion, but, on the contrary, decrease it.\n",
    "\n",
    "\n",
    "In general, and for each of the conversion stages, the new recommendation system did not increase the conversion, but, on the contrary, decrease it."
   ]
  },
  {
   "cell_type": "markdown",
   "id": "557e7432",
   "metadata": {},
   "source": [
    "## Time to purchase"
   ]
  },
  {
   "cell_type": "markdown",
   "id": "6810709e",
   "metadata": {},
   "source": [
    "Time to Purchase shows how long it took for visitors to the site to convert into customers. <br>\n",
    "We'll use the users table we've already made, merge it with the final_ab_new_users table to get the first date of all users, and subtract the first date from the purchase date."
   ]
  },
  {
   "cell_type": "code",
   "execution_count": 55,
   "id": "7d86f4eb",
   "metadata": {},
   "outputs": [
    {
     "data": {
      "text/html": [
       "<div>\n",
       "<style scoped>\n",
       "    .dataframe tbody tr th:only-of-type {\n",
       "        vertical-align: middle;\n",
       "    }\n",
       "\n",
       "    .dataframe tbody tr th {\n",
       "        vertical-align: top;\n",
       "    }\n",
       "\n",
       "    .dataframe thead th {\n",
       "        text-align: right;\n",
       "    }\n",
       "</style>\n",
       "<table border=\"1\" class=\"dataframe\">\n",
       "  <thead>\n",
       "    <tr style=\"text-align: right;\">\n",
       "      <th>event_name</th>\n",
       "      <th>login</th>\n",
       "      <th>product_cart</th>\n",
       "      <th>product_page</th>\n",
       "      <th>purchase</th>\n",
       "    </tr>\n",
       "    <tr>\n",
       "      <th>user_id</th>\n",
       "      <th></th>\n",
       "      <th></th>\n",
       "      <th></th>\n",
       "      <th></th>\n",
       "    </tr>\n",
       "  </thead>\n",
       "  <tbody>\n",
       "    <tr>\n",
       "      <th>001064FEAAB631A1</th>\n",
       "      <td>2020-12-20 14:43:27</td>\n",
       "      <td>NaT</td>\n",
       "      <td>2020-12-20 14:43:28</td>\n",
       "      <td>NaT</td>\n",
       "    </tr>\n",
       "    <tr>\n",
       "      <th>0010A1C096941592</th>\n",
       "      <td>2020-12-17 21:07:27</td>\n",
       "      <td>NaT</td>\n",
       "      <td>2020-12-17 21:07:27</td>\n",
       "      <td>2020-12-17 21:07:27</td>\n",
       "    </tr>\n",
       "  </tbody>\n",
       "</table>\n",
       "</div>"
      ],
      "text/plain": [
       "event_name                     login product_cart        product_page  \\\n",
       "user_id                                                                 \n",
       "001064FEAAB631A1 2020-12-20 14:43:27          NaT 2020-12-20 14:43:28   \n",
       "0010A1C096941592 2020-12-17 21:07:27          NaT 2020-12-17 21:07:27   \n",
       "\n",
       "event_name                  purchase  \n",
       "user_id                               \n",
       "001064FEAAB631A1                 NaT  \n",
       "0010A1C096941592 2020-12-17 21:07:27  "
      ]
     },
     "execution_count": 55,
     "metadata": {},
     "output_type": "execute_result"
    }
   ],
   "source": [
    "#Quick look at the users table\n",
    "users.head(2)"
   ]
  },
  {
   "cell_type": "code",
   "execution_count": 56,
   "id": "68fbb60e",
   "metadata": {},
   "outputs": [
    {
     "data": {
      "text/html": [
       "<div>\n",
       "<style scoped>\n",
       "    .dataframe tbody tr th:only-of-type {\n",
       "        vertical-align: middle;\n",
       "    }\n",
       "\n",
       "    .dataframe tbody tr th {\n",
       "        vertical-align: top;\n",
       "    }\n",
       "\n",
       "    .dataframe thead th {\n",
       "        text-align: right;\n",
       "    }\n",
       "</style>\n",
       "<table border=\"1\" class=\"dataframe\">\n",
       "  <thead>\n",
       "    <tr style=\"text-align: right;\">\n",
       "      <th></th>\n",
       "      <th>user_id</th>\n",
       "      <th>login</th>\n",
       "      <th>product_cart</th>\n",
       "      <th>product_page</th>\n",
       "      <th>purchase</th>\n",
       "      <th>first_date</th>\n",
       "    </tr>\n",
       "  </thead>\n",
       "  <tbody>\n",
       "    <tr>\n",
       "      <th>0</th>\n",
       "      <td>001064FEAAB631A1</td>\n",
       "      <td>2020-12-20 14:43:27</td>\n",
       "      <td>NaT</td>\n",
       "      <td>2020-12-20 14:43:28</td>\n",
       "      <td>NaT</td>\n",
       "      <td>2020-12-20</td>\n",
       "    </tr>\n",
       "    <tr>\n",
       "      <th>1</th>\n",
       "      <td>0010A1C096941592</td>\n",
       "      <td>2020-12-17 21:07:27</td>\n",
       "      <td>NaT</td>\n",
       "      <td>2020-12-17 21:07:27</td>\n",
       "      <td>2020-12-17 21:07:27</td>\n",
       "      <td>2020-12-17</td>\n",
       "    </tr>\n",
       "  </tbody>\n",
       "</table>\n",
       "</div>"
      ],
      "text/plain": [
       "            user_id               login product_cart        product_page  \\\n",
       "0  001064FEAAB631A1 2020-12-20 14:43:27          NaT 2020-12-20 14:43:28   \n",
       "1  0010A1C096941592 2020-12-17 21:07:27          NaT 2020-12-17 21:07:27   \n",
       "\n",
       "             purchase  first_date  \n",
       "0                 NaT  2020-12-20  \n",
       "1 2020-12-17 21:07:27  2020-12-17  "
      ]
     },
     "execution_count": 56,
     "metadata": {},
     "output_type": "execute_result"
    }
   ],
   "source": [
    "#mergin final_ab_new_users and users table\n",
    "time_to_purchase = users.merge(final_ab_new_users, how='left', on='user_id').drop(columns= ['region','device'])\n",
    "time_to_purchase.head(2)"
   ]
  },
  {
   "cell_type": "code",
   "execution_count": 57,
   "id": "5b780dc0",
   "metadata": {},
   "outputs": [],
   "source": [
    "#adding a column with the time to purchase calculation\n",
    "time_to_purchase['time_to_purchase'] = (pd.to_datetime(time_to_purchase['purchase']) - pd.to_datetime(time_to_purchase['first_date'])).dt.days\n"
   ]
  },
  {
   "cell_type": "code",
   "execution_count": 58,
   "id": "cccb9a0a",
   "metadata": {},
   "outputs": [
    {
     "data": {
      "text/html": [
       "<div>\n",
       "<style scoped>\n",
       "    .dataframe tbody tr th:only-of-type {\n",
       "        vertical-align: middle;\n",
       "    }\n",
       "\n",
       "    .dataframe tbody tr th {\n",
       "        vertical-align: top;\n",
       "    }\n",
       "\n",
       "    .dataframe thead th {\n",
       "        text-align: right;\n",
       "    }\n",
       "</style>\n",
       "<table border=\"1\" class=\"dataframe\">\n",
       "  <thead>\n",
       "    <tr style=\"text-align: right;\">\n",
       "      <th></th>\n",
       "      <th>user_id</th>\n",
       "      <th>login</th>\n",
       "      <th>product_cart</th>\n",
       "      <th>product_page</th>\n",
       "      <th>purchase</th>\n",
       "      <th>first_date</th>\n",
       "      <th>time_to_purchase</th>\n",
       "    </tr>\n",
       "  </thead>\n",
       "  <tbody>\n",
       "    <tr>\n",
       "      <th>0</th>\n",
       "      <td>001064FEAAB631A1</td>\n",
       "      <td>2020-12-20 14:43:27</td>\n",
       "      <td>NaT</td>\n",
       "      <td>2020-12-20 14:43:28</td>\n",
       "      <td>NaT</td>\n",
       "      <td>2020-12-20</td>\n",
       "      <td>NaN</td>\n",
       "    </tr>\n",
       "    <tr>\n",
       "      <th>1</th>\n",
       "      <td>0010A1C096941592</td>\n",
       "      <td>2020-12-17 21:07:27</td>\n",
       "      <td>NaT</td>\n",
       "      <td>2020-12-17 21:07:27</td>\n",
       "      <td>2020-12-17 21:07:27</td>\n",
       "      <td>2020-12-17</td>\n",
       "      <td>0.0</td>\n",
       "    </tr>\n",
       "  </tbody>\n",
       "</table>\n",
       "</div>"
      ],
      "text/plain": [
       "            user_id               login product_cart        product_page  \\\n",
       "0  001064FEAAB631A1 2020-12-20 14:43:27          NaT 2020-12-20 14:43:28   \n",
       "1  0010A1C096941592 2020-12-17 21:07:27          NaT 2020-12-17 21:07:27   \n",
       "\n",
       "             purchase  first_date  time_to_purchase  \n",
       "0                 NaT  2020-12-20               NaN  \n",
       "1 2020-12-17 21:07:27  2020-12-17               0.0  "
      ]
     },
     "execution_count": 58,
     "metadata": {},
     "output_type": "execute_result"
    }
   ],
   "source": [
    "#Let's see what we got\n",
    "time_to_purchase.head(2)"
   ]
  },
  {
   "cell_type": "code",
   "execution_count": 59,
   "id": "2589c458",
   "metadata": {},
   "outputs": [
    {
     "data": {
      "text/plain": [
       "0.0    1076\n",
       "1.0       5\n",
       "6.0       1\n",
       "Name: time_to_purchase, dtype: int64"
      ]
     },
     "execution_count": 59,
     "metadata": {},
     "output_type": "execute_result"
    }
   ],
   "source": [
    "#time_to_purchase counts of unique values\n",
    "time_to_purchase['time_to_purchase'].value_counts()"
   ]
  },
  {
   "cell_type": "markdown",
   "id": "7a050b5c",
   "metadata": {},
   "source": [
    "Most of our customers place orders the first day they visit the website! <br>\n",
    "Good news! No time to lose! <br>\n",
    "This is also important to understand how long we should run our A/B test. It seems that two weeks should be enough! But hey! We need to make some other calculations in order to know how long should we run the A/B test."
   ]
  },
  {
   "cell_type": "markdown",
   "id": "6a25d9fe",
   "metadata": {},
   "source": [
    "## How Long Should We Run the A/B Test?"
   ]
  },
  {
   "cell_type": "markdown",
   "id": "1f5beed8",
   "metadata": {},
   "source": [
    "### Stability of Cumulative Metrics"
   ]
  },
  {
   "cell_type": "markdown",
   "id": "524ef3c8",
   "metadata": {},
   "source": [
    "We will analyze graphs of cumulative metrics. Said the test lasted two weeks. If you plot a graph with cumulative data, at the first-day point we'll have metric values for that day, at the second-day point you'll have the sum of metrics for the first two days, and so on. That way you can track changes in the experimental results at each day of the test. <br>\n",
    "According to the central limit theorem, the values of cumulative metrics often converge and settle around a particular mean. Then a cumulative metric graph can help us decide whether to continue the test."
   ]
  },
  {
   "cell_type": "code",
   "execution_count": 60,
   "id": "b45dc4f5",
   "metadata": {},
   "outputs": [
    {
     "data": {
      "text/html": [
       "<div>\n",
       "<style scoped>\n",
       "    .dataframe tbody tr th:only-of-type {\n",
       "        vertical-align: middle;\n",
       "    }\n",
       "\n",
       "    .dataframe tbody tr th {\n",
       "        vertical-align: top;\n",
       "    }\n",
       "\n",
       "    .dataframe thead th {\n",
       "        text-align: right;\n",
       "    }\n",
       "</style>\n",
       "<table border=\"1\" class=\"dataframe\">\n",
       "  <thead>\n",
       "    <tr style=\"text-align: right;\">\n",
       "      <th></th>\n",
       "      <th>user_id</th>\n",
       "      <th>first_date</th>\n",
       "      <th>region</th>\n",
       "      <th>device</th>\n",
       "      <th>event_dt</th>\n",
       "      <th>event_name</th>\n",
       "      <th>details</th>\n",
       "      <th>group</th>\n",
       "      <th>ab_test</th>\n",
       "    </tr>\n",
       "  </thead>\n",
       "  <tbody>\n",
       "    <tr>\n",
       "      <th>99595</th>\n",
       "      <td>001064FEAAB631A1</td>\n",
       "      <td>2020-12-20</td>\n",
       "      <td>EU</td>\n",
       "      <td>Android</td>\n",
       "      <td>2020-12-21 03:19:15</td>\n",
       "      <td>login</td>\n",
       "      <td>NaN</td>\n",
       "      <td>B</td>\n",
       "      <td>recommender_system_test</td>\n",
       "    </tr>\n",
       "    <tr>\n",
       "      <th>99597</th>\n",
       "      <td>001064FEAAB631A1</td>\n",
       "      <td>2020-12-20</td>\n",
       "      <td>EU</td>\n",
       "      <td>Android</td>\n",
       "      <td>2020-12-26 15:55:17</td>\n",
       "      <td>login</td>\n",
       "      <td>NaN</td>\n",
       "      <td>B</td>\n",
       "      <td>recommender_system_test</td>\n",
       "    </tr>\n",
       "  </tbody>\n",
       "</table>\n",
       "</div>"
      ],
      "text/plain": [
       "                user_id  first_date region   device            event_dt  \\\n",
       "99595  001064FEAAB631A1  2020-12-20     EU  Android 2020-12-21 03:19:15   \n",
       "99597  001064FEAAB631A1  2020-12-20     EU  Android 2020-12-26 15:55:17   \n",
       "\n",
       "      event_name  details group                  ab_test  \n",
       "99595      login      NaN     B  recommender_system_test  \n",
       "99597      login      NaN     B  recommender_system_test  "
      ]
     },
     "execution_count": 60,
     "metadata": {},
     "output_type": "execute_result"
    }
   ],
   "source": [
    "data.head(2)"
   ]
  },
  {
   "cell_type": "code",
   "execution_count": 61,
   "id": "67782bd4",
   "metadata": {},
   "outputs": [
    {
     "data": {
      "text/html": [
       "<div>\n",
       "<style scoped>\n",
       "    .dataframe tbody tr th:only-of-type {\n",
       "        vertical-align: middle;\n",
       "    }\n",
       "\n",
       "    .dataframe tbody tr th {\n",
       "        vertical-align: top;\n",
       "    }\n",
       "\n",
       "    .dataframe thead th {\n",
       "        text-align: right;\n",
       "    }\n",
       "</style>\n",
       "<table border=\"1\" class=\"dataframe\">\n",
       "  <thead>\n",
       "    <tr style=\"text-align: right;\">\n",
       "      <th></th>\n",
       "      <th>event_dt</th>\n",
       "      <th>group</th>\n",
       "    </tr>\n",
       "  </thead>\n",
       "  <tbody>\n",
       "    <tr>\n",
       "      <th>98798</th>\n",
       "      <td>2020-12-20 05:42:11</td>\n",
       "      <td>A</td>\n",
       "    </tr>\n",
       "    <tr>\n",
       "      <th>60401</th>\n",
       "      <td>2020-12-20 04:36:41</td>\n",
       "      <td>A</td>\n",
       "    </tr>\n",
       "  </tbody>\n",
       "</table>\n",
       "</div>"
      ],
      "text/plain": [
       "                 event_dt group\n",
       "98798 2020-12-20 05:42:11     A\n",
       "60401 2020-12-20 04:36:41     A"
      ]
     },
     "execution_count": 61,
     "metadata": {},
     "output_type": "execute_result"
    }
   ],
   "source": [
    "# building an array with unique paired date-group values \n",
    "datesGroups = data[['event_dt','group']].drop_duplicates() \n",
    "datesGroups.sample(2)"
   ]
  },
  {
   "cell_type": "markdown",
   "id": "9637383e",
   "metadata": {},
   "source": [
    "Remember, we want to check if : At each stage of the funnel product_page → product_cart → purchase, there will be at least a 10% increase."
   ]
  },
  {
   "cell_type": "markdown",
   "id": "e8b0fedd",
   "metadata": {},
   "source": [
    "### conversion product_page → product_cart"
   ]
  },
  {
   "cell_type": "markdown",
   "id": "5a12ea7b",
   "metadata": {},
   "source": [
    "**product_page**"
   ]
  },
  {
   "cell_type": "code",
   "execution_count": 62,
   "id": "427695b5",
   "metadata": {},
   "outputs": [
    {
     "name": "stderr",
     "output_type": "stream",
     "text": [
      "<ipython-input-62-585942f1a94f>:2: SettingWithCopyWarning:\n",
      "\n",
      "\n",
      "A value is trying to be set on a copy of a slice from a DataFrame.\n",
      "Try using .loc[row_indexer,col_indexer] = value instead\n",
      "\n",
      "See the caveats in the documentation: https://pandas.pydata.org/pandas-docs/stable/user_guide/indexing.html#returning-a-view-versus-a-copy\n",
      "\n"
     ]
    }
   ],
   "source": [
    "data_product_page  = data.query('event_name == \"product_page\"')\n",
    "data_product_page['event_dt'] = data_product_page['event_dt'].dt.date"
   ]
  },
  {
   "cell_type": "code",
   "execution_count": 63,
   "id": "9b22b5bb",
   "metadata": {},
   "outputs": [
    {
     "name": "stderr",
     "output_type": "stream",
     "text": [
      "C:\\Users\\dayab\\Anaconda3\\lib\\site-packages\\pandas\\core\\ops\\array_ops.py:73: FutureWarning:\n",
      "\n",
      "Comparison of Timestamp with datetime.date is deprecated in order to match the standard library behavior.  In a future version these will be considered non-comparable.Use 'ts == pd.Timestamp(date)' or 'ts.date() == date' instead.\n",
      "\n"
     ]
    }
   ],
   "source": [
    "product_page_aggregated = datesGroups.apply(lambda x: data_product_page[np.logical_and(data_product_page['event_dt'] <= x['event_dt'], data_product_page['group'] == x['group'])].agg({'event_dt' : 'max', 'group' : 'max', 'event_name' : 'count'}), axis=1).sort_values(by=['event_name','group']) \n",
    "product_page_aggregated.columns = ['date', 'group', 'counts']"
   ]
  },
  {
   "cell_type": "code",
   "execution_count": 64,
   "id": "8ff433ff",
   "metadata": {
    "scrolled": true
   },
   "outputs": [
    {
     "data": {
      "text/html": [
       "<div>\n",
       "<style scoped>\n",
       "    .dataframe tbody tr th:only-of-type {\n",
       "        vertical-align: middle;\n",
       "    }\n",
       "\n",
       "    .dataframe tbody tr th {\n",
       "        vertical-align: top;\n",
       "    }\n",
       "\n",
       "    .dataframe thead th {\n",
       "        text-align: right;\n",
       "    }\n",
       "</style>\n",
       "<table border=\"1\" class=\"dataframe\">\n",
       "  <thead>\n",
       "    <tr style=\"text-align: right;\">\n",
       "      <th></th>\n",
       "      <th>date</th>\n",
       "      <th>group</th>\n",
       "      <th>counts</th>\n",
       "    </tr>\n",
       "  </thead>\n",
       "  <tbody>\n",
       "    <tr>\n",
       "      <th>3213</th>\n",
       "      <td>2020-12-07</td>\n",
       "      <td>A</td>\n",
       "      <td>92</td>\n",
       "    </tr>\n",
       "    <tr>\n",
       "      <th>8105</th>\n",
       "      <td>2020-12-07</td>\n",
       "      <td>A</td>\n",
       "      <td>92</td>\n",
       "    </tr>\n",
       "  </tbody>\n",
       "</table>\n",
       "</div>"
      ],
      "text/plain": [
       "            date group  counts\n",
       "3213  2020-12-07     A      92\n",
       "8105  2020-12-07     A      92"
      ]
     },
     "execution_count": 64,
     "metadata": {},
     "output_type": "execute_result"
    }
   ],
   "source": [
    "product_page_aggregated.head(2)"
   ]
  },
  {
   "cell_type": "code",
   "execution_count": 65,
   "id": "de941575",
   "metadata": {},
   "outputs": [
    {
     "data": {
      "text/plain": [
       "<matplotlib.legend.Legend at 0x22bd587a3d0>"
      ]
     },
     "execution_count": 65,
     "metadata": {},
     "output_type": "execute_result"
    },
    {
     "data": {
      "image/png": "[encoded data removed]",
      "text/plain": [
       "<Figure size 432x288 with 1 Axes>"
      ]
     },
     "metadata": {
      "needs_background": "light"
     },
     "output_type": "display_data"
    }
   ],
   "source": [
    "# DataFrame with cumulative counts for product_page by day, group A\n",
    "cumulativeProductPageA = product_page_aggregated[product_page_aggregated['group']=='A']\n",
    "\n",
    "# DataFrame with cumulative counts for product_page by day, group B\n",
    "cumulativeProductPageB = product_page_aggregated[product_page_aggregated['group']=='B']\n",
    "\n",
    "# Plotting the group A product_page event counts graph \n",
    "plt.plot(cumulativeProductPageA['date'], cumulativeProductPageA['counts'], label='A')\n",
    "\n",
    "# Plotting the group B product_page event counts graph \n",
    "plt.plot(cumulativeProductPageB['date'], cumulativeProductPageB['counts'], label='B')\n",
    "\n",
    "plt.legend() "
   ]
  },
  {
   "cell_type": "markdown",
   "id": "5d12ea08",
   "metadata": {},
   "source": [
    "The counts for group A is rising steadily throughout the whole test. That's a good sign.<br>\n",
    "Also group B, but the increase is least dramatic."
   ]
  },
  {
   "cell_type": "markdown",
   "id": "46ed122b",
   "metadata": {},
   "source": [
    "**product_cart**"
   ]
  },
  {
   "cell_type": "code",
   "execution_count": 66,
   "id": "5940468e",
   "metadata": {},
   "outputs": [
    {
     "name": "stderr",
     "output_type": "stream",
     "text": [
      "<ipython-input-66-7a090d1f65eb>:2: SettingWithCopyWarning:\n",
      "\n",
      "\n",
      "A value is trying to be set on a copy of a slice from a DataFrame.\n",
      "Try using .loc[row_indexer,col_indexer] = value instead\n",
      "\n",
      "See the caveats in the documentation: https://pandas.pydata.org/pandas-docs/stable/user_guide/indexing.html#returning-a-view-versus-a-copy\n",
      "\n"
     ]
    }
   ],
   "source": [
    "data_product_cart  = data.query('event_name == \"product_cart\"')\n",
    "data_product_cart['event_dt'] = data_product_cart['event_dt'].dt.date"
   ]
  },
  {
   "cell_type": "code",
   "execution_count": 67,
   "id": "b20cc5eb",
   "metadata": {},
   "outputs": [
    {
     "name": "stderr",
     "output_type": "stream",
     "text": [
      "C:\\Users\\dayab\\Anaconda3\\lib\\site-packages\\pandas\\core\\ops\\array_ops.py:73: FutureWarning:\n",
      "\n",
      "Comparison of Timestamp with datetime.date is deprecated in order to match the standard library behavior.  In a future version these will be considered non-comparable.Use 'ts == pd.Timestamp(date)' or 'ts.date() == date' instead.\n",
      "\n"
     ]
    },
    {
     "data": {
      "text/html": [
       "<div>\n",
       "<style scoped>\n",
       "    .dataframe tbody tr th:only-of-type {\n",
       "        vertical-align: middle;\n",
       "    }\n",
       "\n",
       "    .dataframe tbody tr th {\n",
       "        vertical-align: top;\n",
       "    }\n",
       "\n",
       "    .dataframe thead th {\n",
       "        text-align: right;\n",
       "    }\n",
       "</style>\n",
       "<table border=\"1\" class=\"dataframe\">\n",
       "  <thead>\n",
       "    <tr style=\"text-align: right;\">\n",
       "      <th></th>\n",
       "      <th>date</th>\n",
       "      <th>group</th>\n",
       "      <th>counts</th>\n",
       "    </tr>\n",
       "  </thead>\n",
       "  <tbody>\n",
       "    <tr>\n",
       "      <th>3213</th>\n",
       "      <td>2020-12-07</td>\n",
       "      <td>A</td>\n",
       "      <td>35</td>\n",
       "    </tr>\n",
       "    <tr>\n",
       "      <th>8105</th>\n",
       "      <td>2020-12-07</td>\n",
       "      <td>A</td>\n",
       "      <td>35</td>\n",
       "    </tr>\n",
       "  </tbody>\n",
       "</table>\n",
       "</div>"
      ],
      "text/plain": [
       "            date group  counts\n",
       "3213  2020-12-07     A      35\n",
       "8105  2020-12-07     A      35"
      ]
     },
     "execution_count": 67,
     "metadata": {},
     "output_type": "execute_result"
    }
   ],
   "source": [
    "product_cart_aggregated = datesGroups.apply(lambda x: data_product_cart[np.logical_and(data_product_cart['event_dt'] <= x['event_dt'], data_product_cart['group'] == x['group'])].agg({'event_dt' : 'max', 'group' : 'max', 'event_name' : 'count'}), axis=1).sort_values(by=['event_name','group']) \n",
    "product_cart_aggregated.columns = ['date', 'group', 'counts']\n",
    "product_cart_aggregated.head(2)"
   ]
  },
  {
   "cell_type": "code",
   "execution_count": 68,
   "id": "55139857",
   "metadata": {},
   "outputs": [
    {
     "data": {
      "text/plain": [
       "<matplotlib.legend.Legend at 0x22bd3666490>"
      ]
     },
     "execution_count": 68,
     "metadata": {},
     "output_type": "execute_result"
    },
    {
     "data": {
      "image/png": "[encoded data removed]",
      "text/plain": [
       "<Figure size 432x288 with 1 Axes>"
      ]
     },
     "metadata": {
      "needs_background": "light"
     },
     "output_type": "display_data"
    }
   ],
   "source": [
    "# DataFrame with cumulative counts for product_cart by day, group A\n",
    "cumulativeProductCarA = product_cart_aggregated[product_cart_aggregated['group']=='A']\n",
    "\n",
    "# DataFrame with cumulative counts for product_cart by day, group B\n",
    "cumulativeProductCarB = product_cart_aggregated[product_cart_aggregated['group']=='B']\n",
    "\n",
    "# Plotting the group A product_cart event counts graph \n",
    "plt.plot(cumulativeProductCarA['date'], cumulativeProductCarA['counts'], label='A')\n",
    "\n",
    "# Plotting the group B product_cart event counts graph  \n",
    "plt.plot(cumulativeProductCarB['date'], cumulativeProductCarB['counts'], label='B')\n",
    "\n",
    "plt.legend() "
   ]
  },
  {
   "cell_type": "markdown",
   "id": "dab40003",
   "metadata": {},
   "source": [
    "**cumulative conversion graph** <br>\n",
    "**product_page → product_cart**"
   ]
  },
  {
   "cell_type": "code",
   "execution_count": 69,
   "id": "a1cd2ed1",
   "metadata": {},
   "outputs": [
    {
     "data": {
      "text/plain": [
       "<matplotlib.legend.Legend at 0x22bcc10f5b0>"
      ]
     },
     "execution_count": 69,
     "metadata": {},
     "output_type": "execute_result"
    },
    {
     "data": {
      "image/png": "[encoded data removed]",
      "text/plain": [
       "<Figure size 432x288 with 1 Axes>"
      ]
     },
     "metadata": {
      "needs_background": "light"
     },
     "output_type": "display_data"
    }
   ],
   "source": [
    "plt.plot(cumulativeProductPageA['date'], cumulativeProductCarA['counts']/cumulativeProductPageA['counts'], label='A')\n",
    "plt.plot(cumulativeProductPageB['date'], cumulativeProductCarB['counts']/cumulativeProductPageB['counts'], label='B')\n",
    "plt.legend() "
   ]
  },
  {
   "cell_type": "markdown",
   "id": "d336d3d8",
   "metadata": {},
   "source": [
    "As for other observations, the groups were fluctuating around differents values, while the conversion rate of group A and B rose day by day but then stabilized. At least looks like the beginning of stability for group B."
   ]
  },
  {
   "cell_type": "markdown",
   "id": "9c890e4e",
   "metadata": {},
   "source": [
    "### conversion product_cart → purchase"
   ]
  },
  {
   "cell_type": "markdown",
   "id": "9d351037",
   "metadata": {},
   "source": [
    "**purchase**"
   ]
  },
  {
   "cell_type": "code",
   "execution_count": 70,
   "id": "0101c315",
   "metadata": {},
   "outputs": [
    {
     "name": "stderr",
     "output_type": "stream",
     "text": [
      "<ipython-input-70-962d3ee65ef9>:2: SettingWithCopyWarning:\n",
      "\n",
      "\n",
      "A value is trying to be set on a copy of a slice from a DataFrame.\n",
      "Try using .loc[row_indexer,col_indexer] = value instead\n",
      "\n",
      "See the caveats in the documentation: https://pandas.pydata.org/pandas-docs/stable/user_guide/indexing.html#returning-a-view-versus-a-copy\n",
      "\n"
     ]
    }
   ],
   "source": [
    "data_purchase  = data.query('event_name == \"purchase\"')\n",
    "data_purchase['event_dt'] = data_purchase['event_dt'].dt.date"
   ]
  },
  {
   "cell_type": "code",
   "execution_count": 71,
   "id": "82150337",
   "metadata": {},
   "outputs": [
    {
     "name": "stderr",
     "output_type": "stream",
     "text": [
      "C:\\Users\\dayab\\Anaconda3\\lib\\site-packages\\pandas\\core\\ops\\array_ops.py:73: FutureWarning:\n",
      "\n",
      "Comparison of Timestamp with datetime.date is deprecated in order to match the standard library behavior.  In a future version these will be considered non-comparable.Use 'ts == pd.Timestamp(date)' or 'ts.date() == date' instead.\n",
      "\n"
     ]
    },
    {
     "data": {
      "text/html": [
       "<div>\n",
       "<style scoped>\n",
       "    .dataframe tbody tr th:only-of-type {\n",
       "        vertical-align: middle;\n",
       "    }\n",
       "\n",
       "    .dataframe tbody tr th {\n",
       "        vertical-align: top;\n",
       "    }\n",
       "\n",
       "    .dataframe thead th {\n",
       "        text-align: right;\n",
       "    }\n",
       "</style>\n",
       "<table border=\"1\" class=\"dataframe\">\n",
       "  <thead>\n",
       "    <tr style=\"text-align: right;\">\n",
       "      <th></th>\n",
       "      <th>date</th>\n",
       "      <th>group</th>\n",
       "      <th>counts</th>\n",
       "    </tr>\n",
       "  </thead>\n",
       "  <tbody>\n",
       "    <tr>\n",
       "      <th>3213</th>\n",
       "      <td>2020-12-07</td>\n",
       "      <td>A</td>\n",
       "      <td>43</td>\n",
       "    </tr>\n",
       "    <tr>\n",
       "      <th>8105</th>\n",
       "      <td>2020-12-07</td>\n",
       "      <td>A</td>\n",
       "      <td>43</td>\n",
       "    </tr>\n",
       "  </tbody>\n",
       "</table>\n",
       "</div>"
      ],
      "text/plain": [
       "            date group  counts\n",
       "3213  2020-12-07     A      43\n",
       "8105  2020-12-07     A      43"
      ]
     },
     "execution_count": 71,
     "metadata": {},
     "output_type": "execute_result"
    }
   ],
   "source": [
    "purchase_aggregated = datesGroups.apply(lambda x: data_purchase[np.logical_and(data_purchase['event_dt'] <= x['event_dt'], data_purchase['group'] == x['group'])].agg({'event_dt' : 'max', 'group' : 'max', 'event_name' : 'count'}), axis=1).sort_values(by=['event_name','group']) \n",
    "purchase_aggregated.columns = ['date', 'group', 'counts']\n",
    "purchase_aggregated.head(2)"
   ]
  },
  {
   "cell_type": "code",
   "execution_count": 72,
   "id": "605403c9",
   "metadata": {},
   "outputs": [
    {
     "data": {
      "text/plain": [
       "<matplotlib.legend.Legend at 0x22bdb595dc0>"
      ]
     },
     "execution_count": 72,
     "metadata": {},
     "output_type": "execute_result"
    },
    {
     "data": {
      "image/png": "[encoded data removed]",
      "text/plain": [
       "<Figure size 432x288 with 1 Axes>"
      ]
     },
     "metadata": {
      "needs_background": "light"
     },
     "output_type": "display_data"
    }
   ],
   "source": [
    "# DataFrame with cumulative counts for purchase by day, group A\n",
    "cumulativePurchaseA = purchase_aggregated[purchase_aggregated['group']=='A']\n",
    "\n",
    "# DataFrame with cumulative counts for purchase by day, group B\n",
    "cumulativePurchaseB = purchase_aggregated[purchase_aggregated['group']=='B']\n",
    "\n",
    "# Plotting the group A purchase event counts graph \n",
    "plt.plot(cumulativePurchaseA['date'], cumulativePurchaseA['counts'], label='A')\n",
    "\n",
    "# Plotting the group B purchase event counts graph  \n",
    "plt.plot(cumulativePurchaseB['date'], cumulativePurchaseB['counts'], label='B')\n",
    "\n",
    "plt.legend() "
   ]
  },
  {
   "cell_type": "markdown",
   "id": "450ae8eb",
   "metadata": {},
   "source": [
    "**cumulative conversion graph** <br>\n",
    "**product_cart → purchase**"
   ]
  },
  {
   "cell_type": "code",
   "execution_count": 73,
   "id": "48f55e22",
   "metadata": {},
   "outputs": [
    {
     "data": {
      "text/plain": [
       "<matplotlib.legend.Legend at 0x22bdb5413d0>"
      ]
     },
     "execution_count": 73,
     "metadata": {},
     "output_type": "execute_result"
    },
    {
     "data": {
      "image/png": "[encoded data removed]",
      "text/plain": [
       "<Figure size 432x288 with 1 Axes>"
      ]
     },
     "metadata": {
      "needs_background": "light"
     },
     "output_type": "display_data"
    }
   ],
   "source": [
    "plt.plot(cumulativePurchaseA['date'], cumulativePurchaseA['counts']/cumulativeProductCarA['counts'], label='A')\n",
    "plt.plot(cumulativePurchaseB['date'], cumulativePurchaseB['counts']/cumulativeProductCarB['counts'], label='B')\n",
    "plt.legend() "
   ]
  },
  {
   "cell_type": "markdown",
   "id": "5dc1184e",
   "metadata": {},
   "source": [
    "Okay! We see the conversion rate of group A dropped before stabilizing, while the conversion rate for group B fluctuats all the time! Well, we already know the sample sizes are not big enought.\n",
    "\n",
    "The sampel size calculator say the sample size is 3761 participants in **each group**. But we have a total of only 3481 participants, while only 877 participants are from group B. \n",
    "\n",
    "Two weeks should be enough time to test, since the time to purchase is around a day, but we can't be sure! Because the sample sizes are not large enough and the conversion rates do not stabilize on the charts."
   ]
  },
  {
   "cell_type": "markdown",
   "id": "0488c3a2",
   "metadata": {},
   "source": [
    "## Is the number of events per user distributed equally in the samples?"
   ]
  },
  {
   "cell_type": "code",
   "execution_count": 74,
   "id": "0fc9214b",
   "metadata": {
    "scrolled": true
   },
   "outputs": [],
   "source": [
    "A = data.query('group == \"A\"').groupby(['user_id'])['event_name'].count()\n",
    "B = data.query('group == \"B\"').groupby(['user_id'])['event_name'].count()"
   ]
  },
  {
   "cell_type": "code",
   "execution_count": 75,
   "id": "f00c7574",
   "metadata": {
    "scrolled": true
   },
   "outputs": [
    {
     "data": {
      "text/plain": [
       "<AxesSubplot:>"
      ]
     },
     "execution_count": 75,
     "metadata": {},
     "output_type": "execute_result"
    },
    {
     "data": {
      "image/png": "[encoded data removed]",
      "text/plain": [
       "<Figure size 432x288 with 1 Axes>"
      ]
     },
     "metadata": {
      "needs_background": "light"
     },
     "output_type": "display_data"
    }
   ],
   "source": [
    "A.hist(bins=20, alpha=0.5)  # builds a histogram with four bins\n",
    "B.hist(\n",
    "    bins=20, alpha=0.7\n",
    ")  # builds a histogram with nine bins, the boundaries for which are listed, where the alpha argument gives us an opaque graph "
   ]
  },
  {
   "cell_type": "markdown",
   "id": "66b5f82f",
   "metadata": {},
   "source": [
    "**Maybe?** <br>\n",
    "The event counts for the two groups are different (with group A leading the way in terms of number of events), but the distribution of the number of events is similar!"
   ]
  },
  {
   "cell_type": "markdown",
   "id": "75d148ff",
   "metadata": {},
   "source": [
    "### average number of events per user for each group"
   ]
  },
  {
   "cell_type": "code",
   "execution_count": 76,
   "id": "8edebe7b",
   "metadata": {
    "scrolled": true
   },
   "outputs": [],
   "source": [
    "A = data.query('group == \"A\"').groupby(['user_id'], as_index=False)['event_name'].count()\n",
    "B = data.query('group == \"B\"').groupby(['user_id'], as_index=False)['event_name'].count()"
   ]
  },
  {
   "cell_type": "code",
   "execution_count": 77,
   "id": "24223ace",
   "metadata": {
    "scrolled": true
   },
   "outputs": [],
   "source": [
    "#changinf the names of the columns \n",
    "A.columns = ['user_id','counts_events']\n",
    "B.columns = ['user_id','counts_events']"
   ]
  },
  {
   "cell_type": "code",
   "execution_count": 78,
   "id": "43355908",
   "metadata": {
    "scrolled": true
   },
   "outputs": [
    {
     "data": {
      "text/html": [
       "<div>\n",
       "<style scoped>\n",
       "    .dataframe tbody tr th:only-of-type {\n",
       "        vertical-align: middle;\n",
       "    }\n",
       "\n",
       "    .dataframe tbody tr th {\n",
       "        vertical-align: top;\n",
       "    }\n",
       "\n",
       "    .dataframe thead th {\n",
       "        text-align: right;\n",
       "    }\n",
       "</style>\n",
       "<table border=\"1\" class=\"dataframe\">\n",
       "  <thead>\n",
       "    <tr style=\"text-align: right;\">\n",
       "      <th></th>\n",
       "      <th>counts_events</th>\n",
       "    </tr>\n",
       "  </thead>\n",
       "  <tbody>\n",
       "    <tr>\n",
       "      <th>count</th>\n",
       "      <td>2604.000000</td>\n",
       "    </tr>\n",
       "    <tr>\n",
       "      <th>mean</th>\n",
       "      <td>6.785714</td>\n",
       "    </tr>\n",
       "    <tr>\n",
       "      <th>std</th>\n",
       "      <td>3.733456</td>\n",
       "    </tr>\n",
       "    <tr>\n",
       "      <th>min</th>\n",
       "      <td>1.000000</td>\n",
       "    </tr>\n",
       "    <tr>\n",
       "      <th>25%</th>\n",
       "      <td>4.000000</td>\n",
       "    </tr>\n",
       "    <tr>\n",
       "      <th>50%</th>\n",
       "      <td>6.000000</td>\n",
       "    </tr>\n",
       "    <tr>\n",
       "      <th>75%</th>\n",
       "      <td>9.000000</td>\n",
       "    </tr>\n",
       "    <tr>\n",
       "      <th>max</th>\n",
       "      <td>24.000000</td>\n",
       "    </tr>\n",
       "  </tbody>\n",
       "</table>\n",
       "</div>"
      ],
      "text/plain": [
       "       counts_events\n",
       "count    2604.000000\n",
       "mean        6.785714\n",
       "std         3.733456\n",
       "min         1.000000\n",
       "25%         4.000000\n",
       "50%         6.000000\n",
       "75%         9.000000\n",
       "max        24.000000"
      ]
     },
     "execution_count": 78,
     "metadata": {},
     "output_type": "execute_result"
    }
   ],
   "source": [
    "A.describe()"
   ]
  },
  {
   "cell_type": "code",
   "execution_count": 79,
   "id": "077e6fa8",
   "metadata": {
    "scrolled": true
   },
   "outputs": [
    {
     "data": {
      "text/html": [
       "<div>\n",
       "<style scoped>\n",
       "    .dataframe tbody tr th:only-of-type {\n",
       "        vertical-align: middle;\n",
       "    }\n",
       "\n",
       "    .dataframe tbody tr th {\n",
       "        vertical-align: top;\n",
       "    }\n",
       "\n",
       "    .dataframe thead th {\n",
       "        text-align: right;\n",
       "    }\n",
       "</style>\n",
       "<table border=\"1\" class=\"dataframe\">\n",
       "  <thead>\n",
       "    <tr style=\"text-align: right;\">\n",
       "      <th></th>\n",
       "      <th>counts_events</th>\n",
       "    </tr>\n",
       "  </thead>\n",
       "  <tbody>\n",
       "    <tr>\n",
       "      <th>count</th>\n",
       "      <td>877.000000</td>\n",
       "    </tr>\n",
       "    <tr>\n",
       "      <th>mean</th>\n",
       "      <td>5.705815</td>\n",
       "    </tr>\n",
       "    <tr>\n",
       "      <th>std</th>\n",
       "      <td>3.455540</td>\n",
       "    </tr>\n",
       "    <tr>\n",
       "      <th>min</th>\n",
       "      <td>1.000000</td>\n",
       "    </tr>\n",
       "    <tr>\n",
       "      <th>25%</th>\n",
       "      <td>3.000000</td>\n",
       "    </tr>\n",
       "    <tr>\n",
       "      <th>50%</th>\n",
       "      <td>5.000000</td>\n",
       "    </tr>\n",
       "    <tr>\n",
       "      <th>75%</th>\n",
       "      <td>8.000000</td>\n",
       "    </tr>\n",
       "    <tr>\n",
       "      <th>max</th>\n",
       "      <td>28.000000</td>\n",
       "    </tr>\n",
       "  </tbody>\n",
       "</table>\n",
       "</div>"
      ],
      "text/plain": [
       "       counts_events\n",
       "count     877.000000\n",
       "mean        5.705815\n",
       "std         3.455540\n",
       "min         1.000000\n",
       "25%         3.000000\n",
       "50%         5.000000\n",
       "75%         8.000000\n",
       "max        28.000000"
      ]
     },
     "execution_count": 79,
     "metadata": {},
     "output_type": "execute_result"
    }
   ],
   "source": [
    "B.describe()"
   ]
  },
  {
   "cell_type": "code",
   "execution_count": 80,
   "id": "0601395d",
   "metadata": {
    "scrolled": true
   },
   "outputs": [],
   "source": [
    "A_avg = A['counts_events'].mean()\n",
    "B_avg = B['counts_events'].mean()"
   ]
  },
  {
   "cell_type": "code",
   "execution_count": 81,
   "id": "5f96128f",
   "metadata": {
    "scrolled": true
   },
   "outputs": [
    {
     "name": "stdout",
     "output_type": "stream",
     "text": [
      "The average number of events per user for group A is  6.785714285714286\n",
      "The average number of events per user for group B is  5.70581527936146\n"
     ]
    }
   ],
   "source": [
    "print('The average number of events per user for group A is ',A_avg)\n",
    "print('The average number of events per user for group B is ',B_avg)"
   ]
  },
  {
   "cell_type": "markdown",
   "id": "1dba416a",
   "metadata": {},
   "source": [
    "These numbers are really close! But looks that the number tends to be higher for the group A!"
   ]
  },
  {
   "cell_type": "markdown",
   "id": "6f2202d3",
   "metadata": {},
   "source": [
    "## Are there users who enter both samples?"
   ]
  },
  {
   "cell_type": "markdown",
   "id": "d82645f5",
   "metadata": {},
   "source": [
    "**number of unique users**"
   ]
  },
  {
   "cell_type": "code",
   "execution_count": 82,
   "id": "6b060cea",
   "metadata": {
    "scrolled": true
   },
   "outputs": [
    {
     "data": {
      "text/plain": [
       "3481"
      ]
     },
     "execution_count": 82,
     "metadata": {},
     "output_type": "execute_result"
    }
   ],
   "source": [
    "data['user_id'].nunique()"
   ]
  },
  {
   "cell_type": "markdown",
   "id": "f8ae19cc",
   "metadata": {},
   "source": [
    "**How much users are in each group, value_counts()**"
   ]
  },
  {
   "cell_type": "code",
   "execution_count": 83,
   "id": "85819628",
   "metadata": {
    "scrolled": true
   },
   "outputs": [
    {
     "data": {
      "text/plain": [
       "group\n",
       "A    2604\n",
       "B     877\n",
       "Name: user_id, dtype: int64"
      ]
     },
     "execution_count": 83,
     "metadata": {},
     "output_type": "execute_result"
    }
   ],
   "source": [
    "data.groupby('group')['user_id'].nunique()"
   ]
  },
  {
   "cell_type": "markdown",
   "id": "9240feac",
   "metadata": {},
   "source": [
    "**How much users are in more that one group, value_counts()**"
   ]
  },
  {
   "cell_type": "code",
   "execution_count": 84,
   "id": "5e499118",
   "metadata": {
    "scrolled": true
   },
   "outputs": [
    {
     "data": {
      "text/plain": [
       "1    3481\n",
       "Name: group, dtype: int64"
      ]
     },
     "execution_count": 84,
     "metadata": {},
     "output_type": "execute_result"
    }
   ],
   "source": [
    "data.groupby(['user_id'])['group'].nunique().value_counts()"
   ]
  },
  {
   "cell_type": "markdown",
   "id": "6b470510",
   "metadata": {},
   "source": [
    "**No users enter both samples!**"
   ]
  },
  {
   "cell_type": "markdown",
   "id": "ad48ccba",
   "metadata": {},
   "source": [
    "## How is the number of events distributed by days?"
   ]
  },
  {
   "cell_type": "code",
   "execution_count": 85,
   "id": "2edd8a4a",
   "metadata": {
    "scrolled": true
   },
   "outputs": [],
   "source": [
    "#creating the necessary variables for further investigation : using the data table\n",
    "data['day'] = data['event_dt'].dt.date"
   ]
  },
  {
   "cell_type": "code",
   "execution_count": 86,
   "id": "2d0eed1e",
   "metadata": {
    "scrolled": true
   },
   "outputs": [
    {
     "data": {
      "text/plain": [
       "'events_per_day'"
      ]
     },
     "metadata": {},
     "output_type": "display_data"
    },
    {
     "data": {
      "text/html": [
       "<div>\n",
       "<style scoped>\n",
       "    .dataframe tbody tr th:only-of-type {\n",
       "        vertical-align: middle;\n",
       "    }\n",
       "\n",
       "    .dataframe tbody tr th {\n",
       "        vertical-align: top;\n",
       "    }\n",
       "\n",
       "    .dataframe thead th {\n",
       "        text-align: right;\n",
       "    }\n",
       "</style>\n",
       "<table border=\"1\" class=\"dataframe\">\n",
       "  <thead>\n",
       "    <tr style=\"text-align: right;\">\n",
       "      <th></th>\n",
       "      <th>day</th>\n",
       "      <th>event_name</th>\n",
       "      <th>counts</th>\n",
       "    </tr>\n",
       "  </thead>\n",
       "  <tbody>\n",
       "    <tr>\n",
       "      <th>0</th>\n",
       "      <td>2020-12-07</td>\n",
       "      <td>login</td>\n",
       "      <td>303</td>\n",
       "    </tr>\n",
       "    <tr>\n",
       "      <th>1</th>\n",
       "      <td>2020-12-07</td>\n",
       "      <td>product_cart</td>\n",
       "      <td>76</td>\n",
       "    </tr>\n",
       "    <tr>\n",
       "      <th>2</th>\n",
       "      <td>2020-12-07</td>\n",
       "      <td>product_page</td>\n",
       "      <td>193</td>\n",
       "    </tr>\n",
       "    <tr>\n",
       "      <th>3</th>\n",
       "      <td>2020-12-07</td>\n",
       "      <td>purchase</td>\n",
       "      <td>102</td>\n",
       "    </tr>\n",
       "    <tr>\n",
       "      <th>4</th>\n",
       "      <td>2020-12-08</td>\n",
       "      <td>login</td>\n",
       "      <td>259</td>\n",
       "    </tr>\n",
       "    <tr>\n",
       "      <th>5</th>\n",
       "      <td>2020-12-08</td>\n",
       "      <td>product_cart</td>\n",
       "      <td>67</td>\n",
       "    </tr>\n",
       "  </tbody>\n",
       "</table>\n",
       "</div>"
      ],
      "text/plain": [
       "          day    event_name  counts\n",
       "0  2020-12-07         login     303\n",
       "1  2020-12-07  product_cart      76\n",
       "2  2020-12-07  product_page     193\n",
       "3  2020-12-07      purchase     102\n",
       "4  2020-12-08         login     259\n",
       "5  2020-12-08  product_cart      67"
      ]
     },
     "metadata": {},
     "output_type": "display_data"
    }
   ],
   "source": [
    "#per day\n",
    "events_per_day = data.groupby(['day','event_name']).agg({'user_id': 'count'}).reset_index()\n",
    "events_per_day.columns = ['day', 'event_name', 'counts']\n",
    "display(\"events_per_day\",events_per_day.head(6))"
   ]
  },
  {
   "cell_type": "code",
   "execution_count": 87,
   "id": "4fa5b01b",
   "metadata": {
    "scrolled": false
   },
   "outputs": [
    {
     "data": {
      "image/png": "[encoded data removed]"
     },
     "metadata": {},
     "output_type": "display_data"
    }
   ],
   "source": [
    "#number of events per day\n",
    "fig = px.line(events_per_day,x=\"day\", y=\"counts\",title='Number of events by day', color=\"event_name\",\n",
    "              labels={\n",
    "                     \"day\": \"day\",\n",
    "                     \"event_name\": \"number of events\",\n",
    "                 })\n",
    "fig.show(\"png\")"
   ]
  },
  {
   "cell_type": "markdown",
   "id": "04d4d662",
   "metadata": {},
   "source": [
    "**What do we have?** <br>\n",
    "**We see that the product_cart event leads the purchase event almost every day (as expected). But there are days when the purchase event leads. Perhaps because there are people who do not need to consult the product page, they already know that they want the product and the necessary details. Maybe our marketing strategy is so good that customers just buys!, Without checking too much.**"
   ]
  },
  {
   "cell_type": "markdown",
   "id": "3ca3b869",
   "metadata": {},
   "source": [
    "**Describing in detail the distribution of the events per days** <br>\n",
    "* For the first 7 days the data numbers of events by day look stable. \n",
    "* Dec 14 - We see a nice positive pick! \n",
    "* Dec 15 until Dec 20 - The number of events increase day by day\n",
    "* Dec 21 - Another positive pick! \n",
    "* Dec 22 until end of the experiment - The number of events decreases day by day! The number of events by day decreases and reaches the lowest levels ever."
   ]
  },
  {
   "cell_type": "markdown",
   "id": "9cd13c6b",
   "metadata": {},
   "source": [
    "### number of events distributed by days, per group"
   ]
  },
  {
   "cell_type": "code",
   "execution_count": 88,
   "id": "823ccb1d",
   "metadata": {
    "scrolled": true
   },
   "outputs": [
    {
     "data": {
      "text/plain": [
       "'events_per_day_group'"
      ]
     },
     "metadata": {},
     "output_type": "display_data"
    },
    {
     "data": {
      "text/html": [
       "<div>\n",
       "<style scoped>\n",
       "    .dataframe tbody tr th:only-of-type {\n",
       "        vertical-align: middle;\n",
       "    }\n",
       "\n",
       "    .dataframe tbody tr th {\n",
       "        vertical-align: top;\n",
       "    }\n",
       "\n",
       "    .dataframe thead th {\n",
       "        text-align: right;\n",
       "    }\n",
       "</style>\n",
       "<table border=\"1\" class=\"dataframe\">\n",
       "  <thead>\n",
       "    <tr style=\"text-align: right;\">\n",
       "      <th></th>\n",
       "      <th>day</th>\n",
       "      <th>event_name</th>\n",
       "      <th>group</th>\n",
       "      <th>counts</th>\n",
       "    </tr>\n",
       "  </thead>\n",
       "  <tbody>\n",
       "    <tr>\n",
       "      <th>0</th>\n",
       "      <td>2020-12-07</td>\n",
       "      <td>login</td>\n",
       "      <td>A</td>\n",
       "      <td>148</td>\n",
       "    </tr>\n",
       "    <tr>\n",
       "      <th>1</th>\n",
       "      <td>2020-12-07</td>\n",
       "      <td>login</td>\n",
       "      <td>B</td>\n",
       "      <td>155</td>\n",
       "    </tr>\n",
       "    <tr>\n",
       "      <th>2</th>\n",
       "      <td>2020-12-07</td>\n",
       "      <td>product_cart</td>\n",
       "      <td>A</td>\n",
       "      <td>35</td>\n",
       "    </tr>\n",
       "    <tr>\n",
       "      <th>3</th>\n",
       "      <td>2020-12-07</td>\n",
       "      <td>product_cart</td>\n",
       "      <td>B</td>\n",
       "      <td>41</td>\n",
       "    </tr>\n",
       "    <tr>\n",
       "      <th>4</th>\n",
       "      <td>2020-12-07</td>\n",
       "      <td>product_page</td>\n",
       "      <td>A</td>\n",
       "      <td>92</td>\n",
       "    </tr>\n",
       "    <tr>\n",
       "      <th>5</th>\n",
       "      <td>2020-12-07</td>\n",
       "      <td>product_page</td>\n",
       "      <td>B</td>\n",
       "      <td>101</td>\n",
       "    </tr>\n",
       "  </tbody>\n",
       "</table>\n",
       "</div>"
      ],
      "text/plain": [
       "          day    event_name group  counts\n",
       "0  2020-12-07         login     A     148\n",
       "1  2020-12-07         login     B     155\n",
       "2  2020-12-07  product_cart     A      35\n",
       "3  2020-12-07  product_cart     B      41\n",
       "4  2020-12-07  product_page     A      92\n",
       "5  2020-12-07  product_page     B     101"
      ]
     },
     "metadata": {},
     "output_type": "display_data"
    }
   ],
   "source": [
    "#by days, per group\n",
    "events_per_day_group = data.groupby(['day','event_name','group']).agg({'user_id': 'count'}).reset_index()\n",
    "events_per_day_group.columns = ['day', 'event_name', 'group', 'counts']\n",
    "display(\"events_per_day_group\",events_per_day_group.head(6))"
   ]
  },
  {
   "cell_type": "code",
   "execution_count": 89,
   "id": "5c0edd57",
   "metadata": {
    "scrolled": false
   },
   "outputs": [
    {
     "data": {
      "image/png": "[encoded data removed]"
     },
     "metadata": {},
     "output_type": "display_data"
    }
   ],
   "source": [
    "#number of events per day\n",
    "fig = px.line(events_per_day_group.query('group == \"A\"'),x=\"day\", y=\"counts\",title='Number of events by day - group A', color=\"event_name\",\n",
    "              labels={\n",
    "                     \"day\": \"day\",\n",
    "                     \"event_name\": \"number of events\",\n",
    "                 })\n",
    "fig.show(\"png\")"
   ]
  },
  {
   "cell_type": "markdown",
   "id": "c1e4a141",
   "metadata": {},
   "source": [
    "**Look at this!** <br>\n",
    "Well, the distribution of the number of events by days for the group  A looks pretty much like the distribution for the two groups together. Nothing suspicious!"
   ]
  },
  {
   "cell_type": "code",
   "execution_count": 90,
   "id": "08c78a62",
   "metadata": {
    "scrolled": false
   },
   "outputs": [
    {
     "data": {
      "image/png": "[encoded data removed]"
     },
     "metadata": {},
     "output_type": "display_data"
    }
   ],
   "source": [
    "#number of events per day\n",
    "fig = px.line(events_per_day_group.query('group == \"B\"'),x=\"day\", y=\"counts\",title='Number of events by day - group B', color=\"event_name\",\n",
    "              labels={\n",
    "                     \"day\": \"day\",\n",
    "                     \"event_name\": \"number of events\",\n",
    "                 })\n",
    "fig.show(\"png\")"
   ]
  },
  {
   "cell_type": "markdown",
   "id": "821431bf",
   "metadata": {},
   "source": [
    "**Look at this!**<br>\n",
    "Well, the distribution of the number of events by days for the group  B looks different. Interesting!"
   ]
  },
  {
   "cell_type": "markdown",
   "id": "c45e462f",
   "metadata": {},
   "source": [
    "**Describing in detail the distribution of the events per days** <br>\n",
    "* Dec 3 until Dec 17 - We see a lot of positives and negative spicks!\n",
    "* Dec 18 until Dec 21 - The number of events increase day by day, while 21 is the day with the highest number of events ever.\n",
    "* Dec 22 until end of the experiment - The number of events decreases day by day! The number of events by day decreases day by day and reaches the lowest levels ever."
   ]
  },
  {
   "cell_type": "markdown",
   "id": "d5ed7e81",
   "metadata": {},
   "source": [
    "### analyzing if any marketing events overlap the date range of the test"
   ]
  },
  {
   "cell_type": "code",
   "execution_count": 91,
   "id": "307ea63a",
   "metadata": {
    "scrolled": true
   },
   "outputs": [],
   "source": [
    "def is_between(event_dt,start_dt,finish_dt):   \n",
    "    if start_dt <= event_dt <= finish_dt:\n",
    "        return True"
   ]
  },
  {
   "cell_type": "code",
   "execution_count": 92,
   "id": "17f308dd",
   "metadata": {
    "scrolled": true
   },
   "outputs": [],
   "source": [
    "def is_between_2(event_dt,row):   \n",
    "    for row in data:\n",
    "        if is_between(event_dt,row['start_dt'],row['finish_dt']):\n",
    "            return 'TRUE'"
   ]
  },
  {
   "cell_type": "code",
   "execution_count": 93,
   "id": "72b489a0",
   "metadata": {
    "scrolled": true
   },
   "outputs": [],
   "source": [
    "##data['is_in'] = data.apply(is_between_2, axis=1)"
   ]
  },
  {
   "cell_type": "code",
   "execution_count": 94,
   "id": "db97b9f7",
   "metadata": {
    "scrolled": true
   },
   "outputs": [],
   "source": [
    "min = ab_project_marketing_events['start_dt'].min()"
   ]
  },
  {
   "cell_type": "code",
   "execution_count": 95,
   "id": "9bb3a686",
   "metadata": {},
   "outputs": [
    {
     "data": {
      "text/html": [
       "<div>\n",
       "<style scoped>\n",
       "    .dataframe tbody tr th:only-of-type {\n",
       "        vertical-align: middle;\n",
       "    }\n",
       "\n",
       "    .dataframe tbody tr th {\n",
       "        vertical-align: top;\n",
       "    }\n",
       "\n",
       "    .dataframe thead th {\n",
       "        text-align: right;\n",
       "    }\n",
       "</style>\n",
       "<table border=\"1\" class=\"dataframe\">\n",
       "  <thead>\n",
       "    <tr style=\"text-align: right;\">\n",
       "      <th></th>\n",
       "      <th>name</th>\n",
       "      <th>regions</th>\n",
       "      <th>start_dt</th>\n",
       "      <th>finish_dt</th>\n",
       "    </tr>\n",
       "  </thead>\n",
       "  <tbody>\n",
       "    <tr>\n",
       "      <th>0</th>\n",
       "      <td>Christmas&amp;New Year Promo</td>\n",
       "      <td>EU, N.America</td>\n",
       "      <td>2020-12-25</td>\n",
       "      <td>2021-01-03</td>\n",
       "    </tr>\n",
       "    <tr>\n",
       "      <th>10</th>\n",
       "      <td>CIS New Year Gift Lottery</td>\n",
       "      <td>CIS</td>\n",
       "      <td>2020-12-30</td>\n",
       "      <td>2021-01-07</td>\n",
       "    </tr>\n",
       "  </tbody>\n",
       "</table>\n",
       "</div>"
      ],
      "text/plain": [
       "                         name        regions    start_dt   finish_dt\n",
       "0    Christmas&New Year Promo  EU, N.America  2020-12-25  2021-01-03\n",
       "10  CIS New Year Gift Lottery            CIS  2020-12-30  2021-01-07"
      ]
     },
     "execution_count": 95,
     "metadata": {},
     "output_type": "execute_result"
    }
   ],
   "source": [
    "# the reviewer's code\n",
    "ab_project_marketing_events.query('start_dt <= \"2020-12-30\" and finish_dt >= \"2020-12-07\"')"
   ]
  },
  {
   "cell_type": "code",
   "execution_count": 96,
   "id": "b8ef8657",
   "metadata": {},
   "outputs": [],
   "source": [
    "# the reviewer's code\n",
    "data['is_in'] = data.apply(lambda x: True if \\\n",
    "                   (x['event_dt'] >= pd.Timestamp('2020-12-25') \\\n",
    "                  and x['event_dt'] <= pd.Timestamp('2021-01-03')) \\\n",
    "                          else False, axis = 1)"
   ]
  },
  {
   "cell_type": "code",
   "execution_count": 97,
   "id": "12d577e4",
   "metadata": {},
   "outputs": [],
   "source": [
    "# the reviewer's code\n",
    "range_min = ab_project_marketing_events.query('start_dt <= \"2020-12-30\" and \\\n",
    "                            finish_dt >= \"2020-12-07\" and \\\n",
    "                            regions.str.contains(\"EU\")', engine = 'python').start_dt.min()\n",
    "range_max = ab_project_marketing_events.query('start_dt <= \"2020-12-30\" and \\\n",
    "                            finish_dt >= \"2020-12-07\" and \\\n",
    "                            regions.str.contains(\"EU\")', engine = 'python').finish_dt.min()\n",
    "\n",
    "data['is_in'] = data.apply(lambda x: True if \\\n",
    "                   (x['event_dt'] >= pd.Timestamp(range_min) \\\n",
    "                  and x['event_dt'] <= pd.Timestamp(range_max)) \\\n",
    "                          else False, axis = 1)"
   ]
  },
  {
   "cell_type": "code",
   "execution_count": 98,
   "id": "dbd9b9fe",
   "metadata": {},
   "outputs": [
    {
     "data": {
      "text/html": [
       "<div>\n",
       "<style scoped>\n",
       "    .dataframe tbody tr th:only-of-type {\n",
       "        vertical-align: middle;\n",
       "    }\n",
       "\n",
       "    .dataframe tbody tr th {\n",
       "        vertical-align: top;\n",
       "    }\n",
       "\n",
       "    .dataframe thead th {\n",
       "        text-align: right;\n",
       "    }\n",
       "</style>\n",
       "<table border=\"1\" class=\"dataframe\">\n",
       "  <thead>\n",
       "    <tr style=\"text-align: right;\">\n",
       "      <th></th>\n",
       "      <th>user_id</th>\n",
       "      <th>first_date</th>\n",
       "      <th>region</th>\n",
       "      <th>device</th>\n",
       "      <th>event_dt</th>\n",
       "      <th>event_name</th>\n",
       "      <th>details</th>\n",
       "      <th>group</th>\n",
       "      <th>ab_test</th>\n",
       "      <th>day</th>\n",
       "      <th>is_in</th>\n",
       "    </tr>\n",
       "  </thead>\n",
       "  <tbody>\n",
       "    <tr>\n",
       "      <th>38717</th>\n",
       "      <td>3FA3E2FF739D5706</td>\n",
       "      <td>2020-12-15</td>\n",
       "      <td>EU</td>\n",
       "      <td>PC</td>\n",
       "      <td>2020-12-27 20:01:50</td>\n",
       "      <td>purchase</td>\n",
       "      <td>9.99</td>\n",
       "      <td>A</td>\n",
       "      <td>recommender_system_test</td>\n",
       "      <td>2020-12-27</td>\n",
       "      <td>True</td>\n",
       "    </tr>\n",
       "    <tr>\n",
       "      <th>10181</th>\n",
       "      <td>8025229CCC15FC7D</td>\n",
       "      <td>2020-12-07</td>\n",
       "      <td>EU</td>\n",
       "      <td>Android</td>\n",
       "      <td>2020-12-07 04:48:55</td>\n",
       "      <td>login</td>\n",
       "      <td>NaN</td>\n",
       "      <td>B</td>\n",
       "      <td>recommender_system_test</td>\n",
       "      <td>2020-12-07</td>\n",
       "      <td>False</td>\n",
       "    </tr>\n",
       "  </tbody>\n",
       "</table>\n",
       "</div>"
      ],
      "text/plain": [
       "                user_id  first_date region   device            event_dt  \\\n",
       "38717  3FA3E2FF739D5706  2020-12-15     EU       PC 2020-12-27 20:01:50   \n",
       "10181  8025229CCC15FC7D  2020-12-07     EU  Android 2020-12-07 04:48:55   \n",
       "\n",
       "      event_name  details group                  ab_test         day  is_in  \n",
       "38717   purchase     9.99     A  recommender_system_test  2020-12-27   True  \n",
       "10181      login      NaN     B  recommender_system_test  2020-12-07  False  "
      ]
     },
     "execution_count": 98,
     "metadata": {},
     "output_type": "execute_result"
    }
   ],
   "source": [
    "#Let's see how the table looks now \n",
    "data.sample(2)"
   ]
  },
  {
   "cell_type": "code",
   "execution_count": 99,
   "id": "71a84bb0",
   "metadata": {},
   "outputs": [
    {
     "name": "stdout",
     "output_type": "stream",
     "text": [
      "Rows in table -> 2418\n"
     ]
    },
    {
     "data": {
      "text/html": [
       "<div>\n",
       "<style scoped>\n",
       "    .dataframe tbody tr th:only-of-type {\n",
       "        vertical-align: middle;\n",
       "    }\n",
       "\n",
       "    .dataframe tbody tr th {\n",
       "        vertical-align: top;\n",
       "    }\n",
       "\n",
       "    .dataframe thead th {\n",
       "        text-align: right;\n",
       "    }\n",
       "</style>\n",
       "<table border=\"1\" class=\"dataframe\">\n",
       "  <thead>\n",
       "    <tr style=\"text-align: right;\">\n",
       "      <th></th>\n",
       "      <th>user_id</th>\n",
       "      <th>first_date</th>\n",
       "      <th>region</th>\n",
       "      <th>device</th>\n",
       "      <th>event_dt</th>\n",
       "      <th>event_name</th>\n",
       "      <th>details</th>\n",
       "      <th>group</th>\n",
       "      <th>ab_test</th>\n",
       "      <th>day</th>\n",
       "      <th>is_in</th>\n",
       "    </tr>\n",
       "  </thead>\n",
       "  <tbody>\n",
       "    <tr>\n",
       "      <th>99597</th>\n",
       "      <td>001064FEAAB631A1</td>\n",
       "      <td>2020-12-20</td>\n",
       "      <td>EU</td>\n",
       "      <td>Android</td>\n",
       "      <td>2020-12-26 15:55:17</td>\n",
       "      <td>login</td>\n",
       "      <td>NaN</td>\n",
       "      <td>B</td>\n",
       "      <td>recommender_system_test</td>\n",
       "      <td>2020-12-26</td>\n",
       "      <td>True</td>\n",
       "    </tr>\n",
       "    <tr>\n",
       "      <th>99591</th>\n",
       "      <td>001064FEAAB631A1</td>\n",
       "      <td>2020-12-20</td>\n",
       "      <td>EU</td>\n",
       "      <td>Android</td>\n",
       "      <td>2020-12-26 15:55:18</td>\n",
       "      <td>product_page</td>\n",
       "      <td>NaN</td>\n",
       "      <td>B</td>\n",
       "      <td>recommender_system_test</td>\n",
       "      <td>2020-12-26</td>\n",
       "      <td>True</td>\n",
       "    </tr>\n",
       "  </tbody>\n",
       "</table>\n",
       "</div>"
      ],
      "text/plain": [
       "                user_id  first_date region   device            event_dt  \\\n",
       "99597  001064FEAAB631A1  2020-12-20     EU  Android 2020-12-26 15:55:17   \n",
       "99591  001064FEAAB631A1  2020-12-20     EU  Android 2020-12-26 15:55:18   \n",
       "\n",
       "         event_name  details group                  ab_test         day  is_in  \n",
       "99597         login      NaN     B  recommender_system_test  2020-12-26   True  \n",
       "99591  product_page      NaN     B  recommender_system_test  2020-12-26   True  "
      ]
     },
     "execution_count": 99,
     "metadata": {},
     "output_type": "execute_result"
    }
   ],
   "source": [
    "#Let's check wich events overlap with marketing events\n",
    "print(\"Rows in table -> {}\".format(len(data[data['is_in']==True])))\n",
    "data[data['is_in']==True].head(2)"
   ]
  },
  {
   "cell_type": "code",
   "execution_count": 100,
   "id": "0293362b",
   "metadata": {},
   "outputs": [
    {
     "name": "stdout",
     "output_type": "stream",
     "text": [
      "Around 10.664196877480816 % of the events overlap with the marketing event \"Christmas&New Year Promo\"\n"
     ]
    }
   ],
   "source": [
    "print('Around',len(data[data['is_in']==True])*100/len(data), '% of the events overlap with the marketing event \"Christmas&New Year Promo\"')"
   ]
  },
  {
   "cell_type": "code",
   "execution_count": 101,
   "id": "ccc37f45",
   "metadata": {},
   "outputs": [
    {
     "data": {
      "text/plain": [
       "group\n",
       "A    2019\n",
       "B     399\n",
       "Name: is_in, dtype: int64"
      ]
     },
     "execution_count": 101,
     "metadata": {},
     "output_type": "execute_result"
    }
   ],
   "source": [
    "#Cheking if these users are all of them part of the group B\n",
    "data[(data['is_in']==True)].groupby('group')['is_in'].count()"
   ]
  },
  {
   "cell_type": "code",
   "execution_count": 102,
   "id": "5ec60f87",
   "metadata": {},
   "outputs": [
    {
     "name": "stdout",
     "output_type": "stream",
     "text": [
      "Around 8.904472082561524 % of the events for group A overlap with the marketing event \"Christmas&New Year Promo\"\n"
     ]
    }
   ],
   "source": [
    "print('Around',len(data[(data['is_in']==True) & (data['group']=='A')])*100/len(data['group']=='A'), '% of the events for group A overlap with the marketing event \"Christmas&New Year Promo\"')"
   ]
  },
  {
   "cell_type": "code",
   "execution_count": 103,
   "id": "a71eb06f",
   "metadata": {},
   "outputs": [
    {
     "name": "stdout",
     "output_type": "stream",
     "text": [
      "Around 1.759724794919291 % of the events for group B overlap with the marketing event \"Christmas&New Year Promo\"\n"
     ]
    }
   ],
   "source": [
    "print('Around',len(data[(data['is_in']==True) & (data['group']=='B')])*100/len(data['group']=='B'), '% of the events for group B overlap with the marketing event \"Christmas&New Year Promo\"')"
   ]
  },
  {
   "cell_type": "markdown",
   "id": "4dbc2592",
   "metadata": {},
   "source": [
    "This explains a lot of things! <br>\n",
    "We can see that 11% percent of the events for group A occur between 2020-12-25 and 2021-01-03, so they were affected by the marketing event \"Christmas&New Year Promo\", and for these reason we see a nice positive pick at Dec 14! And of course, we see in general a rise in events after these date, something we don't fo real see for group B."
   ]
  },
  {
   "cell_type": "markdown",
   "id": "1eef5629",
   "metadata": {},
   "source": [
    "## Thinking on the possible details in the data that we have to take into account before starting the A/B test"
   ]
  },
  {
   "cell_type": "markdown",
   "id": "997e6602",
   "metadata": {},
   "source": [
    "The test procedure, called the two-proportion z-test, is appropriate when the following conditions are met:\n",
    "1. The samples are independent, and they are!\n",
    "2. Each sample includes at least 10 successes and 10 failures, and this is right in our case!.\n",
    "3. Each population is at least 20 times as big as its sample. And here we are not sure if we are okay. We know that the audience is 15% of the new users from the EU region. So if our population is all the new users for the EU region we are in problems, but! If our population is ALL the users from EU region we are okay!\n",
    "\n",
    "\n",
    "About the samples's size! We used a samples size calculator and we saw that the number of participants in our test is not enough to interpret the results correctly with high power. But we'll try anyway!"
   ]
  },
  {
   "cell_type": "markdown",
   "id": "8bcdfae4",
   "metadata": {},
   "source": [
    "# Evaluating the A/B test results"
   ]
  },
  {
   "cell_type": "markdown",
   "id": "94adc781",
   "metadata": {},
   "source": [
    "## What can you tell about the A/A test results?\n",
    "Or about whether we can run an A/A test or not?"
   ]
  },
  {
   "cell_type": "markdown",
   "id": "bf9b225a",
   "metadata": {},
   "source": [
    "Well, based on the projectdescription, we should not run the A/A test.\n",
    "\n",
    "However, we could run the A/A test here because we have more users within Group A rather than Group B."
   ]
  },
  {
   "cell_type": "markdown",
   "id": "e78e50e2",
   "metadata": {},
   "source": [
    "**doing sampling from group A , creating 2 A groups**"
   ]
  },
  {
   "cell_type": "code",
   "execution_count": 104,
   "id": "a3363c1d",
   "metadata": {
    "scrolled": true
   },
   "outputs": [
    {
     "data": {
      "text/plain": [
       "2604"
      ]
     },
     "metadata": {},
     "output_type": "display_data"
    },
    {
     "data": {
      "text/plain": [
       "1302"
      ]
     },
     "metadata": {},
     "output_type": "display_data"
    },
    {
     "data": {
      "text/plain": [
       "1302"
      ]
     },
     "metadata": {},
     "output_type": "display_data"
    },
    {
     "data": {
      "text/plain": [
       "1302"
      ]
     },
     "metadata": {},
     "output_type": "display_data"
    },
    {
     "data": {
      "text/plain": [
       "1302"
      ]
     },
     "metadata": {},
     "output_type": "display_data"
    }
   ],
   "source": [
    "# the reviewer's code:\n",
    "\n",
    "# make the data sets with unique users:\n",
    "uniq_users_A = data.query('group == \"A\"')[['user_id']].drop_duplicates()\n",
    "\n",
    "# let's check their number:\n",
    "display(len(uniq_users_A))\n",
    "\n",
    "# let's separate the users by 50/50:\n",
    "group_A1 = uniq_users_A.sample(frac=0.5, random_state=200)\n",
    "group_A2 = uniq_users_A.drop(group_A1.index)\n",
    "\n",
    "# let's check the results:\n",
    "display(len(group_A1))\n",
    "display(len(group_A2))\n",
    "\n",
    "# after that prepare the whole datasets for these groups:\n",
    "group_A1 = group_A1.merge(data, on = 'user_id', how = 'inner')\n",
    "group_A2 = group_A2.merge(data, on = 'user_id', how = 'inner')\n",
    "\n",
    "# let's check the results:\n",
    "display(group_A1.user_id.nunique())\n",
    "display(group_A2.user_id.nunique())\n",
    "\n",
    "# after that we could make common dataset"
   ]
  },
  {
   "cell_type": "code",
   "execution_count": 105,
   "id": "7878edfd",
   "metadata": {
    "scrolled": false
   },
   "outputs": [],
   "source": [
    "# the reviewer's code:\n",
    "\n",
    "# also we could use this approach:\n",
    "test = data.copy() \n",
    "group_A1 = data.query('group == \"A\"')[['user_id']].drop_duplicates().sample(frac=0.5, random_state=200)\n",
    "\n",
    "def AAB_test_group(row):\n",
    "    if row['user_id'] in group_A1.user_id.unique():\n",
    "        return \"A2\"\n",
    "    return row['group']\n",
    "\n",
    "test['AAB_group']  = test.apply(AAB_test_group, axis = 1)"
   ]
  },
  {
   "cell_type": "code",
   "execution_count": 106,
   "id": "c5227d9d",
   "metadata": {
    "scrolled": true
   },
   "outputs": [
    {
     "data": {
      "text/html": [
       "<div>\n",
       "<style scoped>\n",
       "    .dataframe tbody tr th:only-of-type {\n",
       "        vertical-align: middle;\n",
       "    }\n",
       "\n",
       "    .dataframe tbody tr th {\n",
       "        vertical-align: top;\n",
       "    }\n",
       "\n",
       "    .dataframe thead th {\n",
       "        text-align: right;\n",
       "    }\n",
       "</style>\n",
       "<table border=\"1\" class=\"dataframe\">\n",
       "  <thead>\n",
       "    <tr style=\"text-align: right;\">\n",
       "      <th></th>\n",
       "      <th>AAB_group</th>\n",
       "      <th>user_id</th>\n",
       "    </tr>\n",
       "  </thead>\n",
       "  <tbody>\n",
       "    <tr>\n",
       "      <th>0</th>\n",
       "      <td>A</td>\n",
       "      <td>1302</td>\n",
       "    </tr>\n",
       "    <tr>\n",
       "      <th>1</th>\n",
       "      <td>A2</td>\n",
       "      <td>1302</td>\n",
       "    </tr>\n",
       "    <tr>\n",
       "      <th>2</th>\n",
       "      <td>B</td>\n",
       "      <td>877</td>\n",
       "    </tr>\n",
       "  </tbody>\n",
       "</table>\n",
       "</div>"
      ],
      "text/plain": [
       "  AAB_group  user_id\n",
       "0         A     1302\n",
       "1        A2     1302\n",
       "2         B      877"
      ]
     },
     "metadata": {},
     "output_type": "display_data"
    },
    {
     "data": {
      "text/html": [
       "<div>\n",
       "<style scoped>\n",
       "    .dataframe tbody tr th:only-of-type {\n",
       "        vertical-align: middle;\n",
       "    }\n",
       "\n",
       "    .dataframe tbody tr th {\n",
       "        vertical-align: top;\n",
       "    }\n",
       "\n",
       "    .dataframe thead th {\n",
       "        text-align: right;\n",
       "    }\n",
       "</style>\n",
       "<table border=\"1\" class=\"dataframe\">\n",
       "  <thead>\n",
       "    <tr style=\"text-align: right;\">\n",
       "      <th>AAB_group</th>\n",
       "      <th>event_name</th>\n",
       "      <th>A</th>\n",
       "      <th>A2</th>\n",
       "      <th>B</th>\n",
       "    </tr>\n",
       "  </thead>\n",
       "  <tbody>\n",
       "    <tr>\n",
       "      <th>0</th>\n",
       "      <td>login</td>\n",
       "      <td>1302</td>\n",
       "      <td>1302</td>\n",
       "      <td>876</td>\n",
       "    </tr>\n",
       "    <tr>\n",
       "      <th>1</th>\n",
       "      <td>product_cart</td>\n",
       "      <td>397</td>\n",
       "      <td>385</td>\n",
       "      <td>244</td>\n",
       "    </tr>\n",
       "    <tr>\n",
       "      <th>2</th>\n",
       "      <td>product_page</td>\n",
       "      <td>843</td>\n",
       "      <td>842</td>\n",
       "      <td>493</td>\n",
       "    </tr>\n",
       "    <tr>\n",
       "      <th>3</th>\n",
       "      <td>purchase</td>\n",
       "      <td>418</td>\n",
       "      <td>415</td>\n",
       "      <td>249</td>\n",
       "    </tr>\n",
       "  </tbody>\n",
       "</table>\n",
       "</div>"
      ],
      "text/plain": [
       "AAB_group    event_name     A    A2    B\n",
       "0                 login  1302  1302  876\n",
       "1          product_cart   397   385  244\n",
       "2          product_page   843   842  493\n",
       "3              purchase   418   415  249"
      ]
     },
     "metadata": {},
     "output_type": "display_data"
    }
   ],
   "source": [
    "# let's check:\n",
    "test_group = test.groupby('AAB_group').agg({'user_id' : 'nunique'}).reset_index()\n",
    "\n",
    "test_group_events = test.pivot_table(columns = 'AAB_group', values='user_id', index='event_name',aggfunc=pd.Series.nunique).reset_index()\n",
    "\n",
    "display(test_group)\n",
    "display(test_group_events)"
   ]
  },
  {
   "cell_type": "markdown",
   "id": "26352ebc",
   "metadata": {},
   "source": [
    "**In general:** <br>\n",
    "**What are we actually checking? Whether there is a statistical difference in conversion aka proportion. For example: \"Is the share of users (from all users in the test) that had \"product_cart event of one control group is statistically different from another?\"**\n",
    "\n",
    "\n",
    "**Formulating the null and alternative hypothesis:**<br>\n",
    "**H0: The proportions of sample1 and sample2 samples are equal.**<br>\n",
    "**H1: The proportions of sample1 and sample2 samples are not equal.**"
   ]
  },
  {
   "cell_type": "markdown",
   "id": "8f64800d",
   "metadata": {},
   "source": [
    "**Testing the hypothesis that proportions of sample1 and sample2 samples are equal:**<br>\n",
    "**Python doesn't have a standard test for this, so we'll write one ourselves.**\n",
    "\n",
    "**successes : the number of events - event_nums**<br>\n",
    "**Knowing the event name and the name of the group, we can access any value of success from our pivot table for any event.**<br>\n",
    "\n",
    "**trials : the number of users in the group - users_nums<br>\n",
    "Keep in mind that value of trials will always be the same - the number of users in the groups.<br>\n",
    "We will take the values from the table we made in the previous question : test_group.**"
   ]
  },
  {
   "cell_type": "markdown",
   "id": "2c5be2d8",
   "metadata": {},
   "source": [
    "In general, we will provide eight tests, so we should use the correction as 0.05/8. However,  the A/A is not necessary based on the project description and we are doing it fun, so that we could provide only for tests for the A and A2 groups."
   ]
  },
  {
   "cell_type": "markdown",
   "id": "4ed6e7b4",
   "metadata": {},
   "source": [
    "**Building the function - z_test**"
   ]
  },
  {
   "cell_type": "code",
   "execution_count": 107,
   "id": "cd0e82f3",
   "metadata": {
    "scrolled": true
   },
   "outputs": [],
   "source": [
    "def z_test(event_name, trials, successes):\n",
    "    alpha = .05 # significance level\n",
    "    alpha = alpha/4 # significance level after correction\n",
    "    \n",
    "    print(event_name)\n",
    "\n",
    "    # success proportion in the first group:\n",
    "    p1 = successes[0]/trials[0]\n",
    "\n",
    "    # success proportion in the second group:\n",
    "    p2 = successes[1]/trials[1]\n",
    "\n",
    "    # success proportion in the combined dataset:\n",
    "    p_combined = (successes[0] + successes[1]) / (trials[0] + trials[1])\n",
    "\n",
    "    # the difference between the datasets' proportions\n",
    "    difference = p1 - p2 \n",
    "    \n",
    "    # calculating the statistic in standard deviations of the standard normal distribution\n",
    "    z_value = difference / mth.sqrt(p_combined * (1 - p_combined) * (1/trials[0] + 1/trials[1]))\n",
    "    \n",
    "    # setting up the standard normal distribution (mean 0, standard deviation 1)\n",
    "    distr = stats.norm(0, 1)   \n",
    "    \n",
    "    p_value = (1 - distr.cdf(abs(z_value))) * 2\n",
    "\n",
    "    \n",
    "    print(successes[0],successes[1],trials[0],trials[1])\n",
    "    print('p-value: ', p_value)\n",
    "\n",
    "    if (p_value < alpha):\n",
    "        print(\"Rejecting the null hypothesis: there is a significant difference between the proportions\")\n",
    "    else:\n",
    "        print(\"Failed to reject the null hypothesis: there is no reason to consider the proportions different\") \n",
    "    print('-' * 100)"
   ]
  },
  {
   "cell_type": "markdown",
   "id": "641f7c58",
   "metadata": {},
   "source": [
    "### A/A testing "
   ]
  },
  {
   "cell_type": "markdown",
   "id": "83cbff95",
   "metadata": {},
   "source": [
    "Now, it's the moment to use our function and check the null hypothesis. <br>\n",
    "We are running first a A/A test, so we are checking if the proportions between groups A and A2 are equals."
   ]
  },
  {
   "cell_type": "markdown",
   "id": "096b556b",
   "metadata": {},
   "source": [
    "**Formulating the null and alternative hypothesis**<br>\n",
    "H0: The proportions of A and A2 are equal.<br>\n",
    "H1: The proportions of A and A2 are not equal.<br>"
   ]
  },
  {
   "cell_type": "markdown",
   "id": "b98282af",
   "metadata": {},
   "source": [
    "**trials -  the number of unique users by group**"
   ]
  },
  {
   "cell_type": "code",
   "execution_count": 108,
   "id": "71c50b72",
   "metadata": {
    "scrolled": true
   },
   "outputs": [
    {
     "data": {
      "text/html": [
       "<div>\n",
       "<style scoped>\n",
       "    .dataframe tbody tr th:only-of-type {\n",
       "        vertical-align: middle;\n",
       "    }\n",
       "\n",
       "    .dataframe tbody tr th {\n",
       "        vertical-align: top;\n",
       "    }\n",
       "\n",
       "    .dataframe thead th {\n",
       "        text-align: right;\n",
       "    }\n",
       "</style>\n",
       "<table border=\"1\" class=\"dataframe\">\n",
       "  <thead>\n",
       "    <tr style=\"text-align: right;\">\n",
       "      <th></th>\n",
       "      <th>AAB_group</th>\n",
       "      <th>user_id</th>\n",
       "    </tr>\n",
       "  </thead>\n",
       "  <tbody>\n",
       "    <tr>\n",
       "      <th>0</th>\n",
       "      <td>A</td>\n",
       "      <td>1302</td>\n",
       "    </tr>\n",
       "    <tr>\n",
       "      <th>1</th>\n",
       "      <td>A2</td>\n",
       "      <td>1302</td>\n",
       "    </tr>\n",
       "    <tr>\n",
       "      <th>2</th>\n",
       "      <td>B</td>\n",
       "      <td>877</td>\n",
       "    </tr>\n",
       "  </tbody>\n",
       "</table>\n",
       "</div>"
      ],
      "text/plain": [
       "  AAB_group  user_id\n",
       "0         A     1302\n",
       "1        A2     1302\n",
       "2         B      877"
      ]
     },
     "execution_count": 108,
     "metadata": {},
     "output_type": "execute_result"
    }
   ],
   "source": [
    "#taking a look at the table test_group\n",
    "test_group"
   ]
  },
  {
   "cell_type": "code",
   "execution_count": 109,
   "id": "dd1c7904",
   "metadata": {
    "scrolled": true
   },
   "outputs": [],
   "source": [
    "#making 2 variables, for the number of unique users for each group/ trials\n",
    "trials_A = test_group[test_group['AAB_group']=='A']['user_id'].to_list()\n",
    "trials_A2 = test_group[test_group['AAB_group']=='A2']['user_id'].to_list()\n",
    "trials_B = test_group[test_group['AAB_group']=='B']['user_id'].to_list()"
   ]
  },
  {
   "cell_type": "markdown",
   "id": "7adeb7a8",
   "metadata": {},
   "source": [
    "**successes : the number of events by group** <br>\n",
    "We are Using iloc method to get the number of events by group using the index for columns and rows. Use the table to know the index of the columns and rows we need."
   ]
  },
  {
   "cell_type": "code",
   "execution_count": 110,
   "id": "df2d1ab8",
   "metadata": {
    "scrolled": true
   },
   "outputs": [
    {
     "data": {
      "text/html": [
       "<div>\n",
       "<style scoped>\n",
       "    .dataframe tbody tr th:only-of-type {\n",
       "        vertical-align: middle;\n",
       "    }\n",
       "\n",
       "    .dataframe tbody tr th {\n",
       "        vertical-align: top;\n",
       "    }\n",
       "\n",
       "    .dataframe thead th {\n",
       "        text-align: right;\n",
       "    }\n",
       "</style>\n",
       "<table border=\"1\" class=\"dataframe\">\n",
       "  <thead>\n",
       "    <tr style=\"text-align: right;\">\n",
       "      <th>AAB_group</th>\n",
       "      <th>event_name</th>\n",
       "      <th>A</th>\n",
       "      <th>A2</th>\n",
       "      <th>B</th>\n",
       "    </tr>\n",
       "  </thead>\n",
       "  <tbody>\n",
       "    <tr>\n",
       "      <th>0</th>\n",
       "      <td>login</td>\n",
       "      <td>1302</td>\n",
       "      <td>1302</td>\n",
       "      <td>876</td>\n",
       "    </tr>\n",
       "    <tr>\n",
       "      <th>1</th>\n",
       "      <td>product_cart</td>\n",
       "      <td>397</td>\n",
       "      <td>385</td>\n",
       "      <td>244</td>\n",
       "    </tr>\n",
       "    <tr>\n",
       "      <th>2</th>\n",
       "      <td>product_page</td>\n",
       "      <td>843</td>\n",
       "      <td>842</td>\n",
       "      <td>493</td>\n",
       "    </tr>\n",
       "    <tr>\n",
       "      <th>3</th>\n",
       "      <td>purchase</td>\n",
       "      <td>418</td>\n",
       "      <td>415</td>\n",
       "      <td>249</td>\n",
       "    </tr>\n",
       "  </tbody>\n",
       "</table>\n",
       "</div>"
      ],
      "text/plain": [
       "AAB_group    event_name     A    A2    B\n",
       "0                 login  1302  1302  876\n",
       "1          product_cart   397   385  244\n",
       "2          product_page   843   842  493\n",
       "3              purchase   418   415  249"
      ]
     },
     "execution_count": 110,
     "metadata": {},
     "output_type": "execute_result"
    }
   ],
   "source": [
    "test_group_events"
   ]
  },
  {
   "cell_type": "code",
   "execution_count": 111,
   "id": "a4643681",
   "metadata": {
    "scrolled": false
   },
   "outputs": [
    {
     "name": "stdout",
     "output_type": "stream",
     "text": [
      "login\n",
      "1302 1302 1302 1302\n",
      "p-value:  nan\n",
      "Failed to reject the null hypothesis: there is no reason to consider the proportions different\n",
      "----------------------------------------------------------------------------------------------------\n",
      "product_cart\n",
      "397 385 1302 1302\n",
      "p-value:  0.6079456953236051\n",
      "Failed to reject the null hypothesis: there is no reason to consider the proportions different\n",
      "----------------------------------------------------------------------------------------------------\n",
      "product_page\n",
      "843 842 1302 1302\n",
      "p-value:  0.9672899552924821\n",
      "Failed to reject the null hypothesis: there is no reason to consider the proportions different\n",
      "----------------------------------------------------------------------------------------------------\n",
      "purchase\n",
      "418 415 1302 1302\n",
      "p-value:  0.899699901200381\n",
      "Failed to reject the null hypothesis: there is no reason to consider the proportions different\n",
      "----------------------------------------------------------------------------------------------------\n"
     ]
    },
    {
     "name": "stderr",
     "output_type": "stream",
     "text": [
      "<ipython-input-107-665243fef43d>:20: RuntimeWarning:\n",
      "\n",
      "invalid value encountered in double_scalars\n",
      "\n"
     ]
    }
   ],
   "source": [
    "#running the Z test for samples A and A2!\n",
    "for i in range(len(test_group_events)):\n",
    "    event_name = test_group_events.iloc[i,0]\n",
    "    trials = [trials_A[0], trials_A2[0]]\n",
    "    successes = [test_group_events.iloc[i,1], test_group_events.iloc[i,2]]\n",
    "    z_test(event_name, trials, successes)    "
   ]
  },
  {
   "cell_type": "markdown",
   "id": "c0ea5e3a",
   "metadata": {},
   "source": [
    "**What do we have?** <br>\n",
    "There is not reason to consider the proportions different. These means our A/A test gone good! Perfect!, we can continue with our A/B testing!"
   ]
  },
  {
   "cell_type": "markdown",
   "id": "a010ed91",
   "metadata": {},
   "source": [
    "## Use the z-criterion to check the statistical difference between the proportions"
   ]
  },
  {
   "cell_type": "markdown",
   "id": "97a175f6",
   "metadata": {},
   "source": [
    "**Yes, we are talking about doing an A/B test!<br>\n",
    "How are we doing the test? Using the function we just made!**<br>\n",
    "\n",
    "**What do we want to analyze?**<br>\n",
    "* Equality of proportions of populations - A and B"
   ]
  },
  {
   "cell_type": "markdown",
   "id": "896274f0",
   "metadata": {},
   "source": [
    "**Formulating the null and alternative hypothesis:**<br>\n",
    "**H0: The proportions of A and B are equal.**<br>\n",
    "**H1: The proportions of A and B are not equal.**"
   ]
  },
  {
   "cell_type": "markdown",
   "id": "30440827",
   "metadata": {},
   "source": [
    "In general, we have provided the eight tests, so we should use the correction as 0.05/8. However, the A/A was not necessary based on the project description and we did it for fun, so that we could provide only for tests for the A and B groups."
   ]
  },
  {
   "cell_type": "code",
   "execution_count": 112,
   "id": "5a83cbb7",
   "metadata": {
    "scrolled": true
   },
   "outputs": [
    {
     "data": {
      "text/html": [
       "<div>\n",
       "<style scoped>\n",
       "    .dataframe tbody tr th:only-of-type {\n",
       "        vertical-align: middle;\n",
       "    }\n",
       "\n",
       "    .dataframe tbody tr th {\n",
       "        vertical-align: top;\n",
       "    }\n",
       "\n",
       "    .dataframe thead th {\n",
       "        text-align: right;\n",
       "    }\n",
       "</style>\n",
       "<table border=\"1\" class=\"dataframe\">\n",
       "  <thead>\n",
       "    <tr style=\"text-align: right;\">\n",
       "      <th></th>\n",
       "      <th>group</th>\n",
       "      <th>user_id</th>\n",
       "    </tr>\n",
       "  </thead>\n",
       "  <tbody>\n",
       "    <tr>\n",
       "      <th>0</th>\n",
       "      <td>A</td>\n",
       "      <td>2604</td>\n",
       "    </tr>\n",
       "    <tr>\n",
       "      <th>1</th>\n",
       "      <td>B</td>\n",
       "      <td>877</td>\n",
       "    </tr>\n",
       "  </tbody>\n",
       "</table>\n",
       "</div>"
      ],
      "text/plain": [
       "  group  user_id\n",
       "0     A     2604\n",
       "1     B      877"
      ]
     },
     "metadata": {},
     "output_type": "display_data"
    },
    {
     "data": {
      "text/html": [
       "<div>\n",
       "<style scoped>\n",
       "    .dataframe tbody tr th:only-of-type {\n",
       "        vertical-align: middle;\n",
       "    }\n",
       "\n",
       "    .dataframe tbody tr th {\n",
       "        vertical-align: top;\n",
       "    }\n",
       "\n",
       "    .dataframe thead th {\n",
       "        text-align: right;\n",
       "    }\n",
       "</style>\n",
       "<table border=\"1\" class=\"dataframe\">\n",
       "  <thead>\n",
       "    <tr style=\"text-align: right;\">\n",
       "      <th>group</th>\n",
       "      <th>event_name</th>\n",
       "      <th>A</th>\n",
       "      <th>B</th>\n",
       "    </tr>\n",
       "  </thead>\n",
       "  <tbody>\n",
       "    <tr>\n",
       "      <th>0</th>\n",
       "      <td>login</td>\n",
       "      <td>2604</td>\n",
       "      <td>876</td>\n",
       "    </tr>\n",
       "    <tr>\n",
       "      <th>1</th>\n",
       "      <td>product_cart</td>\n",
       "      <td>782</td>\n",
       "      <td>244</td>\n",
       "    </tr>\n",
       "    <tr>\n",
       "      <th>2</th>\n",
       "      <td>product_page</td>\n",
       "      <td>1685</td>\n",
       "      <td>493</td>\n",
       "    </tr>\n",
       "    <tr>\n",
       "      <th>3</th>\n",
       "      <td>purchase</td>\n",
       "      <td>833</td>\n",
       "      <td>249</td>\n",
       "    </tr>\n",
       "  </tbody>\n",
       "</table>\n",
       "</div>"
      ],
      "text/plain": [
       "group    event_name     A    B\n",
       "0             login  2604  876\n",
       "1      product_cart   782  244\n",
       "2      product_page  1685  493\n",
       "3          purchase   833  249"
      ]
     },
     "metadata": {},
     "output_type": "display_data"
    }
   ],
   "source": [
    "# let's make the tables we need!\n",
    "test_group_ab = data.groupby('group').agg({'user_id' : 'nunique'}).reset_index()\n",
    "\n",
    "test_group_events_ab = data.pivot_table(columns = 'group', values='user_id', index='event_name',aggfunc=pd.Series.nunique).reset_index()\n",
    "\n",
    "display(test_group_ab)\n",
    "display(test_group_events_ab)"
   ]
  },
  {
   "cell_type": "code",
   "execution_count": 113,
   "id": "54d0dd29",
   "metadata": {
    "scrolled": true
   },
   "outputs": [],
   "source": [
    "#making 2 variables, for the number of unique users for each group/ trials\n",
    "trials_A = test_group_ab[test_group_ab['group']=='A']['user_id'].to_list()\n",
    "trials_B = test_group_ab[test_group_ab['group']=='B']['user_id'].to_list()"
   ]
  },
  {
   "cell_type": "code",
   "execution_count": 114,
   "id": "583dd68f",
   "metadata": {
    "scrolled": false
   },
   "outputs": [
    {
     "name": "stdout",
     "output_type": "stream",
     "text": [
      "login\n",
      "2604 876 2604 877\n",
      "p-value:  0.08481837035887363\n",
      "Failed to reject the null hypothesis: there is no reason to consider the proportions different\n",
      "----------------------------------------------------------------------------------------------------\n",
      "product_cart\n",
      "782 244 2604 877\n",
      "p-value:  0.21469192029582396\n",
      "Failed to reject the null hypothesis: there is no reason to consider the proportions different\n",
      "----------------------------------------------------------------------------------------------------\n",
      "product_page\n",
      "1685 493 2604 877\n",
      "p-value:  6.942739359416805e-06\n",
      "Rejecting the null hypothesis: there is a significant difference between the proportions\n",
      "----------------------------------------------------------------------------------------------------\n",
      "purchase\n",
      "833 249 2604 877\n",
      "p-value:  0.04652482738393027\n",
      "Failed to reject the null hypothesis: there is no reason to consider the proportions different\n",
      "----------------------------------------------------------------------------------------------------\n"
     ]
    }
   ],
   "source": [
    "#running the Z test for A A and B!\n",
    "for i in range(len(test_group_events_ab)):\n",
    "    event_name = test_group_events_ab.iloc[i,0]\n",
    "    trials = [trials_A[0],trials_B[0]]\n",
    "    successes = [test_group_events_ab.iloc[i,1], test_group_events_ab.iloc[i,2]]\n",
    "    z_test(event_name, trials, successes)   "
   ]
  },
  {
   "cell_type": "markdown",
   "id": "f6d6b181",
   "metadata": {},
   "source": [
    "**What do we have?** <br>\n",
    "There is not reason to consider the proportions different for almost all the convertion stages. There is a stadistical difference in the proportions only for the product_page stage, but we already know that this stage is not so relevant for our funnel. These means the changes we made did not affect the customer behavior!"
   ]
  },
  {
   "cell_type": "markdown",
   "id": "1e0b07c9",
   "metadata": {},
   "source": [
    "# The Big Picture Thus Far"
   ]
  },
  {
   "cell_type": "markdown",
   "id": "01abb5c6",
   "metadata": {},
   "source": [
    "The expected result was that users will show better conversion into product page views (the product_page event), product card views (product_card) and purchases (purchase). At each of the stage of the funnel product_page → product_card → purchase, there will be at least a 10% decrease. After running the A/B test we can conclude that a better conversion was not recorded and the result was not as expected. Any way, we must remember the samples sizes are not big enough! There is no way to make a good conclusion "
   ]
  }
 ],
 "metadata": {
  "ExecuteTimeLog": [
   {
    "duration": 1308,
    "start_time": "2021-11-07T09:00:58.080Z"
   },
   {
    "duration": 533,
    "start_time": "2021-11-07T09:00:59.391Z"
   },
   {
    "duration": -649,
    "start_time": "2021-11-07T09:01:00.579Z"
   },
   {
    "duration": -651,
    "start_time": "2021-11-07T09:01:00.583Z"
   },
   {
    "duration": -652,
    "start_time": "2021-11-07T09:01:00.586Z"
   },
   {
    "duration": -655,
    "start_time": "2021-11-07T09:01:00.590Z"
   },
   {
    "duration": -664,
    "start_time": "2021-11-07T09:01:00.601Z"
   },
   {
    "duration": -668,
    "start_time": "2021-11-07T09:01:00.606Z"
   },
   {
    "duration": -673,
    "start_time": "2021-11-07T09:01:00.613Z"
   },
   {
    "duration": -678,
    "start_time": "2021-11-07T09:01:00.620Z"
   },
   {
    "duration": -685,
    "start_time": "2021-11-07T09:01:00.628Z"
   },
   {
    "duration": -691,
    "start_time": "2021-11-07T09:01:00.635Z"
   },
   {
    "duration": -692,
    "start_time": "2021-11-07T09:01:00.638Z"
   },
   {
    "duration": -693,
    "start_time": "2021-11-07T09:01:00.640Z"
   },
   {
    "duration": -694,
    "start_time": "2021-11-07T09:01:00.642Z"
   },
   {
    "duration": -694,
    "start_time": "2021-11-07T09:01:00.644Z"
   },
   {
    "duration": -695,
    "start_time": "2021-11-07T09:01:00.646Z"
   },
   {
    "duration": -697,
    "start_time": "2021-11-07T09:01:00.649Z"
   },
   {
    "duration": -699,
    "start_time": "2021-11-07T09:01:00.652Z"
   },
   {
    "duration": -705,
    "start_time": "2021-11-07T09:01:00.659Z"
   },
   {
    "duration": -705,
    "start_time": "2021-11-07T09:01:00.661Z"
   },
   {
    "duration": -706,
    "start_time": "2021-11-07T09:01:00.663Z"
   },
   {
    "duration": -709,
    "start_time": "2021-11-07T09:01:00.667Z"
   },
   {
    "duration": -713,
    "start_time": "2021-11-07T09:01:00.673Z"
   },
   {
    "duration": -715,
    "start_time": "2021-11-07T09:01:00.676Z"
   },
   {
    "duration": -716,
    "start_time": "2021-11-07T09:01:00.678Z"
   },
   {
    "duration": -720,
    "start_time": "2021-11-07T09:01:00.683Z"
   },
   {
    "duration": -720,
    "start_time": "2021-11-07T09:01:00.685Z"
   },
   {
    "duration": -721,
    "start_time": "2021-11-07T09:01:00.687Z"
   },
   {
    "duration": -722,
    "start_time": "2021-11-07T09:01:00.689Z"
   },
   {
    "duration": -740,
    "start_time": "2021-11-07T09:01:00.708Z"
   },
   {
    "duration": -689,
    "start_time": "2021-11-07T09:01:00.711Z"
   },
   {
    "duration": -689,
    "start_time": "2021-11-07T09:01:00.713Z"
   },
   {
    "duration": -691,
    "start_time": "2021-11-07T09:01:00.716Z"
   },
   {
    "duration": -692,
    "start_time": "2021-11-07T09:01:00.718Z"
   },
   {
    "duration": -691,
    "start_time": "2021-11-07T09:01:00.719Z"
   },
   {
    "duration": -697,
    "start_time": "2021-11-07T09:01:00.726Z"
   },
   {
    "duration": -751,
    "start_time": "2021-11-07T09:01:00.781Z"
   },
   {
    "duration": -811,
    "start_time": "2021-11-07T09:01:00.842Z"
   },
   {
    "duration": -812,
    "start_time": "2021-11-07T09:01:00.844Z"
   },
   {
    "duration": -812,
    "start_time": "2021-11-07T09:01:00.846Z"
   },
   {
    "duration": -813,
    "start_time": "2021-11-07T09:01:00.848Z"
   },
   {
    "duration": -813,
    "start_time": "2021-11-07T09:01:00.849Z"
   },
   {
    "duration": -813,
    "start_time": "2021-11-07T09:01:00.851Z"
   },
   {
    "duration": -814,
    "start_time": "2021-11-07T09:01:00.853Z"
   },
   {
    "duration": -815,
    "start_time": "2021-11-07T09:01:00.855Z"
   },
   {
    "duration": -819,
    "start_time": "2021-11-07T09:01:00.861Z"
   },
   {
    "duration": -821,
    "start_time": "2021-11-07T09:01:00.864Z"
   },
   {
    "duration": -822,
    "start_time": "2021-11-07T09:01:00.866Z"
   },
   {
    "duration": -832,
    "start_time": "2021-11-07T09:01:00.878Z"
   },
   {
    "duration": -844,
    "start_time": "2021-11-07T09:01:00.891Z"
   },
   {
    "duration": -845,
    "start_time": "2021-11-07T09:01:00.893Z"
   },
   {
    "duration": -845,
    "start_time": "2021-11-07T09:01:00.895Z"
   },
   {
    "duration": -846,
    "start_time": "2021-11-07T09:01:00.897Z"
   },
   {
    "duration": -847,
    "start_time": "2021-11-07T09:01:00.899Z"
   },
   {
    "duration": -847,
    "start_time": "2021-11-07T09:01:00.901Z"
   },
   {
    "duration": -847,
    "start_time": "2021-11-07T09:01:00.902Z"
   },
   {
    "duration": -847,
    "start_time": "2021-11-07T09:01:00.904Z"
   },
   {
    "duration": 25680,
    "start_time": "2021-11-07T10:45:22.062Z"
   },
   {
    "duration": 5,
    "start_time": "2021-11-07T10:59:24.290Z"
   },
   {
    "duration": 355,
    "start_time": "2021-11-07T10:59:25.113Z"
   },
   {
    "duration": 2033,
    "start_time": "2021-11-07T10:59:49.741Z"
   },
   {
    "duration": 4050,
    "start_time": "2021-11-07T11:01:22.171Z"
   },
   {
    "duration": 4731,
    "start_time": "2021-11-07T11:01:48.116Z"
   },
   {
    "duration": 2329,
    "start_time": "2021-11-07T11:03:27.118Z"
   },
   {
    "duration": 3,
    "start_time": "2021-11-07T11:03:38.567Z"
   },
   {
    "duration": 8955,
    "start_time": "2021-11-07T11:03:52.169Z"
   },
   {
    "duration": 1462,
    "start_time": "2021-11-07T11:04:01.130Z"
   },
   {
    "duration": 435,
    "start_time": "2021-11-07T11:04:02.595Z"
   },
   {
    "duration": 4,
    "start_time": "2021-11-07T11:04:03.034Z"
   },
   {
    "duration": 870,
    "start_time": "2021-11-07T11:04:03.043Z"
   },
   {
    "duration": 24,
    "start_time": "2021-11-07T11:04:03.916Z"
   },
   {
    "duration": 15,
    "start_time": "2021-11-07T11:04:03.943Z"
   },
   {
    "duration": 16,
    "start_time": "2021-11-07T11:04:03.961Z"
   },
   {
    "duration": 60,
    "start_time": "2021-11-07T11:04:03.982Z"
   },
   {
    "duration": 573,
    "start_time": "2021-11-07T11:04:04.047Z"
   },
   {
    "duration": -1067,
    "start_time": "2021-11-07T11:04:05.695Z"
   },
   {
    "duration": -1074,
    "start_time": "2021-11-07T11:04:05.705Z"
   },
   {
    "duration": -1077,
    "start_time": "2021-11-07T11:04:05.710Z"
   },
   {
    "duration": -1079,
    "start_time": "2021-11-07T11:04:05.714Z"
   },
   {
    "duration": -1079,
    "start_time": "2021-11-07T11:04:05.717Z"
   },
   {
    "duration": -1082,
    "start_time": "2021-11-07T11:04:05.722Z"
   },
   {
    "duration": -1083,
    "start_time": "2021-11-07T11:04:05.725Z"
   },
   {
    "duration": -1083,
    "start_time": "2021-11-07T11:04:05.727Z"
   },
   {
    "duration": -1084,
    "start_time": "2021-11-07T11:04:05.729Z"
   },
   {
    "duration": -1084,
    "start_time": "2021-11-07T11:04:05.731Z"
   },
   {
    "duration": -1085,
    "start_time": "2021-11-07T11:04:05.733Z"
   },
   {
    "duration": -1086,
    "start_time": "2021-11-07T11:04:05.735Z"
   },
   {
    "duration": -1088,
    "start_time": "2021-11-07T11:04:05.739Z"
   },
   {
    "duration": -1089,
    "start_time": "2021-11-07T11:04:05.741Z"
   },
   {
    "duration": -1091,
    "start_time": "2021-11-07T11:04:05.744Z"
   },
   {
    "duration": -1092,
    "start_time": "2021-11-07T11:04:05.746Z"
   },
   {
    "duration": -1129,
    "start_time": "2021-11-07T11:04:05.785Z"
   },
   {
    "duration": -1132,
    "start_time": "2021-11-07T11:04:05.789Z"
   },
   {
    "duration": -1134,
    "start_time": "2021-11-07T11:04:05.792Z"
   },
   {
    "duration": -1135,
    "start_time": "2021-11-07T11:04:05.794Z"
   },
   {
    "duration": -1135,
    "start_time": "2021-11-07T11:04:05.796Z"
   },
   {
    "duration": -1136,
    "start_time": "2021-11-07T11:04:05.799Z"
   },
   {
    "duration": -1138,
    "start_time": "2021-11-07T11:04:05.802Z"
   },
   {
    "duration": -1140,
    "start_time": "2021-11-07T11:04:05.805Z"
   },
   {
    "duration": -1142,
    "start_time": "2021-11-07T11:04:05.808Z"
   },
   {
    "duration": -1085,
    "start_time": "2021-11-07T11:04:05.810Z"
   },
   {
    "duration": -1084,
    "start_time": "2021-11-07T11:04:05.811Z"
   },
   {
    "duration": -1084,
    "start_time": "2021-11-07T11:04:05.813Z"
   },
   {
    "duration": -1084,
    "start_time": "2021-11-07T11:04:05.815Z"
   },
   {
    "duration": -1086,
    "start_time": "2021-11-07T11:04:05.818Z"
   },
   {
    "duration": -1132,
    "start_time": "2021-11-07T11:04:05.866Z"
   },
   {
    "duration": -1134,
    "start_time": "2021-11-07T11:04:05.870Z"
   },
   {
    "duration": -1136,
    "start_time": "2021-11-07T11:04:05.874Z"
   },
   {
    "duration": -1137,
    "start_time": "2021-11-07T11:04:05.877Z"
   },
   {
    "duration": -1138,
    "start_time": "2021-11-07T11:04:05.881Z"
   },
   {
    "duration": -1139,
    "start_time": "2021-11-07T11:04:05.884Z"
   },
   {
    "duration": -1141,
    "start_time": "2021-11-07T11:04:05.888Z"
   },
   {
    "duration": -1142,
    "start_time": "2021-11-07T11:04:05.891Z"
   },
   {
    "duration": -1143,
    "start_time": "2021-11-07T11:04:05.893Z"
   },
   {
    "duration": -1142,
    "start_time": "2021-11-07T11:04:05.895Z"
   },
   {
    "duration": -1143,
    "start_time": "2021-11-07T11:04:05.897Z"
   },
   {
    "duration": -1143,
    "start_time": "2021-11-07T11:04:05.899Z"
   },
   {
    "duration": -1145,
    "start_time": "2021-11-07T11:04:05.902Z"
   },
   {
    "duration": -1146,
    "start_time": "2021-11-07T11:04:05.904Z"
   },
   {
    "duration": -1151,
    "start_time": "2021-11-07T11:04:05.911Z"
   },
   {
    "duration": -1152,
    "start_time": "2021-11-07T11:04:05.913Z"
   },
   {
    "duration": -1091,
    "start_time": "2021-11-07T11:04:05.914Z"
   },
   {
    "duration": -1091,
    "start_time": "2021-11-07T11:04:05.916Z"
   },
   {
    "duration": -1092,
    "start_time": "2021-11-07T11:04:05.918Z"
   },
   {
    "duration": -1098,
    "start_time": "2021-11-07T11:04:05.926Z"
   },
   {
    "duration": 4,
    "start_time": "2021-11-07T11:09:04.116Z"
   },
   {
    "duration": 8292,
    "start_time": "2021-11-07T11:09:38.227Z"
   },
   {
    "duration": 1463,
    "start_time": "2021-11-07T11:09:46.523Z"
   },
   {
    "duration": 414,
    "start_time": "2021-11-07T11:09:47.990Z"
   },
   {
    "duration": 4,
    "start_time": "2021-11-07T11:09:48.407Z"
   },
   {
    "duration": 846,
    "start_time": "2021-11-07T11:09:48.414Z"
   },
   {
    "duration": 27,
    "start_time": "2021-11-07T11:09:49.263Z"
   },
   {
    "duration": 34,
    "start_time": "2021-11-07T11:09:49.293Z"
   },
   {
    "duration": 19,
    "start_time": "2021-11-07T11:09:49.331Z"
   },
   {
    "duration": 18,
    "start_time": "2021-11-07T11:09:49.354Z"
   },
   {
    "duration": 13,
    "start_time": "2021-11-07T11:09:49.375Z"
   },
   {
    "duration": 45,
    "start_time": "2021-11-07T11:09:49.391Z"
   },
   {
    "duration": 52,
    "start_time": "2021-11-07T11:09:49.439Z"
   },
   {
    "duration": 41,
    "start_time": "2021-11-07T11:09:49.494Z"
   },
   {
    "duration": 48,
    "start_time": "2021-11-07T11:09:49.538Z"
   },
   {
    "duration": 117,
    "start_time": "2021-11-07T11:09:49.589Z"
   },
   {
    "duration": 94,
    "start_time": "2021-11-07T11:09:49.710Z"
   },
   {
    "duration": 16,
    "start_time": "2021-11-07T11:09:49.807Z"
   },
   {
    "duration": 7,
    "start_time": "2021-11-07T11:09:49.827Z"
   },
   {
    "duration": 7,
    "start_time": "2021-11-07T11:09:49.844Z"
   },
   {
    "duration": 82,
    "start_time": "2021-11-07T11:09:49.854Z"
   },
   {
    "duration": 10,
    "start_time": "2021-11-07T11:09:49.940Z"
   },
   {
    "duration": 9,
    "start_time": "2021-11-07T11:09:49.952Z"
   },
   {
    "duration": 137,
    "start_time": "2021-11-07T11:09:49.964Z"
   },
   {
    "duration": 19,
    "start_time": "2021-11-07T11:09:50.104Z"
   },
   {
    "duration": 16,
    "start_time": "2021-11-07T11:09:50.126Z"
   },
   {
    "duration": 14,
    "start_time": "2021-11-07T11:09:50.145Z"
   },
   {
    "duration": 236,
    "start_time": "2021-11-07T11:09:50.166Z"
   },
   {
    "duration": 141,
    "start_time": "2021-11-07T11:09:50.406Z"
   },
   {
    "duration": 17,
    "start_time": "2021-11-07T11:09:50.550Z"
   },
   {
    "duration": 25,
    "start_time": "2021-11-07T11:09:50.569Z"
   },
   {
    "duration": 10,
    "start_time": "2021-11-07T11:09:50.622Z"
   },
   {
    "duration": 21,
    "start_time": "2021-11-07T11:09:50.636Z"
   },
   {
    "duration": 497,
    "start_time": "2021-11-07T11:09:50.660Z"
   },
   {
    "duration": -1118,
    "start_time": "2021-11-07T11:09:52.278Z"
   },
   {
    "duration": -1121,
    "start_time": "2021-11-07T11:09:52.282Z"
   },
   {
    "duration": -1121,
    "start_time": "2021-11-07T11:09:52.284Z"
   },
   {
    "duration": -1127,
    "start_time": "2021-11-07T11:09:52.291Z"
   },
   {
    "duration": -1138,
    "start_time": "2021-11-07T11:09:52.304Z"
   },
   {
    "duration": -1142,
    "start_time": "2021-11-07T11:09:52.309Z"
   },
   {
    "duration": -1143,
    "start_time": "2021-11-07T11:09:52.311Z"
   },
   {
    "duration": -1143,
    "start_time": "2021-11-07T11:09:52.313Z"
   },
   {
    "duration": -1145,
    "start_time": "2021-11-07T11:09:52.316Z"
   },
   {
    "duration": -1147,
    "start_time": "2021-11-07T11:09:52.319Z"
   },
   {
    "duration": -1147,
    "start_time": "2021-11-07T11:09:52.321Z"
   },
   {
    "duration": -1148,
    "start_time": "2021-11-07T11:09:52.323Z"
   },
   {
    "duration": -1149,
    "start_time": "2021-11-07T11:09:52.325Z"
   },
   {
    "duration": -1149,
    "start_time": "2021-11-07T11:09:52.327Z"
   },
   {
    "duration": -1156,
    "start_time": "2021-11-07T11:09:52.335Z"
   },
   {
    "duration": -1160,
    "start_time": "2021-11-07T11:09:52.340Z"
   },
   {
    "duration": -1160,
    "start_time": "2021-11-07T11:09:52.342Z"
   },
   {
    "duration": -1161,
    "start_time": "2021-11-07T11:09:52.344Z"
   },
   {
    "duration": -1162,
    "start_time": "2021-11-07T11:09:52.346Z"
   },
   {
    "duration": -1163,
    "start_time": "2021-11-07T11:09:52.349Z"
   },
   {
    "duration": -1166,
    "start_time": "2021-11-07T11:09:52.353Z"
   },
   {
    "duration": -1169,
    "start_time": "2021-11-07T11:09:52.358Z"
   },
   {
    "duration": -1170,
    "start_time": "2021-11-07T11:09:52.360Z"
   },
   {
    "duration": -1172,
    "start_time": "2021-11-07T11:09:52.363Z"
   },
   {
    "duration": -1173,
    "start_time": "2021-11-07T11:09:52.365Z"
   },
   {
    "duration": -1173,
    "start_time": "2021-11-07T11:09:52.367Z"
   },
   {
    "duration": -1174,
    "start_time": "2021-11-07T11:09:52.369Z"
   },
   {
    "duration": 19796,
    "start_time": "2021-11-07T11:10:09.316Z"
   },
   {
    "duration": 12871,
    "start_time": "2021-11-07T11:12:16.252Z"
   },
   {
    "duration": 1267,
    "start_time": "2021-11-07T11:12:29.128Z"
   },
   {
    "duration": 718,
    "start_time": "2021-11-07T11:12:30.398Z"
   },
   {
    "duration": 3,
    "start_time": "2021-11-07T11:12:31.119Z"
   },
   {
    "duration": 829,
    "start_time": "2021-11-07T11:12:31.126Z"
   },
   {
    "duration": 19,
    "start_time": "2021-11-07T11:12:31.959Z"
   },
   {
    "duration": 15,
    "start_time": "2021-11-07T11:12:31.981Z"
   },
   {
    "duration": 39,
    "start_time": "2021-11-07T11:12:31.998Z"
   },
   {
    "duration": 16,
    "start_time": "2021-11-07T11:12:32.039Z"
   },
   {
    "duration": 14,
    "start_time": "2021-11-07T11:12:32.057Z"
   },
   {
    "duration": 17,
    "start_time": "2021-11-07T11:12:32.074Z"
   },
   {
    "duration": 72,
    "start_time": "2021-11-07T11:12:32.093Z"
   },
   {
    "duration": 16,
    "start_time": "2021-11-07T11:12:32.167Z"
   },
   {
    "duration": 77,
    "start_time": "2021-11-07T11:12:32.185Z"
   },
   {
    "duration": 101,
    "start_time": "2021-11-07T11:12:32.265Z"
   },
   {
    "duration": 67,
    "start_time": "2021-11-07T11:12:32.368Z"
   },
   {
    "duration": 6,
    "start_time": "2021-11-07T11:12:32.438Z"
   },
   {
    "duration": 6,
    "start_time": "2021-11-07T11:12:32.452Z"
   },
   {
    "duration": 11,
    "start_time": "2021-11-07T11:12:32.464Z"
   },
   {
    "duration": 73,
    "start_time": "2021-11-07T11:12:32.478Z"
   },
   {
    "duration": 6,
    "start_time": "2021-11-07T11:12:32.555Z"
   },
   {
    "duration": 7,
    "start_time": "2021-11-07T11:12:32.565Z"
   },
   {
    "duration": 124,
    "start_time": "2021-11-07T11:12:32.575Z"
   },
   {
    "duration": 5,
    "start_time": "2021-11-07T11:12:32.702Z"
   },
   {
    "duration": 19,
    "start_time": "2021-11-07T11:12:32.722Z"
   },
   {
    "duration": 15,
    "start_time": "2021-11-07T11:12:32.745Z"
   },
   {
    "duration": 391,
    "start_time": "2021-11-07T11:12:32.764Z"
   },
   {
    "duration": 91,
    "start_time": "2021-11-07T11:12:33.158Z"
   },
   {
    "duration": 32,
    "start_time": "2021-11-07T11:12:33.252Z"
   },
   {
    "duration": 65,
    "start_time": "2021-11-07T11:12:33.287Z"
   },
   {
    "duration": 7,
    "start_time": "2021-11-07T11:12:33.356Z"
   },
   {
    "duration": 58,
    "start_time": "2021-11-07T11:12:33.367Z"
   },
   {
    "duration": 26,
    "start_time": "2021-11-07T11:12:33.428Z"
   },
   {
    "duration": 14,
    "start_time": "2021-11-07T11:12:33.456Z"
   },
   {
    "duration": 81,
    "start_time": "2021-11-07T11:12:33.473Z"
   },
   {
    "duration": 533,
    "start_time": "2021-11-07T11:12:33.556Z"
   },
   {
    "duration": 43,
    "start_time": "2021-11-07T11:12:34.092Z"
   },
   {
    "duration": 1627,
    "start_time": "2021-11-07T11:12:34.138Z"
   },
   {
    "duration": 8,
    "start_time": "2021-11-07T11:12:35.768Z"
   },
   {
    "duration": 12,
    "start_time": "2021-11-07T11:12:35.779Z"
   },
   {
    "duration": 48,
    "start_time": "2021-11-07T11:12:35.794Z"
   },
   {
    "duration": 15,
    "start_time": "2021-11-07T11:12:35.845Z"
   },
   {
    "duration": 18,
    "start_time": "2021-11-07T11:12:35.862Z"
   },
   {
    "duration": 68,
    "start_time": "2021-11-07T11:12:35.882Z"
   },
   {
    "duration": 427,
    "start_time": "2021-11-07T11:12:35.954Z"
   },
   {
    "duration": 39,
    "start_time": "2021-11-07T11:12:36.384Z"
   },
   {
    "duration": 6,
    "start_time": "2021-11-07T11:12:36.426Z"
   },
   {
    "duration": 9,
    "start_time": "2021-11-07T11:12:36.435Z"
   },
   {
    "duration": 7,
    "start_time": "2021-11-07T11:12:36.447Z"
   },
   {
    "duration": 11,
    "start_time": "2021-11-07T11:12:36.458Z"
   },
   {
    "duration": 87,
    "start_time": "2021-11-07T11:12:36.472Z"
   },
   {
    "duration": 15,
    "start_time": "2021-11-07T11:12:36.561Z"
   },
   {
    "duration": 75,
    "start_time": "2021-11-07T11:12:36.579Z"
   },
   {
    "duration": 15,
    "start_time": "2021-11-07T11:12:36.661Z"
   },
   {
    "duration": 9,
    "start_time": "2021-11-07T11:12:36.680Z"
   },
   {
    "duration": 13,
    "start_time": "2021-11-07T11:12:36.725Z"
   },
   {
    "duration": 7,
    "start_time": "2021-11-07T11:12:36.741Z"
   },
   {
    "duration": 12,
    "start_time": "2021-11-07T11:12:36.752Z"
   },
   {
    "duration": 57,
    "start_time": "2021-11-07T11:12:36.768Z"
   },
   {
    "duration": 21,
    "start_time": "2021-11-07T11:12:36.828Z"
   },
   {
    "duration": 23,
    "start_time": "2021-11-07T11:29:39.909Z"
   },
   {
    "duration": 28,
    "start_time": "2021-11-07T12:08:07.664Z"
   },
   {
    "duration": 14,
    "start_time": "2021-11-07T12:08:28.453Z"
   },
   {
    "duration": 570,
    "start_time": "2021-11-07T12:08:33.402Z"
   },
   {
    "duration": 305,
    "start_time": "2021-11-07T12:08:35.976Z"
   },
   {
    "duration": 299,
    "start_time": "2021-11-07T12:08:42.776Z"
   },
   {
    "duration": 320,
    "start_time": "2021-11-07T12:08:51.152Z"
   },
   {
    "duration": 43,
    "start_time": "2021-11-07T12:09:47.827Z"
   },
   {
    "duration": 10,
    "start_time": "2021-11-07T12:09:52.777Z"
   },
   {
    "duration": 23,
    "start_time": "2021-11-07T12:09:55.228Z"
   },
   {
    "duration": 16,
    "start_time": "2021-11-07T12:10:06.458Z"
   },
   {
    "duration": 29,
    "start_time": "2021-11-07T12:10:08.327Z"
   },
   {
    "duration": 323,
    "start_time": "2021-11-07T12:10:57.928Z"
   },
   {
    "duration": 124,
    "start_time": "2021-11-07T12:11:08.928Z"
   },
   {
    "duration": 17,
    "start_time": "2021-11-07T12:11:10.603Z"
   },
   {
    "duration": 23,
    "start_time": "2021-11-07T12:13:26.937Z"
   },
   {
    "duration": 21,
    "start_time": "2021-11-07T12:13:53.057Z"
   },
   {
    "duration": 308,
    "start_time": "2021-11-07T12:15:24.919Z"
   },
   {
    "duration": 472,
    "start_time": "2021-11-07T12:15:28.080Z"
   },
   {
    "duration": 43,
    "start_time": "2021-11-07T12:15:31.405Z"
   },
   {
    "duration": 49,
    "start_time": "2021-11-07T12:15:37.006Z"
   },
   {
    "duration": 39,
    "start_time": "2021-11-07T12:15:51.981Z"
   },
   {
    "duration": 61,
    "start_time": "2021-11-07T12:16:14.081Z"
   },
   {
    "duration": 134,
    "start_time": "2021-11-07T12:19:56.866Z"
   },
   {
    "duration": 119,
    "start_time": "2021-11-07T12:21:17.220Z"
   },
   {
    "duration": 3083,
    "start_time": "2021-11-07T12:21:29.208Z"
   },
   {
    "duration": 475,
    "start_time": "2021-11-07T12:21:45.835Z"
   },
   {
    "duration": 90248,
    "start_time": "2021-11-07T12:21:48.059Z"
   },
   {
    "duration": 91,
    "start_time": "2021-11-07T12:25:26.223Z"
   },
   {
    "duration": 6,
    "start_time": "2021-11-07T12:25:33.587Z"
   },
   {
    "duration": 413,
    "start_time": "2021-11-07T12:27:24.034Z"
   },
   {
    "duration": 285,
    "start_time": "2021-11-07T12:28:05.589Z"
   },
   {
    "duration": 12180,
    "start_time": "2021-11-07T12:28:17.327Z"
   },
   {
    "duration": 1246,
    "start_time": "2021-11-07T12:28:29.510Z"
   },
   {
    "duration": 732,
    "start_time": "2021-11-07T12:28:30.761Z"
   },
   {
    "duration": 4,
    "start_time": "2021-11-07T12:28:31.497Z"
   },
   {
    "duration": 1025,
    "start_time": "2021-11-07T12:28:31.504Z"
   },
   {
    "duration": 20,
    "start_time": "2021-11-07T12:28:32.533Z"
   },
   {
    "duration": 16,
    "start_time": "2021-11-07T12:28:32.555Z"
   },
   {
    "duration": 50,
    "start_time": "2021-11-07T12:28:32.575Z"
   },
   {
    "duration": 20,
    "start_time": "2021-11-07T12:28:32.629Z"
   },
   {
    "duration": 8,
    "start_time": "2021-11-07T12:28:32.651Z"
   },
   {
    "duration": 18,
    "start_time": "2021-11-07T12:28:32.662Z"
   },
   {
    "duration": 77,
    "start_time": "2021-11-07T12:28:32.683Z"
   },
   {
    "duration": 20,
    "start_time": "2021-11-07T12:28:32.763Z"
   },
   {
    "duration": 73,
    "start_time": "2021-11-07T12:28:32.786Z"
   },
   {
    "duration": 98,
    "start_time": "2021-11-07T12:28:32.862Z"
   },
   {
    "duration": 63,
    "start_time": "2021-11-07T12:28:32.962Z"
   },
   {
    "duration": 6,
    "start_time": "2021-11-07T12:28:33.028Z"
   },
   {
    "duration": 13,
    "start_time": "2021-11-07T12:28:33.037Z"
   },
   {
    "duration": 12,
    "start_time": "2021-11-07T12:28:33.052Z"
   },
   {
    "duration": 76,
    "start_time": "2021-11-07T12:28:33.067Z"
   },
   {
    "duration": 6,
    "start_time": "2021-11-07T12:28:33.146Z"
   },
   {
    "duration": 7,
    "start_time": "2021-11-07T12:28:33.155Z"
   },
   {
    "duration": 103,
    "start_time": "2021-11-07T12:28:33.168Z"
   },
   {
    "duration": 5,
    "start_time": "2021-11-07T12:28:33.275Z"
   },
   {
    "duration": 29,
    "start_time": "2021-11-07T12:28:33.283Z"
   },
   {
    "duration": 20,
    "start_time": "2021-11-07T12:28:33.324Z"
   },
   {
    "duration": 244,
    "start_time": "2021-11-07T12:28:33.347Z"
   },
   {
    "duration": 68,
    "start_time": "2021-11-07T12:28:33.594Z"
   },
   {
    "duration": 24,
    "start_time": "2021-11-07T12:28:33.665Z"
   },
   {
    "duration": 54,
    "start_time": "2021-11-07T12:28:33.691Z"
   },
   {
    "duration": 5,
    "start_time": "2021-11-07T12:28:33.748Z"
   },
   {
    "duration": 24,
    "start_time": "2021-11-07T12:28:33.756Z"
   },
   {
    "duration": 55,
    "start_time": "2021-11-07T12:28:33.783Z"
   },
   {
    "duration": 14,
    "start_time": "2021-11-07T12:28:33.842Z"
   },
   {
    "duration": 69,
    "start_time": "2021-11-07T12:28:33.859Z"
   },
   {
    "duration": 650,
    "start_time": "2021-11-07T12:28:33.931Z"
   },
   {
    "duration": 49,
    "start_time": "2021-11-07T12:28:34.584Z"
   },
   {
    "duration": 1640,
    "start_time": "2021-11-07T12:28:34.637Z"
   },
   {
    "duration": 8,
    "start_time": "2021-11-07T12:28:36.279Z"
   },
   {
    "duration": 34,
    "start_time": "2021-11-07T12:28:36.289Z"
   },
   {
    "duration": 20,
    "start_time": "2021-11-07T12:28:36.327Z"
   },
   {
    "duration": 15,
    "start_time": "2021-11-07T12:28:36.350Z"
   },
   {
    "duration": 21,
    "start_time": "2021-11-07T12:28:36.368Z"
   },
   {
    "duration": 61,
    "start_time": "2021-11-07T12:28:36.391Z"
   },
   {
    "duration": 390,
    "start_time": "2021-11-07T12:28:36.454Z"
   },
   {
    "duration": 20,
    "start_time": "2021-11-07T12:28:36.847Z"
   },
   {
    "duration": 84,
    "start_time": "2021-11-07T12:28:36.870Z"
   },
   {
    "duration": 20244,
    "start_time": "2021-11-07T12:28:36.956Z"
   },
   {
    "duration": 4,
    "start_time": "2021-11-07T12:28:57.202Z"
   },
   {
    "duration": 29,
    "start_time": "2021-11-07T12:28:57.209Z"
   },
   {
    "duration": 10,
    "start_time": "2021-11-07T12:28:57.242Z"
   },
   {
    "duration": 12,
    "start_time": "2021-11-07T12:28:57.254Z"
   },
   {
    "duration": 83,
    "start_time": "2021-11-07T12:28:57.268Z"
   },
   {
    "duration": 13,
    "start_time": "2021-11-07T12:28:57.353Z"
   },
   {
    "duration": 29,
    "start_time": "2021-11-07T12:28:57.369Z"
   },
   {
    "duration": 39,
    "start_time": "2021-11-07T12:28:57.401Z"
   },
   {
    "duration": 5,
    "start_time": "2021-11-07T12:28:57.443Z"
   },
   {
    "duration": 9,
    "start_time": "2021-11-07T12:28:57.451Z"
   },
   {
    "duration": 14,
    "start_time": "2021-11-07T12:28:57.462Z"
   },
   {
    "duration": 44,
    "start_time": "2021-11-07T12:28:57.479Z"
   },
   {
    "duration": 34,
    "start_time": "2021-11-07T12:28:57.526Z"
   },
   {
    "duration": 29,
    "start_time": "2021-11-07T12:28:57.562Z"
   },
   {
    "duration": 8,
    "start_time": "2021-11-07T12:30:07.563Z"
   },
   {
    "duration": 20485,
    "start_time": "2021-11-07T12:30:48.020Z"
   },
   {
    "duration": 24,
    "start_time": "2021-11-07T12:31:32.489Z"
   },
   {
    "duration": 854,
    "start_time": "2021-11-07T12:32:06.014Z"
   },
   {
    "duration": 45376,
    "start_time": "2021-11-07T12:32:08.363Z"
   },
   {
    "duration": 26,
    "start_time": "2021-11-07T12:33:31.190Z"
   },
   {
    "duration": 50639,
    "start_time": "2021-11-07T12:33:48.847Z"
   },
   {
    "duration": 74,
    "start_time": "2021-11-07T12:34:39.489Z"
   },
   {
    "duration": 19382,
    "start_time": "2021-11-07T12:34:55.542Z"
   },
   {
    "duration": 44975,
    "start_time": "2021-11-07T12:35:32.443Z"
   },
   {
    "duration": 110,
    "start_time": "2021-11-07T12:37:10.406Z"
   },
   {
    "duration": 21091,
    "start_time": "2021-11-07T12:37:15.193Z"
   },
   {
    "duration": 24069,
    "start_time": "2021-11-07T12:39:18.434Z"
   },
   {
    "duration": 4317,
    "start_time": "2021-11-07T12:39:53.144Z"
   },
   {
    "duration": 17811,
    "start_time": "2021-11-07T12:40:01.044Z"
   },
   {
    "duration": 24878,
    "start_time": "2021-11-07T12:40:19.995Z"
   },
   {
    "duration": 10318,
    "start_time": "2021-11-07T12:41:13.720Z"
   },
   {
    "duration": 24,
    "start_time": "2021-11-07T12:41:24.041Z"
   },
   {
    "duration": 9185,
    "start_time": "2021-11-07T12:42:45.795Z"
   },
   {
    "duration": 26,
    "start_time": "2021-11-07T12:43:11.395Z"
   },
   {
    "duration": 8773,
    "start_time": "2021-11-07T12:43:33.889Z"
   },
   {
    "duration": 13700,
    "start_time": "2021-11-07T12:48:35.557Z"
   },
   {
    "duration": 1510,
    "start_time": "2021-11-07T12:48:49.261Z"
   },
   {
    "duration": 898,
    "start_time": "2021-11-07T12:48:50.775Z"
   },
   {
    "duration": 4,
    "start_time": "2021-11-07T12:48:51.676Z"
   },
   {
    "duration": 825,
    "start_time": "2021-11-07T12:48:51.683Z"
   },
   {
    "duration": 26,
    "start_time": "2021-11-07T12:48:52.511Z"
   },
   {
    "duration": 17,
    "start_time": "2021-11-07T12:48:52.540Z"
   },
   {
    "duration": 18,
    "start_time": "2021-11-07T12:48:52.562Z"
   },
   {
    "duration": 56,
    "start_time": "2021-11-07T12:48:52.584Z"
   },
   {
    "duration": 4,
    "start_time": "2021-11-07T12:48:52.644Z"
   },
   {
    "duration": 17,
    "start_time": "2021-11-07T12:48:52.651Z"
   },
   {
    "duration": 73,
    "start_time": "2021-11-07T12:48:52.671Z"
   },
   {
    "duration": 15,
    "start_time": "2021-11-07T12:48:52.749Z"
   },
   {
    "duration": 105,
    "start_time": "2021-11-07T12:48:52.767Z"
   },
   {
    "duration": 109,
    "start_time": "2021-11-07T12:48:52.875Z"
   },
   {
    "duration": 79,
    "start_time": "2021-11-07T12:48:52.987Z"
   },
   {
    "duration": 5,
    "start_time": "2021-11-07T12:48:53.069Z"
   },
   {
    "duration": 7,
    "start_time": "2021-11-07T12:48:53.077Z"
   },
   {
    "duration": 39,
    "start_time": "2021-11-07T12:48:53.087Z"
   },
   {
    "duration": 43,
    "start_time": "2021-11-07T12:48:53.131Z"
   },
   {
    "duration": 7,
    "start_time": "2021-11-07T12:48:53.177Z"
   },
   {
    "duration": 39,
    "start_time": "2021-11-07T12:48:53.187Z"
   },
   {
    "duration": 88,
    "start_time": "2021-11-07T12:48:53.236Z"
   },
   {
    "duration": 7,
    "start_time": "2021-11-07T12:48:53.329Z"
   },
   {
    "duration": 16,
    "start_time": "2021-11-07T12:48:53.341Z"
   },
   {
    "duration": 14,
    "start_time": "2021-11-07T12:48:53.361Z"
   },
   {
    "duration": 246,
    "start_time": "2021-11-07T12:48:53.377Z"
   },
   {
    "duration": 54,
    "start_time": "2021-11-07T12:48:53.626Z"
   },
   {
    "duration": 51,
    "start_time": "2021-11-07T12:48:53.682Z"
   },
   {
    "duration": 41,
    "start_time": "2021-11-07T12:48:53.736Z"
   },
   {
    "duration": 6,
    "start_time": "2021-11-07T12:48:53.780Z"
   },
   {
    "duration": 57,
    "start_time": "2021-11-07T12:48:53.789Z"
   },
   {
    "duration": 26,
    "start_time": "2021-11-07T12:48:53.849Z"
   },
   {
    "duration": 45,
    "start_time": "2021-11-07T12:48:53.878Z"
   },
   {
    "duration": 60,
    "start_time": "2021-11-07T12:48:53.927Z"
   },
   {
    "duration": 589,
    "start_time": "2021-11-07T12:48:53.990Z"
   },
   {
    "duration": 59,
    "start_time": "2021-11-07T12:48:54.583Z"
   },
   {
    "duration": 1798,
    "start_time": "2021-11-07T12:48:54.646Z"
   },
   {
    "duration": 8,
    "start_time": "2021-11-07T12:48:56.447Z"
   },
   {
    "duration": 21,
    "start_time": "2021-11-07T12:48:56.457Z"
   },
   {
    "duration": 44,
    "start_time": "2021-11-07T12:48:56.480Z"
   },
   {
    "duration": 18,
    "start_time": "2021-11-07T12:48:56.529Z"
   },
   {
    "duration": 14,
    "start_time": "2021-11-07T12:48:56.549Z"
   },
   {
    "duration": 66,
    "start_time": "2021-11-07T12:48:56.566Z"
   },
   {
    "duration": 414,
    "start_time": "2021-11-07T12:48:56.634Z"
   },
   {
    "duration": 23,
    "start_time": "2021-11-07T12:48:57.050Z"
   },
   {
    "duration": 89,
    "start_time": "2021-11-07T12:48:57.076Z"
   },
   {
    "duration": 9408,
    "start_time": "2021-11-07T12:48:57.167Z"
   },
   {
    "duration": 5,
    "start_time": "2021-11-07T12:49:06.578Z"
   },
   {
    "duration": 38,
    "start_time": "2021-11-07T12:49:06.586Z"
   },
   {
    "duration": 11,
    "start_time": "2021-11-07T12:49:06.628Z"
   },
   {
    "duration": 18,
    "start_time": "2021-11-07T12:49:06.643Z"
   },
   {
    "duration": 74,
    "start_time": "2021-11-07T12:49:06.664Z"
   },
   {
    "duration": 13,
    "start_time": "2021-11-07T12:49:06.741Z"
   },
   {
    "duration": 35,
    "start_time": "2021-11-07T12:49:06.756Z"
   },
   {
    "duration": 31,
    "start_time": "2021-11-07T12:49:06.793Z"
   },
   {
    "duration": 10,
    "start_time": "2021-11-07T12:49:06.827Z"
   },
   {
    "duration": 17,
    "start_time": "2021-11-07T12:49:06.840Z"
   },
   {
    "duration": 18,
    "start_time": "2021-11-07T12:49:06.860Z"
   },
   {
    "duration": 11,
    "start_time": "2021-11-07T12:49:06.881Z"
   },
   {
    "duration": 39,
    "start_time": "2021-11-07T12:49:06.894Z"
   },
   {
    "duration": 23,
    "start_time": "2021-11-07T12:49:06.937Z"
   },
   {
    "duration": 313,
    "start_time": "2022-01-12T18:13:17.650Z"
   },
   {
    "duration": 33035,
    "start_time": "2022-01-12T18:13:40.578Z"
   },
   {
    "duration": 1220,
    "start_time": "2022-01-12T18:14:13.616Z"
   },
   {
    "duration": 866,
    "start_time": "2022-01-12T18:14:14.840Z"
   },
   {
    "duration": 8,
    "start_time": "2022-01-12T18:14:15.709Z"
   },
   {
    "duration": 1079,
    "start_time": "2022-01-12T18:14:15.720Z"
   },
   {
    "duration": 17,
    "start_time": "2022-01-12T18:14:16.802Z"
   },
   {
    "duration": 11,
    "start_time": "2022-01-12T18:14:16.821Z"
   },
   {
    "duration": 18,
    "start_time": "2022-01-12T18:14:16.835Z"
   },
   {
    "duration": 14,
    "start_time": "2022-01-12T18:14:16.857Z"
   },
   {
    "duration": 8,
    "start_time": "2022-01-12T18:14:16.873Z"
   },
   {
    "duration": 50,
    "start_time": "2022-01-12T18:14:16.883Z"
   },
   {
    "duration": 40,
    "start_time": "2022-01-12T18:14:16.936Z"
   },
   {
    "duration": 38,
    "start_time": "2022-01-12T18:14:16.979Z"
   },
   {
    "duration": 45,
    "start_time": "2022-01-12T18:14:17.020Z"
   },
   {
    "duration": 99,
    "start_time": "2022-01-12T18:14:17.068Z"
   },
   {
    "duration": 59,
    "start_time": "2022-01-12T18:14:17.169Z"
   },
   {
    "duration": 4,
    "start_time": "2022-01-12T18:14:17.230Z"
   },
   {
    "duration": 7,
    "start_time": "2022-01-12T18:14:17.236Z"
   },
   {
    "duration": 7,
    "start_time": "2022-01-12T18:14:17.245Z"
   },
   {
    "duration": 27,
    "start_time": "2022-01-12T18:14:17.255Z"
   },
   {
    "duration": 35,
    "start_time": "2022-01-12T18:14:17.285Z"
   },
   {
    "duration": 7,
    "start_time": "2022-01-12T18:14:17.323Z"
   },
   {
    "duration": 103,
    "start_time": "2022-01-12T18:14:17.338Z"
   },
   {
    "duration": 5,
    "start_time": "2022-01-12T18:14:17.444Z"
   },
   {
    "duration": 14,
    "start_time": "2022-01-12T18:14:17.451Z"
   },
   {
    "duration": 14,
    "start_time": "2022-01-12T18:14:17.467Z"
   },
   {
    "duration": 217,
    "start_time": "2022-01-12T18:14:17.483Z"
   },
   {
    "duration": 48,
    "start_time": "2022-01-12T18:14:17.702Z"
   },
   {
    "duration": 20,
    "start_time": "2022-01-12T18:14:17.752Z"
   },
   {
    "duration": 48,
    "start_time": "2022-01-12T18:14:17.774Z"
   },
   {
    "duration": 5,
    "start_time": "2022-01-12T18:14:17.824Z"
   },
   {
    "duration": 21,
    "start_time": "2022-01-12T18:14:17.831Z"
   },
   {
    "duration": 18,
    "start_time": "2022-01-12T18:14:17.854Z"
   },
   {
    "duration": 51,
    "start_time": "2022-01-12T18:14:17.874Z"
   },
   {
    "duration": 40,
    "start_time": "2022-01-12T18:14:17.927Z"
   },
   {
    "duration": 333,
    "start_time": "2022-01-12T18:14:17.969Z"
   },
   {
    "duration": 20,
    "start_time": "2022-01-12T18:14:18.304Z"
   },
   {
    "duration": 904,
    "start_time": "2022-01-12T18:14:18.327Z"
   },
   {
    "duration": 7,
    "start_time": "2022-01-12T18:14:19.233Z"
   },
   {
    "duration": 11,
    "start_time": "2022-01-12T18:14:19.242Z"
   },
   {
    "duration": 15,
    "start_time": "2022-01-12T18:14:19.255Z"
   },
   {
    "duration": 46,
    "start_time": "2022-01-12T18:14:19.272Z"
   },
   {
    "duration": 12,
    "start_time": "2022-01-12T18:14:19.321Z"
   },
   {
    "duration": 24,
    "start_time": "2022-01-12T18:14:19.336Z"
   },
   {
    "duration": 391,
    "start_time": "2022-01-12T18:14:19.362Z"
   },
   {
    "duration": 20,
    "start_time": "2022-01-12T18:14:19.755Z"
   },
   {
    "duration": 69,
    "start_time": "2022-01-12T18:14:19.777Z"
   },
   {
    "duration": 8628,
    "start_time": "2022-01-12T18:14:19.849Z"
   },
   {
    "duration": 5,
    "start_time": "2022-01-12T18:14:28.479Z"
   },
   {
    "duration": 1648,
    "start_time": "2022-01-12T18:14:28.486Z"
   },
   {
    "duration": 336,
    "start_time": "2022-01-12T18:14:30.136Z"
   },
   {
    "duration": 392,
    "start_time": "2022-01-12T18:14:30.474Z"
   },
   {
    "duration": 607,
    "start_time": "2022-01-12T18:14:30.869Z"
   },
   {
    "duration": 549,
    "start_time": "2022-01-12T18:14:31.478Z"
   },
   {
    "duration": 30,
    "start_time": "2022-01-12T18:14:32.031Z"
   },
   {
    "duration": 14,
    "start_time": "2022-01-12T18:14:32.063Z"
   },
   {
    "duration": 7,
    "start_time": "2022-01-12T18:14:32.079Z"
   },
   {
    "duration": 31,
    "start_time": "2022-01-12T18:14:32.089Z"
   },
   {
    "duration": 6,
    "start_time": "2022-01-12T18:14:32.123Z"
   },
   {
    "duration": 7,
    "start_time": "2022-01-12T18:14:32.132Z"
   },
   {
    "duration": 17,
    "start_time": "2022-01-12T18:14:32.142Z"
   },
   {
    "duration": 57,
    "start_time": "2022-01-12T18:14:32.162Z"
   },
   {
    "duration": 12,
    "start_time": "2022-01-12T18:14:46.722Z"
   },
   {
    "duration": 12,
    "start_time": "2022-01-12T18:14:57.021Z"
   },
   {
    "duration": 13,
    "start_time": "2022-01-12T18:15:32.344Z"
   },
   {
    "duration": 12,
    "start_time": "2022-01-12T18:15:42.119Z"
   },
   {
    "duration": 15,
    "start_time": "2022-01-12T18:15:52.828Z"
   },
   {
    "duration": 12,
    "start_time": "2022-01-12T18:16:03.326Z"
   },
   {
    "duration": 4,
    "start_time": "2022-01-12T18:18:36.557Z"
   },
   {
    "duration": 11,
    "start_time": "2022-01-12T18:18:38.730Z"
   },
   {
    "duration": 14,
    "start_time": "2022-01-12T18:18:52.342Z"
   },
   {
    "duration": 14,
    "start_time": "2022-01-12T18:19:14.976Z"
   },
   {
    "duration": 16,
    "start_time": "2022-01-12T18:50:38.965Z"
   },
   {
    "duration": 20,
    "start_time": "2022-01-12T18:51:26.222Z"
   },
   {
    "duration": 21,
    "start_time": "2022-01-12T18:52:36.710Z"
   },
   {
    "duration": 20,
    "start_time": "2022-01-12T18:53:02.401Z"
   },
   {
    "duration": 555,
    "start_time": "2022-01-12T19:04:43.068Z"
   },
   {
    "duration": 4,
    "start_time": "2022-01-12T19:04:50.521Z"
   },
   {
    "duration": 24,
    "start_time": "2022-01-12T19:04:59.562Z"
   },
   {
    "duration": 6,
    "start_time": "2022-01-12T19:05:12.600Z"
   },
   {
    "duration": 5,
    "start_time": "2022-01-12T19:05:34.637Z"
   },
   {
    "duration": 97,
    "start_time": "2022-01-12T19:05:54.907Z"
   },
   {
    "duration": 65,
    "start_time": "2022-01-12T19:09:16.531Z"
   },
   {
    "duration": 62,
    "start_time": "2022-01-12T19:09:40.927Z"
   },
   {
    "duration": 6,
    "start_time": "2022-01-12T19:11:15.873Z"
   },
   {
    "duration": 7,
    "start_time": "2022-01-12T19:11:25.668Z"
   },
   {
    "duration": 284,
    "start_time": "2022-01-12T19:11:31.086Z"
   },
   {
    "duration": 8,
    "start_time": "2022-01-12T19:11:45.960Z"
   },
   {
    "duration": 6,
    "start_time": "2022-01-12T19:13:10.966Z"
   },
   {
    "duration": 76,
    "start_time": "2022-01-12T19:17:53.747Z"
   },
   {
    "duration": 97,
    "start_time": "2022-01-12T19:18:05.744Z"
   },
   {
    "duration": 86,
    "start_time": "2022-01-12T19:19:22.380Z"
   },
   {
    "duration": 87,
    "start_time": "2022-01-12T19:19:30.943Z"
   },
   {
    "duration": 92,
    "start_time": "2022-01-12T19:21:13.737Z"
   },
   {
    "duration": 37,
    "start_time": "2022-01-12T19:21:18.505Z"
   },
   {
    "duration": 47,
    "start_time": "2022-01-12T19:23:29.847Z"
   },
   {
    "duration": 47,
    "start_time": "2022-01-12T19:23:53.711Z"
   },
   {
    "duration": 1276,
    "start_time": "2022-01-12T19:25:22.377Z"
   },
   {
    "duration": 619,
    "start_time": "2022-01-12T19:25:23.656Z"
   },
   {
    "duration": 10721,
    "start_time": "2022-01-12T19:25:24.278Z"
   },
   {
    "duration": 751,
    "start_time": "2022-01-12T19:25:35.002Z"
   },
   {
    "duration": 24,
    "start_time": "2022-01-12T19:25:35.756Z"
   },
   {
    "duration": 17,
    "start_time": "2022-01-12T19:25:35.783Z"
   },
   {
    "duration": 14,
    "start_time": "2022-01-12T19:25:35.818Z"
   },
   {
    "duration": 20,
    "start_time": "2022-01-12T19:25:35.834Z"
   },
   {
    "duration": 64,
    "start_time": "2022-01-12T19:25:35.861Z"
   },
   {
    "duration": 48,
    "start_time": "2022-01-12T19:25:35.929Z"
   },
   {
    "duration": 55,
    "start_time": "2022-01-12T19:25:35.980Z"
   },
   {
    "duration": 8,
    "start_time": "2022-01-12T19:25:36.038Z"
   },
   {
    "duration": 113,
    "start_time": "2022-01-12T19:25:36.049Z"
   },
   {
    "duration": 136,
    "start_time": "2022-01-12T19:25:36.165Z"
   },
   {
    "duration": 50,
    "start_time": "2022-01-12T19:25:36.304Z"
   },
   {
    "duration": 5,
    "start_time": "2022-01-12T19:25:36.357Z"
   },
   {
    "duration": 6,
    "start_time": "2022-01-12T19:25:36.365Z"
   },
   {
    "duration": 448,
    "start_time": "2022-01-12T19:25:36.374Z"
   },
   {
    "duration": 1749,
    "start_time": "2022-01-12T19:25:35.077Z"
   },
   {
    "duration": 1745,
    "start_time": "2022-01-12T19:25:35.082Z"
   },
   {
    "duration": 1735,
    "start_time": "2022-01-12T19:25:35.094Z"
   },
   {
    "duration": 1731,
    "start_time": "2022-01-12T19:25:35.099Z"
   },
   {
    "duration": 1721,
    "start_time": "2022-01-12T19:25:35.111Z"
   },
   {
    "duration": 1717,
    "start_time": "2022-01-12T19:25:35.116Z"
   },
   {
    "duration": 1707,
    "start_time": "2022-01-12T19:25:35.127Z"
   },
   {
    "duration": 1705,
    "start_time": "2022-01-12T19:25:35.131Z"
   },
   {
    "duration": 1700,
    "start_time": "2022-01-12T19:25:35.137Z"
   },
   {
    "duration": 1484,
    "start_time": "2022-01-12T19:25:35.354Z"
   },
   {
    "duration": 1466,
    "start_time": "2022-01-12T19:25:35.373Z"
   },
   {
    "duration": 1464,
    "start_time": "2022-01-12T19:25:35.377Z"
   },
   {
    "duration": 1461,
    "start_time": "2022-01-12T19:25:35.381Z"
   },
   {
    "duration": 1458,
    "start_time": "2022-01-12T19:25:35.385Z"
   },
   {
    "duration": 1449,
    "start_time": "2022-01-12T19:25:35.395Z"
   },
   {
    "duration": 1444,
    "start_time": "2022-01-12T19:25:35.401Z"
   },
   {
    "duration": 1441,
    "start_time": "2022-01-12T19:25:35.406Z"
   },
   {
    "duration": 1437,
    "start_time": "2022-01-12T19:25:35.411Z"
   },
   {
    "duration": 1435,
    "start_time": "2022-01-12T19:25:35.415Z"
   },
   {
    "duration": 1431,
    "start_time": "2022-01-12T19:25:35.420Z"
   },
   {
    "duration": 1429,
    "start_time": "2022-01-12T19:25:35.424Z"
   },
   {
    "duration": 1425,
    "start_time": "2022-01-12T19:25:35.429Z"
   },
   {
    "duration": 1422,
    "start_time": "2022-01-12T19:25:35.433Z"
   },
   {
    "duration": 1419,
    "start_time": "2022-01-12T19:25:35.438Z"
   },
   {
    "duration": 1416,
    "start_time": "2022-01-12T19:25:35.442Z"
   },
   {
    "duration": 1413,
    "start_time": "2022-01-12T19:25:35.446Z"
   },
   {
    "duration": 1411,
    "start_time": "2022-01-12T19:25:35.450Z"
   },
   {
    "duration": 1477,
    "start_time": "2022-01-12T19:25:35.455Z"
   },
   {
    "duration": 1476,
    "start_time": "2022-01-12T19:25:35.458Z"
   },
   {
    "duration": 1472,
    "start_time": "2022-01-12T19:25:35.463Z"
   },
   {
    "duration": 1469,
    "start_time": "2022-01-12T19:25:35.468Z"
   },
   {
    "duration": 1465,
    "start_time": "2022-01-12T19:25:35.473Z"
   },
   {
    "duration": 1463,
    "start_time": "2022-01-12T19:25:35.476Z"
   },
   {
    "duration": 1460,
    "start_time": "2022-01-12T19:25:35.481Z"
   },
   {
    "duration": 1457,
    "start_time": "2022-01-12T19:25:35.485Z"
   },
   {
    "duration": 1454,
    "start_time": "2022-01-12T19:25:35.490Z"
   },
   {
    "duration": 1453,
    "start_time": "2022-01-12T19:25:35.493Z"
   },
   {
    "duration": 1441,
    "start_time": "2022-01-12T19:25:35.506Z"
   },
   {
    "duration": 7,
    "start_time": "2022-01-12T19:29:23.740Z"
   },
   {
    "duration": 50,
    "start_time": "2022-01-12T19:31:17.575Z"
   },
   {
    "duration": 16,
    "start_time": "2022-01-12T19:32:28.173Z"
   },
   {
    "duration": 8,
    "start_time": "2022-01-12T19:32:57.980Z"
   },
   {
    "duration": 4,
    "start_time": "2022-01-12T19:33:05.782Z"
   },
   {
    "duration": 229,
    "start_time": "2022-01-12T19:33:45.066Z"
   },
   {
    "duration": 11,
    "start_time": "2022-01-12T19:33:48.722Z"
   },
   {
    "duration": 7,
    "start_time": "2022-01-12T19:34:45.952Z"
   },
   {
    "duration": 1249,
    "start_time": "2022-01-12T19:35:23.485Z"
   },
   {
    "duration": 634,
    "start_time": "2022-01-12T19:35:24.736Z"
   },
   {
    "duration": 10121,
    "start_time": "2022-01-12T19:35:25.372Z"
   },
   {
    "duration": 714,
    "start_time": "2022-01-12T19:35:35.496Z"
   },
   {
    "duration": 19,
    "start_time": "2022-01-12T19:35:36.212Z"
   },
   {
    "duration": 12,
    "start_time": "2022-01-12T19:35:36.234Z"
   },
   {
    "duration": 13,
    "start_time": "2022-01-12T19:35:36.248Z"
   },
   {
    "duration": 52,
    "start_time": "2022-01-12T19:35:36.265Z"
   },
   {
    "duration": 5,
    "start_time": "2022-01-12T19:35:36.320Z"
   },
   {
    "duration": 408,
    "start_time": "2022-01-12T19:35:36.327Z"
   },
   {
    "duration": 1710,
    "start_time": "2022-01-12T19:35:35.029Z"
   },
   {
    "duration": 1704,
    "start_time": "2022-01-12T19:35:35.037Z"
   },
   {
    "duration": 1698,
    "start_time": "2022-01-12T19:35:35.044Z"
   },
   {
    "duration": 1694,
    "start_time": "2022-01-12T19:35:35.049Z"
   },
   {
    "duration": 1691,
    "start_time": "2022-01-12T19:35:35.054Z"
   },
   {
    "duration": 1688,
    "start_time": "2022-01-12T19:35:35.058Z"
   },
   {
    "duration": 1686,
    "start_time": "2022-01-12T19:35:35.062Z"
   },
   {
    "duration": 1682,
    "start_time": "2022-01-12T19:35:35.067Z"
   },
   {
    "duration": 1679,
    "start_time": "2022-01-12T19:35:35.071Z"
   },
   {
    "duration": 1677,
    "start_time": "2022-01-12T19:35:35.075Z"
   },
   {
    "duration": 1673,
    "start_time": "2022-01-12T19:35:35.080Z"
   },
   {
    "duration": 1670,
    "start_time": "2022-01-12T19:35:35.084Z"
   },
   {
    "duration": 1668,
    "start_time": "2022-01-12T19:35:35.088Z"
   },
   {
    "duration": 1664,
    "start_time": "2022-01-12T19:35:35.093Z"
   },
   {
    "duration": 1659,
    "start_time": "2022-01-12T19:35:35.099Z"
   },
   {
    "duration": 1655,
    "start_time": "2022-01-12T19:35:35.104Z"
   },
   {
    "duration": 1651,
    "start_time": "2022-01-12T19:35:35.110Z"
   },
   {
    "duration": 1287,
    "start_time": "2022-01-12T19:35:35.475Z"
   },
   {
    "duration": 1265,
    "start_time": "2022-01-12T19:35:35.499Z"
   },
   {
    "duration": 1258,
    "start_time": "2022-01-12T19:35:35.507Z"
   },
   {
    "duration": 1251,
    "start_time": "2022-01-12T19:35:35.515Z"
   },
   {
    "duration": 1237,
    "start_time": "2022-01-12T19:35:35.531Z"
   },
   {
    "duration": 1229,
    "start_time": "2022-01-12T19:35:35.540Z"
   },
   {
    "duration": 1203,
    "start_time": "2022-01-12T19:35:35.567Z"
   },
   {
    "duration": 1197,
    "start_time": "2022-01-12T19:35:35.575Z"
   },
   {
    "duration": 1192,
    "start_time": "2022-01-12T19:35:35.582Z"
   },
   {
    "duration": 1179,
    "start_time": "2022-01-12T19:35:35.596Z"
   },
   {
    "duration": 1166,
    "start_time": "2022-01-12T19:35:35.610Z"
   },
   {
    "duration": 1153,
    "start_time": "2022-01-12T19:35:35.624Z"
   },
   {
    "duration": 1148,
    "start_time": "2022-01-12T19:35:35.630Z"
   },
   {
    "duration": 1136,
    "start_time": "2022-01-12T19:35:35.643Z"
   },
   {
    "duration": 1161,
    "start_time": "2022-01-12T19:35:35.657Z"
   },
   {
    "duration": 1156,
    "start_time": "2022-01-12T19:35:35.664Z"
   },
   {
    "duration": 1144,
    "start_time": "2022-01-12T19:35:35.677Z"
   },
   {
    "duration": 1131,
    "start_time": "2022-01-12T19:35:35.692Z"
   },
   {
    "duration": 1126,
    "start_time": "2022-01-12T19:35:35.699Z"
   },
   {
    "duration": 1113,
    "start_time": "2022-01-12T19:35:35.713Z"
   },
   {
    "duration": 1101,
    "start_time": "2022-01-12T19:35:35.726Z"
   },
   {
    "duration": 1090,
    "start_time": "2022-01-12T19:35:35.739Z"
   },
   {
    "duration": 1088,
    "start_time": "2022-01-12T19:35:35.743Z"
   },
   {
    "duration": 1080,
    "start_time": "2022-01-12T19:35:35.755Z"
   },
   {
    "duration": 1077,
    "start_time": "2022-01-12T19:35:35.760Z"
   },
   {
    "duration": 1066,
    "start_time": "2022-01-12T19:35:35.772Z"
   },
   {
    "duration": 1063,
    "start_time": "2022-01-12T19:35:35.776Z"
   },
   {
    "duration": 1053,
    "start_time": "2022-01-12T19:35:35.788Z"
   },
   {
    "duration": 1049,
    "start_time": "2022-01-12T19:35:35.793Z"
   },
   {
    "duration": 1045,
    "start_time": "2022-01-12T19:35:35.798Z"
   },
   {
    "duration": 1043,
    "start_time": "2022-01-12T19:35:35.802Z"
   },
   {
    "duration": 1039,
    "start_time": "2022-01-12T19:35:35.807Z"
   },
   {
    "duration": 8,
    "start_time": "2022-01-12T19:36:04.690Z"
   },
   {
    "duration": 15,
    "start_time": "2022-01-12T19:36:17.355Z"
   },
   {
    "duration": 15,
    "start_time": "2022-01-12T19:36:22.293Z"
   },
   {
    "duration": 17,
    "start_time": "2022-01-12T19:37:35.003Z"
   },
   {
    "duration": 12,
    "start_time": "2022-01-12T19:37:41.240Z"
   },
   {
    "duration": 12,
    "start_time": "2022-01-12T19:37:52.131Z"
   },
   {
    "duration": 12,
    "start_time": "2022-01-12T19:38:01.189Z"
   },
   {
    "duration": 12,
    "start_time": "2022-01-12T19:38:16.219Z"
   },
   {
    "duration": 261,
    "start_time": "2022-01-12T19:39:25.897Z"
   },
   {
    "duration": 289,
    "start_time": "2022-01-12T19:39:51.691Z"
   },
   {
    "duration": 286,
    "start_time": "2022-01-12T19:40:10.464Z"
   },
   {
    "duration": 7,
    "start_time": "2022-01-12T19:40:23.376Z"
   },
   {
    "duration": 62,
    "start_time": "2022-01-12T19:40:26.421Z"
   },
   {
    "duration": 56,
    "start_time": "2022-01-12T19:40:56.380Z"
   },
   {
    "duration": 3,
    "start_time": "2022-01-12T19:41:31.091Z"
   },
   {
    "duration": 97,
    "start_time": "2022-01-12T19:43:50.121Z"
   },
   {
    "duration": 85,
    "start_time": "2022-01-12T19:45:00.559Z"
   },
   {
    "duration": 61,
    "start_time": "2022-01-12T19:46:27.166Z"
   },
   {
    "duration": 90,
    "start_time": "2022-01-12T19:46:40.496Z"
   },
   {
    "duration": 58,
    "start_time": "2022-01-12T19:46:54.759Z"
   },
   {
    "duration": 5,
    "start_time": "2022-01-12T19:48:00.914Z"
   },
   {
    "duration": 79,
    "start_time": "2022-01-12T19:48:53.328Z"
   },
   {
    "duration": 5,
    "start_time": "2022-01-12T19:48:55.736Z"
   },
   {
    "duration": 6,
    "start_time": "2022-01-12T19:50:03.106Z"
   },
   {
    "duration": 13,
    "start_time": "2022-01-12T19:50:17.838Z"
   },
   {
    "duration": 12,
    "start_time": "2022-01-12T19:50:44.986Z"
   },
   {
    "duration": 8,
    "start_time": "2022-01-12T19:51:28.591Z"
   },
   {
    "duration": 15,
    "start_time": "2022-01-12T19:51:34.217Z"
   },
   {
    "duration": 16,
    "start_time": "2022-01-12T19:51:43.012Z"
   },
   {
    "duration": 56,
    "start_time": "2022-01-12T19:55:37.515Z"
   },
   {
    "duration": 30,
    "start_time": "2022-01-12T19:56:28.763Z"
   },
   {
    "duration": 133,
    "start_time": "2022-01-12T19:56:44.432Z"
   },
   {
    "duration": 30,
    "start_time": "2022-01-12T19:57:55.310Z"
   },
   {
    "duration": 7,
    "start_time": "2022-01-12T19:58:18.706Z"
   },
   {
    "duration": 345,
    "start_time": "2022-01-12T19:59:38.132Z"
   },
   {
    "duration": 313,
    "start_time": "2022-01-12T19:59:38.535Z"
   },
   {
    "duration": 12,
    "start_time": "2022-01-12T20:00:11.008Z"
   },
   {
    "duration": 23,
    "start_time": "2022-01-12T20:01:00.962Z"
   },
   {
    "duration": 1419,
    "start_time": "2022-01-12T20:02:51.447Z"
   },
   {
    "duration": 658,
    "start_time": "2022-01-12T20:02:52.869Z"
   },
   {
    "duration": 11487,
    "start_time": "2022-01-12T20:02:53.530Z"
   },
   {
    "duration": 714,
    "start_time": "2022-01-12T20:03:05.021Z"
   },
   {
    "duration": 19,
    "start_time": "2022-01-12T20:03:05.737Z"
   },
   {
    "duration": 12,
    "start_time": "2022-01-12T20:03:05.759Z"
   },
   {
    "duration": 42,
    "start_time": "2022-01-12T20:03:05.774Z"
   },
   {
    "duration": 20,
    "start_time": "2022-01-12T20:03:05.821Z"
   },
   {
    "duration": 14,
    "start_time": "2022-01-12T20:03:05.844Z"
   },
   {
    "duration": 5,
    "start_time": "2022-01-12T20:03:05.861Z"
   },
   {
    "duration": 50,
    "start_time": "2022-01-12T20:03:05.869Z"
   },
   {
    "duration": 19,
    "start_time": "2022-01-12T20:03:05.921Z"
   },
   {
    "duration": 7,
    "start_time": "2022-01-12T20:03:05.942Z"
   },
   {
    "duration": 138,
    "start_time": "2022-01-12T20:03:05.952Z"
   },
   {
    "duration": 101,
    "start_time": "2022-01-12T20:03:06.092Z"
   },
   {
    "duration": 5,
    "start_time": "2022-01-12T20:03:06.196Z"
   },
   {
    "duration": 23,
    "start_time": "2022-01-12T20:03:06.218Z"
   },
   {
    "duration": 6,
    "start_time": "2022-01-12T20:03:06.244Z"
   },
   {
    "duration": 13,
    "start_time": "2022-01-12T20:03:06.252Z"
   },
   {
    "duration": 63,
    "start_time": "2022-01-12T20:03:06.267Z"
   },
   {
    "duration": 3,
    "start_time": "2022-01-12T20:03:06.332Z"
   },
   {
    "duration": 19,
    "start_time": "2022-01-12T20:03:06.338Z"
   },
   {
    "duration": 11,
    "start_time": "2022-01-12T20:03:06.362Z"
   },
   {
    "duration": 45,
    "start_time": "2022-01-12T20:03:06.377Z"
   },
   {
    "duration": 37,
    "start_time": "2022-01-12T20:03:06.426Z"
   },
   {
    "duration": 83,
    "start_time": "2022-01-12T20:03:06.466Z"
   },
   {
    "duration": 24,
    "start_time": "2022-01-12T20:03:06.552Z"
   },
   {
    "duration": 67,
    "start_time": "2022-01-12T20:03:06.579Z"
   },
   {
    "duration": 5,
    "start_time": "2022-01-12T20:03:06.649Z"
   },
   {
    "duration": 32,
    "start_time": "2022-01-12T20:03:06.657Z"
   },
   {
    "duration": 45,
    "start_time": "2022-01-12T20:03:06.691Z"
   },
   {
    "duration": 15,
    "start_time": "2022-01-12T20:03:06.738Z"
   },
   {
    "duration": 73,
    "start_time": "2022-01-12T20:03:06.755Z"
   },
   {
    "duration": 363,
    "start_time": "2022-01-12T20:03:06.830Z"
   },
   {
    "duration": 29,
    "start_time": "2022-01-12T20:03:07.195Z"
   },
   {
    "duration": 910,
    "start_time": "2022-01-12T20:03:07.226Z"
   },
   {
    "duration": 8,
    "start_time": "2022-01-12T20:03:08.139Z"
   },
   {
    "duration": 14,
    "start_time": "2022-01-12T20:03:08.149Z"
   },
   {
    "duration": 15,
    "start_time": "2022-01-12T20:03:08.165Z"
   },
   {
    "duration": 14,
    "start_time": "2022-01-12T20:03:08.217Z"
   },
   {
    "duration": 15,
    "start_time": "2022-01-12T20:03:08.233Z"
   },
   {
    "duration": 27,
    "start_time": "2022-01-12T20:03:08.251Z"
   },
   {
    "duration": 377,
    "start_time": "2022-01-12T20:03:08.280Z"
   },
   {
    "duration": 21,
    "start_time": "2022-01-12T20:03:08.659Z"
   },
   {
    "duration": 79,
    "start_time": "2022-01-12T20:03:08.683Z"
   },
   {
    "duration": 11161,
    "start_time": "2022-01-12T20:03:08.764Z"
   },
   {
    "duration": 5,
    "start_time": "2022-01-12T20:03:19.928Z"
   },
   {
    "duration": 13,
    "start_time": "2022-01-12T20:03:19.936Z"
   },
   {
    "duration": 8,
    "start_time": "2022-01-12T20:03:19.951Z"
   },
   {
    "duration": 14,
    "start_time": "2022-01-12T20:03:19.961Z"
   },
   {
    "duration": 43,
    "start_time": "2022-01-12T20:03:20.018Z"
   },
   {
    "duration": 17,
    "start_time": "2022-01-12T20:03:20.064Z"
   },
   {
    "duration": 64,
    "start_time": "2022-01-12T20:03:20.083Z"
   },
   {
    "duration": 14,
    "start_time": "2022-01-12T20:03:20.150Z"
   },
   {
    "duration": 7,
    "start_time": "2022-01-12T20:03:20.167Z"
   },
   {
    "duration": 42,
    "start_time": "2022-01-12T20:03:20.176Z"
   },
   {
    "duration": 6,
    "start_time": "2022-01-12T20:03:20.221Z"
   },
   {
    "duration": 10,
    "start_time": "2022-01-12T20:03:20.229Z"
   },
   {
    "duration": 19,
    "start_time": "2022-01-12T20:03:20.242Z"
   },
   {
    "duration": 15,
    "start_time": "2022-01-12T20:03:20.264Z"
   },
   {
    "duration": 497,
    "start_time": "2022-01-12T20:07:13.216Z"
   },
   {
    "duration": 38,
    "start_time": "2022-01-12T20:07:34.553Z"
   },
   {
    "duration": 5,
    "start_time": "2022-01-12T20:07:49.933Z"
   },
   {
    "duration": 34,
    "start_time": "2022-01-12T20:08:23.043Z"
   },
   {
    "duration": 1258,
    "start_time": "2022-01-12T20:09:39.507Z"
   },
   {
    "duration": 679,
    "start_time": "2022-01-12T20:09:40.768Z"
   },
   {
    "duration": 10147,
    "start_time": "2022-01-12T20:09:41.450Z"
   },
   {
    "duration": 953,
    "start_time": "2022-01-12T20:09:51.600Z"
   },
   {
    "duration": 18,
    "start_time": "2022-01-12T20:09:52.555Z"
   },
   {
    "duration": 11,
    "start_time": "2022-01-12T20:09:52.576Z"
   },
   {
    "duration": 35,
    "start_time": "2022-01-12T20:09:52.590Z"
   },
   {
    "duration": 29,
    "start_time": "2022-01-12T20:09:52.630Z"
   },
   {
    "duration": 14,
    "start_time": "2022-01-12T20:09:52.663Z"
   },
   {
    "duration": 37,
    "start_time": "2022-01-12T20:09:52.679Z"
   },
   {
    "duration": 14,
    "start_time": "2022-01-12T20:09:52.719Z"
   },
   {
    "duration": 28,
    "start_time": "2022-01-12T20:09:52.736Z"
   },
   {
    "duration": 7,
    "start_time": "2022-01-12T20:09:52.766Z"
   },
   {
    "duration": 107,
    "start_time": "2022-01-12T20:09:52.818Z"
   },
   {
    "duration": 99,
    "start_time": "2022-01-12T20:09:52.928Z"
   },
   {
    "duration": 5,
    "start_time": "2022-01-12T20:09:53.029Z"
   },
   {
    "duration": 29,
    "start_time": "2022-01-12T20:09:53.036Z"
   },
   {
    "duration": 7,
    "start_time": "2022-01-12T20:09:53.067Z"
   },
   {
    "duration": 50,
    "start_time": "2022-01-12T20:09:53.076Z"
   },
   {
    "duration": 22,
    "start_time": "2022-01-12T20:09:53.129Z"
   },
   {
    "duration": 5,
    "start_time": "2022-01-12T20:09:53.154Z"
   },
   {
    "duration": 28,
    "start_time": "2022-01-12T20:09:53.162Z"
   },
   {
    "duration": 5,
    "start_time": "2022-01-12T20:09:53.219Z"
   },
   {
    "duration": 43,
    "start_time": "2022-01-12T20:09:53.227Z"
   },
   {
    "duration": 80,
    "start_time": "2022-01-12T20:09:53.273Z"
   },
   {
    "duration": 26,
    "start_time": "2022-01-12T20:09:53.355Z"
   },
   {
    "duration": 79,
    "start_time": "2022-01-12T20:09:53.384Z"
   },
   {
    "duration": 6,
    "start_time": "2022-01-12T20:09:53.466Z"
   },
   {
    "duration": 52,
    "start_time": "2022-01-12T20:09:53.475Z"
   },
   {
    "duration": 22,
    "start_time": "2022-01-12T20:09:53.530Z"
   },
   {
    "duration": 13,
    "start_time": "2022-01-12T20:09:53.555Z"
   },
   {
    "duration": 85,
    "start_time": "2022-01-12T20:09:53.571Z"
   },
   {
    "duration": 356,
    "start_time": "2022-01-12T20:09:53.659Z"
   },
   {
    "duration": 25,
    "start_time": "2022-01-12T20:09:54.018Z"
   },
   {
    "duration": 949,
    "start_time": "2022-01-12T20:09:54.045Z"
   },
   {
    "duration": 21,
    "start_time": "2022-01-12T20:09:54.997Z"
   },
   {
    "duration": 16,
    "start_time": "2022-01-12T20:09:55.020Z"
   },
   {
    "duration": 18,
    "start_time": "2022-01-12T20:09:55.039Z"
   },
   {
    "duration": 13,
    "start_time": "2022-01-12T20:09:55.060Z"
   },
   {
    "duration": 49,
    "start_time": "2022-01-12T20:09:55.076Z"
   },
   {
    "duration": 28,
    "start_time": "2022-01-12T20:09:55.128Z"
   },
   {
    "duration": 365,
    "start_time": "2022-01-12T20:09:55.159Z"
   },
   {
    "duration": 26,
    "start_time": "2022-01-12T20:09:55.527Z"
   },
   {
    "duration": 100,
    "start_time": "2022-01-12T20:09:55.555Z"
   },
   {
    "duration": 18411,
    "start_time": "2022-01-12T20:09:55.657Z"
   },
   {
    "duration": 5,
    "start_time": "2022-01-12T20:10:14.070Z"
   },
   {
    "duration": 12,
    "start_time": "2022-01-12T20:10:14.078Z"
   },
   {
    "duration": 8,
    "start_time": "2022-01-12T20:10:14.117Z"
   },
   {
    "duration": 14,
    "start_time": "2022-01-12T20:10:14.127Z"
   },
   {
    "duration": 73,
    "start_time": "2022-01-12T20:10:14.144Z"
   },
   {
    "duration": 14,
    "start_time": "2022-01-12T20:10:14.219Z"
   },
   {
    "duration": 30,
    "start_time": "2022-01-12T20:10:14.235Z"
   },
   {
    "duration": 14,
    "start_time": "2022-01-12T20:10:14.268Z"
   },
   {
    "duration": 37,
    "start_time": "2022-01-12T20:10:14.284Z"
   },
   {
    "duration": 7,
    "start_time": "2022-01-12T20:10:14.323Z"
   },
   {
    "duration": 8,
    "start_time": "2022-01-12T20:10:14.333Z"
   },
   {
    "duration": 8,
    "start_time": "2022-01-12T20:10:14.343Z"
   },
   {
    "duration": 64,
    "start_time": "2022-01-12T20:10:14.353Z"
   },
   {
    "duration": 19,
    "start_time": "2022-01-12T20:10:14.419Z"
   },
   {
    "duration": 4,
    "start_time": "2022-01-13T11:55:57.436Z"
   },
   {
    "duration": 3,
    "start_time": "2022-01-13T12:18:09.662Z"
   },
   {
    "duration": 349,
    "start_time": "2022-01-13T12:19:51.573Z"
   },
   {
    "duration": 1326,
    "start_time": "2022-01-13T12:20:06.741Z"
   },
   {
    "duration": 522,
    "start_time": "2022-01-13T12:20:08.069Z"
   },
   {
    "duration": 115,
    "start_time": "2022-01-13T12:20:08.482Z"
   },
   {
    "duration": 112,
    "start_time": "2022-01-13T12:20:08.487Z"
   },
   {
    "duration": 25,
    "start_time": "2022-01-13T12:20:08.576Z"
   },
   {
    "duration": 25,
    "start_time": "2022-01-13T12:20:08.579Z"
   },
   {
    "duration": 22,
    "start_time": "2022-01-13T12:20:08.584Z"
   },
   {
    "duration": 21,
    "start_time": "2022-01-13T12:20:08.587Z"
   },
   {
    "duration": 19,
    "start_time": "2022-01-13T12:20:08.591Z"
   },
   {
    "duration": 18,
    "start_time": "2022-01-13T12:20:08.595Z"
   },
   {
    "duration": 11,
    "start_time": "2022-01-13T12:20:08.604Z"
   },
   {
    "duration": 9,
    "start_time": "2022-01-13T12:20:08.608Z"
   },
   {
    "duration": 8,
    "start_time": "2022-01-13T12:20:08.611Z"
   },
   {
    "duration": 7,
    "start_time": "2022-01-13T12:20:08.614Z"
   },
   {
    "duration": 6,
    "start_time": "2022-01-13T12:20:08.618Z"
   },
   {
    "duration": 4,
    "start_time": "2022-01-13T12:20:08.622Z"
   },
   {
    "duration": 2,
    "start_time": "2022-01-13T12:20:08.626Z"
   },
   {
    "duration": 2,
    "start_time": "2022-01-13T12:20:08.628Z"
   },
   {
    "duration": 1,
    "start_time": "2022-01-13T12:20:08.632Z"
   },
   {
    "duration": 0,
    "start_time": "2022-01-13T12:20:08.635Z"
   },
   {
    "duration": -1,
    "start_time": "2022-01-13T12:20:08.638Z"
   },
   {
    "duration": -2,
    "start_time": "2022-01-13T12:20:08.642Z"
   },
   {
    "duration": -3,
    "start_time": "2022-01-13T12:20:08.645Z"
   },
   {
    "duration": -4,
    "start_time": "2022-01-13T12:20:08.648Z"
   },
   {
    "duration": -6,
    "start_time": "2022-01-13T12:20:08.652Z"
   },
   {
    "duration": -88,
    "start_time": "2022-01-13T12:20:08.737Z"
   },
   {
    "duration": -106,
    "start_time": "2022-01-13T12:20:08.757Z"
   },
   {
    "duration": -107,
    "start_time": "2022-01-13T12:20:08.760Z"
   },
   {
    "duration": -109,
    "start_time": "2022-01-13T12:20:08.764Z"
   },
   {
    "duration": -109,
    "start_time": "2022-01-13T12:20:08.766Z"
   },
   {
    "duration": -111,
    "start_time": "2022-01-13T12:20:08.770Z"
   },
   {
    "duration": -112,
    "start_time": "2022-01-13T12:20:08.773Z"
   },
   {
    "duration": -53,
    "start_time": "2022-01-13T12:20:08.776Z"
   },
   {
    "duration": -53,
    "start_time": "2022-01-13T12:20:08.779Z"
   },
   {
    "duration": -55,
    "start_time": "2022-01-13T12:20:08.783Z"
   },
   {
    "duration": -56,
    "start_time": "2022-01-13T12:20:08.786Z"
   },
   {
    "duration": -57,
    "start_time": "2022-01-13T12:20:08.789Z"
   },
   {
    "duration": -61,
    "start_time": "2022-01-13T12:20:08.796Z"
   },
   {
    "duration": -63,
    "start_time": "2022-01-13T12:20:08.800Z"
   },
   {
    "duration": -65,
    "start_time": "2022-01-13T12:20:08.804Z"
   },
   {
    "duration": -66,
    "start_time": "2022-01-13T12:20:08.807Z"
   },
   {
    "duration": -67,
    "start_time": "2022-01-13T12:20:08.810Z"
   },
   {
    "duration": -69,
    "start_time": "2022-01-13T12:20:08.813Z"
   },
   {
    "duration": -71,
    "start_time": "2022-01-13T12:20:08.817Z"
   },
   {
    "duration": -72,
    "start_time": "2022-01-13T12:20:08.820Z"
   },
   {
    "duration": -73,
    "start_time": "2022-01-13T12:20:08.823Z"
   },
   {
    "duration": -74,
    "start_time": "2022-01-13T12:20:08.826Z"
   },
   {
    "duration": -76,
    "start_time": "2022-01-13T12:20:08.829Z"
   },
   {
    "duration": -79,
    "start_time": "2022-01-13T12:20:08.833Z"
   },
   {
    "duration": -117,
    "start_time": "2022-01-13T12:20:08.873Z"
   },
   {
    "duration": -147,
    "start_time": "2022-01-13T12:20:08.904Z"
   },
   {
    "duration": -149,
    "start_time": "2022-01-13T12:20:08.908Z"
   },
   {
    "duration": -150,
    "start_time": "2022-01-13T12:20:08.911Z"
   },
   {
    "duration": -152,
    "start_time": "2022-01-13T12:20:08.914Z"
   },
   {
    "duration": -94,
    "start_time": "2022-01-13T12:20:08.917Z"
   },
   {
    "duration": -96,
    "start_time": "2022-01-13T12:20:08.920Z"
   },
   {
    "duration": -105,
    "start_time": "2022-01-13T12:20:08.931Z"
   },
   {
    "duration": -110,
    "start_time": "2022-01-13T12:20:08.938Z"
   },
   {
    "duration": -112,
    "start_time": "2022-01-13T12:20:08.941Z"
   },
   {
    "duration": -113,
    "start_time": "2022-01-13T12:20:08.944Z"
   },
   {
    "duration": 531,
    "start_time": "2022-01-13T12:20:48.545Z"
   },
   {
    "duration": 36638,
    "start_time": "2022-01-13T12:21:00.901Z"
   },
   {
    "duration": 1100,
    "start_time": "2022-01-13T12:21:37.542Z"
   },
   {
    "duration": 19,
    "start_time": "2022-01-13T12:21:38.645Z"
   },
   {
    "duration": 13,
    "start_time": "2022-01-13T12:21:38.666Z"
   },
   {
    "duration": 13,
    "start_time": "2022-01-13T12:21:38.681Z"
   },
   {
    "duration": 15,
    "start_time": "2022-01-13T12:21:38.723Z"
   },
   {
    "duration": 287,
    "start_time": "2022-01-13T12:21:38.742Z"
   },
   {
    "duration": 12,
    "start_time": "2022-01-13T12:21:39.034Z"
   },
   {
    "duration": 6,
    "start_time": "2022-01-13T12:21:39.051Z"
   },
   {
    "duration": 12,
    "start_time": "2022-01-13T12:21:39.060Z"
   },
   {
    "duration": 63,
    "start_time": "2022-01-13T12:21:39.075Z"
   },
   {
    "duration": 5,
    "start_time": "2022-01-13T12:21:39.141Z"
   },
   {
    "duration": 110,
    "start_time": "2022-01-13T12:21:39.149Z"
   },
   {
    "duration": 85,
    "start_time": "2022-01-13T12:21:39.261Z"
   },
   {
    "duration": 5,
    "start_time": "2022-01-13T12:21:39.349Z"
   },
   {
    "duration": 24,
    "start_time": "2022-01-13T12:21:39.357Z"
   },
   {
    "duration": 45,
    "start_time": "2022-01-13T12:21:39.384Z"
   },
   {
    "duration": 12,
    "start_time": "2022-01-13T12:21:39.432Z"
   },
   {
    "duration": 23,
    "start_time": "2022-01-13T12:21:39.447Z"
   },
   {
    "duration": 50,
    "start_time": "2022-01-13T12:21:39.473Z"
   },
   {
    "duration": 19,
    "start_time": "2022-01-13T12:21:39.526Z"
   },
   {
    "duration": 6,
    "start_time": "2022-01-13T12:21:39.547Z"
   },
   {
    "duration": 88,
    "start_time": "2022-01-13T12:21:39.562Z"
   },
   {
    "duration": 112,
    "start_time": "2022-01-13T12:21:39.653Z"
   },
   {
    "duration": 21,
    "start_time": "2022-01-13T12:21:39.768Z"
   },
   {
    "duration": 65,
    "start_time": "2022-01-13T12:21:39.791Z"
   },
   {
    "duration": 7,
    "start_time": "2022-01-13T12:21:39.859Z"
   },
   {
    "duration": 24,
    "start_time": "2022-01-13T12:21:39.868Z"
   },
   {
    "duration": 382,
    "start_time": "2022-01-13T12:21:39.894Z"
   },
   {
    "duration": 120,
    "start_time": "2022-01-13T12:21:40.158Z"
   },
   {
    "duration": 118,
    "start_time": "2022-01-13T12:21:40.162Z"
   },
   {
    "duration": 115,
    "start_time": "2022-01-13T12:21:40.166Z"
   },
   {
    "duration": 112,
    "start_time": "2022-01-13T12:21:40.170Z"
   },
   {
    "duration": 111,
    "start_time": "2022-01-13T12:21:40.173Z"
   },
   {
    "duration": 109,
    "start_time": "2022-01-13T12:21:40.176Z"
   },
   {
    "duration": 108,
    "start_time": "2022-01-13T12:21:40.179Z"
   },
   {
    "duration": 106,
    "start_time": "2022-01-13T12:21:40.182Z"
   },
   {
    "duration": 100,
    "start_time": "2022-01-13T12:21:40.189Z"
   },
   {
    "duration": 99,
    "start_time": "2022-01-13T12:21:40.192Z"
   },
   {
    "duration": 97,
    "start_time": "2022-01-13T12:21:40.195Z"
   },
   {
    "duration": 97,
    "start_time": "2022-01-13T12:21:40.197Z"
   },
   {
    "duration": 96,
    "start_time": "2022-01-13T12:21:40.200Z"
   },
   {
    "duration": 94,
    "start_time": "2022-01-13T12:21:40.203Z"
   },
   {
    "duration": 92,
    "start_time": "2022-01-13T12:21:40.206Z"
   },
   {
    "duration": 92,
    "start_time": "2022-01-13T12:21:40.208Z"
   },
   {
    "duration": 90,
    "start_time": "2022-01-13T12:21:40.211Z"
   },
   {
    "duration": 90,
    "start_time": "2022-01-13T12:21:40.213Z"
   },
   {
    "duration": 89,
    "start_time": "2022-01-13T12:21:40.216Z"
   },
   {
    "duration": 81,
    "start_time": "2022-01-13T12:21:40.225Z"
   },
   {
    "duration": 80,
    "start_time": "2022-01-13T12:21:40.228Z"
   },
   {
    "duration": 78,
    "start_time": "2022-01-13T12:21:40.231Z"
   },
   {
    "duration": 77,
    "start_time": "2022-01-13T12:21:40.234Z"
   },
   {
    "duration": 77,
    "start_time": "2022-01-13T12:21:40.237Z"
   },
   {
    "duration": 83,
    "start_time": "2022-01-13T12:21:40.240Z"
   },
   {
    "duration": 82,
    "start_time": "2022-01-13T12:21:40.242Z"
   },
   {
    "duration": 81,
    "start_time": "2022-01-13T12:21:40.245Z"
   },
   {
    "duration": 80,
    "start_time": "2022-01-13T12:21:40.248Z"
   },
   {
    "duration": 78,
    "start_time": "2022-01-13T12:21:40.251Z"
   },
   {
    "duration": 15,
    "start_time": "2022-01-13T12:22:02.362Z"
   },
   {
    "duration": 31,
    "start_time": "2022-01-13T12:23:34.293Z"
   },
   {
    "duration": 26,
    "start_time": "2022-01-13T12:24:22.186Z"
   },
   {
    "duration": 323,
    "start_time": "2022-01-13T12:24:29.249Z"
   },
   {
    "duration": 16,
    "start_time": "2022-01-13T12:24:31.771Z"
   },
   {
    "duration": 254,
    "start_time": "2022-01-13T12:25:04.651Z"
   },
   {
    "duration": 98,
    "start_time": "2022-01-13T12:25:06.452Z"
   },
   {
    "duration": 16,
    "start_time": "2022-01-13T12:25:08.266Z"
   },
   {
    "duration": 18,
    "start_time": "2022-01-13T12:25:54.029Z"
   },
   {
    "duration": 18,
    "start_time": "2022-01-13T12:26:22.696Z"
   },
   {
    "duration": 16,
    "start_time": "2022-01-13T12:26:36.762Z"
   },
   {
    "duration": 15,
    "start_time": "2022-01-13T12:26:47.345Z"
   },
   {
    "duration": 95,
    "start_time": "2022-01-13T12:35:15.332Z"
   },
   {
    "duration": 126,
    "start_time": "2022-01-13T12:35:28.036Z"
   },
   {
    "duration": 96,
    "start_time": "2022-01-13T12:35:39.114Z"
   },
   {
    "duration": 97,
    "start_time": "2022-01-13T12:36:05.879Z"
   },
   {
    "duration": 51,
    "start_time": "2022-01-13T12:36:14.247Z"
   },
   {
    "duration": 46,
    "start_time": "2022-01-13T12:36:19.743Z"
   },
   {
    "duration": 26,
    "start_time": "2022-01-13T12:36:35.804Z"
   },
   {
    "duration": 54,
    "start_time": "2022-01-13T12:36:41.007Z"
   },
   {
    "duration": 6,
    "start_time": "2022-01-13T12:37:08.817Z"
   },
   {
    "duration": 5,
    "start_time": "2022-01-13T12:37:33.191Z"
   },
   {
    "duration": 5,
    "start_time": "2022-01-13T12:37:35.068Z"
   },
   {
    "duration": 17,
    "start_time": "2022-01-13T12:37:58.716Z"
   },
   {
    "duration": 9,
    "start_time": "2022-01-13T12:38:03.462Z"
   },
   {
    "duration": 1121,
    "start_time": "2022-01-13T12:38:20.419Z"
   },
   {
    "duration": 599,
    "start_time": "2022-01-13T12:38:21.543Z"
   },
   {
    "duration": 7624,
    "start_time": "2022-01-13T12:38:22.144Z"
   },
   {
    "duration": 672,
    "start_time": "2022-01-13T12:38:29.771Z"
   },
   {
    "duration": 19,
    "start_time": "2022-01-13T12:38:30.445Z"
   },
   {
    "duration": 21,
    "start_time": "2022-01-13T12:38:30.466Z"
   },
   {
    "duration": 22,
    "start_time": "2022-01-13T12:38:30.489Z"
   },
   {
    "duration": 17,
    "start_time": "2022-01-13T12:38:30.523Z"
   },
   {
    "duration": 314,
    "start_time": "2022-01-13T12:38:30.542Z"
   },
   {
    "duration": 129,
    "start_time": "2022-01-13T12:38:30.858Z"
   },
   {
    "duration": 17,
    "start_time": "2022-01-13T12:38:30.989Z"
   },
   {
    "duration": 27,
    "start_time": "2022-01-13T12:38:31.008Z"
   },
   {
    "duration": 44,
    "start_time": "2022-01-13T12:38:31.038Z"
   },
   {
    "duration": 579,
    "start_time": "2022-01-13T12:38:31.085Z"
   },
   {
    "duration": 129,
    "start_time": "2022-01-13T12:38:31.539Z"
   },
   {
    "duration": 127,
    "start_time": "2022-01-13T12:38:31.543Z"
   },
   {
    "duration": 116,
    "start_time": "2022-01-13T12:38:31.555Z"
   },
   {
    "duration": 111,
    "start_time": "2022-01-13T12:38:31.561Z"
   },
   {
    "duration": 97,
    "start_time": "2022-01-13T12:38:31.576Z"
   },
   {
    "duration": 89,
    "start_time": "2022-01-13T12:38:31.586Z"
   },
   {
    "duration": 87,
    "start_time": "2022-01-13T12:38:31.589Z"
   },
   {
    "duration": 84,
    "start_time": "2022-01-13T12:38:31.593Z"
   },
   {
    "duration": 81,
    "start_time": "2022-01-13T12:38:31.597Z"
   },
   {
    "duration": 72,
    "start_time": "2022-01-13T12:38:31.607Z"
   },
   {
    "duration": 68,
    "start_time": "2022-01-13T12:38:31.613Z"
   },
   {
    "duration": 64,
    "start_time": "2022-01-13T12:38:31.618Z"
   },
   {
    "duration": 62,
    "start_time": "2022-01-13T12:38:31.622Z"
   },
   {
    "duration": 57,
    "start_time": "2022-01-13T12:38:31.628Z"
   },
   {
    "duration": 53,
    "start_time": "2022-01-13T12:38:31.633Z"
   },
   {
    "duration": 51,
    "start_time": "2022-01-13T12:38:31.637Z"
   },
   {
    "duration": 47,
    "start_time": "2022-01-13T12:38:31.642Z"
   },
   {
    "duration": 40,
    "start_time": "2022-01-13T12:38:31.650Z"
   },
   {
    "duration": 27,
    "start_time": "2022-01-13T12:38:31.665Z"
   },
   {
    "duration": 14,
    "start_time": "2022-01-13T12:38:31.679Z"
   },
   {
    "duration": 10,
    "start_time": "2022-01-13T12:38:31.684Z"
   },
   {
    "duration": -2,
    "start_time": "2022-01-13T12:38:31.698Z"
   },
   {
    "duration": -19,
    "start_time": "2022-01-13T12:38:31.716Z"
   },
   {
    "duration": -54,
    "start_time": "2022-01-13T12:38:31.753Z"
   },
   {
    "duration": -85,
    "start_time": "2022-01-13T12:38:31.785Z"
   },
   {
    "duration": -91,
    "start_time": "2022-01-13T12:38:31.792Z"
   },
   {
    "duration": -104,
    "start_time": "2022-01-13T12:38:31.807Z"
   },
   {
    "duration": -109,
    "start_time": "2022-01-13T12:38:31.813Z"
   },
   {
    "duration": -121,
    "start_time": "2022-01-13T12:38:31.826Z"
   },
   {
    "duration": -131,
    "start_time": "2022-01-13T12:38:31.838Z"
   },
   {
    "duration": -135,
    "start_time": "2022-01-13T12:38:31.843Z"
   },
   {
    "duration": -146,
    "start_time": "2022-01-13T12:38:31.855Z"
   },
   {
    "duration": -149,
    "start_time": "2022-01-13T12:38:31.859Z"
   },
   {
    "duration": -150,
    "start_time": "2022-01-13T12:38:31.873Z"
   },
   {
    "duration": -155,
    "start_time": "2022-01-13T12:38:31.879Z"
   },
   {
    "duration": -166,
    "start_time": "2022-01-13T12:38:31.892Z"
   },
   {
    "duration": -252,
    "start_time": "2022-01-13T12:38:31.979Z"
   },
   {
    "duration": -263,
    "start_time": "2022-01-13T12:38:31.991Z"
   },
   {
    "duration": -267,
    "start_time": "2022-01-13T12:38:31.996Z"
   },
   {
    "duration": -277,
    "start_time": "2022-01-13T12:38:32.008Z"
   },
   {
    "duration": -282,
    "start_time": "2022-01-13T12:38:32.014Z"
   },
   {
    "duration": -292,
    "start_time": "2022-01-13T12:38:32.025Z"
   },
   {
    "duration": -319,
    "start_time": "2022-01-13T12:38:32.053Z"
   },
   {
    "duration": -322,
    "start_time": "2022-01-13T12:38:32.058Z"
   },
   {
    "duration": -326,
    "start_time": "2022-01-13T12:38:32.063Z"
   },
   {
    "duration": -385,
    "start_time": "2022-01-13T12:38:32.123Z"
   },
   {
    "duration": -389,
    "start_time": "2022-01-13T12:38:32.128Z"
   },
   {
    "duration": -400,
    "start_time": "2022-01-13T12:38:32.141Z"
   },
   {
    "duration": -405,
    "start_time": "2022-01-13T12:38:32.147Z"
   },
   {
    "duration": -418,
    "start_time": "2022-01-13T12:38:32.161Z"
   },
   {
    "duration": -427,
    "start_time": "2022-01-13T12:38:32.172Z"
   },
   {
    "duration": -432,
    "start_time": "2022-01-13T12:38:32.178Z"
   },
   {
    "duration": 346,
    "start_time": "2022-01-13T12:38:49.493Z"
   },
   {
    "duration": 15,
    "start_time": "2022-01-13T12:38:56.749Z"
   },
   {
    "duration": 17,
    "start_time": "2022-01-13T12:39:13.295Z"
   },
   {
    "duration": 1178,
    "start_time": "2022-01-13T12:39:41.492Z"
   },
   {
    "duration": 596,
    "start_time": "2022-01-13T12:39:42.673Z"
   },
   {
    "duration": 7322,
    "start_time": "2022-01-13T12:39:43.272Z"
   },
   {
    "duration": 638,
    "start_time": "2022-01-13T12:39:50.597Z"
   },
   {
    "duration": 18,
    "start_time": "2022-01-13T12:39:51.237Z"
   },
   {
    "duration": 12,
    "start_time": "2022-01-13T12:39:51.258Z"
   },
   {
    "duration": 51,
    "start_time": "2022-01-13T12:39:51.272Z"
   },
   {
    "duration": 17,
    "start_time": "2022-01-13T12:39:51.327Z"
   },
   {
    "duration": 306,
    "start_time": "2022-01-13T12:39:51.348Z"
   },
   {
    "duration": 121,
    "start_time": "2022-01-13T12:39:51.656Z"
   },
   {
    "duration": 18,
    "start_time": "2022-01-13T12:39:51.779Z"
   },
   {
    "duration": 36,
    "start_time": "2022-01-13T12:39:51.800Z"
   },
   {
    "duration": 45,
    "start_time": "2022-01-13T12:39:51.839Z"
   },
   {
    "duration": 83,
    "start_time": "2022-01-13T12:39:51.887Z"
   },
   {
    "duration": 7,
    "start_time": "2022-01-13T12:39:51.973Z"
   },
   {
    "duration": 47,
    "start_time": "2022-01-13T12:39:51.983Z"
   },
   {
    "duration": 5,
    "start_time": "2022-01-13T12:39:52.033Z"
   },
   {
    "duration": 15,
    "start_time": "2022-01-13T12:39:52.041Z"
   },
   {
    "duration": 25,
    "start_time": "2022-01-13T12:39:52.059Z"
   },
   {
    "duration": 39,
    "start_time": "2022-01-13T12:39:52.086Z"
   },
   {
    "duration": 79,
    "start_time": "2022-01-13T12:39:52.127Z"
   },
   {
    "duration": 81,
    "start_time": "2022-01-13T12:39:52.224Z"
   },
   {
    "duration": 5,
    "start_time": "2022-01-13T12:39:52.322Z"
   },
   {
    "duration": 22,
    "start_time": "2022-01-13T12:39:52.331Z"
   },
   {
    "duration": 6,
    "start_time": "2022-01-13T12:39:52.355Z"
   },
   {
    "duration": 22,
    "start_time": "2022-01-13T12:39:52.363Z"
   },
   {
    "duration": 57,
    "start_time": "2022-01-13T12:39:52.387Z"
   },
   {
    "duration": 4,
    "start_time": "2022-01-13T12:39:52.447Z"
   },
   {
    "duration": 21,
    "start_time": "2022-01-13T12:39:52.453Z"
   },
   {
    "duration": 6,
    "start_time": "2022-01-13T12:39:52.478Z"
   },
   {
    "duration": 35,
    "start_time": "2022-01-13T12:39:52.523Z"
   },
   {
    "duration": 72,
    "start_time": "2022-01-13T12:39:52.561Z"
   },
   {
    "duration": 22,
    "start_time": "2022-01-13T12:39:52.636Z"
   },
   {
    "duration": 63,
    "start_time": "2022-01-13T12:39:52.660Z"
   },
   {
    "duration": 6,
    "start_time": "2022-01-13T12:39:52.725Z"
   },
   {
    "duration": 33,
    "start_time": "2022-01-13T12:39:52.734Z"
   },
   {
    "duration": 27,
    "start_time": "2022-01-13T12:39:52.770Z"
   },
   {
    "duration": 36,
    "start_time": "2022-01-13T12:39:52.799Z"
   },
   {
    "duration": 66,
    "start_time": "2022-01-13T12:39:52.839Z"
   },
   {
    "duration": 352,
    "start_time": "2022-01-13T12:39:52.908Z"
   },
   {
    "duration": 64,
    "start_time": "2022-01-13T12:39:53.263Z"
   },
   {
    "duration": 969,
    "start_time": "2022-01-13T12:39:53.329Z"
   },
   {
    "duration": 10,
    "start_time": "2022-01-13T12:39:54.300Z"
   },
   {
    "duration": 18,
    "start_time": "2022-01-13T12:39:54.324Z"
   },
   {
    "duration": 17,
    "start_time": "2022-01-13T12:39:54.344Z"
   },
   {
    "duration": 14,
    "start_time": "2022-01-13T12:39:54.364Z"
   },
   {
    "duration": 45,
    "start_time": "2022-01-13T12:39:54.381Z"
   },
   {
    "duration": 26,
    "start_time": "2022-01-13T12:39:54.428Z"
   },
   {
    "duration": 355,
    "start_time": "2022-01-13T12:39:54.456Z"
   },
   {
    "duration": 31,
    "start_time": "2022-01-13T12:39:54.814Z"
   },
   {
    "duration": 75,
    "start_time": "2022-01-13T12:39:54.847Z"
   },
   {
    "duration": 17840,
    "start_time": "2022-01-13T12:39:54.924Z"
   },
   {
    "duration": 5,
    "start_time": "2022-01-13T12:40:12.766Z"
   },
   {
    "duration": 11,
    "start_time": "2022-01-13T12:40:12.773Z"
   },
   {
    "duration": 37,
    "start_time": "2022-01-13T12:40:12.786Z"
   },
   {
    "duration": 12,
    "start_time": "2022-01-13T12:40:12.826Z"
   },
   {
    "duration": 33,
    "start_time": "2022-01-13T12:40:12.840Z"
   },
   {
    "duration": 49,
    "start_time": "2022-01-13T12:40:12.875Z"
   },
   {
    "duration": 29,
    "start_time": "2022-01-13T12:40:12.926Z"
   },
   {
    "duration": 12,
    "start_time": "2022-01-13T12:40:12.957Z"
   },
   {
    "duration": 8,
    "start_time": "2022-01-13T12:40:12.972Z"
   },
   {
    "duration": 43,
    "start_time": "2022-01-13T12:40:12.982Z"
   },
   {
    "duration": 8,
    "start_time": "2022-01-13T12:40:13.027Z"
   },
   {
    "duration": 8,
    "start_time": "2022-01-13T12:40:13.037Z"
   },
   {
    "duration": 16,
    "start_time": "2022-01-13T12:40:13.047Z"
   },
   {
    "duration": 57,
    "start_time": "2022-01-13T12:40:13.066Z"
   },
   {
    "duration": 1144,
    "start_time": "2022-01-13T12:40:39.574Z"
   },
   {
    "duration": 592,
    "start_time": "2022-01-13T12:40:40.720Z"
   },
   {
    "duration": 7120,
    "start_time": "2022-01-13T12:40:41.315Z"
   },
   {
    "duration": 676,
    "start_time": "2022-01-13T12:40:48.438Z"
   },
   {
    "duration": 18,
    "start_time": "2022-01-13T12:40:49.117Z"
   },
   {
    "duration": 15,
    "start_time": "2022-01-13T12:40:49.137Z"
   },
   {
    "duration": 14,
    "start_time": "2022-01-13T12:40:49.155Z"
   },
   {
    "duration": 17,
    "start_time": "2022-01-13T12:40:49.172Z"
   },
   {
    "duration": 320,
    "start_time": "2022-01-13T12:40:49.191Z"
   },
   {
    "duration": 122,
    "start_time": "2022-01-13T12:40:49.514Z"
   },
   {
    "duration": 45,
    "start_time": "2022-01-13T12:40:49.639Z"
   },
   {
    "duration": 93,
    "start_time": "2022-01-13T12:40:49.687Z"
   },
   {
    "duration": 106,
    "start_time": "2022-01-13T12:40:49.783Z"
   },
   {
    "duration": 4,
    "start_time": "2022-01-13T12:40:49.892Z"
   },
   {
    "duration": 60,
    "start_time": "2022-01-13T12:40:49.898Z"
   },
   {
    "duration": 11,
    "start_time": "2022-01-13T12:40:49.961Z"
   },
   {
    "duration": 6,
    "start_time": "2022-01-13T12:40:49.974Z"
   },
   {
    "duration": 9,
    "start_time": "2022-01-13T12:40:49.982Z"
   },
   {
    "duration": 45,
    "start_time": "2022-01-13T12:40:49.993Z"
   },
   {
    "duration": 6,
    "start_time": "2022-01-13T12:40:50.041Z"
   },
   {
    "duration": 106,
    "start_time": "2022-01-13T12:40:50.049Z"
   },
   {
    "duration": 94,
    "start_time": "2022-01-13T12:40:50.157Z"
   },
   {
    "duration": 5,
    "start_time": "2022-01-13T12:40:50.258Z"
   },
   {
    "duration": 21,
    "start_time": "2022-01-13T12:40:50.266Z"
   },
   {
    "duration": 36,
    "start_time": "2022-01-13T12:40:50.290Z"
   },
   {
    "duration": 14,
    "start_time": "2022-01-13T12:40:50.329Z"
   },
   {
    "duration": 22,
    "start_time": "2022-01-13T12:40:50.346Z"
   },
   {
    "duration": 5,
    "start_time": "2022-01-13T12:40:50.370Z"
   },
   {
    "duration": 20,
    "start_time": "2022-01-13T12:40:50.424Z"
   },
   {
    "duration": 5,
    "start_time": "2022-01-13T12:40:50.447Z"
   },
   {
    "duration": 31,
    "start_time": "2022-01-13T12:40:50.454Z"
   },
   {
    "duration": 79,
    "start_time": "2022-01-13T12:40:50.487Z"
   },
   {
    "duration": 21,
    "start_time": "2022-01-13T12:40:50.568Z"
   },
   {
    "duration": 78,
    "start_time": "2022-01-13T12:40:50.592Z"
   },
   {
    "duration": 4,
    "start_time": "2022-01-13T12:40:50.673Z"
   },
   {
    "duration": 52,
    "start_time": "2022-01-13T12:40:50.680Z"
   },
   {
    "duration": 23,
    "start_time": "2022-01-13T12:40:50.734Z"
   },
   {
    "duration": 15,
    "start_time": "2022-01-13T12:40:50.760Z"
   },
   {
    "duration": 81,
    "start_time": "2022-01-13T12:40:50.778Z"
   },
   {
    "duration": 350,
    "start_time": "2022-01-13T12:40:50.862Z"
   },
   {
    "duration": 24,
    "start_time": "2022-01-13T12:40:51.214Z"
   },
   {
    "duration": 962,
    "start_time": "2022-01-13T12:40:51.240Z"
   },
   {
    "duration": 20,
    "start_time": "2022-01-13T12:40:52.204Z"
   },
   {
    "duration": 15,
    "start_time": "2022-01-13T12:40:52.227Z"
   },
   {
    "duration": 17,
    "start_time": "2022-01-13T12:40:52.244Z"
   },
   {
    "duration": 13,
    "start_time": "2022-01-13T12:40:52.264Z"
   },
   {
    "duration": 53,
    "start_time": "2022-01-13T12:40:52.280Z"
   },
   {
    "duration": 27,
    "start_time": "2022-01-13T12:40:52.335Z"
   },
   {
    "duration": 363,
    "start_time": "2022-01-13T12:40:52.365Z"
   },
   {
    "duration": 22,
    "start_time": "2022-01-13T12:40:52.730Z"
   },
   {
    "duration": 87,
    "start_time": "2022-01-13T12:40:52.754Z"
   },
   {
    "duration": 19003,
    "start_time": "2022-01-13T12:40:52.843Z"
   },
   {
    "duration": 5,
    "start_time": "2022-01-13T12:41:11.848Z"
   },
   {
    "duration": 13,
    "start_time": "2022-01-13T12:41:11.855Z"
   },
   {
    "duration": 9,
    "start_time": "2022-01-13T12:41:11.870Z"
   },
   {
    "duration": 50,
    "start_time": "2022-01-13T12:41:11.881Z"
   },
   {
    "duration": 34,
    "start_time": "2022-01-13T12:41:11.932Z"
   },
   {
    "duration": 13,
    "start_time": "2022-01-13T12:41:11.969Z"
   },
   {
    "duration": 29,
    "start_time": "2022-01-13T12:41:12.024Z"
   },
   {
    "duration": 15,
    "start_time": "2022-01-13T12:41:12.055Z"
   },
   {
    "duration": 6,
    "start_time": "2022-01-13T12:41:12.073Z"
   },
   {
    "duration": 44,
    "start_time": "2022-01-13T12:41:12.081Z"
   },
   {
    "duration": 10,
    "start_time": "2022-01-13T12:41:12.127Z"
   },
   {
    "duration": 16,
    "start_time": "2022-01-13T12:41:12.140Z"
   },
   {
    "duration": 19,
    "start_time": "2022-01-13T12:41:12.159Z"
   },
   {
    "duration": 43,
    "start_time": "2022-01-13T12:41:12.180Z"
   },
   {
    "duration": 5,
    "start_time": "2022-01-13T12:41:37.733Z"
   },
   {
    "duration": 654,
    "start_time": "2022-01-13T12:45:03.876Z"
   },
   {
    "duration": 323,
    "start_time": "2022-01-13T12:45:21.739Z"
   },
   {
    "duration": 7,
    "start_time": "2022-01-13T12:45:37.064Z"
   },
   {
    "duration": 1188,
    "start_time": "2022-01-13T12:46:07.141Z"
   },
   {
    "duration": 582,
    "start_time": "2022-01-13T12:46:08.332Z"
   },
   {
    "duration": 6971,
    "start_time": "2022-01-13T12:46:08.925Z"
   },
   {
    "duration": 649,
    "start_time": "2022-01-13T12:46:15.899Z"
   },
   {
    "duration": 20,
    "start_time": "2022-01-13T12:46:16.551Z"
   },
   {
    "duration": 13,
    "start_time": "2022-01-13T12:46:16.575Z"
   },
   {
    "duration": 43,
    "start_time": "2022-01-13T12:46:16.590Z"
   },
   {
    "duration": 17,
    "start_time": "2022-01-13T12:46:16.636Z"
   },
   {
    "duration": 303,
    "start_time": "2022-01-13T12:46:16.657Z"
   },
   {
    "duration": 115,
    "start_time": "2022-01-13T12:46:16.963Z"
   },
   {
    "duration": 18,
    "start_time": "2022-01-13T12:46:17.080Z"
   },
   {
    "duration": 29,
    "start_time": "2022-01-13T12:46:17.101Z"
   },
   {
    "duration": 38,
    "start_time": "2022-01-13T12:46:17.133Z"
   },
   {
    "duration": 5,
    "start_time": "2022-01-13T12:46:17.174Z"
   },
   {
    "duration": 90,
    "start_time": "2022-01-13T12:46:17.181Z"
   },
   {
    "duration": 5,
    "start_time": "2022-01-13T12:46:17.274Z"
   },
   {
    "duration": 12,
    "start_time": "2022-01-13T12:46:17.282Z"
   },
   {
    "duration": 29,
    "start_time": "2022-01-13T12:46:17.296Z"
   },
   {
    "duration": 23,
    "start_time": "2022-01-13T12:46:17.327Z"
   },
   {
    "duration": 12,
    "start_time": "2022-01-13T12:46:17.352Z"
   },
   {
    "duration": 6,
    "start_time": "2022-01-13T12:46:17.366Z"
   },
   {
    "duration": 51,
    "start_time": "2022-01-13T12:46:17.374Z"
   },
   {
    "duration": 19,
    "start_time": "2022-01-13T12:46:17.427Z"
   },
   {
    "duration": 6,
    "start_time": "2022-01-13T12:46:17.449Z"
   },
   {
    "duration": 106,
    "start_time": "2022-01-13T12:46:17.457Z"
   },
   {
    "duration": 91,
    "start_time": "2022-01-13T12:46:17.566Z"
   },
   {
    "duration": 5,
    "start_time": "2022-01-13T12:46:17.665Z"
   },
   {
    "duration": 51,
    "start_time": "2022-01-13T12:46:17.673Z"
   },
   {
    "duration": 7,
    "start_time": "2022-01-13T12:46:17.726Z"
   },
   {
    "duration": 14,
    "start_time": "2022-01-13T12:46:17.736Z"
   },
   {
    "duration": 23,
    "start_time": "2022-01-13T12:46:17.752Z"
   },
   {
    "duration": 4,
    "start_time": "2022-01-13T12:46:17.777Z"
   },
   {
    "duration": 16,
    "start_time": "2022-01-13T12:46:17.824Z"
   },
   {
    "duration": 6,
    "start_time": "2022-01-13T12:46:17.842Z"
   },
   {
    "duration": 45,
    "start_time": "2022-01-13T12:46:17.851Z"
   },
   {
    "duration": 48,
    "start_time": "2022-01-13T12:46:17.923Z"
   },
   {
    "duration": 22,
    "start_time": "2022-01-13T12:46:17.974Z"
   },
   {
    "duration": 66,
    "start_time": "2022-01-13T12:46:17.999Z"
   },
   {
    "duration": 5,
    "start_time": "2022-01-13T12:46:18.067Z"
   },
   {
    "duration": 51,
    "start_time": "2022-01-13T12:46:18.075Z"
   },
   {
    "duration": 25,
    "start_time": "2022-01-13T12:46:18.129Z"
   },
   {
    "duration": 15,
    "start_time": "2022-01-13T12:46:18.157Z"
   },
   {
    "duration": 103,
    "start_time": "2022-01-13T12:46:18.175Z"
   },
   {
    "duration": 363,
    "start_time": "2022-01-13T12:46:18.280Z"
   },
   {
    "duration": 81,
    "start_time": "2022-01-13T12:46:18.646Z"
   },
   {
    "duration": 1222,
    "start_time": "2022-01-13T12:46:18.730Z"
   },
   {
    "duration": 11,
    "start_time": "2022-01-13T12:46:19.955Z"
   },
   {
    "duration": 17,
    "start_time": "2022-01-13T12:46:19.968Z"
   },
   {
    "duration": 48,
    "start_time": "2022-01-13T12:46:19.987Z"
   },
   {
    "duration": 16,
    "start_time": "2022-01-13T12:46:20.038Z"
   },
   {
    "duration": 19,
    "start_time": "2022-01-13T12:46:20.057Z"
   },
   {
    "duration": 62,
    "start_time": "2022-01-13T12:46:20.078Z"
   },
   {
    "duration": 342,
    "start_time": "2022-01-13T12:46:20.142Z"
   },
   {
    "duration": 37,
    "start_time": "2022-01-13T12:46:20.487Z"
   },
   {
    "duration": 54,
    "start_time": "2022-01-13T12:46:20.527Z"
   },
   {
    "duration": 17797,
    "start_time": "2022-01-13T12:46:20.583Z"
   },
   {
    "duration": 4,
    "start_time": "2022-01-13T12:46:38.382Z"
   },
   {
    "duration": 13,
    "start_time": "2022-01-13T12:46:38.389Z"
   },
   {
    "duration": 25,
    "start_time": "2022-01-13T12:46:38.404Z"
   },
   {
    "duration": 13,
    "start_time": "2022-01-13T12:46:38.432Z"
   },
   {
    "duration": 34,
    "start_time": "2022-01-13T12:46:38.447Z"
   },
   {
    "duration": 50,
    "start_time": "2022-01-13T12:46:38.483Z"
   },
   {
    "duration": 27,
    "start_time": "2022-01-13T12:46:38.536Z"
   },
   {
    "duration": 14,
    "start_time": "2022-01-13T12:46:38.565Z"
   },
   {
    "duration": 47,
    "start_time": "2022-01-13T12:46:38.581Z"
   },
   {
    "duration": 7,
    "start_time": "2022-01-13T12:46:38.630Z"
   },
   {
    "duration": 6,
    "start_time": "2022-01-13T12:46:38.640Z"
   },
   {
    "duration": 7,
    "start_time": "2022-01-13T12:46:38.649Z"
   },
   {
    "duration": 15,
    "start_time": "2022-01-13T12:46:38.658Z"
   },
   {
    "duration": 57,
    "start_time": "2022-01-13T12:46:38.676Z"
   },
   {
    "duration": 14,
    "start_time": "2022-01-13T12:59:44.113Z"
   },
   {
    "duration": 617,
    "start_time": "2022-01-13T13:00:45.532Z"
   },
   {
    "duration": 1113,
    "start_time": "2022-01-13T13:01:37.253Z"
   },
   {
    "duration": 601,
    "start_time": "2022-01-13T13:01:38.369Z"
   },
   {
    "duration": 7431,
    "start_time": "2022-01-13T13:01:38.974Z"
   },
   {
    "duration": 741,
    "start_time": "2022-01-13T13:01:46.408Z"
   },
   {
    "duration": 18,
    "start_time": "2022-01-13T13:01:47.152Z"
   },
   {
    "duration": 12,
    "start_time": "2022-01-13T13:01:47.172Z"
   },
   {
    "duration": 15,
    "start_time": "2022-01-13T13:01:47.186Z"
   },
   {
    "duration": 19,
    "start_time": "2022-01-13T13:01:47.205Z"
   },
   {
    "duration": 357,
    "start_time": "2022-01-13T13:01:47.227Z"
   },
   {
    "duration": 125,
    "start_time": "2022-01-13T13:01:47.587Z"
   },
   {
    "duration": 22,
    "start_time": "2022-01-13T13:01:47.715Z"
   },
   {
    "duration": 20,
    "start_time": "2022-01-13T13:01:47.739Z"
   },
   {
    "duration": 59,
    "start_time": "2022-01-13T13:01:47.762Z"
   },
   {
    "duration": 5,
    "start_time": "2022-01-13T13:01:47.823Z"
   },
   {
    "duration": 62,
    "start_time": "2022-01-13T13:01:47.831Z"
   },
   {
    "duration": 10,
    "start_time": "2022-01-13T13:01:47.895Z"
   },
   {
    "duration": 16,
    "start_time": "2022-01-13T13:01:47.908Z"
   },
   {
    "duration": 2148,
    "start_time": "2022-01-13T13:01:47.926Z"
   },
   {
    "duration": -570,
    "start_time": "2022-01-13T13:01:50.648Z"
   },
   {
    "duration": -573,
    "start_time": "2022-01-13T13:01:50.652Z"
   },
   {
    "duration": -574,
    "start_time": "2022-01-13T13:01:50.655Z"
   },
   {
    "duration": -577,
    "start_time": "2022-01-13T13:01:50.659Z"
   },
   {
    "duration": -744,
    "start_time": "2022-01-13T13:01:50.828Z"
   },
   {
    "duration": -747,
    "start_time": "2022-01-13T13:01:50.832Z"
   },
   {
    "duration": -749,
    "start_time": "2022-01-13T13:01:50.836Z"
   },
   {
    "duration": -750,
    "start_time": "2022-01-13T13:01:50.839Z"
   },
   {
    "duration": -753,
    "start_time": "2022-01-13T13:01:50.843Z"
   },
   {
    "duration": -754,
    "start_time": "2022-01-13T13:01:50.846Z"
   },
   {
    "duration": -756,
    "start_time": "2022-01-13T13:01:50.849Z"
   },
   {
    "duration": -757,
    "start_time": "2022-01-13T13:01:50.852Z"
   },
   {
    "duration": -760,
    "start_time": "2022-01-13T13:01:50.856Z"
   },
   {
    "duration": -761,
    "start_time": "2022-01-13T13:01:50.859Z"
   },
   {
    "duration": -763,
    "start_time": "2022-01-13T13:01:50.862Z"
   },
   {
    "duration": -765,
    "start_time": "2022-01-13T13:01:50.865Z"
   },
   {
    "duration": -769,
    "start_time": "2022-01-13T13:01:50.870Z"
   },
   {
    "duration": -771,
    "start_time": "2022-01-13T13:01:50.874Z"
   },
   {
    "duration": -773,
    "start_time": "2022-01-13T13:01:50.877Z"
   },
   {
    "duration": -775,
    "start_time": "2022-01-13T13:01:50.880Z"
   },
   {
    "duration": -777,
    "start_time": "2022-01-13T13:01:50.884Z"
   },
   {
    "duration": -780,
    "start_time": "2022-01-13T13:01:50.888Z"
   },
   {
    "duration": -783,
    "start_time": "2022-01-13T13:01:50.892Z"
   },
   {
    "duration": -784,
    "start_time": "2022-01-13T13:01:50.895Z"
   },
   {
    "duration": -786,
    "start_time": "2022-01-13T13:01:50.898Z"
   },
   {
    "duration": -787,
    "start_time": "2022-01-13T13:01:50.901Z"
   },
   {
    "duration": -789,
    "start_time": "2022-01-13T13:01:50.904Z"
   },
   {
    "duration": -791,
    "start_time": "2022-01-13T13:01:50.907Z"
   },
   {
    "duration": -811,
    "start_time": "2022-01-13T13:01:50.929Z"
   },
   {
    "duration": -813,
    "start_time": "2022-01-13T13:01:50.932Z"
   },
   {
    "duration": -814,
    "start_time": "2022-01-13T13:01:50.935Z"
   },
   {
    "duration": -816,
    "start_time": "2022-01-13T13:01:50.938Z"
   },
   {
    "duration": -818,
    "start_time": "2022-01-13T13:01:50.942Z"
   },
   {
    "duration": -820,
    "start_time": "2022-01-13T13:01:50.945Z"
   },
   {
    "duration": -821,
    "start_time": "2022-01-13T13:01:50.948Z"
   },
   {
    "duration": -823,
    "start_time": "2022-01-13T13:01:50.951Z"
   },
   {
    "duration": -824,
    "start_time": "2022-01-13T13:01:50.954Z"
   },
   {
    "duration": -827,
    "start_time": "2022-01-13T13:01:50.958Z"
   },
   {
    "duration": -829,
    "start_time": "2022-01-13T13:01:50.961Z"
   },
   {
    "duration": -843,
    "start_time": "2022-01-13T13:01:50.977Z"
   },
   {
    "duration": 10,
    "start_time": "2022-01-13T13:07:20.031Z"
   },
   {
    "duration": 5,
    "start_time": "2022-01-13T13:09:17.039Z"
   },
   {
    "duration": 47,
    "start_time": "2022-01-13T13:09:48.934Z"
   },
   {
    "duration": 11,
    "start_time": "2022-01-13T13:11:45.096Z"
   },
   {
    "duration": 301,
    "start_time": "2022-01-13T13:12:00.043Z"
   },
   {
    "duration": 16,
    "start_time": "2022-01-13T13:12:01.815Z"
   },
   {
    "duration": 16,
    "start_time": "2022-01-13T13:12:12.971Z"
   },
   {
    "duration": 1247,
    "start_time": "2022-01-13T13:12:32.609Z"
   },
   {
    "duration": 644,
    "start_time": "2022-01-13T13:12:33.860Z"
   },
   {
    "duration": 7077,
    "start_time": "2022-01-13T13:12:34.508Z"
   },
   {
    "duration": 671,
    "start_time": "2022-01-13T13:12:41.588Z"
   },
   {
    "duration": 20,
    "start_time": "2022-01-13T13:12:42.261Z"
   },
   {
    "duration": 12,
    "start_time": "2022-01-13T13:12:42.283Z"
   },
   {
    "duration": 37,
    "start_time": "2022-01-13T13:12:42.297Z"
   },
   {
    "duration": 16,
    "start_time": "2022-01-13T13:12:42.340Z"
   },
   {
    "duration": 317,
    "start_time": "2022-01-13T13:12:42.359Z"
   },
   {
    "duration": 122,
    "start_time": "2022-01-13T13:12:42.679Z"
   },
   {
    "duration": 25,
    "start_time": "2022-01-13T13:12:42.804Z"
   },
   {
    "duration": 16,
    "start_time": "2022-01-13T13:12:42.831Z"
   },
   {
    "duration": 51,
    "start_time": "2022-01-13T13:12:42.849Z"
   },
   {
    "duration": 22,
    "start_time": "2022-01-13T13:12:42.903Z"
   },
   {
    "duration": 60,
    "start_time": "2022-01-13T13:12:42.928Z"
   },
   {
    "duration": 38,
    "start_time": "2022-01-13T13:12:42.991Z"
   },
   {
    "duration": 20,
    "start_time": "2022-01-13T13:12:43.031Z"
   },
   {
    "duration": 13,
    "start_time": "2022-01-13T13:12:43.053Z"
   },
   {
    "duration": 10,
    "start_time": "2022-01-13T13:12:43.068Z"
   },
   {
    "duration": 44,
    "start_time": "2022-01-13T13:12:43.080Z"
   },
   {
    "duration": 49,
    "start_time": "2022-01-13T13:12:43.126Z"
   },
   {
    "duration": 413,
    "start_time": "2022-01-13T13:12:43.177Z"
   },
   {
    "duration": 145,
    "start_time": "2022-01-13T13:12:43.450Z"
   },
   {
    "duration": 141,
    "start_time": "2022-01-13T13:12:43.455Z"
   },
   {
    "duration": 138,
    "start_time": "2022-01-13T13:12:43.460Z"
   },
   {
    "duration": 136,
    "start_time": "2022-01-13T13:12:43.463Z"
   },
   {
    "duration": 133,
    "start_time": "2022-01-13T13:12:43.468Z"
   },
   {
    "duration": 130,
    "start_time": "2022-01-13T13:12:43.472Z"
   },
   {
    "duration": 128,
    "start_time": "2022-01-13T13:12:43.476Z"
   },
   {
    "duration": 126,
    "start_time": "2022-01-13T13:12:43.479Z"
   },
   {
    "duration": 124,
    "start_time": "2022-01-13T13:12:43.483Z"
   },
   {
    "duration": 123,
    "start_time": "2022-01-13T13:12:43.486Z"
   },
   {
    "duration": 120,
    "start_time": "2022-01-13T13:12:43.490Z"
   },
   {
    "duration": 112,
    "start_time": "2022-01-13T13:12:43.500Z"
   },
   {
    "duration": 108,
    "start_time": "2022-01-13T13:12:43.505Z"
   },
   {
    "duration": 90,
    "start_time": "2022-01-13T13:12:43.525Z"
   },
   {
    "duration": 83,
    "start_time": "2022-01-13T13:12:43.533Z"
   },
   {
    "duration": 81,
    "start_time": "2022-01-13T13:12:43.537Z"
   },
   {
    "duration": 78,
    "start_time": "2022-01-13T13:12:43.541Z"
   },
   {
    "duration": 78,
    "start_time": "2022-01-13T13:12:43.544Z"
   },
   {
    "duration": 76,
    "start_time": "2022-01-13T13:12:43.547Z"
   },
   {
    "duration": 73,
    "start_time": "2022-01-13T13:12:43.551Z"
   },
   {
    "duration": 71,
    "start_time": "2022-01-13T13:12:43.555Z"
   },
   {
    "duration": 69,
    "start_time": "2022-01-13T13:12:43.559Z"
   },
   {
    "duration": 66,
    "start_time": "2022-01-13T13:12:43.563Z"
   },
   {
    "duration": 66,
    "start_time": "2022-01-13T13:12:43.566Z"
   },
   {
    "duration": 62,
    "start_time": "2022-01-13T13:12:43.571Z"
   },
   {
    "duration": 61,
    "start_time": "2022-01-13T13:12:43.574Z"
   },
   {
    "duration": 58,
    "start_time": "2022-01-13T13:12:43.578Z"
   },
   {
    "duration": 56,
    "start_time": "2022-01-13T13:12:43.581Z"
   },
   {
    "duration": 54,
    "start_time": "2022-01-13T13:12:43.585Z"
   },
   {
    "duration": 52,
    "start_time": "2022-01-13T13:12:43.588Z"
   },
   {
    "duration": 49,
    "start_time": "2022-01-13T13:12:43.592Z"
   },
   {
    "duration": 48,
    "start_time": "2022-01-13T13:12:43.595Z"
   },
   {
    "duration": 45,
    "start_time": "2022-01-13T13:12:43.599Z"
   },
   {
    "duration": 37,
    "start_time": "2022-01-13T13:12:43.609Z"
   },
   {
    "duration": 35,
    "start_time": "2022-01-13T13:12:43.612Z"
   },
   {
    "duration": 33,
    "start_time": "2022-01-13T13:12:43.615Z"
   },
   {
    "duration": 16,
    "start_time": "2022-01-13T13:13:10.203Z"
   },
   {
    "duration": 1210,
    "start_time": "2022-01-13T13:13:53.415Z"
   },
   {
    "duration": 597,
    "start_time": "2022-01-13T13:13:54.627Z"
   },
   {
    "duration": 7480,
    "start_time": "2022-01-13T13:13:55.229Z"
   },
   {
    "duration": 726,
    "start_time": "2022-01-13T13:14:02.712Z"
   },
   {
    "duration": 19,
    "start_time": "2022-01-13T13:14:03.441Z"
   },
   {
    "duration": 21,
    "start_time": "2022-01-13T13:14:03.462Z"
   },
   {
    "duration": 38,
    "start_time": "2022-01-13T13:14:03.485Z"
   },
   {
    "duration": 34,
    "start_time": "2022-01-13T13:14:03.527Z"
   },
   {
    "duration": 322,
    "start_time": "2022-01-13T13:14:03.565Z"
   },
   {
    "duration": 139,
    "start_time": "2022-01-13T13:14:03.889Z"
   },
   {
    "duration": 17,
    "start_time": "2022-01-13T13:14:04.031Z"
   },
   {
    "duration": 21,
    "start_time": "2022-01-13T13:14:04.050Z"
   },
   {
    "duration": 68,
    "start_time": "2022-01-13T13:14:04.073Z"
   },
   {
    "duration": 27,
    "start_time": "2022-01-13T13:14:04.143Z"
   },
   {
    "duration": 5,
    "start_time": "2022-01-13T13:14:04.173Z"
   },
   {
    "duration": 97,
    "start_time": "2022-01-13T13:14:04.181Z"
   },
   {
    "duration": 10,
    "start_time": "2022-01-13T13:14:04.280Z"
   },
   {
    "duration": 34,
    "start_time": "2022-01-13T13:14:04.292Z"
   },
   {
    "duration": 9,
    "start_time": "2022-01-13T13:14:04.328Z"
   },
   {
    "duration": 4,
    "start_time": "2022-01-13T13:14:04.340Z"
   },
   {
    "duration": 76,
    "start_time": "2022-01-13T13:14:04.347Z"
   },
   {
    "duration": 458,
    "start_time": "2022-01-13T13:14:04.426Z"
   },
   {
    "duration": 125,
    "start_time": "2022-01-13T13:14:04.763Z"
   },
   {
    "duration": 123,
    "start_time": "2022-01-13T13:14:04.767Z"
   },
   {
    "duration": 121,
    "start_time": "2022-01-13T13:14:04.770Z"
   },
   {
    "duration": 118,
    "start_time": "2022-01-13T13:14:04.774Z"
   },
   {
    "duration": 116,
    "start_time": "2022-01-13T13:14:04.778Z"
   },
   {
    "duration": 114,
    "start_time": "2022-01-13T13:14:04.781Z"
   },
   {
    "duration": 112,
    "start_time": "2022-01-13T13:14:04.785Z"
   },
   {
    "duration": 110,
    "start_time": "2022-01-13T13:14:04.788Z"
   },
   {
    "duration": 107,
    "start_time": "2022-01-13T13:14:04.792Z"
   },
   {
    "duration": 105,
    "start_time": "2022-01-13T13:14:04.796Z"
   },
   {
    "duration": 103,
    "start_time": "2022-01-13T13:14:04.800Z"
   },
   {
    "duration": 101,
    "start_time": "2022-01-13T13:14:04.803Z"
   },
   {
    "duration": 99,
    "start_time": "2022-01-13T13:14:04.807Z"
   },
   {
    "duration": 62,
    "start_time": "2022-01-13T13:14:04.845Z"
   },
   {
    "duration": 60,
    "start_time": "2022-01-13T13:14:04.848Z"
   },
   {
    "duration": 59,
    "start_time": "2022-01-13T13:14:04.851Z"
   },
   {
    "duration": 57,
    "start_time": "2022-01-13T13:14:04.855Z"
   },
   {
    "duration": 54,
    "start_time": "2022-01-13T13:14:04.859Z"
   },
   {
    "duration": 53,
    "start_time": "2022-01-13T13:14:04.862Z"
   },
   {
    "duration": 50,
    "start_time": "2022-01-13T13:14:04.866Z"
   },
   {
    "duration": 49,
    "start_time": "2022-01-13T13:14:04.869Z"
   },
   {
    "duration": 47,
    "start_time": "2022-01-13T13:14:04.873Z"
   },
   {
    "duration": 45,
    "start_time": "2022-01-13T13:14:04.876Z"
   },
   {
    "duration": 44,
    "start_time": "2022-01-13T13:14:04.879Z"
   },
   {
    "duration": 40,
    "start_time": "2022-01-13T13:14:04.884Z"
   },
   {
    "duration": 38,
    "start_time": "2022-01-13T13:14:04.888Z"
   },
   {
    "duration": 34,
    "start_time": "2022-01-13T13:14:04.893Z"
   },
   {
    "duration": 32,
    "start_time": "2022-01-13T13:14:04.897Z"
   },
   {
    "duration": 19,
    "start_time": "2022-01-13T13:14:04.911Z"
   },
   {
    "duration": 15,
    "start_time": "2022-01-13T13:14:04.917Z"
   },
   {
    "duration": 12,
    "start_time": "2022-01-13T13:14:04.922Z"
   },
   {
    "duration": 0,
    "start_time": "2022-01-13T13:14:04.935Z"
   },
   {
    "duration": -4,
    "start_time": "2022-01-13T13:14:04.941Z"
   },
   {
    "duration": -14,
    "start_time": "2022-01-13T13:14:04.952Z"
   },
   {
    "duration": -18,
    "start_time": "2022-01-13T13:14:04.958Z"
   },
   {
    "duration": -28,
    "start_time": "2022-01-13T13:14:04.969Z"
   },
   {
    "duration": 11,
    "start_time": "2022-01-13T13:14:52.520Z"
   },
   {
    "duration": 8,
    "start_time": "2022-01-13T13:14:59.784Z"
   },
   {
    "duration": 8,
    "start_time": "2022-01-13T13:15:13.146Z"
   },
   {
    "duration": 8,
    "start_time": "2022-01-13T13:18:30.192Z"
   },
   {
    "duration": 12,
    "start_time": "2022-01-13T13:19:46.550Z"
   },
   {
    "duration": 13,
    "start_time": "2022-01-13T13:19:48.040Z"
   },
   {
    "duration": 1127,
    "start_time": "2022-01-13T13:24:16.298Z"
   },
   {
    "duration": 600,
    "start_time": "2022-01-13T13:24:17.428Z"
   },
   {
    "duration": 7326,
    "start_time": "2022-01-13T13:24:18.031Z"
   },
   {
    "duration": 690,
    "start_time": "2022-01-13T13:24:25.361Z"
   },
   {
    "duration": 18,
    "start_time": "2022-01-13T13:24:26.054Z"
   },
   {
    "duration": 13,
    "start_time": "2022-01-13T13:24:26.075Z"
   },
   {
    "duration": 41,
    "start_time": "2022-01-13T13:24:26.090Z"
   },
   {
    "duration": 17,
    "start_time": "2022-01-13T13:24:26.134Z"
   },
   {
    "duration": 321,
    "start_time": "2022-01-13T13:24:26.156Z"
   },
   {
    "duration": 124,
    "start_time": "2022-01-13T13:24:26.481Z"
   },
   {
    "duration": 27,
    "start_time": "2022-01-13T13:24:26.608Z"
   },
   {
    "duration": 19,
    "start_time": "2022-01-13T13:24:26.638Z"
   },
   {
    "duration": 17,
    "start_time": "2022-01-13T13:24:26.659Z"
   },
   {
    "duration": 55,
    "start_time": "2022-01-13T13:24:26.678Z"
   },
   {
    "duration": 83,
    "start_time": "2022-01-13T13:24:26.736Z"
   },
   {
    "duration": 27,
    "start_time": "2022-01-13T13:24:26.822Z"
   },
   {
    "duration": 51,
    "start_time": "2022-01-13T13:24:26.851Z"
   },
   {
    "duration": 5,
    "start_time": "2022-01-13T13:24:26.923Z"
   },
   {
    "duration": 58,
    "start_time": "2022-01-13T13:24:26.931Z"
   },
   {
    "duration": 34,
    "start_time": "2022-01-13T13:24:26.992Z"
   },
   {
    "duration": 6,
    "start_time": "2022-01-13T13:24:27.029Z"
   },
   {
    "duration": 43,
    "start_time": "2022-01-13T13:24:27.037Z"
   },
   {
    "duration": 57,
    "start_time": "2022-01-13T13:24:27.082Z"
   },
   {
    "duration": 44,
    "start_time": "2022-01-13T13:24:27.142Z"
   },
   {
    "duration": 5,
    "start_time": "2022-01-13T13:24:27.188Z"
   },
   {
    "duration": 50,
    "start_time": "2022-01-13T13:24:27.195Z"
   },
   {
    "duration": 22,
    "start_time": "2022-01-13T13:24:27.251Z"
   },
   {
    "duration": 14,
    "start_time": "2022-01-13T13:24:27.276Z"
   },
   {
    "duration": 43,
    "start_time": "2022-01-13T13:24:27.323Z"
   },
   {
    "duration": 361,
    "start_time": "2022-01-13T13:24:27.368Z"
   },
   {
    "duration": 23,
    "start_time": "2022-01-13T13:24:27.732Z"
   },
   {
    "duration": 1386,
    "start_time": "2022-01-13T13:24:27.757Z"
   },
   {
    "duration": 9,
    "start_time": "2022-01-13T13:24:29.146Z"
   },
   {
    "duration": 13,
    "start_time": "2022-01-13T13:24:29.157Z"
   },
   {
    "duration": 13,
    "start_time": "2022-01-13T13:24:29.172Z"
   },
   {
    "duration": 49,
    "start_time": "2022-01-13T13:24:29.188Z"
   },
   {
    "duration": 15,
    "start_time": "2022-01-13T13:24:29.240Z"
   },
   {
    "duration": 32,
    "start_time": "2022-01-13T13:24:29.257Z"
   },
   {
    "duration": 369,
    "start_time": "2022-01-13T13:24:29.292Z"
   },
   {
    "duration": 22,
    "start_time": "2022-01-13T13:24:29.664Z"
   },
   {
    "duration": 79,
    "start_time": "2022-01-13T13:24:29.688Z"
   },
   {
    "duration": 76,
    "start_time": "2022-01-13T13:24:41.470Z"
   },
   {
    "duration": 14,
    "start_time": "2022-01-13T13:24:41.548Z"
   },
   {
    "duration": 26,
    "start_time": "2022-01-13T13:24:41.564Z"
   },
   {
    "duration": 38,
    "start_time": "2022-01-13T13:24:41.592Z"
   },
   {
    "duration": 6,
    "start_time": "2022-01-13T13:24:41.633Z"
   },
   {
    "duration": 6,
    "start_time": "2022-01-13T13:24:41.642Z"
   },
   {
    "duration": 8,
    "start_time": "2022-01-13T13:24:41.650Z"
   },
   {
    "duration": 8,
    "start_time": "2022-01-13T13:24:41.660Z"
   },
   {
    "duration": 19,
    "start_time": "2022-01-13T13:24:41.670Z"
   },
   {
    "duration": 44,
    "start_time": "2022-01-13T13:24:41.691Z"
   },
   {
    "duration": 17,
    "start_time": "2022-01-13T13:32:33.791Z"
   },
   {
    "duration": 6,
    "start_time": "2022-01-13T13:33:35.953Z"
   },
   {
    "duration": 5,
    "start_time": "2022-01-13T13:34:52.238Z"
   },
   {
    "duration": 8,
    "start_time": "2022-01-13T13:35:33.197Z"
   },
   {
    "duration": 510,
    "start_time": "2022-01-13T13:35:43.165Z"
   },
   {
    "duration": 292,
    "start_time": "2022-01-13T13:35:51.380Z"
   },
   {
    "duration": 274,
    "start_time": "2022-01-13T13:36:03.437Z"
   },
   {
    "duration": 280,
    "start_time": "2022-01-13T13:36:19.127Z"
   },
   {
    "duration": 24,
    "start_time": "2022-01-13T13:36:55.972Z"
   },
   {
    "duration": 14,
    "start_time": "2022-01-13T13:36:57.962Z"
   },
   {
    "duration": 11,
    "start_time": "2022-01-13T13:37:02.609Z"
   },
   {
    "duration": 11,
    "start_time": "2022-01-13T13:37:16.096Z"
   },
   {
    "duration": 12,
    "start_time": "2022-01-13T13:37:31.960Z"
   },
   {
    "duration": 25,
    "start_time": "2022-01-13T13:39:00.042Z"
   },
   {
    "duration": 933,
    "start_time": "2022-01-17T14:54:44.437Z"
   },
   {
    "duration": 374,
    "start_time": "2022-01-17T14:54:45.372Z"
   },
   {
    "duration": 162732,
    "start_time": "2022-01-17T14:54:45.748Z"
   },
   {
    "duration": 800,
    "start_time": "2022-01-17T14:57:28.482Z"
   },
   {
    "duration": 11,
    "start_time": "2022-01-17T14:57:29.283Z"
   },
   {
    "duration": 9,
    "start_time": "2022-01-17T14:57:29.296Z"
   },
   {
    "duration": 7,
    "start_time": "2022-01-17T14:57:29.306Z"
   },
   {
    "duration": 9,
    "start_time": "2022-01-17T14:57:29.315Z"
   },
   {
    "duration": 186,
    "start_time": "2022-01-17T14:57:29.326Z"
   },
   {
    "duration": 63,
    "start_time": "2022-01-17T14:57:29.514Z"
   },
   {
    "duration": 10,
    "start_time": "2022-01-17T14:57:29.579Z"
   },
   {
    "duration": 30,
    "start_time": "2022-01-17T14:57:29.590Z"
   },
   {
    "duration": 10,
    "start_time": "2022-01-17T14:57:29.622Z"
   },
   {
    "duration": 8,
    "start_time": "2022-01-17T14:57:29.634Z"
   },
   {
    "duration": 21,
    "start_time": "2022-01-17T14:57:29.644Z"
   },
   {
    "duration": 14,
    "start_time": "2022-01-17T14:57:29.667Z"
   },
   {
    "duration": 56,
    "start_time": "2022-01-17T14:57:29.682Z"
   },
   {
    "duration": 4,
    "start_time": "2022-01-17T14:57:29.739Z"
   },
   {
    "duration": 36,
    "start_time": "2022-01-17T14:57:29.744Z"
   },
   {
    "duration": 34,
    "start_time": "2022-01-17T14:57:29.781Z"
   },
   {
    "duration": 5,
    "start_time": "2022-01-17T14:57:29.816Z"
   },
   {
    "duration": 26,
    "start_time": "2022-01-17T14:57:29.823Z"
   },
   {
    "duration": 9,
    "start_time": "2022-01-17T14:57:29.852Z"
   },
   {
    "duration": 7,
    "start_time": "2022-01-17T14:57:29.863Z"
   },
   {
    "duration": 44,
    "start_time": "2022-01-17T14:57:29.871Z"
   },
   {
    "duration": 27,
    "start_time": "2022-01-17T14:57:29.917Z"
   },
   {
    "duration": 3,
    "start_time": "2022-01-17T14:57:29.946Z"
   },
   {
    "duration": 16,
    "start_time": "2022-01-17T14:57:29.950Z"
   },
   {
    "duration": 309,
    "start_time": "2022-01-17T14:57:29.967Z"
   },
   {
    "duration": 220,
    "start_time": "2022-01-17T14:57:30.058Z"
   },
   {
    "duration": 214,
    "start_time": "2022-01-17T14:57:30.065Z"
   },
   {
    "duration": 208,
    "start_time": "2022-01-17T14:57:30.072Z"
   },
   {
    "duration": 202,
    "start_time": "2022-01-17T14:57:30.079Z"
   },
   {
    "duration": 196,
    "start_time": "2022-01-17T14:57:30.086Z"
   },
   {
    "duration": 190,
    "start_time": "2022-01-17T14:57:30.093Z"
   },
   {
    "duration": 186,
    "start_time": "2022-01-17T14:57:30.098Z"
   },
   {
    "duration": 181,
    "start_time": "2022-01-17T14:57:30.103Z"
   },
   {
    "duration": 177,
    "start_time": "2022-01-17T14:57:30.108Z"
   },
   {
    "duration": 173,
    "start_time": "2022-01-17T14:57:30.113Z"
   },
   {
    "duration": 168,
    "start_time": "2022-01-17T14:57:30.119Z"
   },
   {
    "duration": 164,
    "start_time": "2022-01-17T14:57:30.124Z"
   },
   {
    "duration": 161,
    "start_time": "2022-01-17T14:57:30.128Z"
   },
   {
    "duration": 158,
    "start_time": "2022-01-17T14:57:30.132Z"
   },
   {
    "duration": 155,
    "start_time": "2022-01-17T14:57:30.136Z"
   },
   {
    "duration": 150,
    "start_time": "2022-01-17T14:57:30.141Z"
   },
   {
    "duration": 147,
    "start_time": "2022-01-17T14:57:30.145Z"
   },
   {
    "duration": 144,
    "start_time": "2022-01-17T14:57:30.149Z"
   },
   {
    "duration": 141,
    "start_time": "2022-01-17T14:57:30.153Z"
   },
   {
    "duration": 137,
    "start_time": "2022-01-17T14:57:30.158Z"
   },
   {
    "duration": 134,
    "start_time": "2022-01-17T14:57:30.162Z"
   },
   {
    "duration": 122,
    "start_time": "2022-01-17T14:57:30.175Z"
   },
   {
    "duration": 102,
    "start_time": "2022-01-17T14:57:30.195Z"
   },
   {
    "duration": 97,
    "start_time": "2022-01-17T14:57:30.201Z"
   },
   {
    "duration": 93,
    "start_time": "2022-01-17T14:57:30.206Z"
   },
   {
    "duration": 90,
    "start_time": "2022-01-17T14:57:30.210Z"
   },
   {
    "duration": 86,
    "start_time": "2022-01-17T14:57:30.215Z"
   },
   {
    "duration": 82,
    "start_time": "2022-01-17T14:57:30.220Z"
   },
   {
    "duration": 79,
    "start_time": "2022-01-17T14:57:30.224Z"
   },
   {
    "duration": 17,
    "start_time": "2022-01-17T15:00:58.408Z"
   },
   {
    "duration": 196,
    "start_time": "2022-01-17T15:01:06.028Z"
   },
   {
    "duration": 189,
    "start_time": "2022-01-17T15:01:11.420Z"
   },
   {
    "duration": 217,
    "start_time": "2022-01-17T15:02:16.398Z"
   },
   {
    "duration": 194,
    "start_time": "2022-01-17T15:02:37.581Z"
   },
   {
    "duration": 3,
    "start_time": "2022-01-17T15:03:36.839Z"
   },
   {
    "duration": 4,
    "start_time": "2022-01-17T15:03:45.840Z"
   },
   {
    "duration": 28,
    "start_time": "2022-01-17T15:03:52.309Z"
   },
   {
    "duration": 209,
    "start_time": "2022-01-17T15:03:58.046Z"
   },
   {
    "duration": 26,
    "start_time": "2022-01-17T15:04:16.689Z"
   },
   {
    "duration": 28,
    "start_time": "2022-01-17T15:05:03.333Z"
   },
   {
    "duration": 11,
    "start_time": "2022-01-17T15:05:34.273Z"
   },
   {
    "duration": 26,
    "start_time": "2022-01-17T15:05:44.097Z"
   },
   {
    "duration": 199,
    "start_time": "2022-01-17T15:05:52.502Z"
   },
   {
    "duration": 30,
    "start_time": "2022-01-17T15:05:56.751Z"
   },
   {
    "duration": 61,
    "start_time": "2022-01-17T15:06:13.560Z"
   },
   {
    "duration": 212,
    "start_time": "2022-01-17T15:06:38.845Z"
   },
   {
    "duration": 1103,
    "start_time": "2022-01-17T15:06:43.610Z"
   },
   {
    "duration": 266,
    "start_time": "2022-01-17T15:06:52.514Z"
   },
   {
    "duration": 26,
    "start_time": "2022-01-17T15:06:55.091Z"
   },
   {
    "duration": 237,
    "start_time": "2022-01-17T15:07:25.699Z"
   },
   {
    "duration": 7,
    "start_time": "2022-01-17T15:07:30.191Z"
   },
   {
    "duration": 7,
    "start_time": "2022-01-17T15:07:38.807Z"
   },
   {
    "duration": 7,
    "start_time": "2022-01-17T15:08:14.373Z"
   },
   {
    "duration": 6,
    "start_time": "2022-01-17T15:08:41.061Z"
   },
   {
    "duration": 11,
    "start_time": "2022-01-17T15:08:59.243Z"
   },
   {
    "duration": 23,
    "start_time": "2022-01-17T15:09:17.367Z"
   },
   {
    "duration": 23,
    "start_time": "2022-01-17T15:09:29.152Z"
   },
   {
    "duration": 27,
    "start_time": "2022-01-17T15:09:51.355Z"
   },
   {
    "duration": 75,
    "start_time": "2022-01-17T15:10:10.159Z"
   },
   {
    "duration": 27,
    "start_time": "2022-01-17T15:10:13.601Z"
   },
   {
    "duration": 195,
    "start_time": "2022-01-17T15:10:35.499Z"
   },
   {
    "duration": 11,
    "start_time": "2022-01-17T15:11:28.511Z"
   },
   {
    "duration": 195,
    "start_time": "2022-01-17T15:11:45.670Z"
   },
   {
    "duration": 6,
    "start_time": "2022-01-17T15:11:48.946Z"
   },
   {
    "duration": 10,
    "start_time": "2022-01-17T15:19:02.907Z"
   },
   {
    "duration": 30,
    "start_time": "2022-01-17T15:19:02.918Z"
   },
   {
    "duration": 568,
    "start_time": "2022-01-17T15:19:02.950Z"
   },
   {
    "duration": 13,
    "start_time": "2022-01-17T15:19:03.520Z"
   },
   {
    "duration": 355,
    "start_time": "2022-01-17T15:19:03.534Z"
   },
   {
    "duration": 5,
    "start_time": "2022-01-17T15:19:03.891Z"
   },
   {
    "duration": 20,
    "start_time": "2022-01-17T15:19:03.897Z"
   },
   {
    "duration": 11,
    "start_time": "2022-01-17T15:19:03.919Z"
   },
   {
    "duration": 9,
    "start_time": "2022-01-17T15:19:03.931Z"
   },
   {
    "duration": 10,
    "start_time": "2022-01-17T15:19:03.942Z"
   },
   {
    "duration": 17,
    "start_time": "2022-01-17T15:19:03.953Z"
   },
   {
    "duration": 254,
    "start_time": "2022-01-17T15:19:03.971Z"
   },
   {
    "duration": 13,
    "start_time": "2022-01-17T15:19:04.227Z"
   },
   {
    "duration": 36,
    "start_time": "2022-01-17T15:19:04.241Z"
   },
   {
    "duration": 7296,
    "start_time": "2022-01-17T15:19:04.278Z"
   },
   {
    "duration": 3,
    "start_time": "2022-01-17T15:19:11.576Z"
   },
   {
    "duration": 9,
    "start_time": "2022-01-17T15:19:11.580Z"
   },
   {
    "duration": 21,
    "start_time": "2022-01-17T15:19:11.591Z"
   },
   {
    "duration": 7,
    "start_time": "2022-01-17T15:19:11.613Z"
   },
   {
    "duration": 21,
    "start_time": "2022-01-17T15:19:11.621Z"
   },
   {
    "duration": 8,
    "start_time": "2022-01-17T15:19:11.643Z"
   },
   {
    "duration": 16,
    "start_time": "2022-01-17T15:19:11.653Z"
   },
   {
    "duration": 8,
    "start_time": "2022-01-17T15:19:11.712Z"
   },
   {
    "duration": 4,
    "start_time": "2022-01-17T15:19:11.722Z"
   },
   {
    "duration": 5,
    "start_time": "2022-01-17T15:19:11.727Z"
   },
   {
    "duration": 5,
    "start_time": "2022-01-17T15:19:11.733Z"
   },
   {
    "duration": 5,
    "start_time": "2022-01-17T15:19:11.739Z"
   },
   {
    "duration": 12,
    "start_time": "2022-01-17T15:19:11.745Z"
   },
   {
    "duration": 9,
    "start_time": "2022-01-17T15:19:11.758Z"
   },
   {
    "duration": 128,
    "start_time": "2022-01-17T15:35:07.989Z"
   },
   {
    "duration": 123,
    "start_time": "2022-01-17T15:40:28.491Z"
   },
   {
    "duration": 57,
    "start_time": "2022-01-17T15:43:25.378Z"
   },
   {
    "duration": 66,
    "start_time": "2022-01-17T15:43:41.688Z"
   },
   {
    "duration": 59,
    "start_time": "2022-01-17T15:43:48.698Z"
   },
   {
    "duration": 77,
    "start_time": "2022-01-17T15:44:00.709Z"
   },
   {
    "duration": 62,
    "start_time": "2022-01-17T15:44:15.915Z"
   },
   {
    "duration": 68,
    "start_time": "2022-01-17T15:44:20.520Z"
   },
   {
    "duration": 10,
    "start_time": "2022-01-17T16:44:12.755Z"
   },
   {
    "duration": 20,
    "start_time": "2022-01-17T16:44:25.151Z"
   },
   {
    "duration": 249,
    "start_time": "2022-01-17T16:44:32.010Z"
   },
   {
    "duration": 19,
    "start_time": "2022-01-17T16:44:35.816Z"
   },
   {
    "duration": 6,
    "start_time": "2022-01-17T16:45:22.255Z"
   },
   {
    "duration": 220,
    "start_time": "2022-01-17T16:45:40.005Z"
   },
   {
    "duration": 213,
    "start_time": "2022-01-17T16:45:48.610Z"
   },
   {
    "duration": 208,
    "start_time": "2022-01-17T16:46:22.261Z"
   },
   {
    "duration": 193,
    "start_time": "2022-01-17T16:47:14.210Z"
   },
   {
    "duration": 206,
    "start_time": "2022-01-17T16:47:22.431Z"
   },
   {
    "duration": 192,
    "start_time": "2022-01-17T16:47:49.160Z"
   },
   {
    "duration": 218,
    "start_time": "2022-01-17T16:48:12.662Z"
   },
   {
    "duration": 193,
    "start_time": "2022-01-17T16:59:22.677Z"
   },
   {
    "duration": 8,
    "start_time": "2022-01-17T16:59:29.924Z"
   },
   {
    "duration": 10,
    "start_time": "2022-01-17T16:59:36.035Z"
   },
   {
    "duration": 11,
    "start_time": "2022-01-17T16:59:54.222Z"
   },
   {
    "duration": 226,
    "start_time": "2022-01-17T17:00:05.981Z"
   },
   {
    "duration": 218,
    "start_time": "2022-01-17T17:00:34.284Z"
   },
   {
    "duration": 12,
    "start_time": "2022-01-17T17:00:42.871Z"
   },
   {
    "duration": 187,
    "start_time": "2022-01-17T17:02:37.326Z"
   },
   {
    "duration": 12,
    "start_time": "2022-01-17T17:04:21.321Z"
   },
   {
    "duration": 4763,
    "start_time": "2022-01-17T17:06:48.545Z"
   },
   {
    "duration": 234,
    "start_time": "2022-01-17T17:07:23.240Z"
   },
   {
    "duration": 210,
    "start_time": "2022-01-17T17:07:48.021Z"
   },
   {
    "duration": 209,
    "start_time": "2022-01-17T17:08:01.117Z"
   },
   {
    "duration": 194,
    "start_time": "2022-01-17T17:08:24.557Z"
   },
   {
    "duration": 528,
    "start_time": "2022-01-17T17:08:42.719Z"
   },
   {
    "duration": 61,
    "start_time": "2022-01-17T17:09:07.101Z"
   },
   {
    "duration": 421,
    "start_time": "2022-01-17T17:09:09.140Z"
   },
   {
    "duration": 538,
    "start_time": "2022-01-17T17:09:12.459Z"
   },
   {
    "duration": 201,
    "start_time": "2022-01-17T17:09:28.157Z"
   },
   {
    "duration": 203,
    "start_time": "2022-01-17T17:10:35.737Z"
   },
   {
    "duration": 339,
    "start_time": "2022-01-17T17:10:40.706Z"
   },
   {
    "duration": 2,
    "start_time": "2022-01-17T17:15:31.922Z"
   },
   {
    "duration": 5,
    "start_time": "2022-01-17T17:15:31.926Z"
   },
   {
    "duration": 912,
    "start_time": "2022-01-17T17:15:47.214Z"
   },
   {
    "duration": 380,
    "start_time": "2022-01-17T17:15:48.128Z"
   },
   {
    "duration": 116790,
    "start_time": "2022-01-17T17:15:48.513Z"
   },
   {
    "duration": 471,
    "start_time": "2022-01-17T17:17:45.306Z"
   },
   {
    "duration": 12,
    "start_time": "2022-01-17T17:17:45.779Z"
   },
   {
    "duration": 7,
    "start_time": "2022-01-17T17:17:45.792Z"
   },
   {
    "duration": 17,
    "start_time": "2022-01-17T17:17:45.801Z"
   },
   {
    "duration": 10,
    "start_time": "2022-01-17T17:17:45.820Z"
   },
   {
    "duration": 193,
    "start_time": "2022-01-17T17:17:45.832Z"
   },
   {
    "duration": 70,
    "start_time": "2022-01-17T17:17:46.027Z"
   },
   {
    "duration": 22,
    "start_time": "2022-01-17T17:17:46.099Z"
   },
   {
    "duration": 10,
    "start_time": "2022-01-17T17:17:46.123Z"
   },
   {
    "duration": 12,
    "start_time": "2022-01-17T17:17:46.134Z"
   },
   {
    "duration": 10,
    "start_time": "2022-01-17T17:17:46.147Z"
   },
   {
    "duration": 23,
    "start_time": "2022-01-17T17:17:46.159Z"
   },
   {
    "duration": 47,
    "start_time": "2022-01-17T17:17:46.183Z"
   },
   {
    "duration": 26,
    "start_time": "2022-01-17T17:17:46.232Z"
   },
   {
    "duration": 3,
    "start_time": "2022-01-17T17:17:46.260Z"
   },
   {
    "duration": 53,
    "start_time": "2022-01-17T17:17:46.265Z"
   },
   {
    "duration": 7,
    "start_time": "2022-01-17T17:17:46.320Z"
   },
   {
    "duration": 4,
    "start_time": "2022-01-17T17:17:46.328Z"
   },
   {
    "duration": 28,
    "start_time": "2022-01-17T17:17:46.333Z"
   },
   {
    "duration": 8,
    "start_time": "2022-01-17T17:17:46.365Z"
   },
   {
    "duration": 37,
    "start_time": "2022-01-17T17:17:46.376Z"
   },
   {
    "duration": 18,
    "start_time": "2022-01-17T17:17:46.414Z"
   },
   {
    "duration": 31,
    "start_time": "2022-01-17T17:17:46.433Z"
   },
   {
    "duration": 3,
    "start_time": "2022-01-17T17:17:46.465Z"
   },
   {
    "duration": 19,
    "start_time": "2022-01-17T17:17:46.469Z"
   },
   {
    "duration": 35,
    "start_time": "2022-01-17T17:17:46.489Z"
   },
   {
    "duration": 5,
    "start_time": "2022-01-17T17:17:46.525Z"
   },
   {
    "duration": 11,
    "start_time": "2022-01-17T17:17:46.532Z"
   },
   {
    "duration": 27,
    "start_time": "2022-01-17T17:17:46.544Z"
   },
   {
    "duration": 244,
    "start_time": "2022-01-17T17:17:46.572Z"
   },
   {
    "duration": 9,
    "start_time": "2022-01-17T17:17:46.818Z"
   },
   {
    "duration": 15,
    "start_time": "2022-01-17T17:17:46.829Z"
   },
   {
    "duration": 11,
    "start_time": "2022-01-17T17:17:46.845Z"
   },
   {
    "duration": 247,
    "start_time": "2022-01-17T17:17:46.913Z"
   },
   {
    "duration": 14,
    "start_time": "2022-01-17T17:17:47.161Z"
   },
   {
    "duration": 445,
    "start_time": "2022-01-17T17:17:47.176Z"
   },
   {
    "duration": 6,
    "start_time": "2022-01-17T17:17:47.622Z"
   },
   {
    "duration": 9,
    "start_time": "2022-01-17T17:17:47.629Z"
   },
   {
    "duration": 9,
    "start_time": "2022-01-17T17:17:47.639Z"
   },
   {
    "duration": 9,
    "start_time": "2022-01-17T17:17:47.650Z"
   },
   {
    "duration": 10,
    "start_time": "2022-01-17T17:17:47.661Z"
   },
   {
    "duration": 47,
    "start_time": "2022-01-17T17:17:47.672Z"
   },
   {
    "duration": 58,
    "start_time": "2022-01-17T17:17:47.720Z"
   },
   {
    "duration": 14,
    "start_time": "2022-01-17T17:17:47.779Z"
   },
   {
    "duration": 44,
    "start_time": "2022-01-17T17:17:47.795Z"
   },
   {
    "duration": 5852,
    "start_time": "2022-01-17T17:17:47.841Z"
   },
   {
    "duration": 3,
    "start_time": "2022-01-17T17:17:53.694Z"
   },
   {
    "duration": 15,
    "start_time": "2022-01-17T17:17:53.699Z"
   },
   {
    "duration": 7,
    "start_time": "2022-01-17T17:17:53.716Z"
   },
   {
    "duration": 13,
    "start_time": "2022-01-17T17:17:53.725Z"
   },
   {
    "duration": 21,
    "start_time": "2022-01-17T17:17:53.740Z"
   },
   {
    "duration": 8,
    "start_time": "2022-01-17T17:17:53.762Z"
   },
   {
    "duration": 42,
    "start_time": "2022-01-17T17:17:53.772Z"
   },
   {
    "duration": 8,
    "start_time": "2022-01-17T17:17:53.816Z"
   },
   {
    "duration": 6,
    "start_time": "2022-01-17T17:17:53.825Z"
   },
   {
    "duration": 5,
    "start_time": "2022-01-17T17:17:53.832Z"
   },
   {
    "duration": 5,
    "start_time": "2022-01-17T17:17:53.839Z"
   },
   {
    "duration": 5,
    "start_time": "2022-01-17T17:17:53.845Z"
   },
   {
    "duration": 15,
    "start_time": "2022-01-17T17:17:53.851Z"
   },
   {
    "duration": 9,
    "start_time": "2022-01-17T17:17:53.867Z"
   },
   {
    "duration": 49,
    "start_time": "2022-01-17T17:21:32.373Z"
   },
   {
    "duration": 45,
    "start_time": "2022-01-17T17:22:08.105Z"
   },
   {
    "duration": 44,
    "start_time": "2022-01-17T17:22:13.645Z"
   },
   {
    "duration": 42,
    "start_time": "2022-01-17T17:22:22.870Z"
   },
   {
    "duration": 56,
    "start_time": "2022-01-17T17:22:38.494Z"
   },
   {
    "duration": 45,
    "start_time": "2022-01-17T17:23:13.093Z"
   },
   {
    "duration": 348,
    "start_time": "2022-01-17T17:23:26.702Z"
   },
   {
    "duration": 44,
    "start_time": "2022-01-17T17:23:30.351Z"
   },
   {
    "duration": 48,
    "start_time": "2022-01-17T17:23:59.126Z"
   },
   {
    "duration": 45,
    "start_time": "2022-01-17T17:24:26.885Z"
   },
   {
    "duration": 43,
    "start_time": "2022-01-17T17:24:49.160Z"
   },
   {
    "duration": 11,
    "start_time": "2022-01-17T17:51:48.152Z"
   },
   {
    "duration": 356,
    "start_time": "2022-01-17T17:52:33.263Z"
   },
   {
    "duration": 21,
    "start_time": "2022-01-17T17:52:47.013Z"
   },
   {
    "duration": 27,
    "start_time": "2022-01-17T17:52:58.744Z"
   },
   {
    "duration": 27,
    "start_time": "2022-01-17T17:53:51.952Z"
   },
   {
    "duration": 28,
    "start_time": "2022-01-17T17:53:55.859Z"
   },
   {
    "duration": 6,
    "start_time": "2022-01-17T17:55:36.533Z"
   },
   {
    "duration": 6,
    "start_time": "2022-01-17T17:56:17.749Z"
   },
   {
    "duration": 7,
    "start_time": "2022-01-17T17:56:22.476Z"
   },
   {
    "duration": 214,
    "start_time": "2022-01-17T17:57:26.158Z"
   },
   {
    "duration": 5,
    "start_time": "2022-01-17T17:57:37.458Z"
   },
   {
    "duration": 11,
    "start_time": "2022-01-17T18:13:28.025Z"
   },
   {
    "duration": 8,
    "start_time": "2022-01-17T18:14:24.539Z"
   },
   {
    "duration": 2383,
    "start_time": "2022-01-17T18:14:55.869Z"
   },
   {
    "duration": 2790,
    "start_time": "2022-01-17T18:15:08.505Z"
   },
   {
    "duration": 7,
    "start_time": "2022-01-17T18:15:15.158Z"
   },
   {
    "duration": 7,
    "start_time": "2022-01-17T18:15:28.329Z"
   },
   {
    "duration": 11,
    "start_time": "2022-01-17T18:15:45.121Z"
   },
   {
    "duration": 15,
    "start_time": "2022-01-17T18:15:51.447Z"
   },
   {
    "duration": 11,
    "start_time": "2022-01-17T18:15:55.522Z"
   },
   {
    "duration": 5,
    "start_time": "2022-01-17T18:16:42.279Z"
   },
   {
    "duration": 8,
    "start_time": "2022-01-17T18:16:49.884Z"
   },
   {
    "duration": 10,
    "start_time": "2022-01-17T18:25:13.547Z"
   },
   {
    "duration": 77,
    "start_time": "2022-01-17T18:25:53.639Z"
   },
   {
    "duration": 3,
    "start_time": "2022-01-17T18:26:37.215Z"
   },
   {
    "duration": 3,
    "start_time": "2022-01-17T18:26:39.977Z"
   },
   {
    "duration": 73,
    "start_time": "2022-01-17T18:26:54.162Z"
   },
   {
    "duration": 8,
    "start_time": "2022-01-17T18:26:57.565Z"
   },
   {
    "duration": 187,
    "start_time": "2022-01-17T18:31:51.367Z"
   },
   {
    "duration": 9692,
    "start_time": "2022-01-17T18:32:13.032Z"
   },
   {
    "duration": 9,
    "start_time": "2022-01-17T18:34:37.990Z"
   },
   {
    "duration": 897,
    "start_time": "2022-01-17T18:35:11.975Z"
   },
   {
    "duration": 1406,
    "start_time": "2022-01-17T20:40:30.429Z"
   },
   {
    "duration": 660,
    "start_time": "2022-01-17T20:40:31.838Z"
   },
   {
    "duration": 30014,
    "start_time": "2022-01-17T20:40:32.501Z"
   },
   {
    "duration": 1098,
    "start_time": "2022-01-17T20:41:02.518Z"
   },
   {
    "duration": 19,
    "start_time": "2022-01-17T20:41:03.618Z"
   },
   {
    "duration": 12,
    "start_time": "2022-01-17T20:41:03.640Z"
   },
   {
    "duration": 22,
    "start_time": "2022-01-17T20:41:03.654Z"
   },
   {
    "duration": 17,
    "start_time": "2022-01-17T20:41:03.680Z"
   },
   {
    "duration": 304,
    "start_time": "2022-01-17T20:41:03.700Z"
   },
   {
    "duration": 118,
    "start_time": "2022-01-17T20:41:04.006Z"
   },
   {
    "duration": 20,
    "start_time": "2022-01-17T20:41:04.126Z"
   },
   {
    "duration": 25,
    "start_time": "2022-01-17T20:41:04.149Z"
   },
   {
    "duration": 27,
    "start_time": "2022-01-17T20:41:04.178Z"
   },
   {
    "duration": 31,
    "start_time": "2022-01-17T20:41:04.209Z"
   },
   {
    "duration": 28,
    "start_time": "2022-01-17T20:41:04.243Z"
   },
   {
    "duration": 21,
    "start_time": "2022-01-17T20:41:04.274Z"
   },
   {
    "duration": 83,
    "start_time": "2022-01-17T20:41:04.297Z"
   },
   {
    "duration": 5,
    "start_time": "2022-01-17T20:41:04.382Z"
   },
   {
    "duration": 82,
    "start_time": "2022-01-17T20:41:04.390Z"
   },
   {
    "duration": 11,
    "start_time": "2022-01-17T20:41:04.474Z"
   },
   {
    "duration": 5,
    "start_time": "2022-01-17T20:41:04.488Z"
   },
   {
    "duration": 73,
    "start_time": "2022-01-17T20:41:04.495Z"
   },
   {
    "duration": 14,
    "start_time": "2022-01-17T20:41:04.574Z"
   },
   {
    "duration": 40,
    "start_time": "2022-01-17T20:41:04.592Z"
   },
   {
    "duration": 21,
    "start_time": "2022-01-17T20:41:04.635Z"
   },
   {
    "duration": 89,
    "start_time": "2022-01-17T20:41:04.659Z"
   },
   {
    "duration": 5,
    "start_time": "2022-01-17T20:41:04.751Z"
   },
   {
    "duration": 35,
    "start_time": "2022-01-17T20:41:04.760Z"
   },
   {
    "duration": 34,
    "start_time": "2022-01-17T20:41:04.798Z"
   },
   {
    "duration": 9,
    "start_time": "2022-01-17T20:41:04.834Z"
   },
   {
    "duration": 18,
    "start_time": "2022-01-17T20:41:04.846Z"
   },
   {
    "duration": 87,
    "start_time": "2022-01-17T20:41:04.867Z"
   },
   {
    "duration": 955,
    "start_time": "2022-01-17T20:41:04.957Z"
   },
   {
    "duration": 16,
    "start_time": "2022-01-17T20:41:05.934Z"
   },
   {
    "duration": 100,
    "start_time": "2022-01-17T20:41:05.953Z"
   },
   {
    "duration": 77,
    "start_time": "2022-01-17T20:41:06.056Z"
   },
   {
    "duration": 530,
    "start_time": "2022-01-17T20:41:06.136Z"
   },
   {
    "duration": -2057,
    "start_time": "2022-01-17T20:41:08.727Z"
   },
   {
    "duration": -2061,
    "start_time": "2022-01-17T20:41:08.734Z"
   },
   {
    "duration": -2066,
    "start_time": "2022-01-17T20:41:08.741Z"
   },
   {
    "duration": -2072,
    "start_time": "2022-01-17T20:41:08.749Z"
   },
   {
    "duration": -2081,
    "start_time": "2022-01-17T20:41:08.760Z"
   },
   {
    "duration": -2087,
    "start_time": "2022-01-17T20:41:08.768Z"
   },
   {
    "duration": -2091,
    "start_time": "2022-01-17T20:41:08.775Z"
   },
   {
    "duration": -2098,
    "start_time": "2022-01-17T20:41:08.784Z"
   },
   {
    "duration": -2104,
    "start_time": "2022-01-17T20:41:08.792Z"
   },
   {
    "duration": -2112,
    "start_time": "2022-01-17T20:41:08.802Z"
   },
   {
    "duration": -2116,
    "start_time": "2022-01-17T20:41:08.809Z"
   },
   {
    "duration": -2122,
    "start_time": "2022-01-17T20:41:08.817Z"
   },
   {
    "duration": -2128,
    "start_time": "2022-01-17T20:41:08.825Z"
   },
   {
    "duration": -2134,
    "start_time": "2022-01-17T20:41:08.833Z"
   },
   {
    "duration": -2141,
    "start_time": "2022-01-17T20:41:08.842Z"
   },
   {
    "duration": -2148,
    "start_time": "2022-01-17T20:41:08.851Z"
   },
   {
    "duration": -2159,
    "start_time": "2022-01-17T20:41:08.864Z"
   },
   {
    "duration": -2143,
    "start_time": "2022-01-17T20:41:08.874Z"
   },
   {
    "duration": -2151,
    "start_time": "2022-01-17T20:41:08.885Z"
   },
   {
    "duration": -2162,
    "start_time": "2022-01-17T20:41:08.898Z"
   },
   {
    "duration": -2180,
    "start_time": "2022-01-17T20:41:08.917Z"
   },
   {
    "duration": -2194,
    "start_time": "2022-01-17T20:41:08.933Z"
   },
   {
    "duration": -2210,
    "start_time": "2022-01-17T20:41:08.950Z"
   },
   {
    "duration": -2224,
    "start_time": "2022-01-17T20:41:08.965Z"
   },
   {
    "duration": -2232,
    "start_time": "2022-01-17T20:41:08.975Z"
   },
   {
    "duration": -2241,
    "start_time": "2022-01-17T20:41:08.986Z"
   },
   {
    "duration": -2251,
    "start_time": "2022-01-17T20:41:08.997Z"
   },
   {
    "duration": -2262,
    "start_time": "2022-01-17T20:41:09.010Z"
   },
   {
    "duration": -2271,
    "start_time": "2022-01-17T20:41:09.020Z"
   },
   {
    "duration": -2281,
    "start_time": "2022-01-17T20:41:09.031Z"
   },
   {
    "duration": -2292,
    "start_time": "2022-01-17T20:41:09.043Z"
   },
   {
    "duration": -2300,
    "start_time": "2022-01-17T20:41:09.053Z"
   },
   {
    "duration": -2313,
    "start_time": "2022-01-17T20:41:09.067Z"
   },
   {
    "duration": -2323,
    "start_time": "2022-01-17T20:41:09.078Z"
   },
   {
    "duration": -2328,
    "start_time": "2022-01-17T20:41:09.085Z"
   },
   {
    "duration": -2339,
    "start_time": "2022-01-17T20:41:09.097Z"
   },
   {
    "duration": -2355,
    "start_time": "2022-01-17T20:41:09.114Z"
   },
   {
    "duration": -2380,
    "start_time": "2022-01-17T20:41:09.141Z"
   },
   {
    "duration": -2400,
    "start_time": "2022-01-17T20:41:09.162Z"
   },
   {
    "duration": 318,
    "start_time": "2022-01-17T20:45:50.313Z"
   },
   {
    "duration": 248,
    "start_time": "2022-01-17T20:46:04.505Z"
   },
   {
    "duration": 96,
    "start_time": "2022-01-17T20:46:12.414Z"
   },
   {
    "duration": 142,
    "start_time": "2022-01-17T20:46:20.959Z"
   },
   {
    "duration": 263,
    "start_time": "2022-01-17T20:46:31.054Z"
   },
   {
    "duration": 89,
    "start_time": "2022-01-17T20:46:45.747Z"
   },
   {
    "duration": 87,
    "start_time": "2022-01-17T20:46:52.525Z"
   },
   {
    "duration": 272,
    "start_time": "2022-01-17T20:47:01.548Z"
   },
   {
    "duration": 9626,
    "start_time": "2022-01-17T20:47:22.045Z"
   },
   {
    "duration": 296,
    "start_time": "2022-01-17T20:48:22.990Z"
   },
   {
    "duration": 382,
    "start_time": "2022-01-17T20:48:38.166Z"
   },
   {
    "duration": 373,
    "start_time": "2022-01-17T20:49:35.985Z"
   },
   {
    "duration": 870,
    "start_time": "2022-01-17T20:49:48.599Z"
   },
   {
    "duration": 289,
    "start_time": "2022-01-17T20:50:01.186Z"
   },
   {
    "duration": 264,
    "start_time": "2022-01-17T20:50:20.429Z"
   },
   {
    "duration": 283,
    "start_time": "2022-01-17T20:50:27.808Z"
   },
   {
    "duration": 256,
    "start_time": "2022-01-17T20:50:50.986Z"
   },
   {
    "duration": 269,
    "start_time": "2022-01-17T20:50:57.163Z"
   },
   {
    "duration": 255,
    "start_time": "2022-01-17T20:51:04.696Z"
   },
   {
    "duration": 393,
    "start_time": "2022-01-17T20:51:16.190Z"
   },
   {
    "duration": 277,
    "start_time": "2022-01-17T20:51:46.947Z"
   },
   {
    "duration": 99,
    "start_time": "2022-01-17T20:52:12.820Z"
   },
   {
    "duration": 99,
    "start_time": "2022-01-17T20:52:17.045Z"
   },
   {
    "duration": 78,
    "start_time": "2022-01-17T20:53:06.407Z"
   },
   {
    "duration": 90,
    "start_time": "2022-01-17T20:53:18.411Z"
   },
   {
    "duration": 89,
    "start_time": "2022-01-17T20:53:22.046Z"
   },
   {
    "duration": 87,
    "start_time": "2022-01-17T20:53:25.600Z"
   },
   {
    "duration": 251,
    "start_time": "2022-01-17T20:53:31.085Z"
   },
   {
    "duration": 92,
    "start_time": "2022-01-17T20:53:52.569Z"
   },
   {
    "duration": 510,
    "start_time": "2022-01-17T20:53:54.216Z"
   },
   {
    "duration": 386,
    "start_time": "2022-01-17T20:54:08.746Z"
   },
   {
    "duration": 133,
    "start_time": "2022-01-17T20:54:36.869Z"
   },
   {
    "duration": 263,
    "start_time": "2022-01-17T20:54:40.733Z"
   },
   {
    "duration": 300,
    "start_time": "2022-01-17T20:54:59.976Z"
   },
   {
    "duration": 272,
    "start_time": "2022-01-17T20:55:10.190Z"
   },
   {
    "duration": 86,
    "start_time": "2022-01-17T20:55:28.365Z"
   },
   {
    "duration": 948,
    "start_time": "2022-01-17T20:55:38.761Z"
   },
   {
    "duration": 496,
    "start_time": "2022-01-17T20:55:51.244Z"
   },
   {
    "duration": 540,
    "start_time": "2022-01-17T20:56:36.362Z"
   },
   {
    "duration": 70,
    "start_time": "2022-01-17T20:56:36.836Z"
   },
   {
    "duration": 46,
    "start_time": "2022-01-17T20:56:37.002Z"
   },
   {
    "duration": 12,
    "start_time": "2022-01-17T20:56:37.246Z"
   },
   {
    "duration": 9,
    "start_time": "2022-01-17T20:56:38.328Z"
   },
   {
    "duration": 7,
    "start_time": "2022-01-17T20:56:38.946Z"
   },
   {
    "duration": 13,
    "start_time": "2022-01-17T20:56:42.795Z"
   },
   {
    "duration": 16,
    "start_time": "2022-01-17T20:56:43.373Z"
   },
   {
    "duration": 8,
    "start_time": "2022-01-17T20:56:43.866Z"
   },
   {
    "duration": 14,
    "start_time": "2022-01-17T20:56:44.841Z"
   },
   {
    "duration": 14,
    "start_time": "2022-01-17T20:57:06.196Z"
   },
   {
    "duration": 19978,
    "start_time": "2022-01-17T20:57:06.233Z"
   },
   {
    "duration": 21,
    "start_time": "2022-01-17T20:57:26.214Z"
   },
   {
    "duration": 20,
    "start_time": "2022-01-17T20:57:26.237Z"
   },
   {
    "duration": 273,
    "start_time": "2022-01-17T20:57:26.260Z"
   },
   {
    "duration": 86,
    "start_time": "2022-01-17T20:58:40.821Z"
   },
   {
    "duration": 78,
    "start_time": "2022-01-17T20:58:58.406Z"
   },
   {
    "duration": 127,
    "start_time": "2022-01-17T20:59:07.846Z"
   },
   {
    "duration": 84,
    "start_time": "2022-01-17T20:59:27.640Z"
   },
   {
    "duration": 118,
    "start_time": "2022-01-17T20:59:34.212Z"
   },
   {
    "duration": 385,
    "start_time": "2022-01-17T20:59:36.630Z"
   },
   {
    "duration": 82,
    "start_time": "2022-01-17T20:59:54.096Z"
   },
   {
    "duration": 1196,
    "start_time": "2022-01-17T21:00:39.819Z"
   },
   {
    "duration": 1306,
    "start_time": "2022-01-17T21:06:12.288Z"
   },
   {
    "duration": 1386,
    "start_time": "2022-01-17T21:06:21.020Z"
   },
   {
    "duration": 4,
    "start_time": "2022-01-17T21:06:39.013Z"
   },
   {
    "duration": 1132,
    "start_time": "2022-01-17T21:06:42.675Z"
   },
   {
    "duration": 15,
    "start_time": "2022-01-17T21:08:24.699Z"
   },
   {
    "duration": 16,
    "start_time": "2022-01-17T21:08:25.297Z"
   },
   {
    "duration": 257,
    "start_time": "2022-01-17T21:08:56.154Z"
   },
   {
    "duration": 268,
    "start_time": "2022-01-17T21:09:05.465Z"
   },
   {
    "duration": 6157,
    "start_time": "2022-01-17T21:12:42.529Z"
   },
   {
    "duration": 252,
    "start_time": "2022-01-17T21:13:24.364Z"
   },
   {
    "duration": 81,
    "start_time": "2022-01-17T21:13:32.106Z"
   },
   {
    "duration": 290,
    "start_time": "2022-01-17T21:13:34.362Z"
   },
   {
    "duration": 6300,
    "start_time": "2022-01-17T21:13:39.590Z"
   },
   {
    "duration": 76,
    "start_time": "2022-01-17T21:14:19.677Z"
   },
   {
    "duration": 7,
    "start_time": "2022-01-17T21:14:26.118Z"
   },
   {
    "duration": 5,
    "start_time": "2022-01-17T21:15:01.790Z"
   },
   {
    "duration": 261,
    "start_time": "2022-01-17T21:15:08.115Z"
   },
   {
    "duration": 6,
    "start_time": "2022-01-17T21:15:14.546Z"
   },
   {
    "duration": 4,
    "start_time": "2022-01-17T21:19:10.489Z"
   },
   {
    "duration": 89,
    "start_time": "2022-01-17T21:19:21.971Z"
   },
   {
    "duration": 81,
    "start_time": "2022-01-17T21:19:27.490Z"
   },
   {
    "duration": 511,
    "start_time": "2022-01-17T21:19:29.977Z"
   },
   {
    "duration": 19,
    "start_time": "2022-01-17T21:19:33.958Z"
   },
   {
    "duration": 264,
    "start_time": "2022-01-17T21:22:53.166Z"
   },
   {
    "duration": 263,
    "start_time": "2022-01-17T21:23:08.291Z"
   },
   {
    "duration": 82,
    "start_time": "2022-01-17T21:28:36.906Z"
   },
   {
    "duration": 18,
    "start_time": "2022-01-17T21:29:00.237Z"
   },
   {
    "duration": 15,
    "start_time": "2022-01-17T21:29:27.970Z"
   },
   {
    "duration": 17,
    "start_time": "2022-01-17T21:30:26.115Z"
   },
   {
    "duration": 24,
    "start_time": "2022-01-17T21:41:56.623Z"
   },
   {
    "duration": 391,
    "start_time": "2022-01-17T21:41:57.227Z"
   },
   {
    "duration": 9,
    "start_time": "2022-01-17T21:42:01.872Z"
   },
   {
    "duration": 259,
    "start_time": "2022-01-17T21:49:33.153Z"
   },
   {
    "duration": 7,
    "start_time": "2022-01-17T21:49:36.098Z"
   },
   {
    "duration": 25,
    "start_time": "2022-01-17T21:54:48.121Z"
   },
   {
    "duration": 24,
    "start_time": "2022-01-17T21:54:51.900Z"
   },
   {
    "duration": 5,
    "start_time": "2022-01-17T21:54:57.129Z"
   },
   {
    "duration": 82,
    "start_time": "2022-01-17T21:55:05.386Z"
   },
   {
    "duration": 80,
    "start_time": "2022-01-17T21:55:17.707Z"
   },
   {
    "duration": 26,
    "start_time": "2022-01-17T21:55:23.593Z"
   },
   {
    "duration": 13,
    "start_time": "2022-01-17T21:55:26.204Z"
   },
   {
    "duration": 91,
    "start_time": "2022-01-17T21:55:39.609Z"
   },
   {
    "duration": 27,
    "start_time": "2022-01-17T21:55:47.387Z"
   },
   {
    "duration": 262,
    "start_time": "2022-01-17T21:56:30.797Z"
   },
   {
    "duration": 255,
    "start_time": "2022-01-17T21:56:42.367Z"
   },
   {
    "duration": 257,
    "start_time": "2022-01-17T21:57:11.855Z"
   },
   {
    "duration": 14,
    "start_time": "2022-01-17T21:57:19.572Z"
   },
   {
    "duration": 4,
    "start_time": "2022-01-17T21:57:32.795Z"
   },
   {
    "duration": 5,
    "start_time": "2022-01-17T21:59:45.052Z"
   },
   {
    "duration": 8,
    "start_time": "2022-01-17T22:00:22.592Z"
   },
   {
    "duration": 13,
    "start_time": "2022-01-17T22:00:23.082Z"
   },
   {
    "duration": 21,
    "start_time": "2022-01-17T22:00:26.323Z"
   },
   {
    "duration": 16,
    "start_time": "2022-01-17T22:00:33.372Z"
   },
   {
    "duration": 14,
    "start_time": "2022-01-17T22:00:36.175Z"
   },
   {
    "duration": 28,
    "start_time": "2022-01-17T22:00:36.921Z"
   },
   {
    "duration": 567,
    "start_time": "2022-01-17T22:00:37.365Z"
   },
   {
    "duration": 874,
    "start_time": "2022-01-18T19:10:55.451Z"
   },
   {
    "duration": 211026,
    "start_time": "2022-01-18T19:10:57.182Z"
   },
   {
    "duration": 995,
    "start_time": "2022-01-18T19:14:28.210Z"
   },
   {
    "duration": 13,
    "start_time": "2022-01-18T19:14:29.206Z"
   },
   {
    "duration": 8,
    "start_time": "2022-01-18T19:14:29.220Z"
   },
   {
    "duration": 13,
    "start_time": "2022-01-18T19:14:29.230Z"
   },
   {
    "duration": 12,
    "start_time": "2022-01-18T19:14:29.244Z"
   },
   {
    "duration": 231,
    "start_time": "2022-01-18T19:14:29.258Z"
   },
   {
    "duration": 85,
    "start_time": "2022-01-18T19:14:29.491Z"
   },
   {
    "duration": 15,
    "start_time": "2022-01-18T19:14:29.578Z"
   },
   {
    "duration": 9,
    "start_time": "2022-01-18T19:14:29.594Z"
   },
   {
    "duration": 12,
    "start_time": "2022-01-18T19:14:29.604Z"
   },
   {
    "duration": 13,
    "start_time": "2022-01-18T19:14:29.617Z"
   },
   {
    "duration": 26,
    "start_time": "2022-01-18T19:14:29.631Z"
   },
   {
    "duration": 45,
    "start_time": "2022-01-18T19:14:29.658Z"
   },
   {
    "duration": 29,
    "start_time": "2022-01-18T19:14:29.704Z"
   },
   {
    "duration": 4,
    "start_time": "2022-01-18T19:14:29.735Z"
   },
   {
    "duration": 55,
    "start_time": "2022-01-18T19:14:29.741Z"
   },
   {
    "duration": 7,
    "start_time": "2022-01-18T19:14:29.798Z"
   },
   {
    "duration": 4,
    "start_time": "2022-01-18T19:14:29.806Z"
   },
   {
    "duration": 29,
    "start_time": "2022-01-18T19:14:29.812Z"
   },
   {
    "duration": 9,
    "start_time": "2022-01-18T19:14:29.843Z"
   },
   {
    "duration": 10,
    "start_time": "2022-01-18T19:14:29.854Z"
   },
   {
    "duration": 38,
    "start_time": "2022-01-18T19:14:29.866Z"
   },
   {
    "duration": 35,
    "start_time": "2022-01-18T19:14:29.905Z"
   },
   {
    "duration": 4,
    "start_time": "2022-01-18T19:14:29.944Z"
   },
   {
    "duration": 20,
    "start_time": "2022-01-18T19:14:29.950Z"
   },
   {
    "duration": 26,
    "start_time": "2022-01-18T19:14:29.971Z"
   },
   {
    "duration": 6,
    "start_time": "2022-01-18T19:14:29.998Z"
   },
   {
    "duration": 19,
    "start_time": "2022-01-18T19:14:30.006Z"
   },
   {
    "duration": 48,
    "start_time": "2022-01-18T19:14:30.027Z"
   },
   {
    "duration": 647,
    "start_time": "2022-01-18T19:14:30.077Z"
   },
   {
    "duration": 11,
    "start_time": "2022-01-18T19:14:30.726Z"
   },
   {
    "duration": 63,
    "start_time": "2022-01-18T19:14:30.738Z"
   },
   {
    "duration": 15,
    "start_time": "2022-01-18T19:14:30.803Z"
   },
   {
    "duration": 246,
    "start_time": "2022-01-18T19:14:30.819Z"
   },
   {
    "duration": 12,
    "start_time": "2022-01-18T19:14:31.067Z"
   },
   {
    "duration": 41,
    "start_time": "2022-01-18T19:14:31.081Z"
   },
   {
    "duration": 17,
    "start_time": "2022-01-18T19:14:31.124Z"
   },
   {
    "duration": 37,
    "start_time": "2022-01-18T19:14:31.142Z"
   },
   {
    "duration": 18,
    "start_time": "2022-01-18T19:14:31.181Z"
   },
   {
    "duration": 18,
    "start_time": "2022-01-18T19:14:31.201Z"
   },
   {
    "duration": 24,
    "start_time": "2022-01-18T19:14:31.221Z"
   },
   {
    "duration": 14,
    "start_time": "2022-01-18T19:14:31.247Z"
   },
   {
    "duration": 19,
    "start_time": "2022-01-18T19:14:31.263Z"
   },
   {
    "duration": 10263,
    "start_time": "2022-01-18T19:14:31.283Z"
   },
   {
    "duration": 10,
    "start_time": "2022-01-18T19:14:41.548Z"
   },
   {
    "duration": 878,
    "start_time": "2022-01-18T19:14:41.560Z"
   },
   {
    "duration": 10,
    "start_time": "2022-01-18T19:14:42.439Z"
   },
   {
    "duration": 20,
    "start_time": "2022-01-18T19:14:42.450Z"
   },
   {
    "duration": 1159,
    "start_time": "2022-01-18T19:14:42.472Z"
   },
   {
    "duration": 18,
    "start_time": "2022-01-18T19:14:43.632Z"
   },
   {
    "duration": 7,
    "start_time": "2022-01-18T19:14:43.652Z"
   },
   {
    "duration": 28,
    "start_time": "2022-01-18T19:14:43.661Z"
   },
   {
    "duration": 37,
    "start_time": "2022-01-18T19:14:43.691Z"
   },
   {
    "duration": 30,
    "start_time": "2022-01-18T19:14:43.729Z"
   },
   {
    "duration": 26,
    "start_time": "2022-01-18T19:14:43.761Z"
   },
   {
    "duration": 19,
    "start_time": "2022-01-18T19:14:43.788Z"
   },
   {
    "duration": 39,
    "start_time": "2022-01-18T19:14:43.809Z"
   },
   {
    "duration": 31,
    "start_time": "2022-01-18T19:14:43.850Z"
   },
   {
    "duration": 394,
    "start_time": "2022-01-18T19:14:43.883Z"
   },
   {
    "duration": 23,
    "start_time": "2022-01-18T19:14:44.278Z"
   },
   {
    "duration": 39,
    "start_time": "2022-01-18T19:14:44.302Z"
   },
   {
    "duration": 6473,
    "start_time": "2022-01-18T19:14:44.343Z"
   },
   {
    "duration": 3,
    "start_time": "2022-01-18T19:14:50.818Z"
   },
   {
    "duration": 29,
    "start_time": "2022-01-18T19:14:50.822Z"
   },
   {
    "duration": 25,
    "start_time": "2022-01-18T19:14:50.853Z"
   },
   {
    "duration": 36,
    "start_time": "2022-01-18T19:14:50.879Z"
   },
   {
    "duration": 29,
    "start_time": "2022-01-18T19:14:50.916Z"
   },
   {
    "duration": 11,
    "start_time": "2022-01-18T19:14:50.947Z"
   },
   {
    "duration": 53,
    "start_time": "2022-01-18T19:14:50.959Z"
   },
   {
    "duration": 15,
    "start_time": "2022-01-18T19:14:51.014Z"
   },
   {
    "duration": 15,
    "start_time": "2022-01-18T19:14:51.031Z"
   },
   {
    "duration": 11,
    "start_time": "2022-01-18T19:14:51.048Z"
   },
   {
    "duration": 21,
    "start_time": "2022-01-18T19:14:51.060Z"
   },
   {
    "duration": 18,
    "start_time": "2022-01-18T19:14:51.083Z"
   },
   {
    "duration": 15,
    "start_time": "2022-01-18T19:14:51.104Z"
   },
   {
    "duration": 50,
    "start_time": "2022-01-18T19:14:51.120Z"
   },
   {
    "duration": 66,
    "start_time": "2022-01-18T19:37:31.530Z"
   },
   {
    "duration": 17,
    "start_time": "2022-01-18T19:37:41.689Z"
   },
   {
    "duration": 375,
    "start_time": "2022-01-19T12:00:20.929Z"
   },
   {
    "duration": 1015,
    "start_time": "2022-01-19T12:00:30.883Z"
   },
   {
    "duration": 455,
    "start_time": "2022-01-19T12:00:31.900Z"
   },
   {
    "duration": 924,
    "start_time": "2022-01-19T12:02:42.920Z"
   },
   {
    "duration": 530,
    "start_time": "2022-01-19T12:02:43.846Z"
   },
   {
    "duration": 2,
    "start_time": "2022-01-19T12:02:44.378Z"
   },
   {
    "duration": 482,
    "start_time": "2022-01-19T12:02:44.382Z"
   },
   {
    "duration": 10,
    "start_time": "2022-01-19T12:02:44.866Z"
   },
   {
    "duration": 7,
    "start_time": "2022-01-19T12:02:44.877Z"
   },
   {
    "duration": 9,
    "start_time": "2022-01-19T12:02:44.886Z"
   },
   {
    "duration": 14,
    "start_time": "2022-01-19T12:02:44.897Z"
   },
   {
    "duration": 289,
    "start_time": "2022-01-19T12:02:44.928Z"
   },
   {
    "duration": 113,
    "start_time": "2022-01-19T12:02:45.220Z"
   },
   {
    "duration": 15,
    "start_time": "2022-01-19T12:02:45.335Z"
   },
   {
    "duration": 15,
    "start_time": "2022-01-19T12:02:45.351Z"
   },
   {
    "duration": 12,
    "start_time": "2022-01-19T12:02:45.367Z"
   },
   {
    "duration": 47,
    "start_time": "2022-01-19T12:02:45.381Z"
   },
   {
    "duration": 9,
    "start_time": "2022-01-19T12:02:45.429Z"
   },
   {
    "duration": 26,
    "start_time": "2022-01-19T12:02:45.440Z"
   },
   {
    "duration": 23,
    "start_time": "2022-01-19T12:02:45.467Z"
   },
   {
    "duration": 18,
    "start_time": "2022-01-19T12:02:45.492Z"
   },
   {
    "duration": 3,
    "start_time": "2022-01-19T12:02:45.527Z"
   },
   {
    "duration": 39,
    "start_time": "2022-01-19T12:02:45.532Z"
   },
   {
    "duration": 6,
    "start_time": "2022-01-19T12:02:45.572Z"
   },
   {
    "duration": 6,
    "start_time": "2022-01-19T12:02:45.580Z"
   },
   {
    "duration": 46,
    "start_time": "2022-01-19T12:02:45.588Z"
   },
   {
    "duration": 10,
    "start_time": "2022-01-19T12:02:45.635Z"
   },
   {
    "duration": 10,
    "start_time": "2022-01-19T12:02:45.646Z"
   },
   {
    "duration": 53,
    "start_time": "2022-01-19T12:02:45.657Z"
   },
   {
    "duration": 31,
    "start_time": "2022-01-19T12:02:45.713Z"
   },
   {
    "duration": 29,
    "start_time": "2022-01-19T12:02:45.746Z"
   },
   {
    "duration": 3,
    "start_time": "2022-01-19T12:02:45.777Z"
   },
   {
    "duration": 18,
    "start_time": "2022-01-19T12:02:45.781Z"
   },
   {
    "duration": 39,
    "start_time": "2022-01-19T12:02:45.800Z"
   },
   {
    "duration": 5,
    "start_time": "2022-01-19T12:02:45.841Z"
   },
   {
    "duration": 12,
    "start_time": "2022-01-19T12:02:45.847Z"
   },
   {
    "duration": 96,
    "start_time": "2022-01-19T12:02:45.861Z"
   },
   {
    "duration": 244,
    "start_time": "2022-01-19T12:02:45.958Z"
   },
   {
    "duration": 10,
    "start_time": "2022-01-19T12:02:46.204Z"
   },
   {
    "duration": 20,
    "start_time": "2022-01-19T12:02:46.215Z"
   },
   {
    "duration": 11,
    "start_time": "2022-01-19T12:02:46.237Z"
   },
   {
    "duration": 288,
    "start_time": "2022-01-19T12:02:46.249Z"
   },
   {
    "duration": 10,
    "start_time": "2022-01-19T12:02:46.538Z"
   },
   {
    "duration": 33,
    "start_time": "2022-01-19T12:02:46.549Z"
   },
   {
    "duration": 6,
    "start_time": "2022-01-19T12:02:46.585Z"
   },
   {
    "duration": 9,
    "start_time": "2022-01-19T12:02:46.593Z"
   },
   {
    "duration": 7,
    "start_time": "2022-01-19T12:02:46.603Z"
   },
   {
    "duration": 11,
    "start_time": "2022-01-19T12:02:46.642Z"
   },
   {
    "duration": 11,
    "start_time": "2022-01-19T12:02:46.656Z"
   },
   {
    "duration": 5,
    "start_time": "2022-01-19T12:02:46.668Z"
   },
   {
    "duration": 15,
    "start_time": "2022-01-19T12:02:46.675Z"
   },
   {
    "duration": 5,
    "start_time": "2022-01-19T12:05:38.437Z"
   },
   {
    "duration": 12,
    "start_time": "2022-01-19T12:05:46.723Z"
   },
   {
    "duration": 9,
    "start_time": "2022-01-19T12:05:55.664Z"
   },
   {
    "duration": 9,
    "start_time": "2022-01-19T12:06:19.031Z"
   },
   {
    "duration": 862,
    "start_time": "2022-01-19T12:07:17.190Z"
   },
   {
    "duration": 427,
    "start_time": "2022-01-19T12:07:18.053Z"
   },
   {
    "duration": 3,
    "start_time": "2022-01-19T12:07:18.482Z"
   },
   {
    "duration": 508,
    "start_time": "2022-01-19T12:07:18.489Z"
   },
   {
    "duration": 11,
    "start_time": "2022-01-19T12:07:19.894Z"
   },
   {
    "duration": 9,
    "start_time": "2022-01-19T12:07:20.373Z"
   },
   {
    "duration": 9,
    "start_time": "2022-01-19T12:07:21.871Z"
   },
   {
    "duration": 9,
    "start_time": "2022-01-19T12:07:22.468Z"
   },
   {
    "duration": 196,
    "start_time": "2022-01-19T12:07:24.039Z"
   },
   {
    "duration": 74,
    "start_time": "2022-01-19T12:07:24.340Z"
   },
   {
    "duration": 11,
    "start_time": "2022-01-19T12:07:24.602Z"
   },
   {
    "duration": 10,
    "start_time": "2022-01-19T12:07:25.050Z"
   },
   {
    "duration": 10,
    "start_time": "2022-01-19T12:07:25.634Z"
   },
   {
    "duration": 29,
    "start_time": "2022-01-19T12:07:26.129Z"
   },
   {
    "duration": 11,
    "start_time": "2022-01-19T12:07:26.340Z"
   },
   {
    "duration": 10,
    "start_time": "2022-01-19T12:07:27.401Z"
   },
   {
    "duration": 23,
    "start_time": "2022-01-19T12:07:28.179Z"
   },
   {
    "duration": 23,
    "start_time": "2022-01-19T12:07:29.014Z"
   },
   {
    "duration": 16,
    "start_time": "2022-01-19T12:07:29.980Z"
   },
   {
    "duration": 3,
    "start_time": "2022-01-19T12:07:30.565Z"
   },
   {
    "duration": 39,
    "start_time": "2022-01-19T12:07:30.945Z"
   },
   {
    "duration": 7,
    "start_time": "2022-01-19T12:07:32.631Z"
   },
   {
    "duration": 4,
    "start_time": "2022-01-19T12:07:33.147Z"
   },
   {
    "duration": 26,
    "start_time": "2022-01-19T12:07:33.608Z"
   },
   {
    "duration": 10,
    "start_time": "2022-01-19T12:07:34.185Z"
   },
   {
    "duration": 7,
    "start_time": "2022-01-19T12:07:37.984Z"
   },
   {
    "duration": 55,
    "start_time": "2022-01-19T12:07:40.202Z"
   },
   {
    "duration": 19,
    "start_time": "2022-01-19T12:07:42.438Z"
   },
   {
    "duration": 30,
    "start_time": "2022-01-19T12:07:43.717Z"
   },
   {
    "duration": 4,
    "start_time": "2022-01-19T12:07:46.098Z"
   },
   {
    "duration": 17,
    "start_time": "2022-01-19T12:07:46.549Z"
   },
   {
    "duration": 13,
    "start_time": "2022-01-19T12:07:48.755Z"
   },
   {
    "duration": 6,
    "start_time": "2022-01-19T12:07:49.347Z"
   },
   {
    "duration": 11,
    "start_time": "2022-01-19T12:07:52.648Z"
   },
   {
    "duration": 29,
    "start_time": "2022-01-19T12:07:53.086Z"
   },
   {
    "duration": 335,
    "start_time": "2022-01-19T12:07:54.065Z"
   },
   {
    "duration": 10,
    "start_time": "2022-01-19T12:07:58.398Z"
   },
   {
    "duration": 13,
    "start_time": "2022-01-19T12:07:59.431Z"
   },
   {
    "duration": 12,
    "start_time": "2022-01-19T12:08:00.726Z"
   },
   {
    "duration": 207,
    "start_time": "2022-01-19T12:08:01.775Z"
   },
   {
    "duration": 4,
    "start_time": "2022-01-19T12:09:08.966Z"
   },
   {
    "duration": 472,
    "start_time": "2022-01-19T12:09:14.959Z"
   },
   {
    "duration": 11,
    "start_time": "2022-01-19T12:09:17.394Z"
   },
   {
    "duration": 9,
    "start_time": "2022-01-19T12:10:31.305Z"
   },
   {
    "duration": 123,
    "start_time": "2022-01-19T12:22:47.384Z"
   },
   {
    "duration": 3,
    "start_time": "2022-01-19T12:22:55.701Z"
   },
   {
    "duration": 7,
    "start_time": "2022-01-19T12:23:08.693Z"
   },
   {
    "duration": 3,
    "start_time": "2022-01-19T12:23:51.686Z"
   },
   {
    "duration": 2,
    "start_time": "2022-01-19T12:23:51.908Z"
   },
   {
    "duration": 3,
    "start_time": "2022-01-19T12:23:52.956Z"
   },
   {
    "duration": 457,
    "start_time": "2022-01-19T12:23:53.580Z"
   },
   {
    "duration": 8,
    "start_time": "2022-01-19T12:23:56.094Z"
   },
   {
    "duration": 8,
    "start_time": "2022-01-19T12:23:56.529Z"
   },
   {
    "duration": 8,
    "start_time": "2022-01-19T12:23:58.013Z"
   },
   {
    "duration": 9,
    "start_time": "2022-01-19T12:23:58.448Z"
   },
   {
    "duration": 173,
    "start_time": "2022-01-19T12:23:59.921Z"
   },
   {
    "duration": 72,
    "start_time": "2022-01-19T12:24:00.134Z"
   },
   {
    "duration": 11,
    "start_time": "2022-01-19T12:24:00.368Z"
   },
   {
    "duration": 10,
    "start_time": "2022-01-19T12:24:00.606Z"
   },
   {
    "duration": 10,
    "start_time": "2022-01-19T12:24:01.132Z"
   },
   {
    "duration": 25,
    "start_time": "2022-01-19T12:24:01.613Z"
   },
   {
    "duration": 11,
    "start_time": "2022-01-19T12:24:01.839Z"
   },
   {
    "duration": 13,
    "start_time": "2022-01-19T12:24:02.366Z"
   },
   {
    "duration": 10,
    "start_time": "2022-01-19T12:24:02.910Z"
   },
   {
    "duration": 24,
    "start_time": "2022-01-19T12:24:03.953Z"
   },
   {
    "duration": 15,
    "start_time": "2022-01-19T12:24:04.742Z"
   },
   {
    "duration": 23,
    "start_time": "2022-01-19T12:24:05.539Z"
   },
   {
    "duration": 16,
    "start_time": "2022-01-19T12:24:07.668Z"
   },
   {
    "duration": 7,
    "start_time": "2022-01-19T12:24:20.935Z"
   },
   {
    "duration": 15,
    "start_time": "2022-01-19T12:24:53.656Z"
   },
   {
    "duration": 13,
    "start_time": "2022-01-19T12:24:57.297Z"
   },
   {
    "duration": 10,
    "start_time": "2022-01-19T12:28:29.593Z"
   },
   {
    "duration": 9,
    "start_time": "2022-01-19T12:28:32.668Z"
   },
   {
    "duration": 23,
    "start_time": "2022-01-19T12:28:53.269Z"
   },
   {
    "duration": 4,
    "start_time": "2022-01-19T12:29:16.271Z"
   },
   {
    "duration": 38,
    "start_time": "2022-01-19T12:29:16.767Z"
   },
   {
    "duration": 9,
    "start_time": "2022-01-19T12:29:20.743Z"
   },
   {
    "duration": 3,
    "start_time": "2022-01-19T12:29:21.298Z"
   },
   {
    "duration": 30,
    "start_time": "2022-01-19T12:29:22.001Z"
   },
   {
    "duration": 10,
    "start_time": "2022-01-19T12:29:22.891Z"
   },
   {
    "duration": 9,
    "start_time": "2022-01-19T12:29:36.075Z"
   },
   {
    "duration": 15,
    "start_time": "2022-01-19T13:00:28.757Z"
   },
   {
    "duration": 14,
    "start_time": "2022-01-19T13:04:00.025Z"
   },
   {
    "duration": 19,
    "start_time": "2022-01-19T13:06:59.615Z"
   },
   {
    "duration": 33,
    "start_time": "2022-01-19T13:07:15.359Z"
   },
   {
    "duration": 4,
    "start_time": "2022-01-19T13:07:34.240Z"
   },
   {
    "duration": 18,
    "start_time": "2022-01-19T13:07:34.809Z"
   },
   {
    "duration": 17,
    "start_time": "2022-01-19T13:07:37.571Z"
   },
   {
    "duration": 6,
    "start_time": "2022-01-19T13:07:37.950Z"
   },
   {
    "duration": 10,
    "start_time": "2022-01-19T13:08:08.726Z"
   },
   {
    "duration": 27,
    "start_time": "2022-01-19T13:11:01.849Z"
   },
   {
    "duration": 28,
    "start_time": "2022-01-19T13:11:54.867Z"
   },
   {
    "duration": 15,
    "start_time": "2022-01-19T13:16:31.681Z"
   },
   {
    "duration": 13,
    "start_time": "2022-01-19T13:16:33.307Z"
   },
   {
    "duration": 50,
    "start_time": "2022-01-19T13:16:37.137Z"
   },
   {
    "duration": 27,
    "start_time": "2022-01-19T13:36:27.320Z"
   },
   {
    "duration": 29,
    "start_time": "2022-01-19T13:38:57.670Z"
   },
   {
    "duration": 390,
    "start_time": "2022-01-19T13:39:25.517Z"
   },
   {
    "duration": 119,
    "start_time": "2022-01-19T13:39:27.807Z"
   },
   {
    "duration": 109,
    "start_time": "2022-01-19T13:39:32.821Z"
   },
   {
    "duration": 33,
    "start_time": "2022-01-19T13:39:42.608Z"
   },
   {
    "duration": 29,
    "start_time": "2022-01-19T13:39:46.578Z"
   },
   {
    "duration": 31,
    "start_time": "2022-01-19T13:39:50.639Z"
   },
   {
    "duration": 30,
    "start_time": "2022-01-19T13:40:05.012Z"
   },
   {
    "duration": 28,
    "start_time": "2022-01-19T13:40:26.611Z"
   },
   {
    "duration": 29,
    "start_time": "2022-01-19T13:40:39.089Z"
   },
   {
    "duration": 31,
    "start_time": "2022-01-19T13:40:49.304Z"
   },
   {
    "duration": 32,
    "start_time": "2022-01-19T13:41:25.264Z"
   },
   {
    "duration": 35,
    "start_time": "2022-01-19T13:42:22.963Z"
   },
   {
    "duration": 31,
    "start_time": "2022-01-19T13:42:30.975Z"
   },
   {
    "duration": 30,
    "start_time": "2022-01-19T13:43:02.640Z"
   },
   {
    "duration": 27,
    "start_time": "2022-01-19T13:43:21.695Z"
   },
   {
    "duration": 15,
    "start_time": "2022-01-19T13:45:30.400Z"
   },
   {
    "duration": 956,
    "start_time": "2022-01-19T13:45:30.911Z"
   },
   {
    "duration": 17,
    "start_time": "2022-01-19T13:45:36.388Z"
   },
   {
    "duration": 4,
    "start_time": "2022-01-19T13:45:37.050Z"
   },
   {
    "duration": 4,
    "start_time": "2022-01-19T13:45:37.648Z"
   },
   {
    "duration": 4,
    "start_time": "2022-01-19T13:47:00.381Z"
   },
   {
    "duration": 9,
    "start_time": "2022-01-19T13:47:08.604Z"
   },
   {
    "duration": 6,
    "start_time": "2022-01-19T13:47:15.103Z"
   },
   {
    "duration": 8,
    "start_time": "2022-01-19T13:47:29.412Z"
   },
   {
    "duration": 1715,
    "start_time": "2022-01-19T13:48:34.050Z"
   },
   {
    "duration": 4,
    "start_time": "2022-01-19T13:48:42.490Z"
   },
   {
    "duration": 8,
    "start_time": "2022-01-19T13:48:45.876Z"
   },
   {
    "duration": 379,
    "start_time": "2022-01-19T13:49:03.143Z"
   },
   {
    "duration": 325,
    "start_time": "2022-01-19T13:49:17.661Z"
   },
   {
    "duration": 335,
    "start_time": "2022-01-19T13:49:23.751Z"
   },
   {
    "duration": 10,
    "start_time": "2022-01-19T13:49:31.159Z"
   },
   {
    "duration": 9,
    "start_time": "2022-01-19T13:49:53.446Z"
   },
   {
    "duration": 6,
    "start_time": "2022-01-19T13:52:28.522Z"
   },
   {
    "duration": 9,
    "start_time": "2022-01-19T13:52:32.196Z"
   },
   {
    "duration": 14,
    "start_time": "2022-01-19T13:52:37.826Z"
   },
   {
    "duration": 9,
    "start_time": "2022-01-19T13:52:42.049Z"
   },
   {
    "duration": 10,
    "start_time": "2022-01-19T13:52:45.161Z"
   },
   {
    "duration": 18,
    "start_time": "2022-01-19T13:52:48.911Z"
   },
   {
    "duration": 70,
    "start_time": "2022-01-19T13:52:49.452Z"
   },
   {
    "duration": 341,
    "start_time": "2022-01-19T14:09:11.805Z"
   },
   {
    "duration": 4,
    "start_time": "2022-01-19T14:09:28.766Z"
   },
   {
    "duration": 4,
    "start_time": "2022-01-19T14:09:35.221Z"
   },
   {
    "duration": 5,
    "start_time": "2022-01-19T14:11:28.657Z"
   },
   {
    "duration": 4,
    "start_time": "2022-01-19T14:11:32.335Z"
   },
   {
    "duration": 5,
    "start_time": "2022-01-19T14:13:57.475Z"
   },
   {
    "duration": 363,
    "start_time": "2022-01-19T14:14:09.857Z"
   },
   {
    "duration": 2209,
    "start_time": "2022-01-19T14:14:11.973Z"
   },
   {
    "duration": 312,
    "start_time": "2022-01-19T14:14:15.015Z"
   },
   {
    "duration": 5,
    "start_time": "2022-01-19T14:14:18.607Z"
   },
   {
    "duration": 5,
    "start_time": "2022-01-19T14:14:27.856Z"
   },
   {
    "duration": 118,
    "start_time": "2022-01-19T14:14:47.819Z"
   },
   {
    "duration": 4,
    "start_time": "2022-01-19T14:14:49.393Z"
   },
   {
    "duration": 17,
    "start_time": "2022-01-19T14:23:30.131Z"
   },
   {
    "duration": 18,
    "start_time": "2022-01-19T14:23:42.969Z"
   },
   {
    "duration": 100,
    "start_time": "2022-01-19T14:23:46.100Z"
   },
   {
    "duration": 20,
    "start_time": "2022-01-19T14:23:50.640Z"
   },
   {
    "duration": 18,
    "start_time": "2022-01-19T14:24:02.587Z"
   },
   {
    "duration": 16,
    "start_time": "2022-01-19T14:24:12.064Z"
   },
   {
    "duration": 336,
    "start_time": "2022-01-19T14:24:54.570Z"
   },
   {
    "duration": 59,
    "start_time": "2022-01-19T14:25:08.763Z"
   },
   {
    "duration": 55,
    "start_time": "2022-01-19T14:25:22.215Z"
   },
   {
    "duration": 84,
    "start_time": "2022-01-19T14:25:33.078Z"
   },
   {
    "duration": 342,
    "start_time": "2022-01-19T14:26:06.103Z"
   },
   {
    "duration": 353,
    "start_time": "2022-01-19T14:26:16.949Z"
   },
   {
    "duration": 347,
    "start_time": "2022-01-19T14:26:23.051Z"
   },
   {
    "duration": 16,
    "start_time": "2022-01-19T14:26:33.336Z"
   },
   {
    "duration": 61,
    "start_time": "2022-01-19T14:26:57.046Z"
   },
   {
    "duration": 59,
    "start_time": "2022-01-19T14:27:23.830Z"
   },
   {
    "duration": 56,
    "start_time": "2022-01-19T14:27:36.182Z"
   },
   {
    "duration": 7,
    "start_time": "2022-01-19T14:40:00.574Z"
   },
   {
    "duration": 7,
    "start_time": "2022-01-19T14:40:04.169Z"
   },
   {
    "duration": 10,
    "start_time": "2022-01-19T14:40:12.820Z"
   },
   {
    "duration": 4001,
    "start_time": "2022-01-19T14:54:43.828Z"
   },
   {
    "duration": 6,
    "start_time": "2022-01-19T14:54:54.259Z"
   },
   {
    "duration": 341,
    "start_time": "2022-01-19T14:56:10.614Z"
   },
   {
    "duration": 321,
    "start_time": "2022-01-19T14:56:16.134Z"
   },
   {
    "duration": 329,
    "start_time": "2022-01-19T14:56:33.327Z"
   },
   {
    "duration": 6,
    "start_time": "2022-01-19T14:57:12.642Z"
   },
   {
    "duration": 6,
    "start_time": "2022-01-19T14:57:29.570Z"
   },
   {
    "duration": 14,
    "start_time": "2022-01-19T14:57:44.958Z"
   },
   {
    "duration": 13,
    "start_time": "2022-01-19T14:58:18.407Z"
   },
   {
    "duration": 4,
    "start_time": "2022-01-19T14:58:46.859Z"
   },
   {
    "duration": 13,
    "start_time": "2022-01-19T14:59:11.799Z"
   },
   {
    "duration": 837,
    "start_time": "2022-01-19T14:59:29.451Z"
   },
   {
    "duration": 454,
    "start_time": "2022-01-19T14:59:30.290Z"
   },
   {
    "duration": 2,
    "start_time": "2022-01-19T14:59:30.746Z"
   },
   {
    "duration": 518,
    "start_time": "2022-01-19T14:59:30.749Z"
   },
   {
    "duration": 12,
    "start_time": "2022-01-19T14:59:31.268Z"
   },
   {
    "duration": 8,
    "start_time": "2022-01-19T14:59:31.281Z"
   },
   {
    "duration": 25,
    "start_time": "2022-01-19T14:59:31.291Z"
   },
   {
    "duration": 10,
    "start_time": "2022-01-19T14:59:31.318Z"
   },
   {
    "duration": 200,
    "start_time": "2022-01-19T14:59:31.330Z"
   },
   {
    "duration": 74,
    "start_time": "2022-01-19T14:59:31.531Z"
   },
   {
    "duration": 21,
    "start_time": "2022-01-19T14:59:31.607Z"
   },
   {
    "duration": 8,
    "start_time": "2022-01-19T14:59:31.630Z"
   },
   {
    "duration": 12,
    "start_time": "2022-01-19T14:59:31.640Z"
   },
   {
    "duration": 26,
    "start_time": "2022-01-19T14:59:31.653Z"
   },
   {
    "duration": 11,
    "start_time": "2022-01-19T14:59:31.680Z"
   },
   {
    "duration": 13,
    "start_time": "2022-01-19T14:59:31.693Z"
   },
   {
    "duration": 10,
    "start_time": "2022-01-19T14:59:31.727Z"
   },
   {
    "duration": 25,
    "start_time": "2022-01-19T14:59:31.738Z"
   },
   {
    "duration": 31,
    "start_time": "2022-01-19T14:59:31.764Z"
   },
   {
    "duration": 5,
    "start_time": "2022-01-19T14:59:31.796Z"
   },
   {
    "duration": 508,
    "start_time": "2022-01-19T14:59:31.803Z"
   },
   {
    "duration": 547,
    "start_time": "2022-01-19T14:59:31.768Z"
   },
   {
    "duration": 529,
    "start_time": "2022-01-19T14:59:31.787Z"
   },
   {
    "duration": 509,
    "start_time": "2022-01-19T14:59:31.807Z"
   },
   {
    "duration": 478,
    "start_time": "2022-01-19T14:59:31.839Z"
   },
   {
    "duration": -142,
    "start_time": "2022-01-19T14:59:32.460Z"
   },
   {
    "duration": -153,
    "start_time": "2022-01-19T14:59:32.472Z"
   },
   {
    "duration": -158,
    "start_time": "2022-01-19T14:59:32.478Z"
   },
   {
    "duration": -164,
    "start_time": "2022-01-19T14:59:32.485Z"
   },
   {
    "duration": -172,
    "start_time": "2022-01-19T14:59:32.493Z"
   },
   {
    "duration": -178,
    "start_time": "2022-01-19T14:59:32.500Z"
   },
   {
    "duration": -186,
    "start_time": "2022-01-19T14:59:32.509Z"
   },
   {
    "duration": -217,
    "start_time": "2022-01-19T14:59:32.541Z"
   },
   {
    "duration": -245,
    "start_time": "2022-01-19T14:59:32.570Z"
   },
   {
    "duration": -263,
    "start_time": "2022-01-19T14:59:32.589Z"
   },
   {
    "duration": -293,
    "start_time": "2022-01-19T14:59:32.620Z"
   },
   {
    "duration": -312,
    "start_time": "2022-01-19T14:59:32.640Z"
   },
   {
    "duration": -342,
    "start_time": "2022-01-19T14:59:32.670Z"
   },
   {
    "duration": -360,
    "start_time": "2022-01-19T14:59:32.689Z"
   },
   {
    "duration": -390,
    "start_time": "2022-01-19T14:59:32.720Z"
   },
   {
    "duration": -396,
    "start_time": "2022-01-19T14:59:32.727Z"
   },
   {
    "duration": -404,
    "start_time": "2022-01-19T14:59:32.736Z"
   },
   {
    "duration": -420,
    "start_time": "2022-01-19T14:59:32.753Z"
   },
   {
    "duration": -438,
    "start_time": "2022-01-19T14:59:32.771Z"
   },
   {
    "duration": -456,
    "start_time": "2022-01-19T14:59:32.790Z"
   },
   {
    "duration": -482,
    "start_time": "2022-01-19T14:59:32.817Z"
   },
   {
    "duration": -499,
    "start_time": "2022-01-19T14:59:32.835Z"
   },
   {
    "duration": -516,
    "start_time": "2022-01-19T14:59:32.853Z"
   },
   {
    "duration": -530,
    "start_time": "2022-01-19T14:59:32.867Z"
   },
   {
    "duration": -544,
    "start_time": "2022-01-19T14:59:32.882Z"
   },
   {
    "duration": -549,
    "start_time": "2022-01-19T14:59:32.888Z"
   },
   {
    "duration": -562,
    "start_time": "2022-01-19T14:59:32.902Z"
   },
   {
    "duration": -573,
    "start_time": "2022-01-19T14:59:32.914Z"
   },
   {
    "duration": -579,
    "start_time": "2022-01-19T14:59:32.921Z"
   },
   {
    "duration": -590,
    "start_time": "2022-01-19T14:59:32.933Z"
   },
   {
    "duration": -596,
    "start_time": "2022-01-19T14:59:32.939Z"
   },
   {
    "duration": -601,
    "start_time": "2022-01-19T14:59:32.945Z"
   },
   {
    "duration": -605,
    "start_time": "2022-01-19T14:59:32.950Z"
   },
   {
    "duration": -610,
    "start_time": "2022-01-19T14:59:32.956Z"
   },
   {
    "duration": -626,
    "start_time": "2022-01-19T14:59:32.972Z"
   },
   {
    "duration": -635,
    "start_time": "2022-01-19T14:59:32.982Z"
   },
   {
    "duration": -641,
    "start_time": "2022-01-19T14:59:32.989Z"
   },
   {
    "duration": -645,
    "start_time": "2022-01-19T14:59:32.994Z"
   },
   {
    "duration": -650,
    "start_time": "2022-01-19T14:59:33.000Z"
   },
   {
    "duration": -654,
    "start_time": "2022-01-19T14:59:33.005Z"
   },
   {
    "duration": -658,
    "start_time": "2022-01-19T14:59:33.010Z"
   },
   {
    "duration": -662,
    "start_time": "2022-01-19T14:59:33.015Z"
   },
   {
    "duration": -668,
    "start_time": "2022-01-19T14:59:33.021Z"
   },
   {
    "duration": -672,
    "start_time": "2022-01-19T14:59:33.026Z"
   },
   {
    "duration": -684,
    "start_time": "2022-01-19T14:59:33.039Z"
   },
   {
    "duration": -688,
    "start_time": "2022-01-19T14:59:33.044Z"
   },
   {
    "duration": -693,
    "start_time": "2022-01-19T14:59:33.050Z"
   },
   {
    "duration": -698,
    "start_time": "2022-01-19T14:59:33.056Z"
   },
   {
    "duration": -702,
    "start_time": "2022-01-19T14:59:33.061Z"
   },
   {
    "duration": -707,
    "start_time": "2022-01-19T14:59:33.066Z"
   },
   {
    "duration": -713,
    "start_time": "2022-01-19T14:59:33.073Z"
   },
   {
    "duration": -717,
    "start_time": "2022-01-19T14:59:33.078Z"
   },
   {
    "duration": -928,
    "start_time": "2022-01-19T14:59:33.290Z"
   },
   {
    "duration": -943,
    "start_time": "2022-01-19T14:59:33.306Z"
   },
   {
    "duration": -962,
    "start_time": "2022-01-19T14:59:33.326Z"
   },
   {
    "duration": -977,
    "start_time": "2022-01-19T14:59:33.342Z"
   },
   {
    "duration": -989,
    "start_time": "2022-01-19T14:59:33.354Z"
   },
   {
    "duration": -1005,
    "start_time": "2022-01-19T14:59:33.371Z"
   },
   {
    "duration": -963,
    "start_time": "2022-01-19T14:59:33.390Z"
   },
   {
    "duration": -979,
    "start_time": "2022-01-19T14:59:33.407Z"
   },
   {
    "duration": -994,
    "start_time": "2022-01-19T14:59:33.423Z"
   },
   {
    "duration": -1008,
    "start_time": "2022-01-19T14:59:33.438Z"
   },
   {
    "duration": -1027,
    "start_time": "2022-01-19T14:59:33.458Z"
   },
   {
    "duration": -1051,
    "start_time": "2022-01-19T14:59:33.483Z"
   },
   {
    "duration": -1067,
    "start_time": "2022-01-19T14:59:33.499Z"
   },
   {
    "duration": -1074,
    "start_time": "2022-01-19T14:59:33.507Z"
   },
   {
    "duration": -1087,
    "start_time": "2022-01-19T14:59:33.521Z"
   },
   {
    "duration": -1098,
    "start_time": "2022-01-19T14:59:33.533Z"
   },
   {
    "duration": -1110,
    "start_time": "2022-01-19T14:59:33.546Z"
   },
   {
    "duration": -1117,
    "start_time": "2022-01-19T14:59:33.554Z"
   },
   {
    "duration": -1132,
    "start_time": "2022-01-19T14:59:33.570Z"
   },
   {
    "duration": 522,
    "start_time": "2022-01-19T15:01:09.349Z"
   },
   {
    "duration": 384,
    "start_time": "2022-01-19T15:01:18.716Z"
   },
   {
    "duration": 356,
    "start_time": "2022-01-19T15:01:39.582Z"
   },
   {
    "duration": 364,
    "start_time": "2022-01-19T15:01:52.008Z"
   },
   {
    "duration": 357,
    "start_time": "2022-01-19T15:01:58.944Z"
   },
   {
    "duration": 105,
    "start_time": "2022-01-19T15:02:53.418Z"
   },
   {
    "duration": 43,
    "start_time": "2022-01-19T15:02:56.217Z"
   },
   {
    "duration": 19,
    "start_time": "2022-01-19T15:04:47.576Z"
   },
   {
    "duration": 3,
    "start_time": "2022-01-19T15:04:48.532Z"
   },
   {
    "duration": 38,
    "start_time": "2022-01-19T15:04:49.720Z"
   },
   {
    "duration": 7,
    "start_time": "2022-01-19T15:04:59.170Z"
   },
   {
    "duration": 3,
    "start_time": "2022-01-19T15:04:59.402Z"
   },
   {
    "duration": 27,
    "start_time": "2022-01-19T15:04:59.664Z"
   },
   {
    "duration": 10,
    "start_time": "2022-01-19T15:04:59.913Z"
   },
   {
    "duration": 7,
    "start_time": "2022-01-19T15:05:02.120Z"
   },
   {
    "duration": 118,
    "start_time": "2022-01-19T15:05:03.595Z"
   },
   {
    "duration": 19,
    "start_time": "2022-01-19T15:05:05.016Z"
   },
   {
    "duration": 32,
    "start_time": "2022-01-19T15:05:05.528Z"
   },
   {
    "duration": 4,
    "start_time": "2022-01-19T15:05:08.431Z"
   },
   {
    "duration": 17,
    "start_time": "2022-01-19T15:05:08.612Z"
   },
   {
    "duration": 16,
    "start_time": "2022-01-19T15:05:09.571Z"
   },
   {
    "duration": 5,
    "start_time": "2022-01-19T15:05:09.804Z"
   },
   {
    "duration": 28,
    "start_time": "2022-01-19T15:05:13.364Z"
   },
   {
    "duration": 236,
    "start_time": "2022-01-19T15:05:14.708Z"
   },
   {
    "duration": 15,
    "start_time": "2022-01-19T15:05:17.891Z"
   },
   {
    "duration": 12,
    "start_time": "2022-01-19T15:05:18.770Z"
   },
   {
    "duration": 193,
    "start_time": "2022-01-19T15:05:19.239Z"
   },
   {
    "duration": 13,
    "start_time": "2022-01-19T15:05:22.732Z"
   },
   {
    "duration": 37,
    "start_time": "2022-01-19T15:05:26.968Z"
   },
   {
    "duration": 8,
    "start_time": "2022-01-19T15:05:27.546Z"
   },
   {
    "duration": 7,
    "start_time": "2022-01-19T15:05:28.149Z"
   },
   {
    "duration": 3,
    "start_time": "2022-01-19T15:05:29.894Z"
   },
   {
    "duration": 8,
    "start_time": "2022-01-19T15:05:41.963Z"
   },
   {
    "duration": 10,
    "start_time": "2022-01-19T15:05:42.438Z"
   },
   {
    "duration": 3,
    "start_time": "2022-01-19T15:05:42.634Z"
   },
   {
    "duration": 11,
    "start_time": "2022-01-19T15:05:43.112Z"
   },
   {
    "duration": 9884,
    "start_time": "2022-01-19T15:05:43.606Z"
   },
   {
    "duration": 8,
    "start_time": "2022-01-19T15:05:53.492Z"
   },
   {
    "duration": 1456,
    "start_time": "2022-01-19T15:05:53.502Z"
   },
   {
    "duration": 8,
    "start_time": "2022-01-19T15:05:54.960Z"
   },
   {
    "duration": 29,
    "start_time": "2022-01-19T15:05:54.969Z"
   },
   {
    "duration": 14,
    "start_time": "2022-01-19T15:05:54.999Z"
   },
   {
    "duration": 745,
    "start_time": "2022-01-19T15:05:55.014Z"
   },
   {
    "duration": 17,
    "start_time": "2022-01-19T15:06:16.325Z"
   },
   {
    "duration": 3,
    "start_time": "2022-01-19T15:06:16.894Z"
   },
   {
    "duration": 10,
    "start_time": "2022-01-19T15:06:17.451Z"
   },
   {
    "duration": 10,
    "start_time": "2022-01-19T15:06:17.976Z"
   },
   {
    "duration": 4441,
    "start_time": "2022-01-19T15:06:18.459Z"
   },
   {
    "duration": 769,
    "start_time": "2022-01-19T15:06:22.133Z"
   },
   {
    "duration": 762,
    "start_time": "2022-01-19T15:06:22.141Z"
   },
   {
    "duration": 8,
    "start_time": "2022-01-19T15:06:23.929Z"
   },
   {
    "duration": 10,
    "start_time": "2022-01-19T15:06:25.058Z"
   },
   {
    "duration": 11,
    "start_time": "2022-01-19T15:06:28.034Z"
   },
   {
    "duration": 16,
    "start_time": "2022-01-19T15:06:28.555Z"
   },
   {
    "duration": 61,
    "start_time": "2022-01-19T15:06:29.427Z"
   },
   {
    "duration": 20,
    "start_time": "2022-01-19T15:06:32.074Z"
   },
   {
    "duration": 59,
    "start_time": "2022-01-19T15:06:32.628Z"
   },
   {
    "duration": 56,
    "start_time": "2022-01-19T15:06:33.173Z"
   },
   {
    "duration": 7,
    "start_time": "2022-01-19T15:06:35.205Z"
   },
   {
    "duration": 12,
    "start_time": "2022-01-19T15:06:36.070Z"
   },
   {
    "duration": 5,
    "start_time": "2022-01-19T15:06:36.616Z"
   },
   {
    "duration": 6,
    "start_time": "2022-01-19T15:06:37.346Z"
   },
   {
    "duration": 4,
    "start_time": "2022-01-19T15:06:37.806Z"
   },
   {
    "duration": 10,
    "start_time": "2022-01-19T15:06:39.728Z"
   },
   {
    "duration": 4,
    "start_time": "2022-01-19T15:06:55.530Z"
   },
   {
    "duration": 108,
    "start_time": "2022-01-19T15:09:08.339Z"
   },
   {
    "duration": 362,
    "start_time": "2022-01-19T15:09:45.774Z"
   },
   {
    "duration": 18,
    "start_time": "2022-01-19T15:09:53.763Z"
   },
   {
    "duration": 2206,
    "start_time": "2022-01-19T15:10:16.747Z"
   },
   {
    "duration": 327,
    "start_time": "2022-01-19T15:11:25.629Z"
   },
   {
    "duration": 20,
    "start_time": "2022-01-19T15:13:50.586Z"
   },
   {
    "duration": 3,
    "start_time": "2022-01-19T15:31:58.637Z"
   },
   {
    "duration": 663,
    "start_time": "2022-01-19T15:33:01.686Z"
   },
   {
    "duration": 3,
    "start_time": "2022-01-19T15:33:26.024Z"
   },
   {
    "duration": 3,
    "start_time": "2022-01-19T15:35:21.192Z"
   },
   {
    "duration": 3,
    "start_time": "2022-01-19T15:35:27.109Z"
   },
   {
    "duration": 143,
    "start_time": "2022-01-19T15:38:44.839Z"
   },
   {
    "duration": 3,
    "start_time": "2022-01-19T15:38:51.255Z"
   },
   {
    "duration": 905,
    "start_time": "2022-01-19T15:40:46.603Z"
   },
   {
    "duration": 312,
    "start_time": "2022-01-19T15:41:20.377Z"
   },
   {
    "duration": 15,
    "start_time": "2022-01-19T15:41:29.372Z"
   },
   {
    "duration": 313,
    "start_time": "2022-01-19T16:34:43.032Z"
   },
   {
    "duration": 4100,
    "start_time": "2022-01-19T16:37:26.786Z"
   },
   {
    "duration": 19,
    "start_time": "2022-01-19T16:37:47.684Z"
   },
   {
    "duration": 3,
    "start_time": "2022-01-19T16:37:49.855Z"
   },
   {
    "duration": 10,
    "start_time": "2022-01-19T16:37:50.147Z"
   },
   {
    "duration": 9,
    "start_time": "2022-01-19T16:37:50.268Z"
   },
   {
    "duration": 4287,
    "start_time": "2022-01-19T16:37:50.537Z"
   },
   {
    "duration": 4,
    "start_time": "2022-01-19T16:38:01.332Z"
   },
   {
    "duration": 3,
    "start_time": "2022-01-19T16:38:04.366Z"
   },
   {
    "duration": 2,
    "start_time": "2022-01-19T16:41:59.575Z"
   },
   {
    "duration": 3,
    "start_time": "2022-01-19T16:42:01.311Z"
   },
   {
    "duration": 336,
    "start_time": "2022-01-19T16:42:02.868Z"
   },
   {
    "duration": 39,
    "start_time": "2022-01-19T17:40:14.884Z"
   },
   {
    "duration": 5907,
    "start_time": "2022-01-19T17:42:15.567Z"
   },
   {
    "duration": 5889,
    "start_time": "2022-01-19T17:50:58.974Z"
   },
   {
    "duration": 319,
    "start_time": "2022-01-19T17:51:12.824Z"
   },
   {
    "duration": 307,
    "start_time": "2022-01-19T17:51:13.473Z"
   },
   {
    "duration": 5977,
    "start_time": "2022-01-19T18:53:27.696Z"
   },
   {
    "duration": 32,
    "start_time": "2022-01-19T18:53:50.977Z"
   },
   {
    "duration": 5783,
    "start_time": "2022-01-19T18:53:52.638Z"
   },
   {
    "duration": 39,
    "start_time": "2022-01-19T18:54:18.479Z"
   },
   {
    "duration": 8,
    "start_time": "2022-01-19T18:54:41.214Z"
   },
   {
    "duration": 617,
    "start_time": "2022-01-19T18:55:13.814Z"
   },
   {
    "duration": 3,
    "start_time": "2022-01-19T18:55:56.070Z"
   },
   {
    "duration": 159,
    "start_time": "2022-01-19T18:56:03.049Z"
   },
   {
    "duration": 104,
    "start_time": "2022-01-19T18:56:06.131Z"
   },
   {
    "duration": 101,
    "start_time": "2022-01-19T18:56:11.044Z"
   },
   {
    "duration": 8,
    "start_time": "2022-01-19T18:56:14.454Z"
   },
   {
    "duration": 6,
    "start_time": "2022-01-19T18:56:37.798Z"
   },
   {
    "duration": 3,
    "start_time": "2022-01-19T18:56:43.645Z"
   },
   {
    "duration": 3,
    "start_time": "2022-01-19T18:56:54.573Z"
   },
   {
    "duration": 5,
    "start_time": "2022-01-19T18:57:00.646Z"
   },
   {
    "duration": 330,
    "start_time": "2022-01-19T18:57:16.826Z"
   },
   {
    "duration": 4,
    "start_time": "2022-01-19T18:57:23.156Z"
   },
   {
    "duration": 107,
    "start_time": "2022-01-19T18:57:24.674Z"
   },
   {
    "duration": 5,
    "start_time": "2022-01-19T18:57:26.225Z"
   },
   {
    "duration": 5,
    "start_time": "2022-01-19T18:58:42.578Z"
   },
   {
    "duration": 8,
    "start_time": "2022-01-19T18:59:03.155Z"
   },
   {
    "duration": 41,
    "start_time": "2022-01-19T18:59:54.029Z"
   },
   {
    "duration": 4,
    "start_time": "2022-01-19T19:33:02.040Z"
   },
   {
    "duration": 7,
    "start_time": "2022-01-19T19:34:55.568Z"
   },
   {
    "duration": 8,
    "start_time": "2022-01-19T19:41:38.292Z"
   },
   {
    "duration": 4,
    "start_time": "2022-01-19T19:42:10.982Z"
   },
   {
    "duration": 332,
    "start_time": "2022-01-19T19:42:58.521Z"
   },
   {
    "duration": 30,
    "start_time": "2022-01-19T19:43:41.579Z"
   },
   {
    "duration": 359,
    "start_time": "2022-01-19T19:44:16.183Z"
   },
   {
    "duration": 347,
    "start_time": "2022-01-19T19:46:38.059Z"
   },
   {
    "duration": 355,
    "start_time": "2022-01-19T19:46:43.879Z"
   },
   {
    "duration": 30,
    "start_time": "2022-01-19T19:46:49.959Z"
   },
   {
    "duration": 30,
    "start_time": "2022-01-19T19:47:15.531Z"
   },
   {
    "duration": 390,
    "start_time": "2022-01-19T19:48:13.537Z"
   },
   {
    "duration": 29,
    "start_time": "2022-01-19T19:48:24.629Z"
   },
   {
    "duration": 376,
    "start_time": "2022-01-19T19:48:56.239Z"
   },
   {
    "duration": 331,
    "start_time": "2022-01-19T19:49:02.076Z"
   },
   {
    "duration": 368,
    "start_time": "2022-01-19T19:49:04.831Z"
   },
   {
    "duration": 15,
    "start_time": "2022-01-19T19:49:22.818Z"
   },
   {
    "duration": 333,
    "start_time": "2022-01-19T19:49:53.396Z"
   },
   {
    "duration": 3,
    "start_time": "2022-01-19T19:50:28.859Z"
   },
   {
    "duration": 4,
    "start_time": "2022-01-19T19:50:30.805Z"
   },
   {
    "duration": 336,
    "start_time": "2022-01-19T19:50:34.006Z"
   },
   {
    "duration": 7,
    "start_time": "2022-01-19T19:50:37.741Z"
   },
   {
    "duration": 3,
    "start_time": "2022-01-19T19:50:41.853Z"
   },
   {
    "duration": 7,
    "start_time": "2022-01-19T19:50:45.959Z"
   },
   {
    "duration": 3,
    "start_time": "2022-01-19T19:50:55.277Z"
   },
   {
    "duration": 3,
    "start_time": "2022-01-19T19:50:57.052Z"
   },
   {
    "duration": 3,
    "start_time": "2022-01-19T19:51:00.447Z"
   },
   {
    "duration": 321,
    "start_time": "2022-01-19T19:51:07.103Z"
   },
   {
    "duration": 2,
    "start_time": "2022-01-19T19:51:10.455Z"
   },
   {
    "duration": 32,
    "start_time": "2022-01-19T19:51:19.094Z"
   },
   {
    "duration": 26,
    "start_time": "2022-01-19T19:51:55.012Z"
   },
   {
    "duration": 31,
    "start_time": "2022-01-19T19:52:04.376Z"
   },
   {
    "duration": 30,
    "start_time": "2022-01-19T19:52:12.239Z"
   },
   {
    "duration": 26,
    "start_time": "2022-01-19T19:53:06.027Z"
   },
   {
    "duration": 29,
    "start_time": "2022-01-19T19:53:14.148Z"
   },
   {
    "duration": 27,
    "start_time": "2022-01-19T19:53:29.742Z"
   },
   {
    "duration": 27,
    "start_time": "2022-01-19T19:53:38.751Z"
   },
   {
    "duration": 361,
    "start_time": "2022-01-19T19:56:41.117Z"
   },
   {
    "duration": 345,
    "start_time": "2022-01-19T19:56:44.368Z"
   },
   {
    "duration": 29,
    "start_time": "2022-01-19T19:56:51.815Z"
   },
   {
    "duration": 4,
    "start_time": "2022-01-19T19:57:02.845Z"
   },
   {
    "duration": 357,
    "start_time": "2022-01-19T19:57:09.066Z"
   },
   {
    "duration": 334,
    "start_time": "2022-01-19T19:57:12.221Z"
   },
   {
    "duration": 361,
    "start_time": "2022-01-19T19:57:25.232Z"
   },
   {
    "duration": 345,
    "start_time": "2022-01-19T19:57:28.272Z"
   },
   {
    "duration": 32,
    "start_time": "2022-01-19T19:57:50.975Z"
   },
   {
    "duration": 339,
    "start_time": "2022-01-19T19:58:10.409Z"
   },
   {
    "duration": 357,
    "start_time": "2022-01-19T19:58:19.304Z"
   },
   {
    "duration": 328,
    "start_time": "2022-01-19T19:58:33.328Z"
   },
   {
    "duration": 316,
    "start_time": "2022-01-19T19:58:35.877Z"
   },
   {
    "duration": 375,
    "start_time": "2022-01-19T20:00:46.176Z"
   },
   {
    "duration": 107,
    "start_time": "2022-01-19T20:01:57.400Z"
   },
   {
    "duration": 115,
    "start_time": "2022-01-19T20:01:59.425Z"
   },
   {
    "duration": 325,
    "start_time": "2022-01-19T20:02:02.814Z"
   },
   {
    "duration": 330,
    "start_time": "2022-01-19T20:02:14.555Z"
   },
   {
    "duration": 104,
    "start_time": "2022-01-19T20:02:19.429Z"
   },
   {
    "duration": 332,
    "start_time": "2022-01-19T20:02:21.784Z"
   },
   {
    "duration": 10,
    "start_time": "2022-01-19T20:02:38.156Z"
   },
   {
    "duration": 356,
    "start_time": "2022-01-19T20:03:13.407Z"
   },
   {
    "duration": 11,
    "start_time": "2022-01-19T20:03:31.202Z"
   },
   {
    "duration": 12,
    "start_time": "2022-01-19T20:03:39.585Z"
   },
   {
    "duration": 334,
    "start_time": "2022-01-19T20:04:06.921Z"
   },
   {
    "duration": 863,
    "start_time": "2022-01-19T20:05:11.691Z"
   },
   {
    "duration": 437,
    "start_time": "2022-01-19T20:05:12.556Z"
   },
   {
    "duration": 2,
    "start_time": "2022-01-19T20:05:12.995Z"
   },
   {
    "duration": 506,
    "start_time": "2022-01-19T20:05:12.999Z"
   },
   {
    "duration": 10,
    "start_time": "2022-01-19T20:05:13.507Z"
   },
   {
    "duration": 9,
    "start_time": "2022-01-19T20:05:13.519Z"
   },
   {
    "duration": 11,
    "start_time": "2022-01-19T20:05:13.529Z"
   },
   {
    "duration": 13,
    "start_time": "2022-01-19T20:05:13.543Z"
   },
   {
    "duration": 205,
    "start_time": "2022-01-19T20:05:13.558Z"
   },
   {
    "duration": 85,
    "start_time": "2022-01-19T20:05:13.764Z"
   },
   {
    "duration": 11,
    "start_time": "2022-01-19T20:05:13.850Z"
   },
   {
    "duration": 24,
    "start_time": "2022-01-19T20:05:13.862Z"
   },
   {
    "duration": 22,
    "start_time": "2022-01-19T20:05:13.888Z"
   },
   {
    "duration": 41,
    "start_time": "2022-01-19T20:05:13.912Z"
   },
   {
    "duration": 25,
    "start_time": "2022-01-19T20:05:13.955Z"
   },
   {
    "duration": 29,
    "start_time": "2022-01-19T20:05:13.982Z"
   },
   {
    "duration": 24,
    "start_time": "2022-01-19T20:05:14.012Z"
   },
   {
    "duration": 50,
    "start_time": "2022-01-19T20:05:14.038Z"
   },
   {
    "duration": 38,
    "start_time": "2022-01-19T20:05:14.089Z"
   },
   {
    "duration": 28,
    "start_time": "2022-01-19T20:05:14.128Z"
   },
   {
    "duration": 56,
    "start_time": "2022-01-19T20:05:14.158Z"
   },
   {
    "duration": 23,
    "start_time": "2022-01-19T20:05:14.216Z"
   },
   {
    "duration": 5,
    "start_time": "2022-01-19T20:05:14.242Z"
   },
   {
    "duration": 42,
    "start_time": "2022-01-19T20:05:14.249Z"
   },
   {
    "duration": 6,
    "start_time": "2022-01-19T20:05:14.293Z"
   },
   {
    "duration": 22,
    "start_time": "2022-01-19T20:05:14.300Z"
   },
   {
    "duration": 30,
    "start_time": "2022-01-19T20:05:14.323Z"
   },
   {
    "duration": 8,
    "start_time": "2022-01-19T20:05:14.355Z"
   },
   {
    "duration": 21,
    "start_time": "2022-01-19T20:05:14.365Z"
   },
   {
    "duration": 75,
    "start_time": "2022-01-19T20:05:14.387Z"
   },
   {
    "duration": 20,
    "start_time": "2022-01-19T20:05:14.463Z"
   },
   {
    "duration": 43,
    "start_time": "2022-01-19T20:05:14.484Z"
   },
   {
    "duration": 4,
    "start_time": "2022-01-19T20:05:14.528Z"
   },
   {
    "duration": 19,
    "start_time": "2022-01-19T20:05:14.533Z"
   },
   {
    "duration": 13,
    "start_time": "2022-01-19T20:05:14.553Z"
   },
   {
    "duration": 78,
    "start_time": "2022-01-19T20:05:14.567Z"
   },
   {
    "duration": 32,
    "start_time": "2022-01-19T20:05:14.646Z"
   },
   {
    "duration": 217,
    "start_time": "2022-01-19T20:05:14.679Z"
   },
   {
    "duration": 13,
    "start_time": "2022-01-19T20:05:14.897Z"
   },
   {
    "duration": 15,
    "start_time": "2022-01-19T20:05:14.912Z"
   },
   {
    "duration": 281,
    "start_time": "2022-01-19T20:05:14.929Z"
   },
   {
    "duration": 18,
    "start_time": "2022-01-19T20:05:15.211Z"
   },
   {
    "duration": 25,
    "start_time": "2022-01-19T20:05:15.231Z"
   },
   {
    "duration": 4,
    "start_time": "2022-01-19T20:05:15.258Z"
   },
   {
    "duration": 5,
    "start_time": "2022-01-19T20:05:15.264Z"
   },
   {
    "duration": 5,
    "start_time": "2022-01-19T20:05:15.271Z"
   },
   {
    "duration": 16,
    "start_time": "2022-01-19T20:05:15.277Z"
   },
   {
    "duration": 10,
    "start_time": "2022-01-19T20:05:15.295Z"
   },
   {
    "duration": 3,
    "start_time": "2022-01-19T20:05:15.307Z"
   },
   {
    "duration": 8,
    "start_time": "2022-01-19T20:05:15.327Z"
   },
   {
    "duration": 11508,
    "start_time": "2022-01-19T20:05:15.336Z"
   },
   {
    "duration": 10,
    "start_time": "2022-01-19T20:05:26.845Z"
   },
   {
    "duration": 1594,
    "start_time": "2022-01-19T20:05:26.856Z"
   },
   {
    "duration": 10,
    "start_time": "2022-01-19T20:05:28.452Z"
   },
   {
    "duration": 30,
    "start_time": "2022-01-19T20:05:28.463Z"
   },
   {
    "duration": 14,
    "start_time": "2022-01-19T20:05:28.494Z"
   },
   {
    "duration": 736,
    "start_time": "2022-01-19T20:05:28.509Z"
   },
   {
    "duration": 17,
    "start_time": "2022-01-19T20:05:29.247Z"
   },
   {
    "duration": 3,
    "start_time": "2022-01-19T20:05:29.265Z"
   },
   {
    "duration": 22,
    "start_time": "2022-01-19T20:05:29.269Z"
   },
   {
    "duration": 28,
    "start_time": "2022-01-19T20:05:29.292Z"
   },
   {
    "duration": 25,
    "start_time": "2022-01-19T20:05:29.321Z"
   },
   {
    "duration": 13,
    "start_time": "2022-01-19T20:05:29.348Z"
   },
   {
    "duration": 18,
    "start_time": "2022-01-19T20:05:29.363Z"
   },
   {
    "duration": 9,
    "start_time": "2022-01-19T20:05:29.382Z"
   },
   {
    "duration": 22,
    "start_time": "2022-01-19T20:05:29.392Z"
   },
   {
    "duration": 17,
    "start_time": "2022-01-19T20:05:29.415Z"
   },
   {
    "duration": 17,
    "start_time": "2022-01-19T20:05:29.436Z"
   },
   {
    "duration": 63,
    "start_time": "2022-01-19T20:05:29.454Z"
   },
   {
    "duration": 17,
    "start_time": "2022-01-19T20:05:29.527Z"
   },
   {
    "duration": 59,
    "start_time": "2022-01-19T20:05:29.546Z"
   },
   {
    "duration": 56,
    "start_time": "2022-01-19T20:05:29.627Z"
   },
   {
    "duration": 3,
    "start_time": "2022-01-19T20:05:29.684Z"
   },
   {
    "duration": 16,
    "start_time": "2022-01-19T20:05:29.688Z"
   },
   {
    "duration": 17,
    "start_time": "2022-01-19T20:05:29.705Z"
   },
   {
    "duration": 8,
    "start_time": "2022-01-19T20:05:29.723Z"
   },
   {
    "duration": 51,
    "start_time": "2022-01-19T20:05:29.732Z"
   },
   {
    "duration": 5874,
    "start_time": "2022-01-19T20:05:29.785Z"
   },
   {
    "duration": 35,
    "start_time": "2022-01-19T20:05:35.661Z"
   },
   {
    "duration": 6,
    "start_time": "2022-01-19T20:05:35.698Z"
   },
   {
    "duration": 27,
    "start_time": "2022-01-19T20:05:35.705Z"
   },
   {
    "duration": 7,
    "start_time": "2022-01-19T20:05:35.733Z"
   },
   {
    "duration": 4710,
    "start_time": "2022-01-19T20:05:35.742Z"
   },
   {
    "duration": -269,
    "start_time": "2022-01-19T20:05:40.723Z"
   },
   {
    "duration": -275,
    "start_time": "2022-01-19T20:05:40.730Z"
   },
   {
    "duration": -281,
    "start_time": "2022-01-19T20:05:40.737Z"
   },
   {
    "duration": -286,
    "start_time": "2022-01-19T20:05:40.743Z"
   },
   {
    "duration": -293,
    "start_time": "2022-01-19T20:05:40.750Z"
   },
   {
    "duration": -298,
    "start_time": "2022-01-19T20:05:40.756Z"
   },
   {
    "duration": -304,
    "start_time": "2022-01-19T20:05:40.763Z"
   },
   {
    "duration": 4,
    "start_time": "2022-01-19T20:06:24.047Z"
   },
   {
    "duration": 10,
    "start_time": "2022-01-19T20:06:26.328Z"
   },
   {
    "duration": 6,
    "start_time": "2022-01-19T20:13:31.590Z"
   },
   {
    "duration": 388,
    "start_time": "2022-01-19T20:18:33.817Z"
   },
   {
    "duration": 369,
    "start_time": "2022-01-19T20:18:41.519Z"
   },
   {
    "duration": 5,
    "start_time": "2022-01-19T20:18:56.996Z"
   },
   {
    "duration": 6,
    "start_time": "2022-01-19T20:19:02.140Z"
   },
   {
    "duration": 4,
    "start_time": "2022-01-19T20:19:54.275Z"
   },
   {
    "duration": 4,
    "start_time": "2022-01-19T20:20:04.343Z"
   },
   {
    "duration": 1252,
    "start_time": "2022-01-19T20:20:07.818Z"
   },
   {
    "duration": 5,
    "start_time": "2022-01-19T20:20:28.968Z"
   },
   {
    "duration": 114,
    "start_time": "2022-01-19T20:20:47.549Z"
   },
   {
    "duration": 5,
    "start_time": "2022-01-19T20:20:50.198Z"
   },
   {
    "duration": 656,
    "start_time": "2022-01-19T20:20:53.341Z"
   },
   {
    "duration": 4,
    "start_time": "2022-01-19T20:21:35.875Z"
   },
   {
    "duration": 698,
    "start_time": "2022-01-19T20:21:38.586Z"
   },
   {
    "duration": 5,
    "start_time": "2022-01-19T20:22:10.663Z"
   },
   {
    "duration": 694,
    "start_time": "2022-01-19T20:22:16.384Z"
   },
   {
    "duration": 4,
    "start_time": "2022-01-19T20:22:48.987Z"
   },
   {
    "duration": 670,
    "start_time": "2022-01-19T20:28:28.208Z"
   },
   {
    "duration": 29,
    "start_time": "2022-01-19T20:38:52.551Z"
   },
   {
    "duration": 5,
    "start_time": "2022-01-19T20:39:18.994Z"
   },
   {
    "duration": 6,
    "start_time": "2022-01-19T20:39:25.974Z"
   },
   {
    "duration": 29,
    "start_time": "2022-01-19T20:39:51.578Z"
   },
   {
    "duration": 29,
    "start_time": "2022-01-19T20:40:09.468Z"
   },
   {
    "duration": 5,
    "start_time": "2022-01-19T20:43:40.247Z"
   },
   {
    "duration": 6,
    "start_time": "2022-01-19T20:43:56.885Z"
   },
   {
    "duration": 7,
    "start_time": "2022-01-19T20:45:09.898Z"
   },
   {
    "duration": 3945,
    "start_time": "2022-01-19T20:50:31.084Z"
   },
   {
    "duration": 4,
    "start_time": "2022-01-19T20:51:01.156Z"
   },
   {
    "duration": 9,
    "start_time": "2022-01-19T20:51:28.534Z"
   },
   {
    "duration": 3,
    "start_time": "2022-01-19T20:52:02.841Z"
   },
   {
    "duration": 810,
    "start_time": "2022-01-19T21:09:07.548Z"
   },
   {
    "duration": 427,
    "start_time": "2022-01-19T21:09:08.360Z"
   },
   {
    "duration": 2,
    "start_time": "2022-01-19T21:09:08.788Z"
   },
   {
    "duration": 498,
    "start_time": "2022-01-19T21:09:08.792Z"
   },
   {
    "duration": 11,
    "start_time": "2022-01-19T21:09:09.292Z"
   },
   {
    "duration": 8,
    "start_time": "2022-01-19T21:09:09.304Z"
   },
   {
    "duration": 17,
    "start_time": "2022-01-19T21:09:09.313Z"
   },
   {
    "duration": 12,
    "start_time": "2022-01-19T21:09:09.331Z"
   },
   {
    "duration": 204,
    "start_time": "2022-01-19T21:09:09.345Z"
   },
   {
    "duration": 82,
    "start_time": "2022-01-19T21:09:09.551Z"
   },
   {
    "duration": 11,
    "start_time": "2022-01-19T21:09:09.634Z"
   },
   {
    "duration": 10,
    "start_time": "2022-01-19T21:09:09.646Z"
   },
   {
    "duration": 10,
    "start_time": "2022-01-19T21:09:09.658Z"
   },
   {
    "duration": 20,
    "start_time": "2022-01-19T21:09:09.669Z"
   },
   {
    "duration": 11,
    "start_time": "2022-01-19T21:09:09.690Z"
   },
   {
    "duration": 34,
    "start_time": "2022-01-19T21:09:09.703Z"
   },
   {
    "duration": 9,
    "start_time": "2022-01-19T21:09:09.738Z"
   },
   {
    "duration": 24,
    "start_time": "2022-01-19T21:09:09.749Z"
   },
   {
    "duration": 20,
    "start_time": "2022-01-19T21:09:09.774Z"
   },
   {
    "duration": 32,
    "start_time": "2022-01-19T21:09:09.796Z"
   },
   {
    "duration": 45,
    "start_time": "2022-01-19T21:09:09.829Z"
   },
   {
    "duration": 16,
    "start_time": "2022-01-19T21:09:09.875Z"
   },
   {
    "duration": 3,
    "start_time": "2022-01-19T21:09:09.892Z"
   },
   {
    "duration": 63,
    "start_time": "2022-01-19T21:09:09.896Z"
   },
   {
    "duration": 7,
    "start_time": "2022-01-19T21:09:09.960Z"
   },
   {
    "duration": 6,
    "start_time": "2022-01-19T21:09:09.968Z"
   },
   {
    "duration": 28,
    "start_time": "2022-01-19T21:09:09.978Z"
   },
   {
    "duration": 26,
    "start_time": "2022-01-19T21:09:10.008Z"
   },
   {
    "duration": 9,
    "start_time": "2022-01-19T21:09:10.036Z"
   },
   {
    "duration": 56,
    "start_time": "2022-01-19T21:09:10.047Z"
   },
   {
    "duration": 29,
    "start_time": "2022-01-19T21:09:10.105Z"
   },
   {
    "duration": 34,
    "start_time": "2022-01-19T21:09:10.136Z"
   },
   {
    "duration": 3,
    "start_time": "2022-01-19T21:09:10.172Z"
   },
   {
    "duration": 20,
    "start_time": "2022-01-19T21:09:10.176Z"
   },
   {
    "duration": 29,
    "start_time": "2022-01-19T21:09:10.198Z"
   },
   {
    "duration": 5,
    "start_time": "2022-01-19T21:09:10.228Z"
   },
   {
    "duration": 101,
    "start_time": "2022-01-19T21:09:10.235Z"
   },
   {
    "duration": 198,
    "start_time": "2022-01-19T21:09:10.338Z"
   },
   {
    "duration": 13,
    "start_time": "2022-01-19T21:09:10.538Z"
   },
   {
    "duration": 13,
    "start_time": "2022-01-19T21:09:10.553Z"
   },
   {
    "duration": 338,
    "start_time": "2022-01-19T21:09:10.568Z"
   },
   {
    "duration": 20,
    "start_time": "2022-01-19T21:09:10.908Z"
   },
   {
    "duration": 35,
    "start_time": "2022-01-19T21:09:10.929Z"
   },
   {
    "duration": 6,
    "start_time": "2022-01-19T21:09:10.965Z"
   },
   {
    "duration": 7,
    "start_time": "2022-01-19T21:09:10.973Z"
   },
   {
    "duration": 3,
    "start_time": "2022-01-19T21:09:10.982Z"
   },
   {
    "duration": 11,
    "start_time": "2022-01-19T21:09:10.986Z"
   },
   {
    "duration": 36,
    "start_time": "2022-01-19T21:09:10.998Z"
   },
   {
    "duration": 4,
    "start_time": "2022-01-19T21:09:11.035Z"
   },
   {
    "duration": 13,
    "start_time": "2022-01-19T21:09:11.040Z"
   },
   {
    "duration": 906,
    "start_time": "2022-01-19T21:11:43.236Z"
   },
   {
    "duration": 434,
    "start_time": "2022-01-19T21:11:44.144Z"
   },
   {
    "duration": 2,
    "start_time": "2022-01-19T21:11:44.580Z"
   },
   {
    "duration": 483,
    "start_time": "2022-01-19T21:11:44.584Z"
   },
   {
    "duration": 11,
    "start_time": "2022-01-19T21:11:45.069Z"
   },
   {
    "duration": 7,
    "start_time": "2022-01-19T21:11:45.082Z"
   },
   {
    "duration": 10,
    "start_time": "2022-01-19T21:11:45.090Z"
   },
   {
    "duration": 9,
    "start_time": "2022-01-19T21:11:45.102Z"
   },
   {
    "duration": 220,
    "start_time": "2022-01-19T21:11:45.113Z"
   },
   {
    "duration": 75,
    "start_time": "2022-01-19T21:11:45.335Z"
   },
   {
    "duration": 20,
    "start_time": "2022-01-19T21:11:45.412Z"
   },
   {
    "duration": 10,
    "start_time": "2022-01-19T21:11:45.433Z"
   },
   {
    "duration": 10,
    "start_time": "2022-01-19T21:11:45.445Z"
   },
   {
    "duration": 20,
    "start_time": "2022-01-19T21:11:45.456Z"
   },
   {
    "duration": 10,
    "start_time": "2022-01-19T21:11:45.478Z"
   },
   {
    "duration": 47,
    "start_time": "2022-01-19T21:11:45.491Z"
   },
   {
    "duration": 11,
    "start_time": "2022-01-19T21:11:45.539Z"
   },
   {
    "duration": 24,
    "start_time": "2022-01-19T21:11:45.552Z"
   },
   {
    "duration": 22,
    "start_time": "2022-01-19T21:11:45.578Z"
   },
   {
    "duration": 30,
    "start_time": "2022-01-19T21:11:45.601Z"
   },
   {
    "duration": 40,
    "start_time": "2022-01-19T21:11:45.633Z"
   },
   {
    "duration": 17,
    "start_time": "2022-01-19T21:11:45.674Z"
   },
   {
    "duration": 3,
    "start_time": "2022-01-19T21:11:45.695Z"
   },
   {
    "duration": 64,
    "start_time": "2022-01-19T21:11:45.700Z"
   },
   {
    "duration": 6,
    "start_time": "2022-01-19T21:11:45.765Z"
   },
   {
    "duration": 5,
    "start_time": "2022-01-19T21:11:45.772Z"
   },
   {
    "duration": 26,
    "start_time": "2022-01-19T21:11:45.778Z"
   },
   {
    "duration": 25,
    "start_time": "2022-01-19T21:11:45.806Z"
   },
   {
    "duration": 8,
    "start_time": "2022-01-19T21:11:45.832Z"
   },
   {
    "duration": 51,
    "start_time": "2022-01-19T21:11:45.841Z"
   },
   {
    "duration": 33,
    "start_time": "2022-01-19T21:11:45.894Z"
   },
   {
    "duration": 30,
    "start_time": "2022-01-19T21:11:45.928Z"
   },
   {
    "duration": 3,
    "start_time": "2022-01-19T21:11:45.960Z"
   },
   {
    "duration": 18,
    "start_time": "2022-01-19T21:11:45.964Z"
   },
   {
    "duration": 13,
    "start_time": "2022-01-19T21:11:45.983Z"
   },
   {
    "duration": 89,
    "start_time": "2022-01-19T21:11:45.997Z"
   },
   {
    "duration": 28,
    "start_time": "2022-01-19T21:11:46.087Z"
   },
   {
    "duration": 199,
    "start_time": "2022-01-19T21:11:46.127Z"
   },
   {
    "duration": 13,
    "start_time": "2022-01-19T21:11:46.327Z"
   },
   {
    "duration": 20,
    "start_time": "2022-01-19T21:11:46.341Z"
   },
   {
    "duration": 273,
    "start_time": "2022-01-19T21:11:46.362Z"
   },
   {
    "duration": 11,
    "start_time": "2022-01-19T21:11:46.636Z"
   },
   {
    "duration": 26,
    "start_time": "2022-01-19T21:11:46.648Z"
   },
   {
    "duration": 5,
    "start_time": "2022-01-19T21:11:46.676Z"
   },
   {
    "duration": 8,
    "start_time": "2022-01-19T21:11:46.682Z"
   },
   {
    "duration": 5,
    "start_time": "2022-01-19T21:11:46.692Z"
   },
   {
    "duration": 35,
    "start_time": "2022-01-19T21:11:46.698Z"
   },
   {
    "duration": 11,
    "start_time": "2022-01-19T21:11:46.735Z"
   },
   {
    "duration": 3,
    "start_time": "2022-01-19T21:11:46.748Z"
   },
   {
    "duration": 9,
    "start_time": "2022-01-19T21:11:46.753Z"
   },
   {
    "duration": 1069,
    "start_time": "2022-01-20T09:26:12.607Z"
   },
   {
    "duration": 643,
    "start_time": "2022-01-20T09:26:13.678Z"
   },
   {
    "duration": 2,
    "start_time": "2022-01-20T09:26:14.323Z"
   },
   {
    "duration": 577,
    "start_time": "2022-01-20T09:26:14.327Z"
   },
   {
    "duration": 11,
    "start_time": "2022-01-20T09:26:14.906Z"
   },
   {
    "duration": 21,
    "start_time": "2022-01-20T09:26:14.918Z"
   },
   {
    "duration": 11,
    "start_time": "2022-01-20T09:26:14.941Z"
   },
   {
    "duration": 12,
    "start_time": "2022-01-20T09:26:14.954Z"
   },
   {
    "duration": 243,
    "start_time": "2022-01-20T09:26:14.968Z"
   },
   {
    "duration": 87,
    "start_time": "2022-01-20T09:26:15.213Z"
   },
   {
    "duration": 11,
    "start_time": "2022-01-20T09:26:15.302Z"
   },
   {
    "duration": 28,
    "start_time": "2022-01-20T09:26:15.314Z"
   },
   {
    "duration": 22,
    "start_time": "2022-01-20T09:26:15.344Z"
   },
   {
    "duration": 31,
    "start_time": "2022-01-20T09:26:15.368Z"
   },
   {
    "duration": 14,
    "start_time": "2022-01-20T09:26:15.401Z"
   },
   {
    "duration": 26,
    "start_time": "2022-01-20T09:26:15.417Z"
   },
   {
    "duration": 16,
    "start_time": "2022-01-20T09:26:15.445Z"
   },
   {
    "duration": 48,
    "start_time": "2022-01-20T09:26:15.463Z"
   },
   {
    "duration": 37,
    "start_time": "2022-01-20T09:26:15.513Z"
   },
   {
    "duration": 17,
    "start_time": "2022-01-20T09:26:15.552Z"
   },
   {
    "duration": 76,
    "start_time": "2022-01-20T09:26:15.571Z"
   },
   {
    "duration": 20,
    "start_time": "2022-01-20T09:26:15.648Z"
   },
   {
    "duration": 4,
    "start_time": "2022-01-20T09:26:15.672Z"
   },
   {
    "duration": 62,
    "start_time": "2022-01-20T09:26:15.678Z"
   },
   {
    "duration": 8,
    "start_time": "2022-01-20T09:26:15.742Z"
   },
   {
    "duration": 8,
    "start_time": "2022-01-20T09:26:15.752Z"
   },
   {
    "duration": 48,
    "start_time": "2022-01-20T09:26:15.761Z"
   },
   {
    "duration": 9,
    "start_time": "2022-01-20T09:26:15.811Z"
   },
   {
    "duration": 19,
    "start_time": "2022-01-20T09:26:15.822Z"
   },
   {
    "duration": 72,
    "start_time": "2022-01-20T09:26:15.843Z"
   },
   {
    "duration": 16,
    "start_time": "2022-01-20T09:26:15.917Z"
   },
   {
    "duration": 41,
    "start_time": "2022-01-20T09:26:15.935Z"
   },
   {
    "duration": 3,
    "start_time": "2022-01-20T09:26:15.978Z"
   },
   {
    "duration": 33,
    "start_time": "2022-01-20T09:26:15.982Z"
   },
   {
    "duration": 13,
    "start_time": "2022-01-20T09:26:16.016Z"
   },
   {
    "duration": 16,
    "start_time": "2022-01-20T09:26:16.030Z"
   },
   {
    "duration": 54,
    "start_time": "2022-01-20T09:26:16.048Z"
   },
   {
    "duration": 658,
    "start_time": "2022-01-20T09:26:16.104Z"
   },
   {
    "duration": 45,
    "start_time": "2022-01-20T09:26:16.764Z"
   },
   {
    "duration": 12,
    "start_time": "2022-01-20T09:26:16.810Z"
   },
   {
    "duration": 337,
    "start_time": "2022-01-20T09:26:16.824Z"
   },
   {
    "duration": 11,
    "start_time": "2022-01-20T09:26:17.163Z"
   },
   {
    "duration": 40,
    "start_time": "2022-01-20T09:26:17.176Z"
   },
   {
    "duration": 6,
    "start_time": "2022-01-20T09:26:17.218Z"
   },
   {
    "duration": 10,
    "start_time": "2022-01-20T09:26:17.225Z"
   },
   {
    "duration": 8,
    "start_time": "2022-01-20T09:26:17.236Z"
   },
   {
    "duration": 13,
    "start_time": "2022-01-20T09:26:17.245Z"
   },
   {
    "duration": 16,
    "start_time": "2022-01-20T09:26:17.259Z"
   },
   {
    "duration": 21,
    "start_time": "2022-01-20T09:26:17.276Z"
   },
   {
    "duration": 19,
    "start_time": "2022-01-20T09:26:17.298Z"
   },
   {
    "duration": 13100,
    "start_time": "2022-01-20T09:26:17.319Z"
   },
   {
    "duration": 10,
    "start_time": "2022-01-20T09:26:30.421Z"
   },
   {
    "duration": 74,
    "start_time": "2022-01-20T09:26:30.433Z"
   },
   {
    "duration": 39,
    "start_time": "2022-01-20T09:26:30.510Z"
   },
   {
    "duration": 389,
    "start_time": "2022-01-20T09:26:30.551Z"
   },
   {
    "duration": 16,
    "start_time": "2022-01-20T09:26:30.942Z"
   },
   {
    "duration": 274,
    "start_time": "2022-01-20T09:26:30.960Z"
   },
   {
    "duration": 20,
    "start_time": "2022-01-20T09:26:31.236Z"
   },
   {
    "duration": 66,
    "start_time": "2022-01-20T09:26:31.258Z"
   },
   {
    "duration": 45,
    "start_time": "2022-01-20T09:26:31.326Z"
   },
   {
    "duration": 41,
    "start_time": "2022-01-20T09:26:31.373Z"
   },
   {
    "duration": 33,
    "start_time": "2022-01-20T09:26:31.415Z"
   },
   {
    "duration": 36,
    "start_time": "2022-01-20T09:26:31.450Z"
   },
   {
    "duration": 150,
    "start_time": "2022-01-20T09:26:31.487Z"
   },
   {
    "duration": 44,
    "start_time": "2022-01-20T09:26:31.639Z"
   },
   {
    "duration": 47,
    "start_time": "2022-01-20T09:26:31.684Z"
   },
   {
    "duration": 29,
    "start_time": "2022-01-20T09:26:31.733Z"
   },
   {
    "duration": 52,
    "start_time": "2022-01-20T09:26:31.767Z"
   },
   {
    "duration": 294,
    "start_time": "2022-01-20T09:26:31.821Z"
   },
   {
    "duration": 19,
    "start_time": "2022-01-20T09:26:32.116Z"
   },
   {
    "duration": 442,
    "start_time": "2022-01-20T09:26:32.137Z"
   },
   {
    "duration": 271,
    "start_time": "2022-01-20T09:26:32.581Z"
   },
   {
    "duration": 2,
    "start_time": "2022-01-20T09:26:32.853Z"
   },
   {
    "duration": 33,
    "start_time": "2022-01-20T09:26:32.857Z"
   },
   {
    "duration": 39,
    "start_time": "2022-01-20T09:26:32.891Z"
   },
   {
    "duration": 53,
    "start_time": "2022-01-20T09:26:32.932Z"
   },
   {
    "duration": 68,
    "start_time": "2022-01-20T09:26:32.987Z"
   },
   {
    "duration": 7767,
    "start_time": "2022-01-20T09:26:33.056Z"
   },
   {
    "duration": 35,
    "start_time": "2022-01-20T09:26:40.825Z"
   },
   {
    "duration": 4,
    "start_time": "2022-01-20T09:26:40.862Z"
   },
   {
    "duration": 53,
    "start_time": "2022-01-20T09:26:40.868Z"
   },
   {
    "duration": 31,
    "start_time": "2022-01-20T09:26:40.922Z"
   },
   {
    "duration": 39,
    "start_time": "2022-01-20T09:26:40.954Z"
   },
   {
    "duration": 53,
    "start_time": "2022-01-20T09:26:40.995Z"
   },
   {
    "duration": 53,
    "start_time": "2022-01-20T09:26:41.050Z"
   },
   {
    "duration": 18,
    "start_time": "2022-01-20T09:26:41.104Z"
   },
   {
    "duration": 39,
    "start_time": "2022-01-20T09:26:41.124Z"
   },
   {
    "duration": 9,
    "start_time": "2022-01-20T09:50:23.896Z"
   },
   {
    "duration": 5,
    "start_time": "2022-01-20T09:50:51.257Z"
   },
   {
    "duration": 8,
    "start_time": "2022-01-20T09:51:27.943Z"
   },
   {
    "duration": 11,
    "start_time": "2022-01-20T09:51:34.688Z"
   },
   {
    "duration": 10,
    "start_time": "2022-01-20T09:51:49.001Z"
   },
   {
    "duration": 90,
    "start_time": "2022-01-20T09:51:59.896Z"
   },
   {
    "duration": 10,
    "start_time": "2022-01-20T09:52:04.209Z"
   },
   {
    "duration": 380,
    "start_time": "2022-01-20T09:54:22.416Z"
   },
   {
    "duration": 10,
    "start_time": "2022-01-20T09:54:23.720Z"
   },
   {
    "duration": 19,
    "start_time": "2022-01-20T09:54:33.624Z"
   },
   {
    "duration": 57,
    "start_time": "2022-01-20T09:56:48.173Z"
   },
   {
    "duration": 516,
    "start_time": "2022-01-20T09:56:53.718Z"
   },
   {
    "duration": 389,
    "start_time": "2022-01-20T09:57:07.600Z"
   },
   {
    "duration": 475,
    "start_time": "2022-01-20T09:57:15.321Z"
   },
   {
    "duration": 375,
    "start_time": "2022-01-20T09:57:23.097Z"
   },
   {
    "duration": 506,
    "start_time": "2022-01-20T09:57:47.518Z"
   },
   {
    "duration": 398,
    "start_time": "2022-01-20T09:58:30.019Z"
   },
   {
    "duration": 58,
    "start_time": "2022-01-20T09:58:53.138Z"
   },
   {
    "duration": 392,
    "start_time": "2022-01-20T09:59:00.113Z"
   },
   {
    "duration": 414,
    "start_time": "2022-01-20T09:59:07.690Z"
   },
   {
    "duration": 17,
    "start_time": "2022-01-20T09:59:14.210Z"
   },
   {
    "duration": 543,
    "start_time": "2022-01-20T10:01:26.681Z"
   },
   {
    "duration": 10,
    "start_time": "2022-01-20T10:02:22.169Z"
   },
   {
    "duration": 59,
    "start_time": "2022-01-20T10:02:35.755Z"
   },
   {
    "duration": 202,
    "start_time": "2022-01-20T10:02:48.057Z"
   },
   {
    "duration": 292,
    "start_time": "2022-01-20T10:02:50.698Z"
   },
   {
    "duration": 208,
    "start_time": "2022-01-20T10:03:11.027Z"
   },
   {
    "duration": 62,
    "start_time": "2022-01-20T10:03:16.250Z"
   },
   {
    "duration": 207,
    "start_time": "2022-01-20T10:03:20.369Z"
   },
   {
    "duration": 15,
    "start_time": "2022-01-20T10:03:28.914Z"
   },
   {
    "duration": 274,
    "start_time": "2022-01-20T10:03:34.505Z"
   },
   {
    "duration": 12,
    "start_time": "2022-01-20T10:03:37.850Z"
   },
   {
    "duration": 9,
    "start_time": "2022-01-20T10:03:48.600Z"
   },
   {
    "duration": 13,
    "start_time": "2022-01-20T10:04:03.625Z"
   },
   {
    "duration": 426,
    "start_time": "2022-01-20T10:04:25.808Z"
   },
   {
    "duration": 18,
    "start_time": "2022-01-20T10:04:28.793Z"
   },
   {
    "duration": 5,
    "start_time": "2022-01-20T10:06:20.346Z"
   },
   {
    "duration": 7,
    "start_time": "2022-01-20T10:06:22.815Z"
   },
   {
    "duration": 7,
    "start_time": "2022-01-20T10:06:22.996Z"
   },
   {
    "duration": 7,
    "start_time": "2022-01-20T10:06:23.791Z"
   },
   {
    "duration": 10,
    "start_time": "2022-01-20T10:06:24.385Z"
   },
   {
    "duration": 33,
    "start_time": "2022-01-20T10:06:34.313Z"
   },
   {
    "duration": 20,
    "start_time": "2022-01-20T10:06:34.348Z"
   },
   {
    "duration": 11,
    "start_time": "2022-01-20T10:06:34.632Z"
   },
   {
    "duration": 2780,
    "start_time": "2022-01-20T10:11:20.708Z"
   },
   {
    "duration": 644,
    "start_time": "2022-01-20T10:11:23.490Z"
   },
   {
    "duration": 2,
    "start_time": "2022-01-20T10:11:24.138Z"
   },
   {
    "duration": 583,
    "start_time": "2022-01-20T10:11:24.142Z"
   },
   {
    "duration": 12,
    "start_time": "2022-01-20T10:11:24.727Z"
   },
   {
    "duration": 28,
    "start_time": "2022-01-20T10:11:24.740Z"
   },
   {
    "duration": 42,
    "start_time": "2022-01-20T10:11:24.770Z"
   },
   {
    "duration": 45,
    "start_time": "2022-01-20T10:11:24.814Z"
   },
   {
    "duration": 232,
    "start_time": "2022-01-20T10:11:24.861Z"
   },
   {
    "duration": 74,
    "start_time": "2022-01-20T10:11:25.095Z"
   },
   {
    "duration": 27,
    "start_time": "2022-01-20T10:11:25.171Z"
   },
   {
    "duration": 19,
    "start_time": "2022-01-20T10:11:25.199Z"
   },
   {
    "duration": 26,
    "start_time": "2022-01-20T10:11:25.219Z"
   },
   {
    "duration": 49,
    "start_time": "2022-01-20T10:11:25.247Z"
   },
   {
    "duration": 12,
    "start_time": "2022-01-20T10:11:25.297Z"
   },
   {
    "duration": 33,
    "start_time": "2022-01-20T10:11:25.311Z"
   },
   {
    "duration": 25,
    "start_time": "2022-01-20T10:11:25.346Z"
   },
   {
    "duration": 40,
    "start_time": "2022-01-20T10:11:25.373Z"
   },
   {
    "duration": 42,
    "start_time": "2022-01-20T10:11:25.415Z"
   },
   {
    "duration": 18,
    "start_time": "2022-01-20T10:11:25.459Z"
   },
   {
    "duration": 79,
    "start_time": "2022-01-20T10:11:25.478Z"
   },
   {
    "duration": 20,
    "start_time": "2022-01-20T10:11:25.561Z"
   },
   {
    "duration": 7,
    "start_time": "2022-01-20T10:11:25.583Z"
   },
   {
    "duration": 71,
    "start_time": "2022-01-20T10:11:25.592Z"
   },
   {
    "duration": 8,
    "start_time": "2022-01-20T10:11:25.664Z"
   },
   {
    "duration": 26,
    "start_time": "2022-01-20T10:11:25.673Z"
   },
   {
    "duration": 44,
    "start_time": "2022-01-20T10:11:25.701Z"
   },
   {
    "duration": 10,
    "start_time": "2022-01-20T10:11:25.746Z"
   },
   {
    "duration": 52,
    "start_time": "2022-01-20T10:11:25.757Z"
   },
   {
    "duration": 86,
    "start_time": "2022-01-20T10:11:25.811Z"
   },
   {
    "duration": 16,
    "start_time": "2022-01-20T10:11:25.898Z"
   },
   {
    "duration": 57,
    "start_time": "2022-01-20T10:11:25.915Z"
   },
   {
    "duration": 17,
    "start_time": "2022-01-20T10:11:25.973Z"
   },
   {
    "duration": 40,
    "start_time": "2022-01-20T10:11:25.992Z"
   },
   {
    "duration": 11,
    "start_time": "2022-01-20T10:11:26.034Z"
   },
   {
    "duration": 22,
    "start_time": "2022-01-20T10:11:26.047Z"
   },
   {
    "duration": 47,
    "start_time": "2022-01-20T10:11:26.070Z"
   },
   {
    "duration": 627,
    "start_time": "2022-01-20T10:11:26.118Z"
   },
   {
    "duration": 53,
    "start_time": "2022-01-20T10:11:26.746Z"
   },
   {
    "duration": 13,
    "start_time": "2022-01-20T10:11:26.801Z"
   },
   {
    "duration": 311,
    "start_time": "2022-01-20T10:11:26.815Z"
   },
   {
    "duration": 11,
    "start_time": "2022-01-20T10:11:27.127Z"
   },
   {
    "duration": 68,
    "start_time": "2022-01-20T10:11:27.139Z"
   },
   {
    "duration": 13,
    "start_time": "2022-01-20T10:11:27.208Z"
   },
   {
    "duration": 74,
    "start_time": "2022-01-20T10:11:27.222Z"
   },
   {
    "duration": 42,
    "start_time": "2022-01-20T10:11:27.297Z"
   },
   {
    "duration": 42,
    "start_time": "2022-01-20T10:11:27.341Z"
   },
   {
    "duration": 55,
    "start_time": "2022-01-20T10:11:27.384Z"
   },
   {
    "duration": 36,
    "start_time": "2022-01-20T10:11:27.440Z"
   },
   {
    "duration": 47,
    "start_time": "2022-01-20T10:11:27.477Z"
   },
   {
    "duration": 12290,
    "start_time": "2022-01-20T10:11:27.526Z"
   },
   {
    "duration": 9,
    "start_time": "2022-01-20T10:11:39.818Z"
   },
   {
    "duration": 35,
    "start_time": "2022-01-20T10:11:39.829Z"
   },
   {
    "duration": 66,
    "start_time": "2022-01-20T10:11:39.865Z"
   },
   {
    "duration": 328,
    "start_time": "2022-01-20T10:11:39.933Z"
   },
   {
    "duration": 16,
    "start_time": "2022-01-20T10:11:40.263Z"
   },
   {
    "duration": 283,
    "start_time": "2022-01-20T10:11:40.280Z"
   },
   {
    "duration": 18,
    "start_time": "2022-01-20T10:11:40.565Z"
   },
   {
    "duration": 35,
    "start_time": "2022-01-20T10:11:40.585Z"
   },
   {
    "duration": 41,
    "start_time": "2022-01-20T10:11:40.622Z"
   },
   {
    "duration": 71,
    "start_time": "2022-01-20T10:11:40.665Z"
   },
   {
    "duration": 60,
    "start_time": "2022-01-20T10:11:40.738Z"
   },
   {
    "duration": 55,
    "start_time": "2022-01-20T10:11:40.799Z"
   },
   {
    "duration": 51,
    "start_time": "2022-01-20T10:11:40.856Z"
   },
   {
    "duration": 38,
    "start_time": "2022-01-20T10:11:40.909Z"
   },
   {
    "duration": 43,
    "start_time": "2022-01-20T10:11:40.949Z"
   },
   {
    "duration": 32,
    "start_time": "2022-01-20T10:11:40.997Z"
   },
   {
    "duration": 67,
    "start_time": "2022-01-20T10:11:41.031Z"
   },
   {
    "duration": 319,
    "start_time": "2022-01-20T10:11:41.099Z"
   },
   {
    "duration": 17,
    "start_time": "2022-01-20T10:11:41.420Z"
   },
   {
    "duration": 432,
    "start_time": "2022-01-20T10:11:41.439Z"
   },
   {
    "duration": 255,
    "start_time": "2022-01-20T10:11:41.872Z"
   },
   {
    "duration": 2,
    "start_time": "2022-01-20T10:11:42.129Z"
   },
   {
    "duration": 26,
    "start_time": "2022-01-20T10:11:42.132Z"
   },
   {
    "duration": 21,
    "start_time": "2022-01-20T10:11:42.160Z"
   },
   {
    "duration": 32,
    "start_time": "2022-01-20T10:11:42.182Z"
   },
   {
    "duration": 42,
    "start_time": "2022-01-20T10:11:42.215Z"
   },
   {
    "duration": 440,
    "start_time": "2022-01-20T10:11:42.259Z"
   },
   {
    "duration": 596,
    "start_time": "2022-01-20T10:11:42.701Z"
   },
   {
    "duration": 42,
    "start_time": "2022-01-20T10:11:43.298Z"
   },
   {
    "duration": 7365,
    "start_time": "2022-01-20T10:11:43.341Z"
   },
   {
    "duration": 37,
    "start_time": "2022-01-20T10:11:50.708Z"
   },
   {
    "duration": 31,
    "start_time": "2022-01-20T10:11:50.746Z"
   },
   {
    "duration": 62,
    "start_time": "2022-01-20T10:11:50.779Z"
   },
   {
    "duration": 48,
    "start_time": "2022-01-20T10:11:50.842Z"
   },
   {
    "duration": 31,
    "start_time": "2022-01-20T10:11:50.891Z"
   },
   {
    "duration": 33,
    "start_time": "2022-01-20T10:11:50.924Z"
   },
   {
    "duration": 99,
    "start_time": "2022-01-20T10:11:50.959Z"
   },
   {
    "duration": 19,
    "start_time": "2022-01-20T10:11:51.060Z"
   },
   {
    "duration": 49,
    "start_time": "2022-01-20T10:11:51.080Z"
   },
   {
    "duration": 1135,
    "start_time": "2022-01-21T13:05:29.928Z"
   },
   {
    "duration": 497,
    "start_time": "2022-01-21T13:05:31.065Z"
   },
   {
    "duration": 2,
    "start_time": "2022-01-21T13:05:31.564Z"
   },
   {
    "duration": 1581,
    "start_time": "2022-01-21T13:05:31.568Z"
   },
   {
    "duration": 13,
    "start_time": "2022-01-21T13:05:33.151Z"
   },
   {
    "duration": 31,
    "start_time": "2022-01-21T13:05:33.165Z"
   },
   {
    "duration": 35,
    "start_time": "2022-01-21T13:05:33.197Z"
   },
   {
    "duration": 54,
    "start_time": "2022-01-21T13:05:33.234Z"
   },
   {
    "duration": 233,
    "start_time": "2022-01-21T13:05:33.290Z"
   },
   {
    "duration": 77,
    "start_time": "2022-01-21T13:05:33.526Z"
   },
   {
    "duration": 12,
    "start_time": "2022-01-21T13:05:33.605Z"
   },
   {
    "duration": 87,
    "start_time": "2022-01-21T13:05:33.618Z"
   },
   {
    "duration": 56,
    "start_time": "2022-01-21T13:05:33.706Z"
   },
   {
    "duration": 44,
    "start_time": "2022-01-21T13:05:33.764Z"
   },
   {
    "duration": 11,
    "start_time": "2022-01-21T13:05:33.810Z"
   },
   {
    "duration": 53,
    "start_time": "2022-01-21T13:05:33.823Z"
   },
   {
    "duration": 26,
    "start_time": "2022-01-21T13:05:33.878Z"
   },
   {
    "duration": 51,
    "start_time": "2022-01-21T13:05:33.906Z"
   },
   {
    "duration": 62,
    "start_time": "2022-01-21T13:05:33.959Z"
   },
   {
    "duration": 28,
    "start_time": "2022-01-21T13:05:34.023Z"
   },
   {
    "duration": 59,
    "start_time": "2022-01-21T13:05:34.053Z"
   },
   {
    "duration": 23,
    "start_time": "2022-01-21T13:05:34.114Z"
   },
   {
    "duration": 15,
    "start_time": "2022-01-21T13:05:34.139Z"
   },
   {
    "duration": 63,
    "start_time": "2022-01-21T13:05:34.156Z"
   },
   {
    "duration": 16,
    "start_time": "2022-01-21T13:05:34.220Z"
   },
   {
    "duration": 42,
    "start_time": "2022-01-21T13:05:34.238Z"
   },
   {
    "duration": 38,
    "start_time": "2022-01-21T13:05:34.284Z"
   },
   {
    "duration": 14,
    "start_time": "2022-01-21T13:05:34.325Z"
   },
   {
    "duration": 30,
    "start_time": "2022-01-21T13:05:34.340Z"
   },
   {
    "duration": 72,
    "start_time": "2022-01-21T13:05:34.371Z"
   },
   {
    "duration": 17,
    "start_time": "2022-01-21T13:05:34.445Z"
   },
   {
    "duration": 52,
    "start_time": "2022-01-21T13:05:34.464Z"
   },
   {
    "duration": 3,
    "start_time": "2022-01-21T13:05:34.518Z"
   },
   {
    "duration": 45,
    "start_time": "2022-01-21T13:05:34.523Z"
   },
   {
    "duration": 13,
    "start_time": "2022-01-21T13:05:34.569Z"
   },
   {
    "duration": 9,
    "start_time": "2022-01-21T13:05:34.583Z"
   },
   {
    "duration": 46,
    "start_time": "2022-01-21T13:05:34.594Z"
   },
   {
    "duration": 676,
    "start_time": "2022-01-21T13:05:34.642Z"
   },
   {
    "duration": 42,
    "start_time": "2022-01-21T13:05:35.320Z"
   },
   {
    "duration": 15,
    "start_time": "2022-01-21T13:05:35.364Z"
   },
   {
    "duration": 347,
    "start_time": "2022-01-21T13:05:35.380Z"
   },
   {
    "duration": 11,
    "start_time": "2022-01-21T13:05:35.728Z"
   },
   {
    "duration": 40,
    "start_time": "2022-01-21T13:05:35.741Z"
   },
   {
    "duration": 7,
    "start_time": "2022-01-21T13:05:35.783Z"
   },
   {
    "duration": 24,
    "start_time": "2022-01-21T13:05:35.792Z"
   },
   {
    "duration": 15,
    "start_time": "2022-01-21T13:05:35.818Z"
   },
   {
    "duration": 28,
    "start_time": "2022-01-21T13:05:35.835Z"
   },
   {
    "duration": 32,
    "start_time": "2022-01-21T13:05:35.864Z"
   },
   {
    "duration": 17,
    "start_time": "2022-01-21T13:05:35.898Z"
   },
   {
    "duration": 30,
    "start_time": "2022-01-21T13:05:35.917Z"
   },
   {
    "duration": 12902,
    "start_time": "2022-01-21T13:05:35.948Z"
   },
   {
    "duration": 13,
    "start_time": "2022-01-21T13:05:48.852Z"
   },
   {
    "duration": 30,
    "start_time": "2022-01-21T13:05:48.867Z"
   },
   {
    "duration": 68,
    "start_time": "2022-01-21T13:05:48.899Z"
   },
   {
    "duration": 303,
    "start_time": "2022-01-21T13:05:48.969Z"
   },
   {
    "duration": 15,
    "start_time": "2022-01-21T13:05:49.273Z"
   },
   {
    "duration": 235,
    "start_time": "2022-01-21T13:05:49.290Z"
   },
   {
    "duration": 20,
    "start_time": "2022-01-21T13:05:49.527Z"
   },
   {
    "duration": 14,
    "start_time": "2022-01-21T13:05:49.549Z"
   },
   {
    "duration": 41,
    "start_time": "2022-01-21T13:05:49.564Z"
   },
   {
    "duration": 46,
    "start_time": "2022-01-21T13:05:49.607Z"
   },
   {
    "duration": 17,
    "start_time": "2022-01-21T13:05:49.655Z"
   },
   {
    "duration": 28,
    "start_time": "2022-01-21T13:05:49.674Z"
   },
   {
    "duration": 47,
    "start_time": "2022-01-21T13:05:49.704Z"
   },
   {
    "duration": 27,
    "start_time": "2022-01-21T13:05:49.753Z"
   },
   {
    "duration": 41,
    "start_time": "2022-01-21T13:05:49.782Z"
   },
   {
    "duration": 29,
    "start_time": "2022-01-21T13:05:49.826Z"
   },
   {
    "duration": 48,
    "start_time": "2022-01-21T13:05:49.856Z"
   },
   {
    "duration": 274,
    "start_time": "2022-01-21T13:05:49.906Z"
   },
   {
    "duration": 22,
    "start_time": "2022-01-21T13:05:50.182Z"
   },
   {
    "duration": 445,
    "start_time": "2022-01-21T13:05:50.205Z"
   },
   {
    "duration": 284,
    "start_time": "2022-01-21T13:05:50.652Z"
   },
   {
    "duration": 3,
    "start_time": "2022-01-21T13:05:50.938Z"
   },
   {
    "duration": 32,
    "start_time": "2022-01-21T13:05:50.943Z"
   },
   {
    "duration": 45,
    "start_time": "2022-01-21T13:05:50.977Z"
   },
   {
    "duration": 48,
    "start_time": "2022-01-21T13:05:51.024Z"
   },
   {
    "duration": 34,
    "start_time": "2022-01-21T13:05:51.073Z"
   },
   {
    "duration": 516,
    "start_time": "2022-01-21T13:05:51.109Z"
   },
   {
    "duration": 833,
    "start_time": "2022-01-21T13:05:51.627Z"
   },
   {
    "duration": 52,
    "start_time": "2022-01-21T13:05:52.463Z"
   },
   {
    "duration": 8670,
    "start_time": "2022-01-21T13:05:52.522Z"
   },
   {
    "duration": 41,
    "start_time": "2022-01-21T13:06:01.194Z"
   },
   {
    "duration": 61,
    "start_time": "2022-01-21T13:06:01.237Z"
   },
   {
    "duration": 52,
    "start_time": "2022-01-21T13:06:01.301Z"
   },
   {
    "duration": 94,
    "start_time": "2022-01-21T13:06:01.355Z"
   },
   {
    "duration": 90,
    "start_time": "2022-01-21T13:06:01.452Z"
   },
   {
    "duration": 34,
    "start_time": "2022-01-21T13:06:01.544Z"
   },
   {
    "duration": 99,
    "start_time": "2022-01-21T13:06:01.580Z"
   },
   {
    "duration": 6,
    "start_time": "2022-01-21T13:06:01.681Z"
   },
   {
    "duration": 37,
    "start_time": "2022-01-21T13:06:01.688Z"
   },
   {
    "duration": 17,
    "start_time": "2022-01-21T13:06:13.874Z"
   },
   {
    "duration": 13,
    "start_time": "2022-01-21T13:06:32.662Z"
   },
   {
    "duration": 19,
    "start_time": "2022-01-21T13:08:28.831Z"
   },
   {
    "duration": 18,
    "start_time": "2022-01-21T13:08:36.930Z"
   },
   {
    "duration": 17,
    "start_time": "2022-01-21T13:08:40.810Z"
   },
   {
    "duration": 19,
    "start_time": "2022-01-21T13:11:25.046Z"
   },
   {
    "duration": 566,
    "start_time": "2022-01-21T13:14:10.018Z"
   },
   {
    "duration": 8,
    "start_time": "2022-01-21T13:14:25.045Z"
   },
   {
    "duration": 7,
    "start_time": "2022-01-21T13:16:26.202Z"
   },
   {
    "duration": 7,
    "start_time": "2022-01-21T13:16:33.648Z"
   },
   {
    "duration": 404,
    "start_time": "2022-01-21T13:22:28.697Z"
   },
   {
    "duration": 273,
    "start_time": "2022-01-21T13:23:42.680Z"
   },
   {
    "duration": 8,
    "start_time": "2022-01-21T13:23:48.385Z"
   },
   {
    "duration": 16,
    "start_time": "2022-01-21T13:23:55.416Z"
   },
   {
    "duration": 15,
    "start_time": "2022-01-21T13:24:37.650Z"
   },
   {
    "duration": 17,
    "start_time": "2022-01-21T13:24:48.266Z"
   },
   {
    "duration": 9,
    "start_time": "2022-01-21T13:25:06.240Z"
   },
   {
    "duration": 13,
    "start_time": "2022-01-21T13:27:57.070Z"
   },
   {
    "duration": 9,
    "start_time": "2022-01-21T13:28:24.932Z"
   },
   {
    "duration": 13,
    "start_time": "2022-01-21T14:01:05.892Z"
   },
   {
    "duration": 15,
    "start_time": "2022-01-21T14:02:55.074Z"
   },
   {
    "duration": 9,
    "start_time": "2022-01-21T14:05:08.267Z"
   },
   {
    "duration": 13,
    "start_time": "2022-01-21T14:05:09.903Z"
   },
   {
    "duration": 275,
    "start_time": "2022-01-21T14:06:20.237Z"
   },
   {
    "duration": 507,
    "start_time": "2022-01-21T14:06:28.710Z"
   },
   {
    "duration": 332,
    "start_time": "2022-01-21T14:06:38.559Z"
   },
   {
    "duration": 6,
    "start_time": "2022-01-21T14:06:44.801Z"
   },
   {
    "duration": 13,
    "start_time": "2022-01-21T14:08:32.186Z"
   },
   {
    "duration": 9,
    "start_time": "2022-01-21T14:08:39.110Z"
   },
   {
    "duration": 106,
    "start_time": "2022-01-21T14:09:22.570Z"
   },
   {
    "duration": 257,
    "start_time": "2022-01-21T14:09:33.354Z"
   },
   {
    "duration": 9,
    "start_time": "2022-01-21T14:09:45.851Z"
   },
   {
    "duration": 91,
    "start_time": "2022-01-21T14:12:34.420Z"
   },
   {
    "duration": 124,
    "start_time": "2022-01-21T14:16:37.749Z"
   },
   {
    "duration": 87,
    "start_time": "2022-01-21T14:17:00.619Z"
   },
   {
    "duration": 93,
    "start_time": "2022-01-21T14:17:05.740Z"
   },
   {
    "duration": 112,
    "start_time": "2022-01-21T14:17:10.118Z"
   },
   {
    "duration": 430,
    "start_time": "2022-01-21T14:17:13.429Z"
   },
   {
    "duration": 435,
    "start_time": "2022-01-21T14:17:38.790Z"
   },
   {
    "duration": 471,
    "start_time": "2022-01-21T14:18:01.318Z"
   },
   {
    "duration": 460,
    "start_time": "2022-01-21T14:18:11.809Z"
   },
   {
    "duration": 449,
    "start_time": "2022-01-21T14:18:18.524Z"
   },
   {
    "duration": 431,
    "start_time": "2022-01-21T14:18:35.453Z"
   },
   {
    "duration": 445,
    "start_time": "2022-01-21T14:18:44.454Z"
   },
   {
    "duration": 7,
    "start_time": "2022-01-21T14:18:49.000Z"
   },
   {
    "duration": 439,
    "start_time": "2022-01-21T14:18:56.085Z"
   },
   {
    "duration": 6,
    "start_time": "2022-01-21T14:19:06.988Z"
   },
   {
    "duration": 585,
    "start_time": "2022-01-21T14:19:36.291Z"
   },
   {
    "duration": 7,
    "start_time": "2022-01-21T14:19:49.907Z"
   },
   {
    "duration": 11,
    "start_time": "2022-01-21T14:19:55.362Z"
   },
   {
    "duration": 17,
    "start_time": "2022-01-21T14:20:02.689Z"
   },
   {
    "duration": 396,
    "start_time": "2022-01-21T14:20:11.399Z"
   },
   {
    "duration": 268,
    "start_time": "2022-01-21T14:20:14.499Z"
   },
   {
    "duration": 369,
    "start_time": "2022-01-21T14:20:19.776Z"
   },
   {
    "duration": 351,
    "start_time": "2022-01-21T14:20:21.502Z"
   },
   {
    "duration": 9,
    "start_time": "2022-01-21T14:20:23.801Z"
   },
   {
    "duration": 16,
    "start_time": "2022-01-21T14:20:36.796Z"
   },
   {
    "duration": 11,
    "start_time": "2022-01-21T14:20:41.228Z"
   },
   {
    "duration": 12,
    "start_time": "2022-01-21T14:20:45.453Z"
   },
   {
    "duration": 445,
    "start_time": "2022-01-21T14:21:07.702Z"
   },
   {
    "duration": 446,
    "start_time": "2022-01-21T14:21:21.470Z"
   },
   {
    "duration": 522,
    "start_time": "2022-01-21T14:21:53.836Z"
   },
   {
    "duration": 571,
    "start_time": "2022-01-21T14:23:37.311Z"
   },
   {
    "duration": 107,
    "start_time": "2022-01-21T14:31:20.760Z"
   },
   {
    "duration": 104,
    "start_time": "2022-01-21T14:31:26.928Z"
   },
   {
    "duration": 94,
    "start_time": "2022-01-21T14:31:55.769Z"
   },
   {
    "duration": 93,
    "start_time": "2022-01-21T14:32:31.684Z"
   },
   {
    "duration": 163,
    "start_time": "2022-01-21T14:32:35.652Z"
   },
   {
    "duration": 90,
    "start_time": "2022-01-21T14:32:40.835Z"
   },
   {
    "duration": 102,
    "start_time": "2022-01-21T14:33:10.634Z"
   },
   {
    "duration": 117,
    "start_time": "2022-01-21T14:33:15.582Z"
   },
   {
    "duration": 492,
    "start_time": "2022-01-21T14:33:26.169Z"
   },
   {
    "duration": 631,
    "start_time": "2022-01-21T14:35:11.470Z"
   },
   {
    "duration": 366,
    "start_time": "2022-01-21T14:40:19.574Z"
   },
   {
    "duration": 267,
    "start_time": "2022-01-21T14:40:24.646Z"
   },
   {
    "duration": 6,
    "start_time": "2022-01-21T14:40:32.030Z"
   },
   {
    "duration": 102,
    "start_time": "2022-01-21T14:40:41.106Z"
   },
   {
    "duration": 119,
    "start_time": "2022-01-21T14:40:44.435Z"
   },
   {
    "duration": 113,
    "start_time": "2022-01-21T14:42:15.819Z"
   },
   {
    "duration": 832,
    "start_time": "2022-01-21T14:42:42.578Z"
   },
   {
    "duration": 516,
    "start_time": "2022-01-21T14:43:07.066Z"
   },
   {
    "duration": 659,
    "start_time": "2022-01-21T14:43:23.408Z"
   },
   {
    "duration": 91,
    "start_time": "2022-01-21T14:47:17.102Z"
   },
   {
    "duration": 508,
    "start_time": "2022-01-21T14:47:26.456Z"
   },
   {
    "duration": 11,
    "start_time": "2022-01-21T14:48:05.666Z"
   },
   {
    "duration": 12,
    "start_time": "2022-01-21T14:48:14.637Z"
   },
   {
    "duration": 8,
    "start_time": "2022-01-21T15:00:54.865Z"
   },
   {
    "duration": 6,
    "start_time": "2022-01-21T15:00:59.650Z"
   },
   {
    "duration": 6,
    "start_time": "2022-01-21T15:01:45.994Z"
   },
   {
    "duration": 5,
    "start_time": "2022-01-21T15:01:48.606Z"
   },
   {
    "duration": 8,
    "start_time": "2022-01-21T15:01:50.829Z"
   },
   {
    "duration": 7,
    "start_time": "2022-01-21T15:01:51.017Z"
   },
   {
    "duration": 8,
    "start_time": "2022-01-21T15:01:51.432Z"
   },
   {
    "duration": 798,
    "start_time": "2022-01-21T15:01:51.674Z"
   },
   {
    "duration": 685,
    "start_time": "2022-01-21T15:01:58.916Z"
   },
   {
    "duration": 5,
    "start_time": "2022-01-21T15:02:10.213Z"
   },
   {
    "duration": 6,
    "start_time": "2022-01-21T15:02:13.413Z"
   },
   {
    "duration": 7,
    "start_time": "2022-01-21T15:02:14.386Z"
   },
   {
    "duration": 7,
    "start_time": "2022-01-21T15:02:14.623Z"
   },
   {
    "duration": 10,
    "start_time": "2022-01-21T15:02:15.169Z"
   },
   {
    "duration": 13,
    "start_time": "2022-01-21T15:02:15.594Z"
   },
   {
    "duration": 46,
    "start_time": "2022-01-21T15:02:22.850Z"
   },
   {
    "duration": 10,
    "start_time": "2022-01-21T15:02:23.762Z"
   },
   {
    "duration": 16,
    "start_time": "2022-01-21T15:02:24.274Z"
   }
  ],
  "kernelspec": {
   "display_name": "Python 3",
   "language": "python",
   "name": "python3"
  },
  "language_info": {
   "codemirror_mode": {
    "name": "ipython",
    "version": 3
   },
   "file_extension": ".py",
   "mimetype": "text/x-python",
   "name": "python",
   "nbconvert_exporter": "python",
   "pygments_lexer": "ipython3",
   "version": "3.8.8"
  },
  "toc": {
   "base_numbering": 1,
   "nav_menu": {},
   "number_sections": true,
   "sideBar": true,
   "skip_h1_title": true,
   "title_cell": "Table of Contents",
   "title_sidebar": "Contents",
   "toc_cell": false,
   "toc_position": {},
   "toc_section_display": true,
   "toc_window_display": false
  }
 },
 "nbformat": 4,
 "nbformat_minor": 5
}
